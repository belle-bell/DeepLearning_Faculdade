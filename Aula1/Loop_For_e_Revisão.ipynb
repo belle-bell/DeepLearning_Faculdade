{
  "cells": [
    {
      "cell_type": "markdown",
      "metadata": {
        "id": "XqjrbKbgs0TD"
      },
      "source": [
        "# 1 - Tipos de Variáveis Aprendidos\n",
        "\n",
        "* int - Algarismos numéricos inteiros;\n",
        "* float - Algarismos numéricos decimais (ponto flutuante);\n",
        "* str - Caracteres que formam palavras, frases e textos;\n",
        "* bool - Expressões que representam verdadeiro (True) ou falso (False);\n",
        "* list - Listas\n",
        "* dict - Dicionários - Relação de Chave e Valor\n",
        "\n",
        "### Criação de Variáveis:\n",
        "* No python, primeiro é definido o nome da variável que é seguido por um único sinal de igual `=`, em seguida o valor desejado, seguindo o exemplo -> `nome_da_variavel = valor_da_variavel`\n",
        "#\n",
        "* Nome da variável ``não pode``:\n",
        "    * Começar com números;\n",
        "    * Conter espaço;\n",
        "    * Conter ou começar com caracteres especiais (`:'\",<>/?|\\!@#%^&*~-+`), exceto `_` (\"Underline\");\n",
        "    * Ser uma palavra que faz parte do python(True, False, while, for, in, list, str...).\n",
        "#\n",
        "* Nome da variável ``pode``:\n",
        "    * Começar com letras maiúsculas ou minúsculas;\n",
        "    * Conter ou começar com _ (\"Underline\").\n",
        "#\n",
        "* Boas práticas para nome de variáveis:\n",
        "    * Todas letras minúsculas;\n",
        "    * Nomes compostos separados por _  (\"Underline\");\n",
        "    * Evitar criar nomes com caracteres únicos (a, A, b, B, c, C...);\n",
        "    * Dar nomes intuitivos para as variáveis.\n",
        "#\n",
        "##### OBS_1:\n",
        "O Python é uma linguagem `Case-Sensitive`. Significa que variáveis de mesmo nome, mas com maiúsculas ou minúsculas diferentes, são variáveis diferentes.\n",
        "\n",
        "EX: a variável `nome` é diferente da variável `Nome` que também é diferente da variável `NOME`"
      ]
    },
    {
      "cell_type": "markdown",
      "metadata": {
        "id": "QNE1QYwns0TG"
      },
      "source": [
        "### 1.1 - Número Inteiro"
      ]
    },
    {
      "cell_type": "code",
      "execution_count": 1,
      "metadata": {
        "id": "n83R0nnXs0TH"
      },
      "outputs": [],
      "source": [
        "# Criação da variável numérica numero_inteiro_1\n",
        "numero_inteiro_1 = 10\n",
        "\n",
        "# Criação da variável numérica numero_inteiro_2\n",
        "numero_inteiro_2 = 4"
      ]
    },
    {
      "cell_type": "code",
      "execution_count": 2,
      "metadata": {
        "colab": {
          "base_uri": "https://localhost:8080/"
        },
        "id": "HtdYnYmos0TH",
        "outputId": "17c70f71-13e2-4dc1-d334-f5a63326d658"
      },
      "outputs": [
        {
          "output_type": "stream",
          "name": "stdout",
          "text": [
            "numero_inteiro_1 = 10\n",
            "numero_inteiro_2 = 4\n"
          ]
        }
      ],
      "source": [
        "# Exibe o valor da variável numero_inteiro_1\n",
        "print('numero_inteiro_1 =', numero_inteiro_1)\n",
        "\n",
        "# Exibe o valor da variável numero_inteiro_2\n",
        "print('numero_inteiro_2 =', numero_inteiro_2)"
      ]
    },
    {
      "cell_type": "code",
      "execution_count": 3,
      "metadata": {
        "colab": {
          "base_uri": "https://localhost:8080/"
        },
        "id": "nkDlW9T6s0TI",
        "outputId": "24379a89-896e-4959-b0ec-76383f5bbc1c"
      },
      "outputs": [
        {
          "output_type": "execute_result",
          "data": {
            "text/plain": [
              "int"
            ]
          },
          "metadata": {},
          "execution_count": 3
        }
      ],
      "source": [
        "# Exibe o tipo da variável numero_inteiro_1\n",
        "type(numero_inteiro_1)"
      ]
    },
    {
      "cell_type": "markdown",
      "metadata": {
        "id": "SzbCWhYas0TI"
      },
      "source": [
        "### 1.2 - Números Decimais"
      ]
    },
    {
      "cell_type": "code",
      "execution_count": 4,
      "metadata": {
        "colab": {
          "base_uri": "https://localhost:8080/"
        },
        "id": "cwUHGdO2s0TI",
        "outputId": "d99f3dfe-abdc-43a9-eaf6-4414e27da0e8"
      },
      "outputs": [
        {
          "output_type": "execute_result",
          "data": {
            "text/plain": [
              "float"
            ]
          },
          "metadata": {},
          "execution_count": 4
        }
      ],
      "source": [
        "# Criação da variável numérica numero_inteiro_1\n",
        "numero_decimal_1 = 5.5\n",
        "\n",
        "# Exibe o tipo da variável numero_decimal_1\n",
        "type(numero_decimal_1)"
      ]
    },
    {
      "cell_type": "code",
      "execution_count": 5,
      "metadata": {
        "colab": {
          "base_uri": "https://localhost:8080/"
        },
        "id": "-aKLEj0ps0TI",
        "outputId": "38f66dab-4571-4b37-c2a9-45f77af8a9ca"
      },
      "outputs": [
        {
          "output_type": "execute_result",
          "data": {
            "text/plain": [
              "float"
            ]
          },
          "metadata": {},
          "execution_count": 5
        }
      ],
      "source": [
        "# Criação da variável numérica numero_inteiro_2\n",
        "numero_decimal_2 = 8.4\n",
        "\n",
        "# Exibe o tipo da variável numero_decimal_2\n",
        "type(numero_decimal_2)"
      ]
    },
    {
      "cell_type": "code",
      "execution_count": 6,
      "metadata": {
        "colab": {
          "base_uri": "https://localhost:8080/"
        },
        "id": "SgXOS1Zzs0TJ",
        "outputId": "ffb5f021-f824-42b1-8c55-60d36fa4c911"
      },
      "outputs": [
        {
          "output_type": "stream",
          "name": "stdout",
          "text": [
            "numero_decimal_1 = 5.5\n",
            "numero_decimal_2 = 8.4\n"
          ]
        }
      ],
      "source": [
        "# Exibe o valor da variável numero_decimal_1\n",
        "print('numero_decimal_1 =', numero_decimal_1)\n",
        "\n",
        "# Exibe o valor da variável numero_decimal_2\n",
        "print('numero_decimal_2 =', numero_decimal_2)"
      ]
    },
    {
      "cell_type": "markdown",
      "metadata": {
        "id": "TnBmJXZTs0TJ"
      },
      "source": [
        "### 1.3 - STR - Caracteres\n",
        "\n",
        "Qualquer caracter que esteja entre aspas simples ' ' ou duplas \" \"\n",
        "\n",
        "Ex: 'a', 'ç', '123', 'carro'\n",
        "\n",
        "No python, o tipo de dados caracter é referenciado por ``str``, abreviação de string, que significa uma sequência de caracteres alfanuméricos (letras, números e/ou símbolos)."
      ]
    },
    {
      "cell_type": "code",
      "execution_count": 7,
      "metadata": {
        "id": "yiYT2JI8s0TJ"
      },
      "outputs": [],
      "source": [
        "# Criação da variável textual string_1\n",
        "string_1 = 'Isto é um texto'\n",
        "\n",
        "# Criação da variável textual string_2\n",
        "string_2 = 'Carro'\n",
        "\n",
        "# Criação da variável textual string_3\n",
        "string_3 = 'a'"
      ]
    },
    {
      "cell_type": "code",
      "execution_count": 8,
      "metadata": {
        "colab": {
          "base_uri": "https://localhost:8080/"
        },
        "id": "NDslFlkws0TJ",
        "outputId": "ae011cb5-37fd-4c86-f38b-097798b06bf5"
      },
      "outputs": [
        {
          "output_type": "stream",
          "name": "stdout",
          "text": [
            "Isto é um texto\n",
            "Carro\n",
            "a\n"
          ]
        }
      ],
      "source": [
        "print(string_1)\n",
        "print(string_2)\n",
        "print(string_3)"
      ]
    },
    {
      "cell_type": "code",
      "execution_count": 9,
      "metadata": {
        "colab": {
          "base_uri": "https://localhost:8080/"
        },
        "id": "00XQwsmvs0TK",
        "outputId": "e9f0710f-bf37-4dce-b37b-ee6659c4c2d9"
      },
      "outputs": [
        {
          "output_type": "execute_result",
          "data": {
            "text/plain": [
              "str"
            ]
          },
          "metadata": {},
          "execution_count": 9
        }
      ],
      "source": [
        "type(string_2)"
      ]
    },
    {
      "cell_type": "markdown",
      "metadata": {
        "id": "L0C3rQkys0TK"
      },
      "source": [
        "#### 1.3.1 Função print()\n",
        "Ao utilizar a função print, podemos exibir o valor da variável e acrescentar outros textos"
      ]
    },
    {
      "cell_type": "markdown",
      "metadata": {
        "id": "jdP1CgfSs0TK"
      },
      "source": [
        "##### 1.3.1.1 - Acrescentar o texto dentro de aspas, colocar uma vírgula fora das aspas e em seguida o nome da variável"
      ]
    },
    {
      "cell_type": "code",
      "execution_count": 10,
      "metadata": {
        "colab": {
          "base_uri": "https://localhost:8080/"
        },
        "id": "0mhiIdZis0TK",
        "outputId": "27afd562-cbe6-4521-b69b-426eca77e8d8"
      },
      "outputs": [
        {
          "output_type": "stream",
          "name": "stdout",
          "text": [
            "O valor da string_2 é Carro e da string_3 a\n"
          ]
        }
      ],
      "source": [
        "print('O valor da string_2 é',string_2,'e da string_3',string_3)"
      ]
    },
    {
      "cell_type": "markdown",
      "metadata": {
        "id": "NfpxSgsYs0TK"
      },
      "source": [
        "#### 1.3.1.2 - Usar a ``função f string``, onde é acrescentada a letra `f` antes do texto e o nome da variável em qualquer lugar dentro das aspas, dentro de chaves"
      ]
    },
    {
      "cell_type": "code",
      "execution_count": 11,
      "metadata": {
        "colab": {
          "base_uri": "https://localhost:8080/"
        },
        "id": "NPO-ldQis0TK",
        "outputId": "c209970f-71c1-4ad0-dc3a-d8789c7a116d"
      },
      "outputs": [
        {
          "output_type": "stream",
          "name": "stdout",
          "text": [
            "O valor da string_2 é: Carro e da string_3: a\n"
          ]
        }
      ],
      "source": [
        "print(f'O valor da string_2 é: {string_2} e da string_3: {string_3}')"
      ]
    },
    {
      "cell_type": "markdown",
      "metadata": {
        "id": "Dq2Fc2ejs0TL"
      },
      "source": [
        "#### 1.3.1.3 - Usar a ``.format``, onde se acrescenta um par de chaves no lugar onde desejar que a variável apareça e, após as aspas, usar a função .format(nome_da_variavel, nome_da_outra_variavel). A primeira variável irá aparecer no lugar do primeiro par de chaves, a segunda variável no lugar do segundo par de chaves..."
      ]
    },
    {
      "cell_type": "code",
      "execution_count": 12,
      "metadata": {
        "colab": {
          "base_uri": "https://localhost:8080/"
        },
        "id": "dXf1iCpms0TL",
        "outputId": "16f39bba-901c-4df6-fab3-33dd54ce4cdf"
      },
      "outputs": [
        {
          "output_type": "stream",
          "name": "stdout",
          "text": [
            "O valor da string_2 é: Carro e da string_3: Isto é um texto\n"
          ]
        }
      ],
      "source": [
        "print('O valor da string_2 é: {} e da string_3: {}'.format(string_2, string_1))"
      ]
    },
    {
      "cell_type": "markdown",
      "metadata": {
        "id": "eEC_JAAus0TL"
      },
      "source": [
        "### 1.3.2 - Tamanho da String\n",
        "Uma variável do tipo string é composta por uma sequencia de caracteres alfa numéricos, isto quer dizer ela possui uma quantidade determinada de posições e que cada caracter possui uma posição."
      ]
    },
    {
      "cell_type": "code",
      "execution_count": 13,
      "metadata": {
        "colab": {
          "base_uri": "https://localhost:8080/"
        },
        "id": "irzJiUEIs0TL",
        "outputId": "518c6aec-3983-4bb7-b976-c276c4a6cd34"
      },
      "outputs": [
        {
          "output_type": "execute_result",
          "data": {
            "text/plain": [
              "6"
            ]
          },
          "metadata": {},
          "execution_count": 13
        }
      ],
      "source": [
        "# len() é a função para retornar o tamanho da string\n",
        "len('casa .')"
      ]
    },
    {
      "cell_type": "code",
      "execution_count": 14,
      "metadata": {
        "colab": {
          "base_uri": "https://localhost:8080/"
        },
        "id": "rXPD_AVPs0TL",
        "outputId": "974d6e56-9cf6-4bf6-99dc-4f537495e54b"
      },
      "outputs": [
        {
          "output_type": "stream",
          "name": "stdout",
          "text": [
            "Carro\n"
          ]
        }
      ],
      "source": [
        "# Exibe o valor da string_2\n",
        "print(string_2)"
      ]
    },
    {
      "cell_type": "code",
      "execution_count": 15,
      "metadata": {
        "colab": {
          "base_uri": "https://localhost:8080/"
        },
        "id": "2aSYzM-0s0TL",
        "outputId": "34cb333c-6f42-459d-922e-ac78825c6986"
      },
      "outputs": [
        {
          "output_type": "execute_result",
          "data": {
            "text/plain": [
              "5"
            ]
          },
          "metadata": {},
          "execution_count": 15
        }
      ],
      "source": [
        "# Exibe o tamanho da string_2\n",
        "len(string_2)"
      ]
    },
    {
      "cell_type": "code",
      "execution_count": 16,
      "metadata": {
        "colab": {
          "base_uri": "https://localhost:8080/"
        },
        "id": "2HUX5YdDs0TM",
        "outputId": "708dec49-4441-4790-d860-903efb8e94c3"
      },
      "outputs": [
        {
          "output_type": "stream",
          "name": "stdout",
          "text": [
            "C\n",
            "a\n",
            "r\n",
            "r\n",
            "o\n"
          ]
        }
      ],
      "source": [
        "# Exibe todas as posições da string_2\n",
        "# Note que a contagem começa em 0\n",
        "print(string_2 [0])\n",
        "print(string_2 [1])\n",
        "print(string_2 [2])\n",
        "print(string_2 [3])\n",
        "print(string_2 [4])"
      ]
    },
    {
      "cell_type": "markdown",
      "metadata": {
        "id": "bj_LilJFs0TM"
      },
      "source": [
        "## 1.4 Tipo de dados Lógico\n",
        "O tipo de Dados lógico é usado para representar dois únicos\n",
        "valores lógicos possíveis: verdadeiro ou falso. É comum\n",
        "encontrar-se em outras referencias outros tipos de pares de\n",
        "valores lógicos com sim/não , 1/0, true/false.\n",
        "\n",
        "No python o tipo de dados lógico é representado por ``bool``, de booleano, sendo os dois possíveis valores `True` (Verdadeiro) e `False` (Falso)."
      ]
    },
    {
      "cell_type": "code",
      "execution_count": 17,
      "metadata": {
        "colab": {
          "base_uri": "https://localhost:8080/"
        },
        "id": "QmgDynf_s0TM",
        "outputId": "e3f2cfc8-7efe-4bdc-a9d8-48bf732a3c5e"
      },
      "outputs": [
        {
          "output_type": "execute_result",
          "data": {
            "text/plain": [
              "bool"
            ]
          },
          "metadata": {},
          "execution_count": 17
        }
      ],
      "source": [
        "type(True)"
      ]
    },
    {
      "cell_type": "code",
      "execution_count": 18,
      "metadata": {
        "colab": {
          "base_uri": "https://localhost:8080/"
        },
        "id": "jMogiTe8s0TM",
        "outputId": "bf2ef32b-03f6-4f16-c3cc-e5fa7eea902f"
      },
      "outputs": [
        {
          "output_type": "execute_result",
          "data": {
            "text/plain": [
              "bool"
            ]
          },
          "metadata": {},
          "execution_count": 18
        }
      ],
      "source": [
        "type(False)"
      ]
    },
    {
      "cell_type": "markdown",
      "metadata": {
        "id": "pmxFDV9Is0TM"
      },
      "source": [
        "# 2 - Operações com Variáveis Numéricas\n",
        "\n",
        "Podem ser feita entre números, variáveis numéricas e variáveis numéricas e números"
      ]
    },
    {
      "cell_type": "markdown",
      "metadata": {
        "id": "8YJMTN0Bs0TN"
      },
      "source": [
        "#### 2.1 - Adição\n",
        "Sinal de mais `+`"
      ]
    },
    {
      "cell_type": "code",
      "execution_count": 19,
      "metadata": {
        "id": "Y8qcyj7Ts0TN"
      },
      "outputs": [],
      "source": [
        "numero_1 = 11\n",
        "numero_2 = 5.5"
      ]
    },
    {
      "cell_type": "code",
      "execution_count": 20,
      "metadata": {
        "colab": {
          "base_uri": "https://localhost:8080/"
        },
        "id": "68FQRjrRs0TN",
        "outputId": "37243771-8c75-47e2-f2b2-c778a9c7d27f"
      },
      "outputs": [
        {
          "output_type": "execute_result",
          "data": {
            "text/plain": [
              "16.5"
            ]
          },
          "metadata": {},
          "execution_count": 20
        }
      ],
      "source": [
        "numero_1 + numero_2"
      ]
    },
    {
      "cell_type": "markdown",
      "metadata": {
        "id": "Qre3uUFas0TO"
      },
      "source": [
        "#### 2.2 - Subtração\n",
        "Sinal de menos `-`"
      ]
    },
    {
      "cell_type": "code",
      "execution_count": 21,
      "metadata": {
        "id": "BuPqLupXs0TO"
      },
      "outputs": [],
      "source": [
        "numero_1 = 11\n",
        "numero_2 = 5.5"
      ]
    },
    {
      "cell_type": "code",
      "execution_count": 22,
      "metadata": {
        "colab": {
          "base_uri": "https://localhost:8080/"
        },
        "id": "mFheJPtHs0TO",
        "outputId": "1908ed29-2f09-459c-b34b-5145fbf2ced1"
      },
      "outputs": [
        {
          "output_type": "execute_result",
          "data": {
            "text/plain": [
              "5.5"
            ]
          },
          "metadata": {},
          "execution_count": 22
        }
      ],
      "source": [
        "numero_1 - numero_2"
      ]
    },
    {
      "cell_type": "markdown",
      "metadata": {
        "id": "kkuswvqAs0TO"
      },
      "source": [
        "#### 2.3 - Multiplicação\n",
        "Sinal de asterisco `*`"
      ]
    },
    {
      "cell_type": "code",
      "execution_count": 23,
      "metadata": {
        "id": "SlrAZWSQs0TO"
      },
      "outputs": [],
      "source": [
        "numero_1 = 2\n",
        "numero_2 = 5.5"
      ]
    },
    {
      "cell_type": "code",
      "execution_count": 24,
      "metadata": {
        "colab": {
          "base_uri": "https://localhost:8080/"
        },
        "id": "6IQMlsuXs0TO",
        "outputId": "6c4b0bf4-181c-4724-9e74-567d8ef0a107"
      },
      "outputs": [
        {
          "output_type": "execute_result",
          "data": {
            "text/plain": [
              "11.0"
            ]
          },
          "metadata": {},
          "execution_count": 24
        }
      ],
      "source": [
        "numero_1 * numero_2"
      ]
    },
    {
      "cell_type": "markdown",
      "metadata": {
        "id": "HqXLHnGjs0TO"
      },
      "source": [
        "#### 2.4 - Divisão\n",
        "Sinal de barra `/`"
      ]
    },
    {
      "cell_type": "code",
      "execution_count": 25,
      "metadata": {
        "id": "zsjCaV02s0TP"
      },
      "outputs": [],
      "source": [
        "numero_1 = 11\n",
        "numero_2 = 5.5"
      ]
    },
    {
      "cell_type": "code",
      "execution_count": 26,
      "metadata": {
        "colab": {
          "base_uri": "https://localhost:8080/"
        },
        "id": "3cLkaaXts0TP",
        "outputId": "562df134-6691-4940-852a-9f43bcaada4d"
      },
      "outputs": [
        {
          "output_type": "execute_result",
          "data": {
            "text/plain": [
              "2.0"
            ]
          },
          "metadata": {},
          "execution_count": 26
        }
      ],
      "source": [
        "numero_1 / numero_2"
      ]
    },
    {
      "cell_type": "markdown",
      "metadata": {
        "id": "l2Aav1VAs0TP"
      },
      "source": [
        "#### 2.5 - MOD (Resto da Divisão)\n",
        "Sinal de porcentagem  %\n",
        "#\n",
        "OBS: Para verificar se uma variável é par, verifique se o resto da divisão por 2 é 0  "
      ]
    },
    {
      "cell_type": "code",
      "execution_count": 27,
      "metadata": {
        "id": "cmuoPkMbs0TP"
      },
      "outputs": [],
      "source": [
        "numero_1 = 11\n",
        "numero_2 = 2"
      ]
    },
    {
      "cell_type": "code",
      "execution_count": 28,
      "metadata": {
        "colab": {
          "base_uri": "https://localhost:8080/"
        },
        "id": "mlN3j6k0s0TQ",
        "outputId": "24429e84-f389-40a4-dc41-47c9bc1f6d62"
      },
      "outputs": [
        {
          "output_type": "execute_result",
          "data": {
            "text/plain": [
              "1"
            ]
          },
          "metadata": {},
          "execution_count": 28
        }
      ],
      "source": [
        "numero_1 % numero_2"
      ]
    },
    {
      "cell_type": "markdown",
      "metadata": {
        "id": "_NPACsOSs0TQ"
      },
      "source": [
        "#### 2.6 - Exponenciação\n",
        "\n",
        "Sinal são dois asteriscos `**`"
      ]
    },
    {
      "cell_type": "code",
      "execution_count": 29,
      "metadata": {
        "id": "uGqhKMlbs0TQ"
      },
      "outputs": [],
      "source": [
        "numero_1 = 10\n",
        "numero_2 = 2"
      ]
    },
    {
      "cell_type": "code",
      "execution_count": 30,
      "metadata": {
        "colab": {
          "base_uri": "https://localhost:8080/"
        },
        "id": "AmFAFk83s0TQ",
        "outputId": "4f1bffdc-7f1d-4c12-aab7-eaa82c178155"
      },
      "outputs": [
        {
          "output_type": "execute_result",
          "data": {
            "text/plain": [
              "100"
            ]
          },
          "metadata": {},
          "execution_count": 30
        }
      ],
      "source": [
        "numero_1 ** numero_2"
      ]
    },
    {
      "cell_type": "markdown",
      "metadata": {
        "id": "kOBC_oqPs0TQ"
      },
      "source": [
        "# 3 - Operadores Relacionais\n",
        "\n",
        "Também conhecidos como operadores de comparação, comparam duas variáveis. No python temos:\n",
        "* Compara se duas variáveis são iguais `==`\n",
        "* Compara se duas variáveis são diferentes `!=`\n",
        "* Compara se uma variável é maior que outra `>`\n",
        "* Compara se uma variável é maior ou igual que outra `>=`\n",
        "* Compara se uma variável é menor que outra `<`\n",
        "* Compara se uma variável é menor ou igual que outra `<=`\n",
        "\n",
        "A resposta da comparação é em booleano, sendo True se a comparação for verdadeira, ou False se for falsa."
      ]
    },
    {
      "cell_type": "code",
      "execution_count": 31,
      "metadata": {
        "colab": {
          "base_uri": "https://localhost:8080/"
        },
        "id": "3M0irOOLs0TQ",
        "outputId": "90b9868f-c032-4c41-abb8-cbe6041b241a"
      },
      "outputs": [
        {
          "output_type": "execute_result",
          "data": {
            "text/plain": [
              "False"
            ]
          },
          "metadata": {},
          "execution_count": 31
        }
      ],
      "source": [
        "# Compara se 1 é igual a 2\n",
        "1 == 2"
      ]
    },
    {
      "cell_type": "code",
      "execution_count": 32,
      "metadata": {
        "colab": {
          "base_uri": "https://localhost:8080/"
        },
        "id": "fkPdgzdOs0TR",
        "outputId": "a702f46d-9687-4ade-d3e4-241862c8b732"
      },
      "outputs": [
        {
          "output_type": "execute_result",
          "data": {
            "text/plain": [
              "True"
            ]
          },
          "metadata": {},
          "execution_count": 32
        }
      ],
      "source": [
        "# Compara se 1 é igual a 1\n",
        "1 == 1"
      ]
    },
    {
      "cell_type": "code",
      "execution_count": 33,
      "metadata": {
        "colab": {
          "base_uri": "https://localhost:8080/"
        },
        "id": "n4X1nPIns0TR",
        "outputId": "b195e285-7e8f-4edf-a5f6-138acceb13d1"
      },
      "outputs": [
        {
          "output_type": "execute_result",
          "data": {
            "text/plain": [
              "True"
            ]
          },
          "metadata": {},
          "execution_count": 33
        }
      ],
      "source": [
        "# Verifica se o número é par ( Verifica se o resto da divisão por 2 é zero)\n",
        "10 % 2 == 0"
      ]
    },
    {
      "cell_type": "code",
      "execution_count": 34,
      "metadata": {
        "colab": {
          "base_uri": "https://localhost:8080/"
        },
        "id": "mENiGdm6s0TR",
        "outputId": "539e242a-ccf2-486a-fad5-e1cbfc2f1d38"
      },
      "outputs": [
        {
          "output_type": "execute_result",
          "data": {
            "text/plain": [
              "1"
            ]
          },
          "metadata": {},
          "execution_count": 34
        }
      ],
      "source": [
        "11 % 2"
      ]
    },
    {
      "cell_type": "code",
      "execution_count": 35,
      "metadata": {
        "colab": {
          "base_uri": "https://localhost:8080/"
        },
        "id": "q_gdSIVgs0TR",
        "outputId": "6863bbf0-03cf-436f-ea34-4bb9d6443421"
      },
      "outputs": [
        {
          "output_type": "execute_result",
          "data": {
            "text/plain": [
              "False"
            ]
          },
          "metadata": {},
          "execution_count": 35
        }
      ],
      "source": [
        "# Verifica se o número é par ( Verifica se o resto da divisão por 2 é zero)\n",
        "11 % 2 == 0"
      ]
    },
    {
      "cell_type": "code",
      "execution_count": 36,
      "metadata": {
        "colab": {
          "base_uri": "https://localhost:8080/"
        },
        "id": "KtM7pshPs0TR",
        "outputId": "e7b60da7-d419-4ad1-f84c-fdc75b61f6a5"
      },
      "outputs": [
        {
          "output_type": "execute_result",
          "data": {
            "text/plain": [
              "False"
            ]
          },
          "metadata": {},
          "execution_count": 36
        }
      ],
      "source": [
        "# Verifica se o número é ímpar ( Verifica se o resto da divisão por 2 é diferente de zero)\n",
        "10 % 2 != 0"
      ]
    },
    {
      "cell_type": "code",
      "execution_count": 37,
      "metadata": {
        "colab": {
          "base_uri": "https://localhost:8080/"
        },
        "id": "JbuFOgYqs0TS",
        "outputId": "13deb6c4-9722-4b54-e025-e711a265e6bd"
      },
      "outputs": [
        {
          "output_type": "execute_result",
          "data": {
            "text/plain": [
              "True"
            ]
          },
          "metadata": {},
          "execution_count": 37
        }
      ],
      "source": [
        "# Verifica se o número é ímpar ( Verifica se o resto da divisão por 2 é diferente de zero)\n",
        "11 % 2 != 0"
      ]
    },
    {
      "cell_type": "code",
      "execution_count": 39,
      "metadata": {
        "colab": {
          "base_uri": "https://localhost:8080/"
        },
        "id": "S5Ylppt-s0TS",
        "outputId": "2184832f-ead3-4d85-f841-7b8a4d284aca"
      },
      "outputs": [
        {
          "output_type": "execute_result",
          "data": {
            "text/plain": [
              "False"
            ]
          },
          "metadata": {},
          "execution_count": 39
        }
      ],
      "source": [
        "# Compara se 1 é maior que 2\n",
        "1 > 2"
      ]
    },
    {
      "cell_type": "code",
      "execution_count": 38,
      "metadata": {
        "colab": {
          "base_uri": "https://localhost:8080/"
        },
        "id": "rbhjklHvs0TS",
        "outputId": "d36f439c-23d5-4f0b-c2f6-ba0a7b188979"
      },
      "outputs": [
        {
          "output_type": "execute_result",
          "data": {
            "text/plain": [
              "True"
            ]
          },
          "metadata": {},
          "execution_count": 38
        }
      ],
      "source": [
        "# Compara se 2 é maior ou igual que 2\n",
        "2 >= 2"
      ]
    },
    {
      "cell_type": "markdown",
      "metadata": {
        "id": "fSHp2nX4s0TS"
      },
      "source": [
        "# 4 - Estruturas Condicionais - If, Else, Elif\n",
        "\n",
        "<code>if</code> permite dizer ao computador para executar ações alternativas com base em um determinado conjunto de resultados.\n",
        "\n",
        "Verbalmente, podemos imaginar que estamos dizendo ao computador:\n",
        "\n",
        "\"Se esse caso acontecer, execute alguma ação\"\n",
        "\n",
        "Podemos então expandir ainda mais a ideia com as instruções <code>elif</code> e <code>else</code>, que nos permitem informar ao computador:\n",
        "\n",
        "\"Se esse caso acontecer, execute alguma ação. Senão, se outro caso acontecer, execute outra ação. Caso contrário, se **nenhum** dos casos acima ocorreu, execute esta ação.\"\n",
        "\n",
        "Observe o formato de sintaxe das instruções <code>if</code> para ter uma idéia melhor disso:\n",
        "\n",
        "    if caso1:\n",
        "        faça ação1\n",
        "    elif case2:\n",
        "        faça ação2\n",
        "    elif case3:\n",
        "        faça ação3\n",
        "    elif case4:\n",
        "        faça ação4\n",
        "    else:\n",
        "        faça ação5\n",
        "\n",
        "Podemos colocar vários elif um após o outro, mas somente um if e um else"
      ]
    },
    {
      "cell_type": "code",
      "execution_count": 40,
      "metadata": {
        "id": "AVFuPGPhs0TS"
      },
      "outputs": [],
      "source": [
        "# Cria a variável número\n",
        "numero = 5"
      ]
    },
    {
      "cell_type": "code",
      "execution_count": 41,
      "metadata": {
        "colab": {
          "base_uri": "https://localhost:8080/"
        },
        "id": "lNVDSMXBs0TS",
        "outputId": "a172f787-fb1b-45db-a797-4066ed36c003"
      },
      "outputs": [
        {
          "output_type": "execute_result",
          "data": {
            "text/plain": [
              "True"
            ]
          },
          "metadata": {},
          "execution_count": 41
        }
      ],
      "source": [
        "# Operador de comparação que verifica se a variável numero é igual a 5\n",
        "numero == 5"
      ]
    },
    {
      "cell_type": "code",
      "execution_count": 42,
      "metadata": {
        "colab": {
          "base_uri": "https://localhost:8080/"
        },
        "id": "3gfzxd5as0TT",
        "outputId": "3f7b10cf-d339-4bda-d680-9829574de8dc"
      },
      "outputs": [
        {
          "output_type": "execute_result",
          "data": {
            "text/plain": [
              "False"
            ]
          },
          "metadata": {},
          "execution_count": 42
        }
      ],
      "source": [
        "# Operador de comparação que verifica se a variável numero é igual a 6\n",
        "numero == 6"
      ]
    },
    {
      "cell_type": "code",
      "execution_count": 43,
      "metadata": {
        "colab": {
          "base_uri": "https://localhost:8080/"
        },
        "id": "6vBASn9Ss0TT",
        "outputId": "72b548f5-b398-4773-da1f-bb3674afd71b"
      },
      "outputs": [
        {
          "output_type": "stream",
          "name": "stdout",
          "text": [
            "O número é igual a 5\n"
          ]
        }
      ],
      "source": [
        "# Verifica se número é igual a 5 e executa o print caso seja igual\n",
        "if numero == 5:\n",
        "    print('O número é igual a 5')"
      ]
    },
    {
      "cell_type": "code",
      "execution_count": 44,
      "metadata": {
        "id": "siMwiDfis0TT"
      },
      "outputs": [],
      "source": [
        "# Verifica se número é igual a 6 e executa o print caso seja igual\n",
        "if numero == 6:\n",
        "    print('O número é igual a 5')"
      ]
    },
    {
      "cell_type": "code",
      "execution_count": 45,
      "metadata": {
        "colab": {
          "base_uri": "https://localhost:8080/"
        },
        "id": "YthhAyQRs0TT",
        "outputId": "d393afb6-aaf1-42a2-db98-fba7fe8805f9"
      },
      "outputs": [
        {
          "output_type": "stream",
          "name": "stdout",
          "text": [
            "O número é diferente de 6\n"
          ]
        }
      ],
      "source": [
        "# Verifica se número é diferente de 6 e executa o print caso seja diferente\n",
        "if numero != 6:\n",
        "    print('O número é diferente de 6')"
      ]
    },
    {
      "cell_type": "code",
      "execution_count": 46,
      "metadata": {
        "colab": {
          "base_uri": "https://localhost:8080/"
        },
        "id": "dC-uOHwLs0TT",
        "outputId": "b1cc4905-e4cc-4427-d23b-0bb0bbcfeaa2"
      },
      "outputs": [
        {
          "output_type": "stream",
          "name": "stdout",
          "text": [
            "O número é igual a 5\n"
          ]
        }
      ],
      "source": [
        "if numero == 6:\n",
        "    print('O número é igual a 6')\n",
        "elif numero == 5:\n",
        "    print('O número é igual a 5')"
      ]
    },
    {
      "cell_type": "code",
      "execution_count": 47,
      "metadata": {
        "id": "jljNLHNis0TU"
      },
      "outputs": [],
      "source": [
        "if numero == 6:\n",
        "    print('O número é igual a 6')\n",
        "elif numero != 5:\n",
        "    print('O número é diferente de 5')"
      ]
    },
    {
      "cell_type": "code",
      "execution_count": 48,
      "metadata": {
        "colab": {
          "base_uri": "https://localhost:8080/"
        },
        "id": "RO5ma2F7s0TU",
        "outputId": "254d7bbd-54b9-40c5-cabd-8102fa7d53d4"
      },
      "outputs": [
        {
          "output_type": "stream",
          "name": "stdout",
          "text": [
            "O número é 5\n"
          ]
        }
      ],
      "source": [
        "if numero == 6:\n",
        "    print('O número é igual a 6')\n",
        "elif numero != 5:\n",
        "    print('O número é diferente de 5')\n",
        "else:\n",
        "    print('O número é 5')"
      ]
    },
    {
      "cell_type": "code",
      "execution_count": 49,
      "metadata": {
        "colab": {
          "base_uri": "https://localhost:8080/"
        },
        "id": "5B_Lk4eBs0TU",
        "outputId": "d6470895-6620-4226-a160-2e8bf58f7da7"
      },
      "outputs": [
        {
          "output_type": "stream",
          "name": "stdout",
          "text": [
            "Lamento muito! você está ganhando bem então vai pagar apenas 27.5%\n"
          ]
        }
      ],
      "source": [
        "# Imprimir um percetual de imposto\n",
        "# Quando o salario for menor que R$500 o programa irá imprimir o percentual 5%\n",
        "# Quando o salario for De R$500 a R$850 o programa irá imprimir o percentual 10%\n",
        "# Quando o salario for acima de R$850 o programa irá imprimir o percentual 27.5%\n",
        "\n",
        "salario = 19000\n",
        "\n",
        "if salario < 500:\n",
        "    print('Leão vai tirar apenas 5% da sua conta')\n",
        "elif salario>=500 and salario <=850:\n",
        "    print('Leão vai tirar apenas 10% da sua conta e por favor fique tranquilo')\n",
        "else:\n",
        "    print('Lamento muito! você está ganhando bem então vai pagar apenas 27.5%')"
      ]
    },
    {
      "cell_type": "markdown",
      "metadata": {
        "id": "zcpQGgEXs0TU"
      },
      "source": [
        "## Conectar duas ou mais comparações\n",
        "\n",
        "* Com o `and` (`e` em português), é possível conectar duas ou mais comparações, e o resultado depende de:\n",
        "    * Todas as comparações precisam ser verdadeiras para que o resultado seja verdadeiro (True)\n",
        "    * Caso uma das comparações seja falsa (False), o resultado será falso\n",
        "\n",
        "* Com o `or` (`ou` em português), é possível conectar duas ou mais comparações, e o resultado depende de:\n",
        "    * Todas as comparações presicam ser falsas para o resultado ser falso (False)\n",
        "    * Caso uma única comparação seja verdadeira, o resultado será verdadeiro (True), independente se existirem outras comparações falsas (False)"
      ]
    },
    {
      "cell_type": "code",
      "execution_count": 50,
      "metadata": {
        "colab": {
          "base_uri": "https://localhost:8080/"
        },
        "id": "r9We4PWNs0TU",
        "outputId": "9b4dd7e3-088e-4b17-b2f1-a27451b4127c"
      },
      "outputs": [
        {
          "output_type": "execute_result",
          "data": {
            "text/plain": [
              "True"
            ]
          },
          "metadata": {},
          "execution_count": 50
        }
      ],
      "source": [
        "salario>=500"
      ]
    },
    {
      "cell_type": "code",
      "execution_count": 51,
      "metadata": {
        "colab": {
          "base_uri": "https://localhost:8080/"
        },
        "id": "NdSmFE3Ms0TV",
        "outputId": "18364809-3005-4a68-9740-9b00eaa5aed4"
      },
      "outputs": [
        {
          "output_type": "execute_result",
          "data": {
            "text/plain": [
              "False"
            ]
          },
          "metadata": {},
          "execution_count": 51
        }
      ],
      "source": [
        "salario <=850"
      ]
    },
    {
      "cell_type": "code",
      "execution_count": 52,
      "metadata": {
        "colab": {
          "base_uri": "https://localhost:8080/"
        },
        "id": "RJVRkkzUs0TV",
        "outputId": "20fc0521-214a-452d-9322-6455555ce43c"
      },
      "outputs": [
        {
          "output_type": "execute_result",
          "data": {
            "text/plain": [
              "False"
            ]
          },
          "metadata": {},
          "execution_count": 52
        }
      ],
      "source": [
        "salario>=500 and salario <=850"
      ]
    },
    {
      "cell_type": "code",
      "execution_count": 53,
      "metadata": {
        "colab": {
          "base_uri": "https://localhost:8080/"
        },
        "id": "qrr_rBils0TV",
        "outputId": "38b65eb1-f1cc-4abf-b21b-6e7cdd12c7f9"
      },
      "outputs": [
        {
          "output_type": "execute_result",
          "data": {
            "text/plain": [
              "True"
            ]
          },
          "metadata": {},
          "execution_count": 53
        }
      ],
      "source": [
        "salario>=500 or salario <=850"
      ]
    },
    {
      "cell_type": "code",
      "execution_count": 54,
      "metadata": {
        "colab": {
          "base_uri": "https://localhost:8080/"
        },
        "id": "Amn7gmhks0TV",
        "outputId": "c0999a57-23d9-4040-a9f6-5725dd3fbc30"
      },
      "outputs": [
        {
          "output_type": "stream",
          "name": "stdout",
          "text": [
            "É um número negativo\n"
          ]
        }
      ],
      "source": [
        "# Exibir se o número é negativo, neutro ou positivo\n",
        "numero = -6\n",
        "\n",
        "if numero < 0:\n",
        "        print('É um número negativo')\n",
        "elif numero == 0:\n",
        "        print('É um número neutro')\n",
        "elif numero > 0:\n",
        "        print('É um número positivo')"
      ]
    },
    {
      "cell_type": "code",
      "execution_count": 55,
      "metadata": {
        "colab": {
          "base_uri": "https://localhost:8080/"
        },
        "id": "uabqVrsgs0TV",
        "outputId": "0158f83b-7ac4-4de9-fd5c-6e7901d82e97"
      },
      "outputs": [
        {
          "output_type": "stream",
          "name": "stdout",
          "text": [
            "Os números são iguais\n"
          ]
        }
      ],
      "source": [
        "# Exibir 2 números em ordem crescente\n",
        "\n",
        "numero_1 = 1\n",
        "numero_2 = 1\n",
        "\n",
        "# Verifica se o numero_1 é menor que o numero_2\n",
        "if numero_1 < numero_2:\n",
        "    print(numero_1, numero_2)\n",
        "\n",
        "# Verifica se o numero_2 é menor que o numero_1\n",
        "elif numero_2 < numero_1:\n",
        "    print(numero_2, numero_1)\n",
        "\n",
        "else:\n",
        "    print('Os números são iguais')"
      ]
    },
    {
      "cell_type": "code",
      "execution_count": 56,
      "metadata": {
        "colab": {
          "base_uri": "https://localhost:8080/"
        },
        "id": "MiGIOcRKs0TV",
        "outputId": "7b122472-2602-47ed-9750-8bb25cbc1e8f"
      },
      "outputs": [
        {
          "output_type": "stream",
          "name": "stdout",
          "text": [
            "maior numero é o 18 e o menor é o 2\n"
          ]
        }
      ],
      "source": [
        "# Exibir o menor e o menor numero entre 3 números\n",
        "numero_1 = 2\n",
        "numero_2 = 5\n",
        "numero_3 = 18\n",
        "\n",
        "# Verifica se numero_1 é maior que o numero_2 e o numero_3 (Caso seja verdade, o numero_1 é o maior)\n",
        "if numero_1 > numero_2 and numero_1 > numero_3:\n",
        "\n",
        "    # Caso o numero_1 seja o maior, é feita a comparação para ver se o numero_2 é menor que o numero_3\n",
        "    if numero_2 < numero_3:\n",
        "        print(f'maior numero é o {numero_1} e o menor é o {numero_2}')\n",
        "\n",
        "    # Se o numero_2 não for o menor, significa que o menor é o numero_3\n",
        "    else:\n",
        "        print(f'maior numero é o {numero_1} e o menor é o {numero_3}')\n",
        "\n",
        "\n",
        "# Verifica se numero_2 é maior que o numero_1 e o numero_3 (Caso seja verdade, o numero_2 é o maior)\n",
        "elif numero_2 > numero_1 and numero_2 > numero_3:\n",
        "\n",
        "    # Caso o numero_2 seja o maior, é feita a comparação para ver se o numero_1 é menor que o numero_3\n",
        "    if numero_1 < numero_3:\n",
        "        print(f'maior numero é o {numero_2} e o menor é o {numero_1}')\n",
        "\n",
        "    # Se o numero_1 não for o menor, significa que o menor é o numero_3\n",
        "    else:\n",
        "        print(f'maior numero é o {numero_2} e o menor é o {numero_3}')\n",
        "\n",
        "\n",
        "# Caso o numero_1 nem o numero_2 sejam o maior numero, o que resta para ser o maior é o numero_3\n",
        "else:\n",
        "    # Caso o numero_3 seja o maior, é feita a comparação para ver se o numero_1 é menor que o numero_2\n",
        "    if numero_1 < numero_2:\n",
        "        print(f'maior numero é o {numero_3} e o menor é o {numero_1}')\n",
        "\n",
        "    # Se o numero_1 não for o menor, significa que o menor é o numero_2\n",
        "    else:\n",
        "        print(f'maior numero é o {numero_3} e o menor é o {numero_2}')"
      ]
    },
    {
      "cell_type": "markdown",
      "metadata": {
        "id": "Jd9TK6QOs0TV"
      },
      "source": [
        "# 5 - Estrutura de iteração - FOR\n",
        "\n",
        "Um loop <code>for</code> atua como um iterador no Python; ele percorre itens que estão em uma **sequência** ou qualquer outro item iterável. Os objetos que aprendemos sobre os quais podemos iterar incluem strings e listas.\n",
        "\n",
        "##### Aqui está o formato geral para um loop <code>for</code> no Python:\n",
        "    \n",
        "    for item in objeto:\n",
        "        instruções"
      ]
    },
    {
      "cell_type": "code",
      "execution_count": 57,
      "metadata": {
        "id": "EEzjs5Sos0TW"
      },
      "outputs": [],
      "source": [
        "# Criar uma lista de números\n",
        "lista = [1,2,3,4,5,6]"
      ]
    },
    {
      "cell_type": "code",
      "execution_count": 58,
      "metadata": {
        "colab": {
          "base_uri": "https://localhost:8080/"
        },
        "id": "vutQAWJKs0TW",
        "outputId": "e66431b6-19ed-4a11-f3b0-a901d999c4d1"
      },
      "outputs": [
        {
          "output_type": "stream",
          "name": "stdout",
          "text": [
            "1\n",
            "2\n",
            "3\n",
            "4\n",
            "5\n",
            "6\n"
          ]
        }
      ],
      "source": [
        "# Cria-se uma variável num que irá percorrer os elementos da lista\n",
        "for num in lista:\n",
        "    # Exibe o valor da variável num\n",
        "    print(num)"
      ]
    },
    {
      "cell_type": "markdown",
      "metadata": {
        "id": "djJ221B_s0TX"
      },
      "source": [
        "Ótimo! Espero que isso faça sentido. Agora vamos adicionar uma instrução <code>if</code> para exibir somente números pares.\n",
        "#\n",
        "O resto da divisão `mod`, representado por `%` nos permite obter o restante em uma divisão."
      ]
    },
    {
      "cell_type": "code",
      "execution_count": 59,
      "metadata": {
        "colab": {
          "base_uri": "https://localhost:8080/"
        },
        "id": "uucFzPyIs0TX",
        "outputId": "da94aedf-ef1d-4d2b-f5d2-8eb8c9671cc5"
      },
      "outputs": [
        {
          "output_type": "stream",
          "name": "stdout",
          "text": [
            "2\n",
            "4\n",
            "6\n"
          ]
        }
      ],
      "source": [
        "# Cria-se uma variável num que irá percorrer os elementos da lista\n",
        "for num in lista:\n",
        "    # Verifica se o resto da divisão de num por 2 é igual a 0\n",
        "    if num % 2 == 0:\n",
        "        print(num)"
      ]
    },
    {
      "cell_type": "code",
      "execution_count": 60,
      "metadata": {
        "colab": {
          "base_uri": "https://localhost:8080/"
        },
        "id": "xthS2Ykws0TX",
        "outputId": "20eded05-171f-4c8b-c450-245ce95cc40c"
      },
      "outputs": [
        {
          "output_type": "stream",
          "name": "stdout",
          "text": [
            "1\n",
            "3\n",
            "5\n"
          ]
        }
      ],
      "source": [
        "#Para imprimir os ímpares\n",
        "for num in lista:\n",
        "    # Verifica se o resto da divisão de num por 2 é diferente de 0\n",
        "    if num % 2 != 0:\n",
        "        print(num)"
      ]
    },
    {
      "cell_type": "markdown",
      "metadata": {
        "id": "s-Ryg1bAs0TY"
      },
      "source": [
        "Poderíamos também colocar uma declaração <code>else</code> lá:"
      ]
    },
    {
      "cell_type": "code",
      "execution_count": 61,
      "metadata": {
        "colab": {
          "base_uri": "https://localhost:8080/"
        },
        "id": "HgUjswEHs0TY",
        "outputId": "d127b58b-c0d1-420a-ed26-8b40e5f73d58"
      },
      "outputs": [
        {
          "output_type": "stream",
          "name": "stdout",
          "text": [
            "Número ímpar\n",
            "2\n",
            "Número ímpar\n",
            "4\n",
            "Número ímpar\n",
            "6\n"
          ]
        }
      ],
      "source": [
        "for num in lista:\n",
        "    if num % 2 == 0:\n",
        "        print(num)\n",
        "    else:\n",
        "        print('Número ímpar')"
      ]
    },
    {
      "cell_type": "code",
      "execution_count": 62,
      "metadata": {
        "colab": {
          "base_uri": "https://localhost:8080/"
        },
        "id": "nd3QLQ2Us0TY",
        "outputId": "5df463c1-8ea2-4562-dcd0-acef34934ad6"
      },
      "outputs": [
        {
          "output_type": "stream",
          "name": "stdout",
          "text": [
            "21\n"
          ]
        }
      ],
      "source": [
        "# Cria a variável soma que começa com zero\n",
        "soma = 0\n",
        "\n",
        "# Cria-se uma variável num que irá percorrer os elementos da lista\n",
        "for num in lista:\n",
        "    # A variável soma irá receber o valor dela + o num\n",
        "    soma += num\n",
        "\n",
        "print(soma)"
      ]
    },
    {
      "cell_type": "markdown",
      "metadata": {
        "id": "QPdxVJVbs0TZ"
      },
      "source": [
        "## 5.1 - Loop For repetir uma quantidade específica de vezes\n",
        "\n",
        "O loop for pode percorrer uma determinada quantidade de valores com a função range()\n",
        "\n",
        "Dentro da função range podem ser passador 3 parâmetros sendo range(inicio, fim, passo),onde:\n",
        "* inicio é o primeiro valor a ser percorrido;\n",
        "* fim é o último valor a ser percorrido;\n",
        "* passo é a quantidade de valores que o loop anda em cada execução"
      ]
    },
    {
      "cell_type": "code",
      "execution_count": 63,
      "metadata": {
        "colab": {
          "base_uri": "https://localhost:8080/"
        },
        "id": "E9m0_85Xs0TZ",
        "outputId": "2fc8c285-a8de-4bfd-8522-aabca48ee047"
      },
      "outputs": [
        {
          "output_type": "stream",
          "name": "stdout",
          "text": [
            "0\n",
            "1\n",
            "2\n",
            "3\n",
            "4\n"
          ]
        }
      ],
      "source": [
        "# O loop começará em 0, terminará em 9 e irá percorrer os valores de 1 em 1\n",
        "for numero in range(0,5,1):\n",
        "    print(numero)"
      ]
    },
    {
      "cell_type": "code",
      "execution_count": 64,
      "metadata": {
        "colab": {
          "base_uri": "https://localhost:8080/"
        },
        "id": "ggDARdUfs0TZ",
        "outputId": "00cef12f-27f3-4bee-8aaf-f4270ca149c9"
      },
      "outputs": [
        {
          "output_type": "stream",
          "name": "stdout",
          "text": [
            "0\n",
            "2\n",
            "4\n",
            "6\n",
            "8\n"
          ]
        }
      ],
      "source": [
        "# O loop começará em 2, terminará em 9 e irá percorrer os valores de 2 em 2\n",
        "for numero in range(0,10,2):\n",
        "    print(numero)"
      ]
    },
    {
      "cell_type": "code",
      "execution_count": 65,
      "metadata": {
        "colab": {
          "base_uri": "https://localhost:8080/"
        },
        "id": "rTOEu29Js0TZ",
        "outputId": "8430a040-9196-458a-a113-240333cca682"
      },
      "outputs": [
        {
          "output_type": "stream",
          "name": "stdout",
          "text": [
            "0\n",
            "3\n",
            "6\n",
            "9\n"
          ]
        }
      ],
      "source": [
        "# O loop começará em 0, terminará em 9 e irá percorrer os valores de 3 em 3\n",
        "for numero in range(0,10,3):\n",
        "    print(numero)"
      ]
    },
    {
      "cell_type": "markdown",
      "metadata": {
        "id": "thMDBLmus0Ta"
      },
      "source": [
        "Tanto o primeiro quanto o último parâmetro do range não precisam ser informados, por padrão eles são 0 e 1, respectivamente, Sendo necessário especificar somente qual o valor máximo."
      ]
    },
    {
      "cell_type": "code",
      "execution_count": 66,
      "metadata": {
        "colab": {
          "base_uri": "https://localhost:8080/"
        },
        "id": "w82mbDOhs0Ta",
        "outputId": "dc922bb4-29c8-4ab3-8102-8345ddd6916c"
      },
      "outputs": [
        {
          "output_type": "stream",
          "name": "stdout",
          "text": [
            "0\n",
            "1\n",
            "2\n",
            "3\n",
            "4\n"
          ]
        }
      ],
      "source": [
        "# O loop começará em 0, terminará em 4 e irá percorrer os valores de 1 em 1\n",
        "for numero in range(0,5,1):\n",
        "    print(numero)"
      ]
    },
    {
      "cell_type": "code",
      "execution_count": 67,
      "metadata": {
        "colab": {
          "base_uri": "https://localhost:8080/"
        },
        "id": "z4ozohdls0Ta",
        "outputId": "8c3519b4-7f05-4d7d-f1b4-7f2d8ff2c2df"
      },
      "outputs": [
        {
          "output_type": "stream",
          "name": "stdout",
          "text": [
            "0\n",
            "1\n",
            "2\n",
            "3\n",
            "4\n"
          ]
        }
      ],
      "source": [
        "# O loop começará em 0, terminará em 4 e irá percorrer os valores de 1 em 1\n",
        "for numero in range(5):\n",
        "    print(numero)"
      ]
    },
    {
      "cell_type": "markdown",
      "metadata": {
        "id": "hAJHhtqLs0Ta"
      },
      "source": [
        "# 6 - Exercícios de Loop For"
      ]
    },
    {
      "cell_type": "markdown",
      "metadata": {
        "id": "N_ToPbzus0Tb"
      },
      "source": [
        "## 6.1 - Tabuada\n",
        "\n",
        "* Crie uma variável numero e atribua a ela algum valor de 1 a 10;\n",
        "* Use o loop for para exibir a tabuada deste número\n",
        "EX: numero = 5, o texto exibido será:\n",
        "    * 5 x 1 = 5\n",
        "    * 5 x 2 = 10\n",
        "    * 5 x 3 = 15\n",
        "    * 5 x 4 = 20\n",
        "    * 5 x 5 = 25\n",
        "    * 5 x 6 = 30\n",
        "    * 5 x 7 = 35\n",
        "    * 5 x 8 = 40\n",
        "    * 5 x 9 = 45\n",
        "    * 5 x 10 = 50\n",
        "#\n",
        "Caso o número seja alterado, os textos e os resultados também devem ser alterados\n"
      ]
    },
    {
      "cell_type": "code",
      "execution_count": 68,
      "metadata": {
        "colab": {
          "base_uri": "https://localhost:8080/"
        },
        "id": "vmcZDVVts0Tb",
        "outputId": "e9766fb6-b51a-40bd-fc36-b39da2a33374"
      },
      "outputs": [
        {
          "output_type": "stream",
          "name": "stdout",
          "text": [
            "5 x 1 = 5\n",
            "5 x 2 = 10\n",
            "5 x 3 = 15\n",
            "5 x 4 = 20\n",
            "5 x 5 = 25\n",
            "5 x 6 = 30\n",
            "5 x 7 = 35\n",
            "5 x 8 = 40\n",
            "5 x 9 = 45\n",
            "5 x 10 = 50\n"
          ]
        }
      ],
      "source": [
        "# Desenvolva sua resposta aqui\n",
        "numero = 5\n",
        "\n",
        "for i in range(1, 11):\n",
        "    resultado = numero * i\n",
        "    print(f\"{numero} x {i} = {resultado}\")"
      ]
    },
    {
      "cell_type": "markdown",
      "metadata": {
        "id": "TniOVSlys0Tb"
      },
      "source": [
        "## 6.2 - Escreva um programa que exiba todos os números entre 5 e 100 que são divisíveis por 7, mas não são múltipos de 5."
      ]
    },
    {
      "cell_type": "code",
      "execution_count": 69,
      "metadata": {
        "colab": {
          "base_uri": "https://localhost:8080/"
        },
        "id": "Vc29KS-Ss0Tb",
        "outputId": "6c900d31-3d07-4464-f7bf-0c7178008f3c"
      },
      "outputs": [
        {
          "output_type": "stream",
          "name": "stdout",
          "text": [
            "7\n",
            "14\n",
            "21\n",
            "28\n",
            "42\n",
            "49\n",
            "56\n",
            "63\n",
            "77\n",
            "84\n",
            "91\n",
            "98\n"
          ]
        }
      ],
      "source": [
        "# Desenvolva sua resposta aqui\n",
        "for numero in range(5, 101):\n",
        "    if numero % 7 == 0 and numero % 5 != 0:\n",
        "        print(numero)"
      ]
    },
    {
      "cell_type": "markdown",
      "metadata": {
        "id": "4IS-Pn1Zs0Tb"
      },
      "source": [
        "## 6.3 - Soma dos números\n",
        "* Crie uma variável numero e atribua a ela algum valor numérico inteiro;\n",
        "* Utilize o loop ``for`` para exibir a soma de todos os numeros de 1 até o valor da variável numero.\n",
        "\n",
        "EX: numero = 4\n",
        "\n",
        "Valor exibido deve ser 10\n",
        "\n",
        "Pois 1+2+3+4 = 10"
      ]
    },
    {
      "cell_type": "code",
      "execution_count": 70,
      "metadata": {
        "colab": {
          "base_uri": "https://localhost:8080/"
        },
        "id": "DAPfMBmFs0Tb",
        "outputId": "d51d70a5-5784-4c00-f3a1-cd369af51b24"
      },
      "outputs": [
        {
          "output_type": "stream",
          "name": "stdout",
          "text": [
            "A soma de todos os números de 1 até 4 é 10.\n"
          ]
        }
      ],
      "source": [
        "numero = 4\n",
        "soma = 0\n",
        "\n",
        "for i in range(1, numero + 1):\n",
        "    soma += i\n",
        "\n",
        "print(f\"A soma de todos os números de 1 até {numero} é {soma}.\")\n"
      ]
    },
    {
      "cell_type": "markdown",
      "metadata": {
        "id": "O9YgQoNps0Tc"
      },
      "source": [
        "## 6.4 - Quantidade de Valores pares e ímpares na lista_numeros\n",
        "* Crie uma variavel quantidade_par e outra quantidade_impar;\n",
        "* Utilize o loop for para percorrer a lista_numeros;\n",
        "* Utilize as estruturas condicionais para verificar se o valor é par ou ímpar;\n",
        "* Exiba a quantidade de valores pares e a quantidade de valores ímpares."
      ]
    },
    {
      "cell_type": "code",
      "execution_count": 71,
      "metadata": {
        "colab": {
          "base_uri": "https://localhost:8080/"
        },
        "id": "L0xYbJFEs0Tc",
        "outputId": "10e831b0-0ef2-47d2-a7e3-5ab1788af41b"
      },
      "outputs": [
        {
          "output_type": "stream",
          "name": "stdout",
          "text": [
            "Quantidade de valores pares: 24\n",
            "Quantidade de valores ímpares: 17\n"
          ]
        }
      ],
      "source": [
        "lista_numeros = [5,484,2,21,4,6,9,451,4,8,6,2,1,4,8,6,2,1,7,51,8,7,51,8,7,5,13,748,4,22,2,68,479,43,1,4,98,6841,64,84,86]\n",
        "\n",
        "quantidade_par = 0\n",
        "quantidade_impar = 0\n",
        "\n",
        "for numero in lista_numeros:\n",
        "    if numero % 2 == 0:\n",
        "        quantidade_par += 1\n",
        "    else:\n",
        "        quantidade_impar += 1\n",
        "\n",
        "print(f\"Quantidade de valores pares: {quantidade_par}\")\n",
        "print(f\"Quantidade de valores ímpares: {quantidade_impar}\")\n"
      ]
    },
    {
      "cell_type": "markdown",
      "metadata": {
        "id": "CpfQCbjZs0Tc"
      },
      "source": [
        "# 7 - Exercícios de revisão"
      ]
    },
    {
      "cell_type": "markdown",
      "metadata": {
        "id": "W73o3ukXs0Tc"
      },
      "source": [
        "#### 7.1 - Cálculo do Imposto de Renda anual\n",
        "\n",
        "* Crie uma variável salario que irá receber um valor qualquer\n",
        "* Crie uma variável imposto mensal que irá receber um valor entre 0 e 1 (imposto de 25% = 0.25, imposto de 0.08 = 8%, imposto de 0.3 = 30%);\n",
        "* Calcule o valor pago de imposto no mês;\n",
        "* Calcule o valor pago de imposto no ano;\n",
        "* Exiba na tela o valor do salário, o valor do imposto e quanto é pago de imposto anualmente."
      ]
    },
    {
      "cell_type": "code",
      "execution_count": 72,
      "metadata": {
        "colab": {
          "base_uri": "https://localhost:8080/"
        },
        "id": "pLkefhDis0Tc",
        "outputId": "094b980c-cd86-45a9-e818-01532b4f18b8"
      },
      "outputs": [
        {
          "output_type": "stream",
          "name": "stdout",
          "text": [
            "Salário: R$5000.00\n",
            "Imposto Mensal: R$1250.00\n",
            "Imposto Anual: R$15000.00\n"
          ]
        }
      ],
      "source": [
        "salario = 5000\n",
        "imposto_mensal = 0.25\n",
        "\n",
        "imposto_pago_mes = salario * imposto_mensal\n",
        "\n",
        "imposto_pago_ano = imposto_pago_mes * 12\n",
        "\n",
        "print(f\"Salário: R${salario:.2f}\")\n",
        "print(f\"Imposto Mensal: R${imposto_pago_mes:.2f}\")\n",
        "print(f\"Imposto Anual: R${imposto_pago_ano:.2f}\")"
      ]
    },
    {
      "cell_type": "markdown",
      "metadata": {
        "id": "Z1vZ8XoPs0Td"
      },
      "source": [
        "#### 7.2 - Média das notas\n",
        "Em uma escola de programação, o professor realiza 4 provas no ano.\n",
        "Para facilitar o cálculo da nota final, faça um programa que tenha uma variável para cada uma das 4 notas, calcule a média das notas e exiba um texto de acordo com o exemplo: \"A nota 1 foi 5, nota 2 5, nota 3 5 e nota 4 5. Sua média foi 5\"\n",
        "\n",
        "#\n",
        "Para calcular a média, some as 4 notas, em seguida divida o valor da somatória por 4"
      ]
    },
    {
      "cell_type": "code",
      "execution_count": 73,
      "metadata": {
        "colab": {
          "base_uri": "https://localhost:8080/"
        },
        "id": "ZzFZjVRis0Td",
        "outputId": "e2b5e404-c539-4349-c219-40dd30c6898e"
      },
      "outputs": [
        {
          "output_type": "stream",
          "name": "stdout",
          "text": [
            "A nota 1 foi 5, nota 2 5, nota 3 5 e nota 4 5. Sua média foi 5.0.\n"
          ]
        }
      ],
      "source": [
        "nota1 = 5\n",
        "nota2 = 5\n",
        "nota3 = 5\n",
        "nota4 = 5\n",
        "\n",
        "# Cálculo da média\n",
        "media = (nota1 + nota2 + nota3 + nota4) / 4\n",
        "\n",
        "# Exibindo o resultado\n",
        "print(f\"A nota 1 foi {nota1}, nota 2 {nota2}, nota 3 {nota3} e nota 4 {nota4}. Sua média foi {media:.1f}.\")\n",
        "\n"
      ]
    },
    {
      "cell_type": "markdown",
      "metadata": {
        "id": "HrxgKSpns0Td"
      },
      "source": [
        "#### 7.3 - Autonomia do Carro\n",
        "\n",
        "* Crie uma variável para receber quantos quilometros o carro andou;\n",
        "* Crie uma variável parareceber quantos litros o carro gastou;\n",
        "* Crie uma variável para receber a autonomia do carro (Calcula-se usando a quantidade de quilometros dividido pela quantidade de litros)\n",
        "* Exiba o texto, semelhante a \"O carro andou 100 quilometros, gastou 10 litros, portanto a autonomia é de 10 Km/L\""
      ]
    },
    {
      "cell_type": "code",
      "execution_count": 74,
      "metadata": {
        "colab": {
          "base_uri": "https://localhost:8080/"
        },
        "id": "gcu-cfSes0Td",
        "outputId": "19e498db-f953-4dd9-8cfd-892ff4e7f342"
      },
      "outputs": [
        {
          "output_type": "stream",
          "name": "stdout",
          "text": [
            "O carro andou 100 quilómetros, gastou 10 litros, portanto a autonomia é de 10.0 Km/L.\n"
          ]
        }
      ],
      "source": [
        "quilometros_andados = 100\n",
        "litros_gastos = 10\n",
        "\n",
        "autonomia = quilometros_andados / litros_gastos\n",
        "\n",
        "print(f\"O carro andou {quilometros_andados} quilómetros, gastou {litros_gastos} litros, portanto a autonomia é de {autonomia:.1f} Km/L.\")"
      ]
    },
    {
      "cell_type": "markdown",
      "metadata": {
        "id": "njnZjPlUs0Td"
      },
      "source": [
        "#### 7.4 - Valocidade média do Carro\n",
        "\n",
        "* Crie uma variável para receber quantos quilometros o carro andou;\n",
        "* Crie uma variável para receber em quantos minutos o carro andou a distância;\n",
        "* Crie uma variável para receber a velocidade média do carro (Calcula-se usando a quantidade de quilometros dividido pela quantidade de minutos, multiplicado por 60) -> (100km / 40minutos)*60 = 150Km/h\n",
        "* Exiba o texto, semelhante a \"O carro andou 150 quilometros em 40 minutos, portanto a velocidade média é de 150Km/h\""
      ]
    },
    {
      "cell_type": "code",
      "execution_count": 75,
      "metadata": {
        "colab": {
          "base_uri": "https://localhost:8080/"
        },
        "id": "KvhTcJhls0Td",
        "outputId": "33029dd1-69e2-4248-bc40-dc0c20c88bc0"
      },
      "outputs": [
        {
          "output_type": "stream",
          "name": "stdout",
          "text": [
            "O carro andou 150 quilómetros em 40 minutos, portanto a velocidade média é de 225.0 Km/h.\n"
          ]
        }
      ],
      "source": [
        "quilometros_andados = 150\n",
        "minutos = 40\n",
        "\n",
        "velocidade_media = (quilometros_andados / minutos) * 60\n",
        "\n",
        "print(f\"O carro andou {quilometros_andados} quilómetros em {minutos} minutos, portanto a velocidade média é de {velocidade_media:.1f} Km/h.\")"
      ]
    },
    {
      "cell_type": "markdown",
      "metadata": {
        "id": "daOZw4Uds0Te"
      },
      "source": [
        "#### 7.5 - Exiba o segundo elemento da lista de numeros"
      ]
    },
    {
      "cell_type": "code",
      "execution_count": 76,
      "metadata": {
        "colab": {
          "base_uri": "https://localhost:8080/"
        },
        "id": "LHUzi5tvs0Te",
        "outputId": "9ca4215d-95d1-4557-f3db-d74df35d4898"
      },
      "outputs": [
        {
          "output_type": "stream",
          "name": "stdout",
          "text": [
            "O segundo elemento da lista é: 484\n"
          ]
        }
      ],
      "source": [
        "lista_numeros = [5,484,2,21,4]\n",
        "\n",
        "segundo_elemento = lista_numeros[1]\n",
        "print(f\"O segundo elemento da lista é: {segundo_elemento}\")"
      ]
    },
    {
      "cell_type": "markdown",
      "metadata": {
        "id": "lHtyrfGKs0Te"
      },
      "source": [
        "#### 7.6 - Altere o primeiro elemento da lista para 'Carro'"
      ]
    },
    {
      "cell_type": "code",
      "execution_count": 78,
      "metadata": {
        "colab": {
          "base_uri": "https://localhost:8080/"
        },
        "id": "-fhT2Ibos0Te",
        "outputId": "4dd05fa5-0fc5-4239-cc76-890f8f2b91ee"
      },
      "outputs": [
        {
          "output_type": "stream",
          "name": "stdout",
          "text": [
            "A lista alterada é: ['Carro', 'iate', 9, 'Corrente']\n"
          ]
        }
      ],
      "source": [
        "lista = ['javali', 'iate', 9, 'Corrente']\n",
        "\n",
        "lista[0] = 'Carro'\n",
        "\n",
        "print(f\"A lista alterada é: {lista}\")"
      ]
    },
    {
      "cell_type": "markdown",
      "metadata": {
        "id": "RC1mDrz9s0Te"
      },
      "source": [
        "#### 7.7 - Use reatribuição de valor e multiplique o valor da primeira posição da lista pelo valor da última da lista abaixo, em seguida exiba a lista\n",
        "\n",
        "resultado esperado lista_numeros = [27, 7, 5, 8, 7, 9]"
      ]
    },
    {
      "cell_type": "code",
      "execution_count": 79,
      "metadata": {
        "colab": {
          "base_uri": "https://localhost:8080/"
        },
        "id": "3PoDHAOCs0Te",
        "outputId": "f3577bd1-dd74-463c-c0fd-767bc8d0f4b1"
      },
      "outputs": [
        {
          "output_type": "stream",
          "name": "stdout",
          "text": [
            "A lista alterada é: [27, 7, 5, 8, 7, 9]\n"
          ]
        }
      ],
      "source": [
        "lista_numeros = [3, 7, 5, 8, 7, 9]\n",
        "\n",
        "lista_numeros[0] = lista_numeros[0] * lista_numeros[-1]\n",
        "\n",
        "print(f\"A lista alterada é: {lista_numeros}\")"
      ]
    },
    {
      "cell_type": "markdown",
      "metadata": {
        "id": "ykHxML2Is0Te"
      },
      "source": [
        "#### 7.8 - Contar números na lista\n",
        "Utilize a função count() para contar quantas vezes o número 15 aparece na lista abaixo, em seguida exiba o resultado\n",
        "#\n",
        "Resultado esperado = 8"
      ]
    },
    {
      "cell_type": "code",
      "execution_count": 80,
      "metadata": {
        "colab": {
          "base_uri": "https://localhost:8080/"
        },
        "id": "6UykLDQqs0Tf",
        "outputId": "7d9e228a-38e6-404d-ce94-d26fc05f691b"
      },
      "outputs": [
        {
          "output_type": "stream",
          "name": "stdout",
          "text": [
            "O número 15 aparece 8 vezes na lista.\n"
          ]
        }
      ],
      "source": [
        "lista_varios_numeros = [11,15,67,34,87,3345,68,654,5489,15,15,158,231,87,6,54,121,\n",
        "                       981,3284981,548,45,56,85,0,1874,1,64,8,1,515,15,15,12,30,330,\n",
        "                       87841,520,1,8,53,1,5,4,78,95610,20,68,76,15,18,15,34,72,15]\n",
        "\n",
        "contagem_15 = lista_varios_numeros.count(15)\n",
        "\n",
        "# Exibindo o resultado\n",
        "print(f\"O número 15 aparece {contagem_15} vezes na lista.\")"
      ]
    },
    {
      "cell_type": "markdown",
      "metadata": {
        "id": "4AurpoWXs0Tf"
      },
      "source": [
        "#### 7.9 Com base na lista_varios_numeros, utilize formatação de strings para exibir o texto 'O maior valor da lista é 'maior numero da lista' e o menor é 'menor numero da lista''\n",
        "#\n",
        "Dicas:\n",
        "    - Use a função sort() para ordenar a lista em ordem crescente\n",
        "    - Crie uma variável que irá receber o menor valor da lista (ordene a lista e pegue o primeiro valor da lista)\n",
        "    - Use a função reverse() para inverter a ordem da lista\n",
        "    - Crie uma variável que irá receber o maior valor da lista\n",
        "#\n",
        "Resultado esperado 'O maior valor da lista é 3284981 e o menor é 0'"
      ]
    },
    {
      "cell_type": "code",
      "execution_count": 81,
      "metadata": {
        "colab": {
          "base_uri": "https://localhost:8080/"
        },
        "id": "iP0oTNVbs0Tf",
        "outputId": "736b6c03-9f7c-4d11-9626-09a1ad5f5bc5"
      },
      "outputs": [
        {
          "output_type": "stream",
          "name": "stdout",
          "text": [
            "O maior valor da lista é 3284981 e o menor é 0.\n"
          ]
        }
      ],
      "source": [
        "lista_varios_numeros = [\n",
        "    11, 15, 67, 34, 87, 3345, 68, 654, 5489, 15, 15, 158, 231, 87, 6, 54,\n",
        "    121, 981, 3284981, 548, 45, 56, 85, 0, 1874, 1, 64, 8, 1, 515, 15,\n",
        "    15, 12, 30, 330, 87841, 520, 1, 8, 53, 1, 5, 4, 78, 95610, 20, 68,\n",
        "    76, 15, 18, 15, 34, 72, 15\n",
        "]\n",
        "\n",
        "lista_varios_numeros.sort()\n",
        "\n",
        "menor_valor = lista_varios_numeros[0]\n",
        "\n",
        "lista_varios_numeros.reverse()\n",
        "\n",
        "maior_valor = lista_varios_numeros[0]\n",
        "\n",
        "print(f\"O maior valor da lista é {maior_valor} e o menor é {menor_valor}.\")"
      ]
    },
    {
      "cell_type": "markdown",
      "metadata": {
        "id": "kQljLJUxs0Tf"
      },
      "source": [
        "#### 7.10 - Texto da lista\n",
        "\n",
        "    Crie uma variável que receberá a palavra ``Eu`` da lista_de_palavras\n",
        "    Crie uma variável que receberá a palavra ``estou`` da lista_de_palavras\n",
        "    Crie uma variável que receberá a palavra ``aprendendo`` da lista_de_palavras\n",
        "    Crie uma variável que receberá a palavra ``Python`` da lista_de_palavras\n",
        "    Crie uma variável que receberá a palavra ``' '`` da lista_de_palavras\n",
        "\n",
        "Apenas com as variáveis criadas, exiba a frase 'Eu estou aprendendo Python'"
      ]
    },
    {
      "cell_type": "code",
      "execution_count": 82,
      "metadata": {
        "colab": {
          "base_uri": "https://localhost:8080/"
        },
        "id": "8PkfqP1qs0Tf",
        "outputId": "ea27028d-6fbe-4cee-95aa-b6a08e03e956"
      },
      "outputs": [
        {
          "output_type": "stream",
          "name": "stdout",
          "text": [
            "Python aprendendo estou Eu\n"
          ]
        }
      ],
      "source": [
        "lista_de_palavras = ['Python', 'aprendendo', 'estou', 'Eu', ' ']\n",
        "# Desenvolva sua resposta aqui\n",
        "\n",
        "palavra1 = lista_de_palavras[0]\n",
        "palavra2 = lista_de_palavras[1]\n",
        "palavra3 = lista_de_palavras[2]\n",
        "palavra4 = lista_de_palavras[3]\n",
        "espaco = ' '\n",
        "\n",
        "frase = palavra1 + espaco + palavra2 + espaco + palavra3 + espaco + palavra4\n",
        "print(frase)"
      ]
    },
    {
      "cell_type": "markdown",
      "metadata": {
        "id": "Nkz5FZ5ts0Tf"
      },
      "source": [
        "#### 7.11 - Com a lista_de_listas, exiba a frase 'O carro tem 4 rodas' utilizando indexação de lista"
      ]
    },
    {
      "cell_type": "code",
      "execution_count": 83,
      "metadata": {
        "colab": {
          "base_uri": "https://localhost:8080/"
        },
        "id": "tEClcfAks0Tf",
        "outputId": "66a2206a-9345-4970-81e4-e3aa1949e385"
      },
      "outputs": [
        {
          "output_type": "stream",
          "name": "stdout",
          "text": [
            "O carro tem 4 rodas\n"
          ]
        }
      ],
      "source": [
        "lista_de_listas = ['garrafa','O','0', 'e', 'garrafa',['tem','4', 'cinco', 'rodas',[' ', 'sapato','bancos',17]],'14', 'carro']\n",
        "\n",
        "frase = f\"{lista_de_listas[1]} {lista_de_listas[7]} {lista_de_listas[5][0]} {lista_de_listas[5][1]} {lista_de_listas[5][3]}\"\n",
        "\n",
        "print(frase)"
      ]
    },
    {
      "cell_type": "markdown",
      "metadata": {
        "id": "hmOjYAg4s0Tf"
      },
      "source": [
        "#### 7.12 - Com a lista_de_listas, exiba a frase 'O carro tem cinco bancos' utilizando indexação de lista"
      ]
    },
    {
      "cell_type": "code",
      "execution_count": 84,
      "metadata": {
        "colab": {
          "base_uri": "https://localhost:8080/"
        },
        "id": "5jwHxnNIs0Tg",
        "outputId": "c2b2fd7a-f67f-4973-a60a-85c993ccd84a"
      },
      "outputs": [
        {
          "output_type": "stream",
          "name": "stdout",
          "text": [
            "O carro tem cinco bancos\n"
          ]
        }
      ],
      "source": [
        "lista_de_listas = ['garrafa','O','0', 'e', 'garrafa',['tem','4', 'cinco', 'rodas',[' ', 'sapato','bancos',17]],'14', 'carro']\n",
        "\n",
        "frase = f\"{lista_de_listas[1]} {lista_de_listas[7]} {lista_de_listas[5][0]} {lista_de_listas[5][2]} {lista_de_listas[5][4][2]}\"\n",
        "\n",
        "print(frase)"
      ]
    },
    {
      "cell_type": "markdown",
      "metadata": {
        "id": "VK4IcQ1Ds0Tg"
      },
      "source": [
        "#### 7.13 - Com a lista_de_listas, exiba a frase 'O carro tem 4 rodas e cinco bancos' utilizando indexação de lista"
      ]
    },
    {
      "cell_type": "code",
      "execution_count": 85,
      "metadata": {
        "colab": {
          "base_uri": "https://localhost:8080/"
        },
        "id": "2rqzq7U8s0Tg",
        "outputId": "97f6b7a2-2016-430e-d3ff-2619ec6bd0c0"
      },
      "outputs": [
        {
          "output_type": "stream",
          "name": "stdout",
          "text": [
            "O carro tem 4 rodas bancos\n"
          ]
        }
      ],
      "source": [
        "lista_de_listas = ['garrafa','O','0', 'e', 'garrafa',['tem','4', 'cinco', 'rodas',[' ', 'sapato','bancos',17]],'14', 'carro']\n",
        "\n",
        "frase = f\"{lista_de_listas[1]} {lista_de_listas[7]} {lista_de_listas[5][0]} {lista_de_listas[5][1]} {lista_de_listas[5][3]} {lista_de_listas[5][4][2]}\"\n",
        "\n",
        "print(frase)"
      ]
    },
    {
      "cell_type": "markdown",
      "metadata": {
        "id": "NK-xS_Hhs0Tg"
      },
      "source": [
        "#### 7.14 - Exiba o valor 'jato'"
      ]
    },
    {
      "cell_type": "code",
      "execution_count": 86,
      "metadata": {
        "colab": {
          "base_uri": "https://localhost:8080/"
        },
        "id": "AoPvxWLis0Tg",
        "outputId": "f6b880ad-36eb-4e6f-b498-7f28efc6fa05"
      },
      "outputs": [
        {
          "output_type": "stream",
          "name": "stdout",
          "text": [
            "jato\n"
          ]
        }
      ],
      "source": [
        "meios_de_transporte = { 'chave_1' : 'jato',\n",
        "                        'chave_2' : 'notebook',\n",
        "                        'chave_3' : 'avião',\n",
        "                        'chave_4' : 'youtube'}\n",
        "\n",
        "print(meios_de_transporte['chave_1'])"
      ]
    },
    {
      "cell_type": "markdown",
      "metadata": {
        "id": "geYNrX0Es0Tg"
      },
      "source": [
        "#### 7.14 - Exiba o valor 'youtube'"
      ]
    },
    {
      "cell_type": "code",
      "execution_count": 87,
      "metadata": {
        "colab": {
          "base_uri": "https://localhost:8080/"
        },
        "id": "DIeQOxdus0Tg",
        "outputId": "fd5ca4c4-8d38-418a-adb4-de64d940e050"
      },
      "outputs": [
        {
          "output_type": "stream",
          "name": "stdout",
          "text": [
            "youtube\n"
          ]
        }
      ],
      "source": [
        "meios_de_transporte = { 'chave_1' : 'jato',\n",
        "                        'chave_2' : 'notebook',\n",
        "                        'chave_3' : 'avião',\n",
        "                        'chave_4' : 'youtube'}\n",
        "\n",
        "print(meios_de_transporte['chave_4'])"
      ]
    },
    {
      "cell_type": "markdown",
      "metadata": {
        "id": "ScggV_B9s0Th"
      },
      "source": [
        "#### 7.15 - Exiba o valor 'instagram'"
      ]
    },
    {
      "cell_type": "code",
      "execution_count": 88,
      "metadata": {
        "colab": {
          "base_uri": "https://localhost:8080/"
        },
        "id": "BwubwSvKs0Th",
        "outputId": "18d08d30-91b1-48a4-9b37-ab22c5ce17f9"
      },
      "outputs": [
        {
          "output_type": "stream",
          "name": "stdout",
          "text": [
            "instagram\n"
          ]
        }
      ],
      "source": [
        "redes_sociais = {'redes':['Tik Tok', 'instagram', 'Facebook']}\n",
        "\n",
        "print(redes_sociais['redes'][1])"
      ]
    },
    {
      "cell_type": "markdown",
      "metadata": {
        "id": "UKcdk1c4s0Th"
      },
      "source": [
        "#### 7.16 - Exiba o valor 18000"
      ]
    },
    {
      "cell_type": "code",
      "execution_count": 89,
      "metadata": {
        "colab": {
          "base_uri": "https://localhost:8080/"
        },
        "id": "o6hUVxhLs0Th",
        "outputId": "2428fb8c-8bfb-47f4-c4fd-eefa0a4ad0e2"
      },
      "outputs": [
        {
          "output_type": "stream",
          "name": "stdout",
          "text": [
            "18000\n"
          ]
        }
      ],
      "source": [
        "pessoa = {  'nome' : 'Gizele',\n",
        "            'idade' : 23,\n",
        "            'cargo' : { 'empresa' : 'Gazeta',\n",
        "                        'especificação' : 'Gerente de Marketing',\n",
        "                        'departamento' : 'Marketing Digital',\n",
        "                        'remuneração' : 18000\n",
        "                        }\n",
        "        }\n",
        "\n",
        "print(pessoa['cargo']['remuneração'])"
      ]
    },
    {
      "cell_type": "markdown",
      "metadata": {
        "id": "KSDBh7f9s0Th"
      },
      "source": [
        "#### 7.17 - Exiba a palavra 'tablet'"
      ]
    },
    {
      "cell_type": "code",
      "execution_count": 90,
      "metadata": {
        "colab": {
          "base_uri": "https://localhost:8080/"
        },
        "id": "RGvm3Z_Gs0Th",
        "outputId": "aa70213f-16e8-40b8-b52e-73f719f3e10b"
      },
      "outputs": [
        {
          "output_type": "stream",
          "name": "stdout",
          "text": [
            "tablet\n"
          ]
        }
      ],
      "source": [
        "dicionario_maluco = {\n",
        "    'chave_1' :[1,2,{'chave_2':['tablet','celular']}]\n",
        "}\n",
        "\n",
        "print(dicionario_maluco['chave_1'][2]['chave_2'][0])"
      ]
    },
    {
      "cell_type": "markdown",
      "metadata": {
        "id": "OLNYsH8Is0Th"
      },
      "source": [
        "#### 7.18 - Exiba a frase 'Eu Consigo!'\n",
        "    Crie uma variável para receber o valor 'Eu'\n",
        "    Crie uma variável para receber o valor 'consigo'\n",
        "    Crie uma variável para receber o valor ' '\n",
        "    Crie uma variável para receber o valor '!'\n",
        "    Exiba a frase completa"
      ]
    },
    {
      "cell_type": "code",
      "execution_count": 91,
      "metadata": {
        "colab": {
          "base_uri": "https://localhost:8080/"
        },
        "id": "dhbK8vO5s0Th",
        "outputId": "8072f095-2123-4f12-8922-1eefa6b3485f"
      },
      "outputs": [
        {
          "output_type": "stream",
          "name": "stdout",
          "text": [
            "Eu consigo!\n"
          ]
        }
      ],
      "source": [
        "meu_dicionario = {'chave1':123,'chave2':[12,'Eu',33],'chave3':['item0','consigo',{'chave4':{'chave5':[' ','item1', '!']}}]}\n",
        "\n",
        "palavra1 = meu_dicionario['chave2'][1]\n",
        "palavra2 = meu_dicionario['chave3'][1]\n",
        "espaco = meu_dicionario['chave3'][2]['chave4']['chave5'][0]\n",
        "exclamacao = meu_dicionario['chave3'][2]['chave4']['chave5'][2]\n",
        "\n",
        "frase = palavra1 + espaco + palavra2 + exclamacao\n",
        "print(frase)"
      ]
    },
    {
      "cell_type": "markdown",
      "metadata": {
        "id": "Xb6mTZzYs0Ti"
      },
      "source": [
        "#### 7.19- Exiba a frase 'Foi moleza aprender dicionários e listas!'\n",
        "    Crie uma variável para receber cada palavra\n",
        "    Exiba a frase completa"
      ]
    },
    {
      "cell_type": "code",
      "execution_count": 93,
      "metadata": {
        "colab": {
          "base_uri": "https://localhost:8080/"
        },
        "id": "33OtlvJOs0Ti",
        "outputId": "4de18a28-4b37-441c-b8f0-e60ff38e59d9"
      },
      "outputs": [
        {
          "output_type": "stream",
          "name": "stdout",
          "text": [
            "Foi moleza aprender dicionarios !\n"
          ]
        }
      ],
      "source": [
        "meu_dicionario = {  'chave1':{'outra_chave':['Foi', 'k']},\n",
        "                    'chave2':['!','moleza',13],\n",
        "                    'chave3':['listas', 'e', 'aprender',{'chave4':{'chave5':[' ', 'dicionarios']}}]}\n",
        "\n",
        "palavra1 = meu_dicionario['chave1']['outra_chave'][0]\n",
        "palavra2 = meu_dicionario['chave2'][1]\n",
        "palavra3 = meu_dicionario['chave3'][2]\n",
        "palavra4 = meu_dicionario['chave3'][3]['chave4']['chave5'][1]\n",
        "espaco = meu_dicionario['chave3'][3]['chave4']['chave5'][0]\n",
        "exclamacao = meu_dicionario['chave2'][0]\n",
        "\n",
        "frase = palavra1 + espaco + palavra2 + espaco + palavra3 + espaco + palavra4 + espaco + exclamacao\n",
        "print(frase)"
      ]
    },
    {
      "cell_type": "markdown",
      "metadata": {
        "id": "vrut3xQ7s0Ti"
      },
      "source": [
        "#### 7.20 - Tabuada da multiplicação ou divisão\n",
        "\n",
        "* Cria uma variável que irá receber um valor numérico;\n",
        "* Exiba a tabuada da multiplicação do número se o número for par.\n",
        "* Exiba a tabuada da divisão do número se o número for ímpar.\n",
        "\n",
        "EX: numero = 5, o texto exibido será:\n",
        "* 5 / 1 = 5\n",
        "* 5 / 2 = 2.5\n",
        "* 5 / 3 = 1.6666666\n",
        "* 5 / 4 = 1.25\n",
        "* 5 / 5 = 1\n",
        "* 5 / 6 = 0.8333333\n",
        "* 5 / 7 = 0.7142857\n",
        "* 5 / 8 = 0.625\n",
        "* 5 / 9 = 0.5555555\n",
        "* 5 / 10 = 0.5\n",
        "#\n",
        "EX: numero = 6, o texto exibido será:\n",
        "* 6 x 1 = 6\n",
        "* 6 x 2 = 12\n",
        "* 6 x 3 = 18\n",
        "* 6 x 4 = 24\n",
        "* 6 x 5 = 30\n",
        "* 6 x 6 = 36\n",
        "* 6 x 7 = 42\n",
        "* 6 x 8 = 48\n",
        "* 6 x 9 = 54\n",
        "* 6 x 10 = 60\n",
        "#\n",
        "Caso o número seja alterado, os textos e os resultados também devem ser alterados\n",
        "\n",
        "\n"
      ]
    },
    {
      "cell_type": "code",
      "execution_count": 94,
      "metadata": {
        "colab": {
          "base_uri": "https://localhost:8080/"
        },
        "id": "JUSQKysjs0Ti",
        "outputId": "c69a49fb-179a-4b9f-a048-6ec9291a5a2e"
      },
      "outputs": [
        {
          "output_type": "stream",
          "name": "stdout",
          "text": [
            "Tabuada da divisão de 5:\n",
            "5 / 1 = 5.0\n",
            "5 / 2 = 2.5\n",
            "5 / 3 = 1.6666666666666667\n",
            "5 / 4 = 1.25\n",
            "5 / 5 = 1.0\n",
            "5 / 6 = 0.8333333333333334\n",
            "5 / 7 = 0.7142857142857143\n",
            "5 / 8 = 0.625\n",
            "5 / 9 = 0.5555555555555556\n",
            "5 / 10 = 0.5\n"
          ]
        }
      ],
      "source": [
        "numero = 5\n",
        "\n",
        "if numero % 2 == 0:\n",
        "    print(f\"Tabuada da multiplicação de {numero}:\")\n",
        "    for i in range(1, 11):\n",
        "        resultado = numero * i\n",
        "        print(f\"{numero} x {i} = {resultado}\")\n",
        "else:\n",
        "    print(f\"Tabuada da divisão de {numero}:\")\n",
        "    for i in range(1, 11):\n",
        "        resultado = numero / i\n",
        "        print(f\"{numero} / {i} = {resultado}\")"
      ]
    },
    {
      "cell_type": "markdown",
      "metadata": {
        "id": "Yi2j7yQSs0Ti"
      },
      "source": [
        "#### 7.21 - Contar quantos números pares e ímpares existem na lista_varios_numeros:\n",
        "\n",
        "Use um loop for para percorrer os valores da lista, uma condicional para verificar se o número é par e uma variável que recebe mais um valor (um contador) se a condicional for verdadeira"
      ]
    },
    {
      "cell_type": "code",
      "execution_count": 95,
      "metadata": {
        "colab": {
          "base_uri": "https://localhost:8080/"
        },
        "id": "rp85upT3s0Ti",
        "outputId": "404c643f-0f63-4f0c-bdcf-deb86bd0fdab"
      },
      "outputs": [
        {
          "output_type": "stream",
          "name": "stdout",
          "text": [
            "Quantidade de valores pares: 26\n",
            "Quantidade de valores ímpares: 28\n"
          ]
        }
      ],
      "source": [
        "lista_varios_numeros = [11,15,67,34,87,3345,68,654,5489,15,15,158,231,87,6,54,121,\n",
        "                       981,3284981,548,45,56,85,0,1874,1,64,8,1,515,15,15,12,30,330,\n",
        "                       87841,520,1,8,53,1,5,4,78,95610,20,68,76,15,18,15,34,72,15]\n",
        "\n",
        "quantidade_par = 0\n",
        "quantidade_impar = 0\n",
        "\n",
        "for numero in lista_varios_numeros:\n",
        "    if numero % 2 == 0:\n",
        "        quantidade_par += 1\n",
        "    else:\n",
        "        quantidade_impar += 1\n",
        "\n",
        "print(f\"Quantidade de valores pares: {quantidade_par}\")\n",
        "print(f\"Quantidade de valores ímpares: {quantidade_impar}\")"
      ]
    }
  ],
  "metadata": {
    "kernelspec": {
      "display_name": "Python 3.9.7 ('base')",
      "language": "python",
      "name": "python3"
    },
    "language_info": {
      "codemirror_mode": {
        "name": "ipython",
        "version": 3
      },
      "file_extension": ".py",
      "mimetype": "text/x-python",
      "name": "python",
      "nbconvert_exporter": "python",
      "pygments_lexer": "ipython3",
      "version": "3.9.13"
    },
    "orig_nbformat": 4,
    "vscode": {
      "interpreter": {
        "hash": "067f175f07fc265aa8d145419b6335739ee65af91da4abf8cfbfc48bca5c9b8b"
      }
    },
    "colab": {
      "provenance": []
    }
  },
  "nbformat": 4,
  "nbformat_minor": 0
}