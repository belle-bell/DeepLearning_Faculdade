{
  "cells": [
    {
      "cell_type": "markdown",
      "metadata": {
        "id": "d1XjDzTP_8Hp"
      },
      "source": [
        "# Parte 1: Introdução às Funções\n",
        "\n",
        "## 1. Definição e Uso de Funções\n",
        "\n",
        "### Objetivos:\n",
        "- Explicar o que são funções em Python.\n",
        "- Discutir por que as funções são úteis na programação.\n",
        "- Apresentar a estrutura básica de uma função.\n",
        "\n",
        "### Conteúdo:\n",
        "\n",
        "#### A. O que são Funções?\n",
        "- Funções são blocos de código reutilizáveis que são usados para realizar uma tarefa específica.\n",
        "- Elas ajudam a tornar o código mais organizado, legível e permitem a reutilização de código.\n",
        "- Funções podem ser chamadas várias vezes dentro de um programa, potencialmente com diferentes argumentos.\n",
        "\n",
        "#### B. Estrutura Básica de uma Função\n",
        "- **Definição da Função**: Usa-se a palavra-chave `def` seguida pelo nome da função e parênteses `()`.\n",
        "- **Parâmetros da Função**: Variáveis listadas dentro dos parênteses. São os inputs da função.\n",
        "- **Corpo da Função**: Bloco de código onde a tarefa da função é realizada.\n",
        "- **Retorno da Função**: Opcionalmente, funções podem retornar valores usando a palavra-chave `return`.\n",
        "\n",
        "### Exemplo de Código:\n",
        "\n",
        "\n"
      ]
    },
    {
      "cell_type": "code",
      "execution_count": 1,
      "metadata": {
        "colab": {
          "base_uri": "https://localhost:8080/"
        },
        "id": "C53Ggdru_8Hs",
        "outputId": "be8eccad-de06-49fe-87c0-b46be4b8897b"
      },
      "outputs": [
        {
          "output_type": "stream",
          "name": "stdout",
          "text": [
            "Olá, Alice!\n"
          ]
        }
      ],
      "source": [
        "# Exemplo de função em Python\n",
        "\n",
        "# Definindo uma função\n",
        "def saudar(nome):\n",
        "    \"\"\"\n",
        "    Função para saudar uma pessoa.\n",
        "    Parâmetros:\n",
        "    nome (str): Nome da pessoa a ser saudada.\n",
        "    \"\"\"\n",
        "    # Criando uma mensagem de saudação\n",
        "    mensagem = f\"Olá, {nome}!\"\n",
        "    # Retornando a mensagem\n",
        "    return mensagem\n",
        "\n",
        "# Chamando a função e passando um argumento\n",
        "resultado = saudar(\"Alice\")\n",
        "print(resultado)  # Saída esperada: \"Olá, Alice!\""
      ]
    },
    {
      "cell_type": "code",
      "execution_count": 2,
      "metadata": {
        "colab": {
          "base_uri": "https://localhost:8080/"
        },
        "id": "vwh8cSWz_8Hu",
        "outputId": "1c02d162-b924-4008-8703-7e08a7ccd5a5"
      },
      "outputs": [
        {
          "output_type": "stream",
          "name": "stdout",
          "text": [
            "Olá, Pedro!\n"
          ]
        }
      ],
      "source": [
        "# Chamando a função e passando um argumento\n",
        "resultado = saudar(\"Pedro\")\n",
        "print(resultado)  # Saída esperada: \"Olá, Pedro!\""
      ]
    },
    {
      "cell_type": "code",
      "execution_count": 3,
      "metadata": {
        "colab": {
          "base_uri": "https://localhost:8080/"
        },
        "id": "Tqal_OgW_8Hu",
        "outputId": "91dfe3be-a7fb-40c1-c21d-e1c7d433441f"
      },
      "outputs": [
        {
          "output_type": "stream",
          "name": "stdout",
          "text": [
            "Olá, Roberta!\n"
          ]
        }
      ],
      "source": [
        "# Chamando a função e passando um argumento\n",
        "resultado = saudar(\"Roberta\")\n",
        "print(resultado)  # Saída esperada: \"Olá, Roberta!\""
      ]
    },
    {
      "cell_type": "code",
      "execution_count": 4,
      "metadata": {
        "colab": {
          "base_uri": "https://localhost:8080/",
          "height": 159
        },
        "id": "HFhgIFS6_8Hv",
        "outputId": "42a8121b-71c9-4655-dd4c-7a3442966be8"
      },
      "outputs": [
        {
          "output_type": "error",
          "ename": "TypeError",
          "evalue": "saudar() missing 1 required positional argument: 'nome'",
          "traceback": [
            "\u001b[0;31m---------------------------------------------------------------------------\u001b[0m",
            "\u001b[0;31mTypeError\u001b[0m                                 Traceback (most recent call last)",
            "\u001b[0;32m<ipython-input-4-6b6e0b0e8913>\u001b[0m in \u001b[0;36m<cell line: 2>\u001b[0;34m()\u001b[0m\n\u001b[1;32m      1\u001b[0m \u001b[0;31m# Chamando a função sem passar um argumento\u001b[0m\u001b[0;34m\u001b[0m\u001b[0;34m\u001b[0m\u001b[0m\n\u001b[0;32m----> 2\u001b[0;31m \u001b[0mresultado\u001b[0m \u001b[0;34m=\u001b[0m \u001b[0msaudar\u001b[0m\u001b[0;34m(\u001b[0m\u001b[0;34m)\u001b[0m\u001b[0;34m\u001b[0m\u001b[0;34m\u001b[0m\u001b[0m\n\u001b[0m",
            "\u001b[0;31mTypeError\u001b[0m: saudar() missing 1 required positional argument: 'nome'"
          ]
        }
      ],
      "source": [
        "# Chamando a função sem passar um argumento\n",
        "resultado = saudar()"
      ]
    },
    {
      "cell_type": "code",
      "execution_count": 5,
      "metadata": {
        "colab": {
          "base_uri": "https://localhost:8080/"
        },
        "id": "qsJjYD9A_8Hv",
        "outputId": "3058384f-165b-457e-a24e-1699d72f377e"
      },
      "outputs": [
        {
          "output_type": "stream",
          "name": "stdout",
          "text": [
            "8\n"
          ]
        }
      ],
      "source": [
        "# Exemplo de função para somar dois números\n",
        "\n",
        "# Definindo a função\n",
        "def somar(num1, num2):\n",
        "    \"\"\"\n",
        "    Função para somar dois números.\n",
        "    Parâmetros:\n",
        "    num1 (int, float): Primeiro número a ser somado.\n",
        "    num2 (int, float): Segundo número a ser somado.\n",
        "    \"\"\"\n",
        "    # Realizando a soma\n",
        "    resultado = num1 + num2\n",
        "    # Retornando o resultado\n",
        "    return resultado\n",
        "\n",
        "# Chamando a função e passando dois números\n",
        "soma = somar(5, 3)\n",
        "print(soma)  # Saída esperada: 8"
      ]
    },
    {
      "cell_type": "code",
      "execution_count": 6,
      "metadata": {
        "colab": {
          "base_uri": "https://localhost:8080/"
        },
        "id": "SWPLDT-M_8Hv",
        "outputId": "a3141bcf-6a43-4b63-ba1c-37932d0c13dd"
      },
      "outputs": [
        {
          "output_type": "stream",
          "name": "stdout",
          "text": [
            "35\n"
          ]
        }
      ],
      "source": [
        "soma = somar(5, 30)\n",
        "print(soma)  # Saída esperada: 35"
      ]
    },
    {
      "cell_type": "code",
      "execution_count": null,
      "metadata": {
        "id": "DdZRQ6KN_8Hw",
        "outputId": "d8da8460-9a49-48d8-d833-37a37343d3c5"
      },
      "outputs": [
        {
          "ename": "TypeError",
          "evalue": "somar() missing 1 required positional argument: 'num2'",
          "output_type": "error",
          "traceback": [
            "\u001b[1;31m---------------------------------------------------------------------------\u001b[0m",
            "\u001b[1;31mTypeError\u001b[0m                                 Traceback (most recent call last)",
            "\u001b[1;32m~\\AppData\\Local\\Temp\\ipykernel_23964\\1747771620.py\u001b[0m in \u001b[0;36m<module>\u001b[1;34m\u001b[0m\n\u001b[0;32m      1\u001b[0m \u001b[1;31m# Chamar a função sem os parâmetros definidos\u001b[0m\u001b[1;33m\u001b[0m\u001b[1;33m\u001b[0m\u001b[0m\n\u001b[1;32m----> 2\u001b[1;33m \u001b[0msoma\u001b[0m \u001b[1;33m=\u001b[0m \u001b[0msomar\u001b[0m\u001b[1;33m(\u001b[0m\u001b[1;36m5\u001b[0m\u001b[1;33m,\u001b[0m \u001b[1;33m)\u001b[0m\u001b[1;33m\u001b[0m\u001b[1;33m\u001b[0m\u001b[0m\n\u001b[0m\u001b[0;32m      3\u001b[0m \u001b[0mprint\u001b[0m\u001b[1;33m(\u001b[0m\u001b[0msoma\u001b[0m\u001b[1;33m)\u001b[0m  \u001b[1;31m# Saída esperada: 35\u001b[0m\u001b[1;33m\u001b[0m\u001b[1;33m\u001b[0m\u001b[0m\n",
            "\u001b[1;31mTypeError\u001b[0m: somar() missing 1 required positional argument: 'num2'"
          ]
        }
      ],
      "source": [
        "# Chamar a função sem os parâmetros definidos\n",
        "soma = somar(5, )\n",
        "print(soma)  # Saída esperada: 35"
      ]
    },
    {
      "cell_type": "markdown",
      "metadata": {
        "id": "HlS_Q_OG_8Hw"
      },
      "source": [
        "## 3. Parâmetros e Argumentos\n",
        "\n",
        "### Objetivos:\n",
        "- Explicar os tipos de parâmetros em funções: obrigatórios e opcionais.\n",
        "- Clarificar a diferença entre parâmetros e argumentos.\n",
        "\n",
        "### Conteúdo:\n",
        "\n",
        "#### A. Tipos de Parâmetros\n",
        "- **Parâmetros Obrigatórios**: São aqueles que a função espera receber e sem os quais não pode operar corretamente.\n",
        "- **Parâmetros Opcionais**: Frequentemente definidos com valores padrão, que a função usará caso não sejam fornecidos argumentos para eles.\n",
        "\n",
        "#### B. Diferença entre Parâmetros e Argumentos\n",
        "- **Parâmetros** são as variáveis listadas na definição de uma função.\n",
        "- **Argumentos** são os valores reais fornecidos à função quando ela é chamada.\n",
        "\n",
        "### Exemplo de Código:"
      ]
    },
    {
      "cell_type": "code",
      "execution_count": 7,
      "metadata": {
        "colab": {
          "base_uri": "https://localhost:8080/"
        },
        "id": "3DDFMhAm_8Hw",
        "outputId": "f4ca868f-93cb-4c9d-e7e0-f943a8e6b880"
      },
      "outputs": [
        {
          "output_type": "stream",
          "name": "stdout",
          "text": [
            "Meu nome é Alice e tenho 25 anos.\n",
            "Meu nome é Bob e tenho 30 anos.\n"
          ]
        }
      ],
      "source": [
        "# Exemplo de função com parâmetros obrigatórios e opcionais\n",
        "\n",
        "def introduzir(nome, idade=30):\n",
        "    \"\"\"\n",
        "    Função para introduzir uma pessoa, mostrando seu nome e idade.\n",
        "    Parâmetros:\n",
        "    nome (str): Nome da pessoa (obrigatório).\n",
        "    idade (int): Idade da pessoa (opcional, padrão 30).\n",
        "    \"\"\"\n",
        "    # Construindo a mensagem de introdução\n",
        "    mensagem = f\"Meu nome é {nome} e tenho {idade} anos.\"\n",
        "    return mensagem\n",
        "\n",
        "# Chamando a função com ambos os parâmetros\n",
        "print(introduzir(\"Alice\", 25))  # Saída: Meu nome é Alice e tenho 25 anos.\n",
        "\n",
        "# Chamando a função apenas com o parâmetro obrigatório\n",
        "print(introduzir(\"Bob\"))  # Saída: Meu nome é Bob e tenho 30 anos."
      ]
    },
    {
      "cell_type": "code",
      "execution_count": 8,
      "metadata": {
        "colab": {
          "base_uri": "https://localhost:8080/",
          "height": 159
        },
        "id": "Im2qVBUC_8Hx",
        "outputId": "131d203c-2444-4ee1-a8a3-e7d059b0c366"
      },
      "outputs": [
        {
          "output_type": "error",
          "ename": "TypeError",
          "evalue": "introduzir() missing 1 required positional argument: 'nome'",
          "traceback": [
            "\u001b[0;31m---------------------------------------------------------------------------\u001b[0m",
            "\u001b[0;31mTypeError\u001b[0m                                 Traceback (most recent call last)",
            "\u001b[0;32m<ipython-input-8-184eb6467c86>\u001b[0m in \u001b[0;36m<cell line: 2>\u001b[0;34m()\u001b[0m\n\u001b[1;32m      1\u001b[0m \u001b[0;31m# Chamando a função sem parâmetros obrigatório\u001b[0m\u001b[0;34m\u001b[0m\u001b[0;34m\u001b[0m\u001b[0m\n\u001b[0;32m----> 2\u001b[0;31m \u001b[0mintroduzir\u001b[0m\u001b[0;34m(\u001b[0m\u001b[0;34m)\u001b[0m\u001b[0;34m\u001b[0m\u001b[0;34m\u001b[0m\u001b[0m\n\u001b[0m",
            "\u001b[0;31mTypeError\u001b[0m: introduzir() missing 1 required positional argument: 'nome'"
          ]
        }
      ],
      "source": [
        "# Chamando a função sem parâmetros obrigatório\n",
        "introduzir()"
      ]
    },
    {
      "cell_type": "code",
      "execution_count": null,
      "metadata": {
        "id": "I6NScD1a_8Hx"
      },
      "outputs": [],
      "source": []
    },
    {
      "cell_type": "markdown",
      "metadata": {
        "id": "gZBZCUpM_8Hy"
      },
      "source": [
        "# Parte 2: Aprofundamento em Funções\n",
        "\n",
        "## 1. Escopo de Variáveis\n",
        "\n",
        "### Objetivos:\n",
        "- Ensinar o conceito de escopo de variáveis em Python.\n",
        "- Diferenciar entre variáveis locais e globais.\n",
        "- Discutir boas práticas no uso de variáveis em funções.\n",
        "\n",
        "### Conteúdo:\n",
        "\n",
        "#### A. Variáveis Locais e Globais\n",
        "- **Variáveis Locais**: Variáveis definidas dentro de uma função, acessíveis apenas dentro dessa função.\n",
        "- **Variáveis Globais**: Variáveis definidas fora de qualquer função, acessíveis em qualquer parte do código.\n",
        "\n",
        "#### B. Boas Práticas no Uso de Variáveis\n",
        "- Evitar o uso excessivo de variáveis globais, pois podem levar a erros difíceis de rastrear.\n",
        "- Preferir variáveis locais para manter o código mais claro e modular.\n",
        "\n",
        "### Exemplo de Código:"
      ]
    },
    {
      "cell_type": "code",
      "execution_count": 9,
      "metadata": {
        "colab": {
          "base_uri": "https://localhost:8080/"
        },
        "id": "IfDN0Wty_8Hy",
        "outputId": "c024cc92-3f11-4ea2-f0e6-3ceb21546d96"
      },
      "outputs": [
        {
          "output_type": "stream",
          "name": "stdout",
          "text": [
            "50\n"
          ]
        }
      ],
      "source": [
        "# Exemplo demonstrando escopo local e global de variáveis\n",
        "\n",
        "# Variável global\n",
        "numero = 10  # Esta variável é global e pode ser acessada em qualquer parte do código\n",
        "\n",
        "def multiplicar(valor):\n",
        "    # Variável local\n",
        "    result = numero * valor  # 'result' é uma variável local, acessível apenas dentro desta função\n",
        "    return result\n",
        "\n",
        "# Chamando a função e imprimindo o resultado\n",
        "print(multiplicar(5))  # Saída esperada: 50"
      ]
    },
    {
      "cell_type": "code",
      "execution_count": 10,
      "metadata": {
        "colab": {
          "base_uri": "https://localhost:8080/"
        },
        "id": "nhQCHgCz_8Hy",
        "outputId": "fb492c62-a4a2-48ee-ca0a-ac6ca5f7f64f"
      },
      "outputs": [
        {
          "output_type": "execute_result",
          "data": {
            "text/plain": [
              "10"
            ]
          },
          "metadata": {},
          "execution_count": 10
        }
      ],
      "source": [
        "numero"
      ]
    },
    {
      "cell_type": "code",
      "execution_count": 11,
      "metadata": {
        "colab": {
          "base_uri": "https://localhost:8080/",
          "height": 159
        },
        "id": "v0WwUids_8Hy",
        "outputId": "69e27314-5aea-4534-d436-7e7d5829cabc"
      },
      "outputs": [
        {
          "output_type": "error",
          "ename": "NameError",
          "evalue": "name 'result' is not defined",
          "traceback": [
            "\u001b[0;31m---------------------------------------------------------------------------\u001b[0m",
            "\u001b[0;31mNameError\u001b[0m                                 Traceback (most recent call last)",
            "\u001b[0;32m<ipython-input-11-ef53a7f023cf>\u001b[0m in \u001b[0;36m<cell line: 2>\u001b[0;34m()\u001b[0m\n\u001b[1;32m      1\u001b[0m \u001b[0;31m# Tentativa de acessar a variável local fora da função resultará em erro\u001b[0m\u001b[0;34m\u001b[0m\u001b[0;34m\u001b[0m\u001b[0m\n\u001b[0;32m----> 2\u001b[0;31m \u001b[0mprint\u001b[0m\u001b[0;34m(\u001b[0m\u001b[0mresult\u001b[0m\u001b[0;34m)\u001b[0m  \u001b[0;31m# Isso causará um erro porque 'resultado' é local para a função multiplicar\u001b[0m\u001b[0;34m\u001b[0m\u001b[0;34m\u001b[0m\u001b[0m\n\u001b[0m",
            "\u001b[0;31mNameError\u001b[0m: name 'result' is not defined"
          ]
        }
      ],
      "source": [
        "# Tentativa de acessar a variável local fora da função resultará em erro\n",
        "print(result)  # Isso causará um erro porque 'resultado' é local para a função multiplicar"
      ]
    },
    {
      "cell_type": "markdown",
      "metadata": {
        "id": "KXoRhqol_8Hz"
      },
      "source": [
        "# Parte 2: Aprofundamento em Funções\n",
        "\n",
        "## 2. Valores de Retorno\n",
        "\n",
        "### Objetivos:\n",
        "- Ensinar como as funções podem retornar valores.\n",
        "- Explicar o uso de `return` para retornar valores simples e múltiplos.\n",
        "- Discutir como `return` também pode ser usado para encerrar a execução de uma função.\n",
        "\n",
        "### Conteúdo:\n",
        "\n",
        "#### A. Retorno de Valores Simples\n",
        "- Uma função pode retornar um único valor usando a palavra-chave `return`.\n",
        "\n",
        "#### B. Retorno de Múltiplos Valores\n",
        "- Uma função pode retornar vários valores, geralmente na forma de uma tupla.\n",
        "\n",
        "#### C. Uso de `return` para Encerrar a Função\n",
        "- A palavra-chave `return` também pode ser usada para sair de uma função, encerrando sua execução.\n",
        "\n",
        "### Exemplo de Código:"
      ]
    },
    {
      "cell_type": "code",
      "execution_count": 12,
      "metadata": {
        "colab": {
          "base_uri": "https://localhost:8080/"
        },
        "id": "VcNCAhp1_8Hz",
        "outputId": "42a81b5f-ce56-433c-a9aa-43d36994789f"
      },
      "outputs": [
        {
          "output_type": "stream",
          "name": "stdout",
          "text": [
            "Soma: 15, Multiplicação: 50\n"
          ]
        }
      ],
      "source": [
        "# Exemplo de função com valores de retorno simples e múltiplos\n",
        "\n",
        "def calcular_operacoes(a, b):\n",
        "    \"\"\"\n",
        "    Função para calcular a soma e multiplicação de dois números.\n",
        "    Parâmetros:\n",
        "    a (int, float): Primeiro número.\n",
        "    b (int, float): Segundo número.\n",
        "\n",
        "    Retorna:\n",
        "    soma (int, float): Soma de a e b.\n",
        "    multiplicacao (int, float): Multiplicação de a e b.\n",
        "    \"\"\"\n",
        "    soma = a + b\n",
        "    multiplicacao = a * b\n",
        "    # Retornando múltiplos valores\n",
        "    return soma, multiplicacao\n",
        "\n",
        "# Chamando a função e desempacotando os valores retornados\n",
        "soma_resultado, multiplicacao_resultado = calcular_operacoes(10, 5)\n",
        "print(f\"Soma: {soma_resultado}, Multiplicação: {multiplicacao_resultado}\")\n",
        "# Saída esperada: Soma: 15, Multiplicação: 50"
      ]
    },
    {
      "cell_type": "markdown",
      "metadata": {
        "id": "yMdenXf0_8Hz"
      },
      "source": [
        "# Parte 2: Aprofundamento em Funções\n",
        "\n",
        "## 3. Funções como Objetos de Primeira Classe\n",
        "\n",
        "### Objetivos:\n",
        "- Ensinar como funções podem ser tratadas como objetos de primeira classe em Python.\n",
        "- Mostrar como atribuir funções a variáveis.\n",
        "- Explicar como passar funções como argumentos para outras funções.\n",
        "\n",
        "### Conteúdo:\n",
        "\n",
        "#### A. Atribuição de Funções a Variáveis\n",
        "- Em Python, funções são objetos e podem ser atribuídas a variáveis.\n",
        "\n",
        "#### B. Passagem de Funções como Argumentos\n",
        "- Funções podem ser passadas como argumentos para outras funções.\n",
        "\n",
        "### Exemplo de Código:"
      ]
    },
    {
      "cell_type": "code",
      "execution_count": 13,
      "metadata": {
        "colab": {
          "base_uri": "https://localhost:8080/"
        },
        "id": "_Nmzby2d_8H0",
        "outputId": "df76ec5d-c5d7-48d6-8736-ab746f1dcfc2"
      },
      "outputs": [
        {
          "output_type": "stream",
          "name": "stdout",
          "text": [
            "Olá, Alice!\n"
          ]
        }
      ],
      "source": [
        "# Exemplo de funções como objetos de primeira classe\n",
        "\n",
        "# Definindo uma função simples\n",
        "def saudar(nome):\n",
        "    return f\"Olá, {nome}!\"\n",
        "\n",
        "# Atribuindo a função a uma variável\n",
        "funcao_saudar = saudar\n",
        "# Chamando a função através da variável\n",
        "print(funcao_saudar(\"Alice\"))  # Saída: Olá, Alice!"
      ]
    },
    {
      "cell_type": "code",
      "execution_count": 14,
      "metadata": {
        "colab": {
          "base_uri": "https://localhost:8080/",
          "height": 35
        },
        "id": "pt-ja6zD_8H0",
        "outputId": "2159f5d3-1f74-48df-a0cb-7fa8a3be252e"
      },
      "outputs": [
        {
          "output_type": "execute_result",
          "data": {
            "text/plain": [
              "'Olá, Alice!'"
            ],
            "application/vnd.google.colaboratory.intrinsic+json": {
              "type": "string"
            }
          },
          "metadata": {},
          "execution_count": 14
        }
      ],
      "source": [
        "funcao_saudar(\"Alice\")"
      ]
    },
    {
      "cell_type": "code",
      "execution_count": 15,
      "metadata": {
        "colab": {
          "base_uri": "https://localhost:8080/"
        },
        "id": "S_gSYavz_8H0",
        "outputId": "1643720f-f887-4fd0-e958-664fb58b861f"
      },
      "outputs": [
        {
          "output_type": "stream",
          "name": "stdout",
          "text": [
            "Olá, Alice!\n"
          ]
        }
      ],
      "source": [
        "print(funcao_saudar(\"Alice\"))"
      ]
    },
    {
      "cell_type": "code",
      "execution_count": 16,
      "metadata": {
        "colab": {
          "base_uri": "https://localhost:8080/"
        },
        "id": "fmODhxiN_8H0",
        "outputId": "34fc59b9-bb9a-480a-d5c1-bcd4c22c94cf"
      },
      "outputs": [
        {
          "output_type": "stream",
          "name": "stdout",
          "text": [
            "Olá, Bob!\n"
          ]
        }
      ],
      "source": [
        "# Definindo uma função que aceita outra função como argumento\n",
        "def executar_funcao(funcao, argumento):\n",
        "    return funcao(argumento)\n",
        "\n",
        "# Passando a função 'saudar' como argumento\n",
        "resultado = executar_funcao(saudar, \"Bob\")\n",
        "print(resultado)  # Saída: Olá, Bob!"
      ]
    },
    {
      "cell_type": "markdown",
      "metadata": {
        "id": "ma3kK4XG_8H0"
      },
      "source": [
        "# Exercícios de Python - Funções e Exceções\n"
      ]
    },
    {
      "cell_type": "markdown",
      "metadata": {
        "id": "4Wx2p5jf_8H0"
      },
      "source": [
        "\n",
        "## Definição e Uso de Funções\n",
        "1. Escreva uma função `greet` que imprima \"Olá, Mundo!\".\n",
        "2. Crie uma função `add` que some dois números e retorne o resultado.\n"
      ]
    },
    {
      "cell_type": "code",
      "execution_count": 21,
      "metadata": {
        "colab": {
          "base_uri": "https://localhost:8080/"
        },
        "id": "VXLvlD3x_8H1",
        "outputId": "ab2eb2c5-3425-4374-9be3-8ea96def7836"
      },
      "outputs": [
        {
          "output_type": "stream",
          "name": "stdout",
          "text": [
            "Olá, Mundo!\n"
          ]
        }
      ],
      "source": [
        "def greet():\n",
        "  return \"Olá, Mundo!\"\n",
        "\n",
        "\n",
        "\n",
        "print(greet())"
      ]
    },
    {
      "cell_type": "code",
      "execution_count": 22,
      "metadata": {
        "colab": {
          "base_uri": "https://localhost:8080/"
        },
        "id": "2LcJEUQX_8H1",
        "outputId": "eb6788dd-851c-48b2-b722-12938fdc0847"
      },
      "outputs": [
        {
          "output_type": "stream",
          "name": "stdout",
          "text": [
            "7\n"
          ]
        }
      ],
      "source": [
        "def add(n1, n2):\n",
        "  soma = n1+ n2\n",
        "  return soma\n",
        "\n",
        "print(add(3, 4))"
      ]
    },
    {
      "cell_type": "markdown",
      "metadata": {
        "id": "TUsw-f-G_8H1"
      },
      "source": [
        "\n",
        "## Exemplos Básicos\n",
        "3. Desenvolva uma função `subtract` que subtraia dois números.\n",
        "4. Implemente uma função `multiply` que multiplique dois números e imprima o resultado.\n"
      ]
    },
    {
      "cell_type": "code",
      "execution_count": 23,
      "metadata": {
        "colab": {
          "base_uri": "https://localhost:8080/"
        },
        "id": "xfgM3Xx5_8H1",
        "outputId": "756d69d7-1551-4265-943b-d3cd80d2096d"
      },
      "outputs": [
        {
          "output_type": "stream",
          "name": "stdout",
          "text": [
            "2\n"
          ]
        }
      ],
      "source": [
        "def subtract(n1, n2):\n",
        "  subtra = n1 - n2\n",
        "  return subtra\n",
        "\n",
        "print(subtract(4, 2))"
      ]
    },
    {
      "cell_type": "code",
      "execution_count": 24,
      "metadata": {
        "colab": {
          "base_uri": "https://localhost:8080/"
        },
        "id": "309fmlo5_8H1",
        "outputId": "b85b476c-f594-46af-824c-5557c89aa5fe"
      },
      "outputs": [
        {
          "output_type": "stream",
          "name": "stdout",
          "text": [
            "12\n"
          ]
        }
      ],
      "source": [
        "def multiply(n1, n2):\n",
        "  multiplica = n1 * n2\n",
        "  return multiplica\n",
        "\n",
        "print(multiply(3, 4))"
      ]
    },
    {
      "cell_type": "markdown",
      "metadata": {
        "id": "nwyxDvlC_8H1"
      },
      "source": [
        "\n",
        "## Parâmetros e Argumentos\n",
        "5. Crie uma função `power` que aceite um número e seu expoente como parâmetros.\n",
        "6. Escreva uma função `greet_person` que aceite um nome como parâmetro e imprima uma saudação.\n"
      ]
    },
    {
      "cell_type": "code",
      "execution_count": 25,
      "metadata": {
        "colab": {
          "base_uri": "https://localhost:8080/"
        },
        "id": "KWrtBwOG_8H1",
        "outputId": "e34061d2-61ab-4b37-8a2c-083aa85120a9"
      },
      "outputs": [
        {
          "output_type": "stream",
          "name": "stdout",
          "text": [
            "9\n"
          ]
        }
      ],
      "source": [
        "def power(base, exp):\n",
        "    return base ** exp\n",
        "\n",
        "print(power(3, 2))"
      ]
    },
    {
      "cell_type": "code",
      "execution_count": 26,
      "metadata": {
        "colab": {
          "base_uri": "https://localhost:8080/"
        },
        "id": "HRFgXXL__8H2",
        "outputId": "ba727d78-2d77-4b30-9bca-c5889053c111"
      },
      "outputs": [
        {
          "output_type": "stream",
          "name": "stdout",
          "text": [
            "Bom dia, Maria!\n"
          ]
        }
      ],
      "source": [
        "def greet_person(nome):\n",
        "  return f'Bom dia, {nome}!'\n",
        "\n",
        "print(greet_person(\"Maria\"))"
      ]
    },
    {
      "cell_type": "markdown",
      "metadata": {
        "id": "LWhuEC28_8H2"
      },
      "source": [
        "\n",
        "## Escopo de Variáveis\n",
        "7. Demonstre uma função que modifique uma variável global.\n",
        "8. Crie uma função com uma variável local e imprima seu valor.\n"
      ]
    },
    {
      "cell_type": "code",
      "execution_count": 27,
      "metadata": {
        "colab": {
          "base_uri": "https://localhost:8080/"
        },
        "id": "-OqmTfDL_8H2",
        "outputId": "9b386581-fab8-416a-d787-607dd2581004"
      },
      "outputs": [
        {
          "output_type": "stream",
          "name": "stdout",
          "text": [
            "Antes: 0\n",
            "Depois: 1\n"
          ]
        }
      ],
      "source": [
        "contador = 0\n",
        "\n",
        "def incrementar_contador():\n",
        "    global contador\n",
        "    contador += 1\n",
        "\n",
        "print(\"Antes:\", contador)\n",
        "incrementar_contador()\n",
        "print(\"Depois:\", contador)"
      ]
    },
    {
      "cell_type": "code",
      "execution_count": 28,
      "metadata": {
        "colab": {
          "base_uri": "https://localhost:8080/"
        },
        "id": "k3-gJpYn_8H2",
        "outputId": "3571e1f0-d69f-48c1-f40f-70916237f72f"
      },
      "outputs": [
        {
          "output_type": "stream",
          "name": "stdout",
          "text": [
            "Esta é uma variável local.\n"
          ]
        }
      ],
      "source": [
        "def exibir_variavel_local():\n",
        "    mensagem = \"Esta é uma variável local.\"\n",
        "    print(mensagem)\n",
        "\n",
        "\n",
        "exibir_variavel_local()"
      ]
    },
    {
      "cell_type": "markdown",
      "metadata": {
        "id": "GbWcgKRO_8H2"
      },
      "source": [
        "\n",
        "## Valores de Retorno\n",
        "9. Escreva uma função `divide` que divida dois números e retorne o resultado.\n",
        "10. Implemente uma função `stats` que retorne a soma, média, e o produto de uma lista de números.\n"
      ]
    },
    {
      "cell_type": "code",
      "execution_count": 29,
      "metadata": {
        "colab": {
          "base_uri": "https://localhost:8080/"
        },
        "id": "6fgx0Ell_8H3",
        "outputId": "7d252a8a-2dd2-446a-e11d-c3271a243ea3"
      },
      "outputs": [
        {
          "output_type": "stream",
          "name": "stdout",
          "text": [
            "10.0\n"
          ]
        }
      ],
      "source": [
        "def divide(dividendo, divisor):\n",
        "  return dividendo / divisor\n",
        "\n",
        "print(divide(100, 10))"
      ]
    },
    {
      "cell_type": "code",
      "execution_count": 30,
      "metadata": {
        "colab": {
          "base_uri": "https://localhost:8080/"
        },
        "id": "bVcbv2Wb_8H3",
        "outputId": "bb21a1fe-64a7-4d70-9523-79ead6c66291"
      },
      "outputs": [
        {
          "output_type": "stream",
          "name": "stdout",
          "text": [
            "Soma: 9, Média: 3.0, Produto: 24\n"
          ]
        }
      ],
      "source": [
        "def stats(numeros):\n",
        "    soma = sum(numeros)\n",
        "    media = soma / len(numeros) if len(numeros) > 0 else 0\n",
        "    produto = 1\n",
        "    for num in numeros:\n",
        "        produto *= num\n",
        "    return soma, media, produto\n",
        "\n",
        "numeros = [2, 3, 4]\n",
        "soma, media, produto = stats(numeros)\n",
        "print(f\"Soma: {soma}, Média: {media}, Produto: {produto}\")\n",
        ""
      ]
    },
    {
      "cell_type": "markdown",
      "metadata": {
        "id": "wnqNZANg_8H-"
      },
      "source": [
        "\n",
        "## Funções como Objetos de Primeira Classe\n",
        "11. Atribua a função `add` a uma variável e chame-a através dessa variável.\n",
        "12. Escreva uma função `apply` que receba uma função e um valor, e aplique a função ao valor.\n"
      ]
    },
    {
      "cell_type": "code",
      "execution_count": 31,
      "metadata": {
        "colab": {
          "base_uri": "https://localhost:8080/"
        },
        "id": "sh9L4tlu_8H-",
        "outputId": "2389010d-7c57-4215-da94-9de7e1df2ee6"
      },
      "outputs": [
        {
          "output_type": "stream",
          "name": "stdout",
          "text": [
            "8\n"
          ]
        }
      ],
      "source": [
        "def add(a, b):\n",
        "    return a + b\n",
        "\n",
        "soma = add\n",
        "\n",
        "resultado = soma(5, 3)\n",
        "print(resultado)"
      ]
    },
    {
      "cell_type": "code",
      "execution_count": 32,
      "metadata": {
        "colab": {
          "base_uri": "https://localhost:8080/"
        },
        "id": "rgIj_Xmw_8H-",
        "outputId": "95583e77-8002-4033-eb86-ba30b91f29b2"
      },
      "outputs": [
        {
          "output_type": "stream",
          "name": "stdout",
          "text": [
            "25\n"
          ]
        }
      ],
      "source": [
        "def apply(func, valor):\n",
        "    return func(valor)\n",
        "\n",
        "def quadrado(x):\n",
        "    return x ** 2\n",
        "\n",
        "resultado = apply(quadrado, 5)\n",
        "print(resultado)"
      ]
    },
    {
      "cell_type": "markdown",
      "metadata": {
        "id": "nEAzjwIF_8H-"
      },
      "source": [
        "\n",
        "## Exceções\n",
        "13. Crie uma função que lance uma exceção `ValueError` e a capture.\n",
        "14. Desenvolva uma função que lance e capture uma exceção `TypeError`.\n"
      ]
    },
    {
      "cell_type": "code",
      "execution_count": 33,
      "metadata": {
        "colab": {
          "base_uri": "https://localhost:8080/"
        },
        "id": "s9fopVvp_8H_",
        "outputId": "cd28c886-78fa-4c54-94fe-0857f7a244d8"
      },
      "outputs": [
        {
          "output_type": "stream",
          "name": "stdout",
          "text": [
            "Erro capturado: Divisão por zero não é permitida!\n"
          ]
        }
      ],
      "source": [
        "def divisao(a, b):\n",
        "    try:\n",
        "        if b == 0:\n",
        "            raise ValueError(\"Divisão por zero não é permitida!\")\n",
        "        return a / b\n",
        "    except ValueError as e:\n",
        "        print(f\"Erro capturado: {e}\")\n",
        "\n",
        "resultado = divisao(10, 0)"
      ]
    },
    {
      "cell_type": "code",
      "execution_count": 34,
      "metadata": {
        "colab": {
          "base_uri": "https://localhost:8080/"
        },
        "id": "Qcr2DJMU_8H_",
        "outputId": "7eae7859-8f4f-4e8c-d2c7-e30f425ae91a"
      },
      "outputs": [
        {
          "output_type": "stream",
          "name": "stdout",
          "text": [
            "Erro capturado: Ambos os parâmetros devem ser strings!\n"
          ]
        }
      ],
      "source": [
        "def concatenar_strings(s1, s2):\n",
        "    try:\n",
        "        if not isinstance(s1, str) or not isinstance(s2, str):\n",
        "            raise TypeError(\"Ambos os parâmetros devem ser strings!\")\n",
        "        return s1 + s2\n",
        "    except TypeError as e:\n",
        "        print(f\"Erro capturado: {e}\")\n",
        "\n",
        "resultado = concatenar_strings(\"Olá, \", 123)"
      ]
    },
    {
      "cell_type": "markdown",
      "metadata": {
        "id": "yFegODxb_8H_"
      },
      "source": [
        "\n",
        "## Exercícios Adicionais\n",
        "15. Escreva uma função que aceite um número variável de argumentos e retorne a soma.\n",
        "16. Implemente uma função `is_positive` que verifique se um número é positivo.\n",
        "17. Crie uma função `print_args` que imprima todos os argumentos recebidos.\n",
        "18. Desenvolva uma função `make_full_name` que aceite nome e sobrenome e retorne o nome completo.\n",
        "19. Escreva uma função que use `return` para terminar prematuramente se receber um número negativo.\n",
        "20. Crie uma função `apply_discount` que aplique um desconto a um preço e retorne o preço com desconto.\n"
      ]
    },
    {
      "cell_type": "code",
      "execution_count": 36,
      "metadata": {
        "colab": {
          "base_uri": "https://localhost:8080/"
        },
        "id": "_LMjt9W7_8H_",
        "outputId": "efa707bc-b18e-4afa-b894-1dfbf765a0c9"
      },
      "outputs": [
        {
          "output_type": "stream",
          "name": "stdout",
          "text": [
            "Soma: 15\n"
          ]
        }
      ],
      "source": [
        "def soma_varios(*args):\n",
        "    return sum(args)\n",
        "\n",
        "resultado = soma_varios(1, 2, 3, 4, 5)\n",
        "print(f\"Soma: {resultado}\")"
      ]
    },
    {
      "cell_type": "code",
      "execution_count": 35,
      "metadata": {
        "colab": {
          "base_uri": "https://localhost:8080/"
        },
        "id": "OKZ0X-wA_8H_",
        "outputId": "d6d50ba2-4213-457e-d5dd-e6c3f296b16d"
      },
      "outputs": [
        {
          "output_type": "stream",
          "name": "stdout",
          "text": [
            "O número é positivo? True\n",
            "O número é positivo? False\n"
          ]
        }
      ],
      "source": [
        "def is_positive(numero):\n",
        "    return numero > 0\n",
        "\n",
        "resultado = is_positive(10)\n",
        "print(f\"O número é positivo? {resultado}\")\n",
        "\n",
        "resultado = is_positive(-5)\n",
        "print(f\"O número é positivo? {resultado}\")"
      ]
    },
    {
      "cell_type": "code",
      "execution_count": 37,
      "metadata": {
        "colab": {
          "base_uri": "https://localhost:8080/"
        },
        "id": "czyJpDiu_8IA",
        "outputId": "bbb49402-9b66-40c1-c708-4c756dcb512a"
      },
      "outputs": [
        {
          "output_type": "stream",
          "name": "stdout",
          "text": [
            "Olá\n",
            "42\n",
            "3.14\n",
            "[1, 2, 3]\n",
            "{'chave': 'valor'}\n"
          ]
        }
      ],
      "source": [
        "def print_args(*args):\n",
        "    for arg in args:\n",
        "        print(arg)\n",
        "\n",
        "print_args(\"Olá\", 42, 3.14, [1, 2, 3], {\"chave\": \"valor\"})"
      ]
    },
    {
      "cell_type": "code",
      "execution_count": 38,
      "metadata": {
        "colab": {
          "base_uri": "https://localhost:8080/"
        },
        "id": "yz7VW2hG_8IA",
        "outputId": "b76a45ed-3bda-450a-fc19-b34e1bd6029e"
      },
      "outputs": [
        {
          "output_type": "stream",
          "name": "stdout",
          "text": [
            "Maria Silva\n"
          ]
        }
      ],
      "source": [
        "def make_full_name(nome, sobrenome):\n",
        "    return f\"{nome} {sobrenome}\"\n",
        "\n",
        "nome_completo = make_full_name(\"Maria\", \"Silva\")\n",
        "print(nome_completo)"
      ]
    },
    {
      "cell_type": "code",
      "source": [
        "def processar_numero(numero):\n",
        "    if numero < 0:\n",
        "        return \"Número negativo recebido, encerrando a função.\"\n",
        "\n",
        "    resultado = numero ** 2\n",
        "    return f\"O quadrado de {numero} é {resultado}.\"\n",
        "\n",
        "\n",
        "print(processar_numero(5))\n",
        "print(processar_numero(-3))"
      ],
      "metadata": {
        "colab": {
          "base_uri": "https://localhost:8080/"
        },
        "id": "-RCJxLv7erkt",
        "outputId": "c62773fa-6a9e-4a75-95de-05dc41911d29"
      },
      "execution_count": 39,
      "outputs": [
        {
          "output_type": "stream",
          "name": "stdout",
          "text": [
            "O quadrado de 5 é 25.\n",
            "Número negativo recebido, encerrando a função.\n"
          ]
        }
      ]
    },
    {
      "cell_type": "code",
      "source": [
        "def apply_discount(preco, desconto):\n",
        "    if not (0 <= desconto <= 100):\n",
        "        return \"O desconto deve estar entre 0 e 100.\"\n",
        "\n",
        "    preco_com_desconto = preco - (preco * (desconto / 100))\n",
        "    return preco_com_desconto\n",
        "\n",
        "preco_original = 150.00\n",
        "desconto = 20\n",
        "preco_final = apply_discount(preco_original, desconto)\n",
        "print(f\"Preço com desconto: R${preco_final:.2f}\")"
      ],
      "metadata": {
        "colab": {
          "base_uri": "https://localhost:8080/"
        },
        "id": "YHzw0elMe0G3",
        "outputId": "e921c095-3ebe-419d-ec7f-baa721a0f23b"
      },
      "execution_count": 40,
      "outputs": [
        {
          "output_type": "stream",
          "name": "stdout",
          "text": [
            "Preço com desconto: R$120.00\n"
          ]
        }
      ]
    }
  ],
  "metadata": {
    "kernelspec": {
      "display_name": "base",
      "language": "python",
      "name": "python3"
    },
    "language_info": {
      "codemirror_mode": {
        "name": "ipython",
        "version": 3
      },
      "file_extension": ".py",
      "mimetype": "text/x-python",
      "name": "python",
      "nbconvert_exporter": "python",
      "pygments_lexer": "ipython3",
      "version": "3.9.13"
    },
    "colab": {
      "provenance": []
    }
  },
  "nbformat": 4,
  "nbformat_minor": 0
}