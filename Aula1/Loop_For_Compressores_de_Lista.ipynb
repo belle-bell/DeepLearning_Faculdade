{
  "cells": [
    {
      "cell_type": "markdown",
      "metadata": {
        "id": "LXt_q15Ijc_W"
      },
      "source": [
        "# Introdução aos Compressores de Lista\n",
        "\n",
        "## 1. Conceito de Compressores de Lista\n",
        "### Objetivos:\n",
        "- Explicar o que são compressores de lista (list comprehensions) em Python e por que são úteis.\n",
        "- Comparar compressores de lista com loops tradicionais para demonstrar sua eficiência e legibilidade.\n",
        "\n",
        "### Conteúdo:\n",
        "\n",
        "#### A. O que são Compressores de Lista\n",
        "- Compressores de lista são uma forma concisa de criar listas em Python.\n",
        "- Eles permitem gerar novas listas aplicando uma expressão a cada item em uma sequência ou iterável.\n",
        "\n",
        "#### B. Comparação com Loops Tradicionais\n",
        "- Compressores de lista são geralmente mais concisos e legíveis do que loops tradicionais.\n",
        "- Eles podem substituir loops for e certas funções de map/filter.\n",
        "\n",
        "### Exemplo de Código:"
      ]
    },
    {
      "cell_type": "code",
      "execution_count": 1,
      "metadata": {
        "colab": {
          "base_uri": "https://localhost:8080/"
        },
        "id": "c1guAInKjc_b",
        "outputId": "07c3b917-a783-4c74-d4d3-d0877e16d1f2"
      },
      "outputs": [
        {
          "output_type": "stream",
          "name": "stdout",
          "text": [
            "[0, 1, 4, 9, 16, 25, 36, 49, 64, 81]\n"
          ]
        }
      ],
      "source": [
        "# Usando um loop for tradicional\n",
        "quadrados = []\n",
        "for i in range(10):\n",
        "    quadrados.append(i * i)\n",
        "\n",
        "print(quadrados)  # Saída: [0, 1, 4, 9, 16, 25, 36, 49, 64, 81]"
      ]
    },
    {
      "cell_type": "code",
      "execution_count": 2,
      "metadata": {
        "colab": {
          "base_uri": "https://localhost:8080/"
        },
        "id": "bE1QY-pqjc_d",
        "outputId": "f5cdcf15-0937-4c16-b091-c146cbccd58d"
      },
      "outputs": [
        {
          "output_type": "stream",
          "name": "stdout",
          "text": [
            "[0, 1, 4, 9, 16, 25, 36, 49, 64, 81]\n"
          ]
        }
      ],
      "source": [
        "# Usando um compressor de lista\n",
        "quadrados_compreensao = [i * i for i in range(10)]\n",
        "\n",
        "print(quadrados_compreensao)  # Saída: [0, 1, 4, 9, 16, 25, 36, 49, 64, 81]"
      ]
    },
    {
      "cell_type": "markdown",
      "metadata": {
        "id": "tlQEpeIqjc_d"
      },
      "source": [
        "# Introdução aos Compressores de Lista\n",
        "\n",
        "## 2. Estrutura Básica\n",
        "\n",
        "### Objetivos:\n",
        "- Explicar a sintaxe básica dos compressores de lista em Python.\n",
        "- Fornecer exemplos básicos de compressores de lista para criar listas simples.\n",
        "\n",
        "### Conteúdo:\n",
        "\n",
        "#### A. Sintaxe dos Compressores de Lista\n",
        "- Compressores de lista são uma forma compacta de criar listas.\n",
        "- Sua sintaxe básica inclui uma expressão seguida de um ou mais `for` ou `if`.\n",
        "\n",
        "#### B. Exemplos Básicos de Compressores de Lista\n",
        "- Demonstração de como criar listas simples usando compressores de lista.\n",
        "\n",
        "### Exemplo de Código:"
      ]
    },
    {
      "cell_type": "code",
      "execution_count": 3,
      "metadata": {
        "colab": {
          "base_uri": "https://localhost:8080/"
        },
        "id": "pAh1ELbqjc_d",
        "outputId": "ec9d08c1-9483-495b-bca8-e2d3802116ab"
      },
      "outputs": [
        {
          "output_type": "stream",
          "name": "stdout",
          "text": [
            "[0, 1, 4, 9, 16, 25, 36, 49, 64, 81]\n"
          ]
        }
      ],
      "source": [
        "# Exemplo de compressores de lista para criar listas simples\n",
        "\n",
        "# Criando uma lista de quadrados de números de 0 a 9\n",
        "quadrados = [i ** 2 for i in range(10)]\n",
        "print(quadrados)  # Saída: [0, 1, 4, 9, 16, 25, 36, 49, 64, 81]"
      ]
    },
    {
      "cell_type": "code",
      "execution_count": 4,
      "metadata": {
        "colab": {
          "base_uri": "https://localhost:8080/"
        },
        "id": "c1JTyN4ijc_e",
        "outputId": "05ba0e0d-5595-427a-c9e9-d48db18225a1"
      },
      "outputs": [
        {
          "output_type": "stream",
          "name": "stdout",
          "text": [
            "['Olá, Alice!', 'Olá, Bob!', 'Olá, Charlie!']\n"
          ]
        }
      ],
      "source": [
        "# Criando uma lista de strings formatadas\n",
        "nomes = ['Alice', 'Bob', 'Charlie']\n",
        "saudacoes = [f'Olá, {nome}!' for nome in nomes]\n",
        "print(saudacoes)  # Saída: ['Olá, Alice!', 'Olá, Bob!', 'Olá, Charlie!']"
      ]
    },
    {
      "cell_type": "code",
      "execution_count": 5,
      "metadata": {
        "colab": {
          "base_uri": "https://localhost:8080/"
        },
        "id": "4WPkdfY6jc_e",
        "outputId": "a6a175e4-e5b6-460b-f21b-1253c13e0ac0"
      },
      "outputs": [
        {
          "output_type": "stream",
          "name": "stdout",
          "text": [
            "[0, 2, 4, 6, 8]\n"
          ]
        }
      ],
      "source": [
        "# Utilizando uma condição dentro de um compressor de lista\n",
        "pares = [x for x in range(10) if x % 2 == 0]\n",
        "\n",
        "print(pares)  # Saída: [0, 2, 4, 6, 8]"
      ]
    },
    {
      "cell_type": "code",
      "execution_count": 6,
      "metadata": {
        "colab": {
          "base_uri": "https://localhost:8080/"
        },
        "id": "6FpnMUOejc_f",
        "outputId": "c582dc20-4ee8-4eaa-e033-86f40141fdc6"
      },
      "outputs": [
        {
          "output_type": "stream",
          "name": "stdout",
          "text": [
            "[0, 2, 4, 6, 8]\n"
          ]
        }
      ],
      "source": [
        "pares_for = []\n",
        "for x in range(10):\n",
        "    if x % 2 == 0:\n",
        "        pares_for.append(x)\n",
        "\n",
        "print(pares_for) # Saída: [0, 2, 4, 6, 8]"
      ]
    },
    {
      "cell_type": "markdown",
      "metadata": {
        "id": "1XFNFJxYjc_f"
      },
      "source": [
        "# Introdução aos Compressores de Lista\n",
        "\n",
        "## 3. Compressores de Lista Avançados\n",
        "\n",
        "### Objetivos:\n",
        "- Demonstrar o uso de condições em compressores de lista.\n",
        "- Apresentar exemplos de compressores de lista aninhados.\n",
        "\n",
        "### Conteúdo:\n",
        "\n",
        "#### A. Uso de Condições em Compressores de Lista\n",
        "- Compressores de lista podem incluir condições para filtrar os elementos da lista resultante.\n",
        "\n",
        "#### B. Compressores de Lista Aninhados\n",
        "- É possível aninhar compressores de lista para criar listas complexas.\n",
        "\n",
        "### Exemplo de Código:"
      ]
    },
    {
      "cell_type": "code",
      "execution_count": 7,
      "metadata": {
        "colab": {
          "base_uri": "https://localhost:8080/"
        },
        "id": "D0JNlfvjjc_f",
        "outputId": "264d434d-040a-4f67-f664-f85287fb4018"
      },
      "outputs": [
        {
          "output_type": "stream",
          "name": "stdout",
          "text": [
            "[1, 9, 25, 49, 81]\n"
          ]
        }
      ],
      "source": [
        "# Exemplo de compressor de lista com condição\n",
        "\n",
        "# Filtrando números ímpares e elevando ao quadrado\n",
        "impares_ao_quadrado = [x ** 2 for x in range(10) if x % 2 != 0]\n",
        "print(impares_ao_quadrado)  # Saída: [1, 9, 25, 49, 81]"
      ]
    },
    {
      "cell_type": "code",
      "execution_count": 8,
      "metadata": {
        "colab": {
          "base_uri": "https://localhost:8080/"
        },
        "id": "gff4W8oqjc_g",
        "outputId": "a11002f7-5d0e-4eb5-8fd0-9a2ad77e71a1"
      },
      "outputs": [
        {
          "output_type": "stream",
          "name": "stdout",
          "text": [
            "[[0, 1, 2], [0, 1, 2], [0, 1, 2]]\n"
          ]
        }
      ],
      "source": [
        "# Exemplo de compressor de lista aninhado\n",
        "\n",
        "# Criando uma matriz 3x3 com compressores de lista\n",
        "matriz = [[j for j in range(3)] for _ in range(3)]\n",
        "print(matriz)  # Saída: [[0, 1, 2], [0, 1, 2], [0, 1, 2]]"
      ]
    },
    {
      "cell_type": "code",
      "execution_count": 9,
      "metadata": {
        "colab": {
          "base_uri": "https://localhost:8080/"
        },
        "id": "m1qUMvgbjc_g",
        "outputId": "e3e1261b-7864-4c8b-96bb-47e7b94308ba"
      },
      "outputs": [
        {
          "output_type": "stream",
          "name": "stdout",
          "text": [
            "[[1, 3], [1, 4], [2, 3], [2, 1], [2, 4], [3, 1], [3, 4]]\n"
          ]
        }
      ],
      "source": [
        "# Combinando elementos de duas listas se não forem iguais\n",
        "combinacoes = [[x, y] for x in [1, 2, 3] for y in [3, 1, 4] if x != y]\n",
        "print(combinacoes)  # Saída: [[1, 3], [1, 4], [2, 3], [2, 1], [2, 4], [3, 1], [3, 4]]"
      ]
    },
    {
      "cell_type": "markdown",
      "metadata": {
        "id": "mflvTG_vjc_h"
      },
      "source": [
        "# Exercícios"
      ]
    },
    {
      "cell_type": "markdown",
      "metadata": {
        "id": "GO1Y9oXHjc_h"
      },
      "source": [
        "\n",
        "### Exercício 1\n",
        "#### Crie uma lista de quadrados dos números de 1 a 10 usando um compressor de lista.\n",
        "\n"
      ]
    },
    {
      "cell_type": "code",
      "execution_count": 10,
      "metadata": {
        "colab": {
          "base_uri": "https://localhost:8080/"
        },
        "id": "yRjyrY5yjc_h",
        "outputId": "7b3272ba-5d6f-41cf-e126-bf653d61321d"
      },
      "outputs": [
        {
          "output_type": "stream",
          "name": "stdout",
          "text": [
            "[1, 4, 9, 16, 25, 36, 49, 64, 81, 100]\n"
          ]
        }
      ],
      "source": [
        "quadrados = [x ** 2 for x in range(1, 11)]\n",
        "print(quadrados)"
      ]
    },
    {
      "cell_type": "markdown",
      "metadata": {
        "id": "pCBkHXGXjc_h"
      },
      "source": [
        "\n",
        "### Exercício 2\n",
        "#### Use um compressor de lista para converter todas as strings em uma lista para maiúsculas.\n",
        "\n"
      ]
    },
    {
      "cell_type": "code",
      "execution_count": 11,
      "metadata": {
        "colab": {
          "base_uri": "https://localhost:8080/"
        },
        "id": "_9bMnZWAjc_h",
        "outputId": "91d51e3d-7396-4c5f-f949-8589017db60b"
      },
      "outputs": [
        {
          "output_type": "stream",
          "name": "stdout",
          "text": [
            "['OLA', 'MUNDO', 'PYTHON', 'PROGRAMACAO']\n"
          ]
        }
      ],
      "source": [
        "lista_strings = [\"ola\", \"mundo\", \"python\", \"programacao\"]\n",
        "lista_maiusculas = [s.upper() for s in lista_strings]\n",
        "print(lista_maiusculas)"
      ]
    },
    {
      "cell_type": "markdown",
      "metadata": {
        "id": "Y7U4w3bwjc_h"
      },
      "source": [
        "\n",
        "### Exercício 3\n",
        "#### Crie uma lista de todos os números pares de 0 a 20 usando um compressor de lista.\n",
        "\n"
      ]
    },
    {
      "cell_type": "code",
      "execution_count": 12,
      "metadata": {
        "colab": {
          "base_uri": "https://localhost:8080/"
        },
        "id": "OqN4N39ejc_h",
        "outputId": "07c54bcb-49d0-4152-df1c-03c7eedc85bf"
      },
      "outputs": [
        {
          "output_type": "stream",
          "name": "stdout",
          "text": [
            "[0, 2, 4, 6, 8, 10, 12, 14, 16, 18, 20]\n"
          ]
        }
      ],
      "source": [
        "numeros_pares = [x for x in range(21) if x % 2 == 0]\n",
        "print(numeros_pares)"
      ]
    },
    {
      "cell_type": "markdown",
      "metadata": {
        "id": "ewE-aakYjc_i"
      },
      "source": [
        "\n",
        "### Exercício 4\n",
        "#### Use um compressor de lista para criar uma lista de tuplas (número, quadrado do número) para números de 1 a 5.\n",
        "\n"
      ]
    },
    {
      "cell_type": "code",
      "execution_count": 13,
      "metadata": {
        "colab": {
          "base_uri": "https://localhost:8080/"
        },
        "id": "1c93ohZ4jc_i",
        "outputId": "c263eb42-1f2f-4066-e82a-85b478ba8e53"
      },
      "outputs": [
        {
          "output_type": "stream",
          "name": "stdout",
          "text": [
            "[(1, 1), (2, 4), (3, 9), (4, 16), (5, 25)]\n"
          ]
        }
      ],
      "source": [
        "lista_tuplas = [(x, x ** 2) for x in range(1, 6)]\n",
        "print(lista_tuplas)"
      ]
    },
    {
      "cell_type": "markdown",
      "metadata": {
        "id": "yWqLVhEJjc_i"
      },
      "source": [
        "\n",
        "### Exercício 5\n",
        "#### Gere uma lista de números ímpares de 1 a 10 usando um compressor de lista.\n",
        "\n"
      ]
    },
    {
      "cell_type": "code",
      "execution_count": 14,
      "metadata": {
        "colab": {
          "base_uri": "https://localhost:8080/"
        },
        "id": "PaNNzuZjjc_i",
        "outputId": "489c0b57-6885-4c16-e371-b02582f515c4"
      },
      "outputs": [
        {
          "output_type": "stream",
          "name": "stdout",
          "text": [
            "[1, 3, 5, 7, 9]\n"
          ]
        }
      ],
      "source": [
        "numeros_impares = [x for x in range(1, 11) if x % 2 != 0]\n",
        "print(numeros_impares)"
      ]
    },
    {
      "cell_type": "markdown",
      "metadata": {
        "id": "DTZlyBKLjc_i"
      },
      "source": [
        "\n",
        "### Exercício 6\n",
        "#### Use um compressor de lista para criar uma lista de todos os caracteres de cada palavra em uma lista de palavras.\n",
        "\n"
      ]
    },
    {
      "cell_type": "code",
      "execution_count": 15,
      "metadata": {
        "colab": {
          "base_uri": "https://localhost:8080/"
        },
        "id": "76sHfnrWjc_i",
        "outputId": "298e4389-2455-4920-81c4-90df2e767dfe"
      },
      "outputs": [
        {
          "output_type": "stream",
          "name": "stdout",
          "text": [
            "['p', 'y', 't', 'h', 'o', 'n', 'p', 'r', 'o', 'g', 'r', 'a', 'm', 'a', 'c', 'a', 'o', 'c', 'o', 'm', 'p', 'r', 'e', 'e', 'n', 's', 'a', 'o', 'l', 'i', 's', 't', 'a']\n"
          ]
        }
      ],
      "source": [
        "lista_palavras = [\"python\", \"programacao\", \"compreensao\", \"lista\"]\n",
        "lista_caracteres = [caractere for palavra in lista_palavras for caractere in palavra]\n",
        "print(lista_caracteres)"
      ]
    },
    {
      "cell_type": "markdown",
      "metadata": {
        "id": "E3f1kzXbjc_j"
      },
      "source": [
        "\n",
        "### Exercício 7\n",
        "#### Crie uma lista de comprimentos de cada palavra em uma frase usando um compressor de lista.\n",
        "\n"
      ]
    },
    {
      "cell_type": "code",
      "execution_count": null,
      "metadata": {
        "id": "_z_9FTXOjc_j"
      },
      "outputs": [],
      "source": [
        "frase = \"Esta é uma frase de exemplo\"\n",
        "comprimentos = [len(palavra) for palavra in frase.split()]\n",
        "print(comprimentos)"
      ]
    },
    {
      "cell_type": "markdown",
      "metadata": {
        "id": "WN0MSUZDjc_j"
      },
      "source": [
        "\n",
        "### Exercício 8\n",
        "#### Use um compressor de lista para criar uma lista de todos os números divisíveis por 3 de 1 a 30.\n",
        "\n"
      ]
    },
    {
      "cell_type": "code",
      "execution_count": 16,
      "metadata": {
        "colab": {
          "base_uri": "https://localhost:8080/"
        },
        "id": "wFZpjHKLjc_j",
        "outputId": "b7749cdb-d323-4c26-c38d-97f2cb303c9d"
      },
      "outputs": [
        {
          "output_type": "stream",
          "name": "stdout",
          "text": [
            "[3, 6, 9, 12, 15, 18, 21, 24, 27, 30]\n"
          ]
        }
      ],
      "source": [
        "numeros_divisiveis_por_3 = [x for x in range(1, 31) if x % 3 == 0]\n",
        "print(numeros_divisiveis_por_3)"
      ]
    },
    {
      "cell_type": "markdown",
      "metadata": {
        "id": "9sGc4JIbjc_j"
      },
      "source": [
        "\n",
        "### Exercício 9\n",
        "#### Gere uma lista de 'par' ou 'ímpar' para os números de 1 a 10 usando um compressor de lista.\n",
        "\n"
      ]
    },
    {
      "cell_type": "code",
      "execution_count": 17,
      "metadata": {
        "colab": {
          "base_uri": "https://localhost:8080/"
        },
        "id": "luhFLJN6jc_j",
        "outputId": "52b47923-c062-4f8d-a2c3-34c6d10f5b08"
      },
      "outputs": [
        {
          "output_type": "stream",
          "name": "stdout",
          "text": [
            "['ímpar', 'par', 'ímpar', 'par', 'ímpar', 'par', 'ímpar', 'par', 'ímpar', 'par']\n"
          ]
        }
      ],
      "source": [
        "par_ou_impar = ['par' if x % 2 == 0 else 'ímpar' for x in range(1, 11)]\n",
        "print(par_ou_impar)"
      ]
    },
    {
      "cell_type": "markdown",
      "metadata": {
        "id": "q8Ku1FiGjc_k"
      },
      "source": [
        "\n",
        "### Exercício 10\n",
        "#### Crie uma lista de números primos menores que 20 usando um compressor de lista.\n",
        "\n"
      ]
    },
    {
      "cell_type": "code",
      "execution_count": 18,
      "metadata": {
        "colab": {
          "base_uri": "https://localhost:8080/"
        },
        "id": "87ZPjoRyjc_k",
        "outputId": "898ca0ac-01f4-43a2-bee2-5be008860eb6"
      },
      "outputs": [
        {
          "output_type": "stream",
          "name": "stdout",
          "text": [
            "[2, 3, 5, 7, 11, 13, 17, 19]\n"
          ]
        }
      ],
      "source": [
        "def is_primo(n):\n",
        "    if n < 2:\n",
        "        return False\n",
        "    for i in range(2, int(n**0.5) + 1):\n",
        "        if n % i == 0:\n",
        "            return False\n",
        "    return True\n",
        "\n",
        "numeros_primos = [x for x in range(2, 20) if is_primo(x)]\n",
        "print(numeros_primos)"
      ]
    },
    {
      "cell_type": "markdown",
      "metadata": {
        "id": "IoNSwSX1jc_k"
      },
      "source": [
        "\n",
        "### Exercício 11\n",
        "#### Use um compressor de lista com um `if` para criar uma lista de todos os números de 1 a 20 que são divisíveis por 2 ou 5.\n",
        "\n"
      ]
    },
    {
      "cell_type": "code",
      "execution_count": 19,
      "metadata": {
        "colab": {
          "base_uri": "https://localhost:8080/"
        },
        "id": "mIs3RIgxjc_k",
        "outputId": "5b3fcc0d-baf4-49d5-a806-7b5a11e7e5a0"
      },
      "outputs": [
        {
          "output_type": "stream",
          "name": "stdout",
          "text": [
            "[2, 4, 5, 6, 8, 10, 12, 14, 15, 16, 18, 20]\n"
          ]
        }
      ],
      "source": [
        "numeros_divisiveis = [x for x in range(1, 21) if x % 2 == 0 or x % 5 == 0]\n",
        "print(numeros_divisiveis)"
      ]
    },
    {
      "cell_type": "markdown",
      "metadata": {
        "id": "WRHjEvkFjc_k"
      },
      "source": [
        "\n",
        "### Exercício 12\n",
        "#### Crie uma lista dos primeiros 10 quadrados perfeitos (números cuja raiz quadrada é um inteiro) usando um compressor de lista.\n",
        "\n"
      ]
    },
    {
      "cell_type": "code",
      "execution_count": 20,
      "metadata": {
        "colab": {
          "base_uri": "https://localhost:8080/"
        },
        "id": "OPOq-HU5jc_k",
        "outputId": "51a12e84-a233-44e9-a6a1-ff063b6c811c"
      },
      "outputs": [
        {
          "output_type": "stream",
          "name": "stdout",
          "text": [
            "[1, 4, 9, 16, 25, 36, 49, 64, 81, 100]\n"
          ]
        }
      ],
      "source": [
        "quadrados_perfeitos = [x**2 for x in range(1, 11)]\n",
        "print(quadrados_perfeitos)"
      ]
    },
    {
      "cell_type": "markdown",
      "metadata": {
        "id": "0mSKvhhsjc_l"
      },
      "source": [
        "\n",
        "### Exercício 13\n",
        "#### Use um compressor de lista para inverter a ordem dos caracteres em cada string de uma lista de strings.\n",
        "\n"
      ]
    },
    {
      "cell_type": "code",
      "execution_count": 21,
      "metadata": {
        "colab": {
          "base_uri": "https://localhost:8080/"
        },
        "id": "G4jYyj6Zjc_l",
        "outputId": "ed9d31da-923a-48d4-afc6-36d37bd74440"
      },
      "outputs": [
        {
          "output_type": "stream",
          "name": "stdout",
          "text": [
            "['nohtyp', 'oacamargorp', 'oasneerpmoc', 'atsil']\n"
          ]
        }
      ],
      "source": [
        "lista_strings = [\"python\", \"programacao\", \"compreensao\", \"lista\"]\n",
        "strings_invertidas = [s[::-1] for s in lista_strings]\n",
        "print(strings_invertidas)"
      ]
    },
    {
      "cell_type": "markdown",
      "metadata": {
        "id": "0Jtn5HR2jc_s"
      },
      "source": [
        "\n",
        "### Exercício 14\n",
        "#### Crie uma lista de booleanos, onde True corresponde a elementos pares e False a ímpares em uma lista de números.\n",
        "\n"
      ]
    },
    {
      "cell_type": "code",
      "execution_count": 22,
      "metadata": {
        "colab": {
          "base_uri": "https://localhost:8080/"
        },
        "id": "cVPA1p1djc_t",
        "outputId": "76b3efa8-0d60-4ad7-abb6-ca72dc158f2e"
      },
      "outputs": [
        {
          "output_type": "stream",
          "name": "stdout",
          "text": [
            "[False, True, False, True, False, True, False, True, False, True]\n"
          ]
        }
      ],
      "source": [
        "lista_numeros = [1, 2, 3, 4, 5, 6, 7, 8, 9, 10]\n",
        "lista_booleanos = [num % 2 == 0 for num in lista_numeros]\n",
        "print(lista_booleanos)"
      ]
    },
    {
      "cell_type": "markdown",
      "metadata": {
        "id": "3vu_pr1xjc_t"
      },
      "source": [
        "\n",
        "### Exercício 15\n",
        "#### Use um compressor de lista para criar uma lista de todas as vogais em uma string dada.\n",
        "\n"
      ]
    },
    {
      "cell_type": "code",
      "execution_count": 23,
      "metadata": {
        "colab": {
          "base_uri": "https://localhost:8080/"
        },
        "id": "jNrqoJeYjc_t",
        "outputId": "4d31f355-85a3-4b3a-a686-493123994c70"
      },
      "outputs": [
        {
          "output_type": "stream",
          "name": "stdout",
          "text": [
            "['E', 'a', 'é', 'u', 'a', 'a', 'e', 'e', 'e', 'e', 'o']\n"
          ]
        }
      ],
      "source": [
        "string = \"Esta é uma frase de exemplo\"\n",
        "vogais = [char for char in string if char.lower() in 'aeiouáéíóúãõ']\n",
        "print(vogais)"
      ]
    },
    {
      "cell_type": "markdown",
      "metadata": {
        "id": "gmZHMEIrjc_t"
      },
      "source": [
        "\n",
        "### Exercício 16\n",
        "#### Crie uma lista de listas, onde cada sublista contém números de 1 a n, com n variando de 1 a 5, usando compressores de lista aninhados.\n",
        "\n"
      ]
    },
    {
      "cell_type": "code",
      "execution_count": 24,
      "metadata": {
        "colab": {
          "base_uri": "https://localhost:8080/"
        },
        "id": "WG_FUTYRjc_t",
        "outputId": "cfe94fc4-9c0e-4ae7-831a-7f82ce775a09"
      },
      "outputs": [
        {
          "output_type": "stream",
          "name": "stdout",
          "text": [
            "[[1], [1, 2], [1, 2, 3], [1, 2, 3, 4], [1, 2, 3, 4, 5]]\n"
          ]
        }
      ],
      "source": [
        "lista_de_listas = [[num for num in range(1, n + 1)] for n in range(1, 6)]\n",
        "print(lista_de_listas)"
      ]
    },
    {
      "cell_type": "markdown",
      "metadata": {
        "id": "L97UQCARjc_t"
      },
      "source": [
        "\n",
        "### Exercício 17\n",
        "#### Use um compressor de lista aninhado para criar a matriz identidade 3x3 em Python.\n",
        "\n"
      ]
    },
    {
      "cell_type": "code",
      "execution_count": 25,
      "metadata": {
        "colab": {
          "base_uri": "https://localhost:8080/"
        },
        "id": "hRETIAftjc_t",
        "outputId": "921a8ba2-5c83-4ada-b1ee-d185fad8e266"
      },
      "outputs": [
        {
          "output_type": "stream",
          "name": "stdout",
          "text": [
            "[[1, 0, 0], [0, 1, 0], [0, 0, 1]]\n"
          ]
        }
      ],
      "source": [
        "matriz_identidade = [[1 if i == j else 0 for j in range(3)] for i in range(3)]\n",
        "print(matriz_identidade)"
      ]
    },
    {
      "cell_type": "markdown",
      "metadata": {
        "id": "DBwBeMwNjc_t"
      },
      "source": [
        "\n",
        "### Exercício 18\n",
        "#### Gere uma lista de todos os pares possíveis de duas listas diferentes usando um compressor de lista.\n",
        "\n"
      ]
    },
    {
      "cell_type": "code",
      "execution_count": 26,
      "metadata": {
        "colab": {
          "base_uri": "https://localhost:8080/"
        },
        "id": "_XzSSV9Wjc_t",
        "outputId": "68354a49-21fd-4e9b-d5b9-6b912f274fa2"
      },
      "outputs": [
        {
          "output_type": "stream",
          "name": "stdout",
          "text": [
            "[(1, 'a'), (1, 'b'), (1, 'c'), (2, 'a'), (2, 'b'), (2, 'c'), (3, 'a'), (3, 'b'), (3, 'c')]\n"
          ]
        }
      ],
      "source": [
        "lista1 = [1, 2, 3]\n",
        "lista2 = ['a', 'b', 'c']\n",
        "pares = [(x, y) for x in lista1 for y in lista2]\n",
        "print(pares)"
      ]
    },
    {
      "cell_type": "markdown",
      "metadata": {
        "id": "NK5ev1jljc_u"
      },
      "source": [
        "\n",
        "### Exercício 19\n",
        "#### Crie uma lista de todos os elementos de uma lista de listas usando um compressor de lista.\n",
        "\n"
      ]
    },
    {
      "cell_type": "code",
      "execution_count": 27,
      "metadata": {
        "colab": {
          "base_uri": "https://localhost:8080/"
        },
        "id": "MkCQVC1Ljc_u",
        "outputId": "909bf57a-6561-4f88-833c-378b271df94f"
      },
      "outputs": [
        {
          "output_type": "stream",
          "name": "stdout",
          "text": [
            "[1, 2, 3, 'a', 'b', 'c', True, False]\n"
          ]
        }
      ],
      "source": [
        "lista_de_listas = [[1, 2, 3], ['a', 'b', 'c'], [True, False]]\n",
        "todos_elementos = [elemento for sublista in lista_de_listas for elemento in sublista]\n",
        "print(todos_elementos)"
      ]
    },
    {
      "cell_type": "markdown",
      "metadata": {
        "id": "3lG0K34Gjc_u"
      },
      "source": [
        "\n",
        "### Exercício 20\n",
        "#### Use um compressor de lista com múltiplos `if` para criar uma lista dos números de 1 a 100 que são divisíveis por 2 e 3, mas não por 5.\n"
      ]
    },
    {
      "cell_type": "code",
      "source": [
        "numeros_filtrados = [x for x in range(1, 101) if x % 2 == 0 and x % 3 == 0 and x % 5 != 0]\n",
        "print(numeros_filtrados)"
      ],
      "metadata": {
        "colab": {
          "base_uri": "https://localhost:8080/"
        },
        "id": "1xifueVglTn1",
        "outputId": "5c8ff442-d1b9-4b9f-a2b3-93460743a52a"
      },
      "execution_count": 28,
      "outputs": [
        {
          "output_type": "stream",
          "name": "stdout",
          "text": [
            "[6, 12, 18, 24, 36, 42, 48, 54, 66, 72, 78, 84, 96]\n"
          ]
        }
      ]
    }
  ],
  "metadata": {
    "kernelspec": {
      "display_name": "base",
      "language": "python",
      "name": "python3"
    },
    "language_info": {
      "codemirror_mode": {
        "name": "ipython",
        "version": 3
      },
      "file_extension": ".py",
      "mimetype": "text/x-python",
      "name": "python",
      "nbconvert_exporter": "python",
      "pygments_lexer": "ipython3",
      "version": "3.9.13"
    },
    "colab": {
      "provenance": []
    }
  },
  "nbformat": 4,
  "nbformat_minor": 0
}