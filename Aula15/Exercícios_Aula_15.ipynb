{
  "cells": [
    {
      "cell_type": "markdown",
      "metadata": {
        "id": "_V7xa7cePatH"
      },
      "source": [
        "1. Faça o processamento dos dados que vimos durante as últimas aulas para prever o preço da ação da AMAZON (coluna Close) base `acao_amazon.csv`."
      ]
    },
    {
      "cell_type": "code",
      "execution_count": 16,
      "metadata": {
        "colab": {
          "base_uri": "https://localhost:8080/",
          "height": 206
        },
        "id": "mNJv4UvMPatJ",
        "outputId": "20c00947-4b4b-49aa-982c-e32efd77d52f"
      },
      "outputs": [
        {
          "output_type": "execute_result",
          "data": {
            "text/plain": [
              "         Date   Open   High    Low  Close   Volume  Name\n",
              "0  2006-01-03  47.47  47.85  46.25  47.58  7582127  AMZN\n",
              "1  2006-01-04  47.48  47.73  46.69  47.25  7440914  AMZN\n",
              "2  2006-01-05  47.16  48.20  47.11  47.65  5417258  AMZN\n",
              "3  2006-01-06  47.97  48.58  47.32  47.87  6154285  AMZN\n",
              "4  2006-01-09  46.55  47.10  46.40  47.08  8945056  AMZN"
            ],
            "text/html": [
              "\n",
              "  <div id=\"df-9be9ecf5-3ec6-4e6c-9581-56d08104bb16\" class=\"colab-df-container\">\n",
              "    <div>\n",
              "<style scoped>\n",
              "    .dataframe tbody tr th:only-of-type {\n",
              "        vertical-align: middle;\n",
              "    }\n",
              "\n",
              "    .dataframe tbody tr th {\n",
              "        vertical-align: top;\n",
              "    }\n",
              "\n",
              "    .dataframe thead th {\n",
              "        text-align: right;\n",
              "    }\n",
              "</style>\n",
              "<table border=\"1\" class=\"dataframe\">\n",
              "  <thead>\n",
              "    <tr style=\"text-align: right;\">\n",
              "      <th></th>\n",
              "      <th>Date</th>\n",
              "      <th>Open</th>\n",
              "      <th>High</th>\n",
              "      <th>Low</th>\n",
              "      <th>Close</th>\n",
              "      <th>Volume</th>\n",
              "      <th>Name</th>\n",
              "    </tr>\n",
              "  </thead>\n",
              "  <tbody>\n",
              "    <tr>\n",
              "      <th>0</th>\n",
              "      <td>2006-01-03</td>\n",
              "      <td>47.47</td>\n",
              "      <td>47.85</td>\n",
              "      <td>46.25</td>\n",
              "      <td>47.58</td>\n",
              "      <td>7582127</td>\n",
              "      <td>AMZN</td>\n",
              "    </tr>\n",
              "    <tr>\n",
              "      <th>1</th>\n",
              "      <td>2006-01-04</td>\n",
              "      <td>47.48</td>\n",
              "      <td>47.73</td>\n",
              "      <td>46.69</td>\n",
              "      <td>47.25</td>\n",
              "      <td>7440914</td>\n",
              "      <td>AMZN</td>\n",
              "    </tr>\n",
              "    <tr>\n",
              "      <th>2</th>\n",
              "      <td>2006-01-05</td>\n",
              "      <td>47.16</td>\n",
              "      <td>48.20</td>\n",
              "      <td>47.11</td>\n",
              "      <td>47.65</td>\n",
              "      <td>5417258</td>\n",
              "      <td>AMZN</td>\n",
              "    </tr>\n",
              "    <tr>\n",
              "      <th>3</th>\n",
              "      <td>2006-01-06</td>\n",
              "      <td>47.97</td>\n",
              "      <td>48.58</td>\n",
              "      <td>47.32</td>\n",
              "      <td>47.87</td>\n",
              "      <td>6154285</td>\n",
              "      <td>AMZN</td>\n",
              "    </tr>\n",
              "    <tr>\n",
              "      <th>4</th>\n",
              "      <td>2006-01-09</td>\n",
              "      <td>46.55</td>\n",
              "      <td>47.10</td>\n",
              "      <td>46.40</td>\n",
              "      <td>47.08</td>\n",
              "      <td>8945056</td>\n",
              "      <td>AMZN</td>\n",
              "    </tr>\n",
              "  </tbody>\n",
              "</table>\n",
              "</div>\n",
              "    <div class=\"colab-df-buttons\">\n",
              "\n",
              "  <div class=\"colab-df-container\">\n",
              "    <button class=\"colab-df-convert\" onclick=\"convertToInteractive('df-9be9ecf5-3ec6-4e6c-9581-56d08104bb16')\"\n",
              "            title=\"Convert this dataframe to an interactive table.\"\n",
              "            style=\"display:none;\">\n",
              "\n",
              "  <svg xmlns=\"http://www.w3.org/2000/svg\" height=\"24px\" viewBox=\"0 -960 960 960\">\n",
              "    <path d=\"M120-120v-720h720v720H120Zm60-500h600v-160H180v160Zm220 220h160v-160H400v160Zm0 220h160v-160H400v160ZM180-400h160v-160H180v160Zm440 0h160v-160H620v160ZM180-180h160v-160H180v160Zm440 0h160v-160H620v160Z\"/>\n",
              "  </svg>\n",
              "    </button>\n",
              "\n",
              "  <style>\n",
              "    .colab-df-container {\n",
              "      display:flex;\n",
              "      gap: 12px;\n",
              "    }\n",
              "\n",
              "    .colab-df-convert {\n",
              "      background-color: #E8F0FE;\n",
              "      border: none;\n",
              "      border-radius: 50%;\n",
              "      cursor: pointer;\n",
              "      display: none;\n",
              "      fill: #1967D2;\n",
              "      height: 32px;\n",
              "      padding: 0 0 0 0;\n",
              "      width: 32px;\n",
              "    }\n",
              "\n",
              "    .colab-df-convert:hover {\n",
              "      background-color: #E2EBFA;\n",
              "      box-shadow: 0px 1px 2px rgba(60, 64, 67, 0.3), 0px 1px 3px 1px rgba(60, 64, 67, 0.15);\n",
              "      fill: #174EA6;\n",
              "    }\n",
              "\n",
              "    .colab-df-buttons div {\n",
              "      margin-bottom: 4px;\n",
              "    }\n",
              "\n",
              "    [theme=dark] .colab-df-convert {\n",
              "      background-color: #3B4455;\n",
              "      fill: #D2E3FC;\n",
              "    }\n",
              "\n",
              "    [theme=dark] .colab-df-convert:hover {\n",
              "      background-color: #434B5C;\n",
              "      box-shadow: 0px 1px 3px 1px rgba(0, 0, 0, 0.15);\n",
              "      filter: drop-shadow(0px 1px 2px rgba(0, 0, 0, 0.3));\n",
              "      fill: #FFFFFF;\n",
              "    }\n",
              "  </style>\n",
              "\n",
              "    <script>\n",
              "      const buttonEl =\n",
              "        document.querySelector('#df-9be9ecf5-3ec6-4e6c-9581-56d08104bb16 button.colab-df-convert');\n",
              "      buttonEl.style.display =\n",
              "        google.colab.kernel.accessAllowed ? 'block' : 'none';\n",
              "\n",
              "      async function convertToInteractive(key) {\n",
              "        const element = document.querySelector('#df-9be9ecf5-3ec6-4e6c-9581-56d08104bb16');\n",
              "        const dataTable =\n",
              "          await google.colab.kernel.invokeFunction('convertToInteractive',\n",
              "                                                    [key], {});\n",
              "        if (!dataTable) return;\n",
              "\n",
              "        const docLinkHtml = 'Like what you see? Visit the ' +\n",
              "          '<a target=\"_blank\" href=https://colab.research.google.com/notebooks/data_table.ipynb>data table notebook</a>'\n",
              "          + ' to learn more about interactive tables.';\n",
              "        element.innerHTML = '';\n",
              "        dataTable['output_type'] = 'display_data';\n",
              "        await google.colab.output.renderOutput(dataTable, element);\n",
              "        const docLink = document.createElement('div');\n",
              "        docLink.innerHTML = docLinkHtml;\n",
              "        element.appendChild(docLink);\n",
              "      }\n",
              "    </script>\n",
              "  </div>\n",
              "\n",
              "\n",
              "<div id=\"df-afefe717-b63d-486e-943c-61178fa0634f\">\n",
              "  <button class=\"colab-df-quickchart\" onclick=\"quickchart('df-afefe717-b63d-486e-943c-61178fa0634f')\"\n",
              "            title=\"Suggest charts\"\n",
              "            style=\"display:none;\">\n",
              "\n",
              "<svg xmlns=\"http://www.w3.org/2000/svg\" height=\"24px\"viewBox=\"0 0 24 24\"\n",
              "     width=\"24px\">\n",
              "    <g>\n",
              "        <path d=\"M19 3H5c-1.1 0-2 .9-2 2v14c0 1.1.9 2 2 2h14c1.1 0 2-.9 2-2V5c0-1.1-.9-2-2-2zM9 17H7v-7h2v7zm4 0h-2V7h2v10zm4 0h-2v-4h2v4z\"/>\n",
              "    </g>\n",
              "</svg>\n",
              "  </button>\n",
              "\n",
              "<style>\n",
              "  .colab-df-quickchart {\n",
              "      --bg-color: #E8F0FE;\n",
              "      --fill-color: #1967D2;\n",
              "      --hover-bg-color: #E2EBFA;\n",
              "      --hover-fill-color: #174EA6;\n",
              "      --disabled-fill-color: #AAA;\n",
              "      --disabled-bg-color: #DDD;\n",
              "  }\n",
              "\n",
              "  [theme=dark] .colab-df-quickchart {\n",
              "      --bg-color: #3B4455;\n",
              "      --fill-color: #D2E3FC;\n",
              "      --hover-bg-color: #434B5C;\n",
              "      --hover-fill-color: #FFFFFF;\n",
              "      --disabled-bg-color: #3B4455;\n",
              "      --disabled-fill-color: #666;\n",
              "  }\n",
              "\n",
              "  .colab-df-quickchart {\n",
              "    background-color: var(--bg-color);\n",
              "    border: none;\n",
              "    border-radius: 50%;\n",
              "    cursor: pointer;\n",
              "    display: none;\n",
              "    fill: var(--fill-color);\n",
              "    height: 32px;\n",
              "    padding: 0;\n",
              "    width: 32px;\n",
              "  }\n",
              "\n",
              "  .colab-df-quickchart:hover {\n",
              "    background-color: var(--hover-bg-color);\n",
              "    box-shadow: 0 1px 2px rgba(60, 64, 67, 0.3), 0 1px 3px 1px rgba(60, 64, 67, 0.15);\n",
              "    fill: var(--button-hover-fill-color);\n",
              "  }\n",
              "\n",
              "  .colab-df-quickchart-complete:disabled,\n",
              "  .colab-df-quickchart-complete:disabled:hover {\n",
              "    background-color: var(--disabled-bg-color);\n",
              "    fill: var(--disabled-fill-color);\n",
              "    box-shadow: none;\n",
              "  }\n",
              "\n",
              "  .colab-df-spinner {\n",
              "    border: 2px solid var(--fill-color);\n",
              "    border-color: transparent;\n",
              "    border-bottom-color: var(--fill-color);\n",
              "    animation:\n",
              "      spin 1s steps(1) infinite;\n",
              "  }\n",
              "\n",
              "  @keyframes spin {\n",
              "    0% {\n",
              "      border-color: transparent;\n",
              "      border-bottom-color: var(--fill-color);\n",
              "      border-left-color: var(--fill-color);\n",
              "    }\n",
              "    20% {\n",
              "      border-color: transparent;\n",
              "      border-left-color: var(--fill-color);\n",
              "      border-top-color: var(--fill-color);\n",
              "    }\n",
              "    30% {\n",
              "      border-color: transparent;\n",
              "      border-left-color: var(--fill-color);\n",
              "      border-top-color: var(--fill-color);\n",
              "      border-right-color: var(--fill-color);\n",
              "    }\n",
              "    40% {\n",
              "      border-color: transparent;\n",
              "      border-right-color: var(--fill-color);\n",
              "      border-top-color: var(--fill-color);\n",
              "    }\n",
              "    60% {\n",
              "      border-color: transparent;\n",
              "      border-right-color: var(--fill-color);\n",
              "    }\n",
              "    80% {\n",
              "      border-color: transparent;\n",
              "      border-right-color: var(--fill-color);\n",
              "      border-bottom-color: var(--fill-color);\n",
              "    }\n",
              "    90% {\n",
              "      border-color: transparent;\n",
              "      border-bottom-color: var(--fill-color);\n",
              "    }\n",
              "  }\n",
              "</style>\n",
              "\n",
              "  <script>\n",
              "    async function quickchart(key) {\n",
              "      const quickchartButtonEl =\n",
              "        document.querySelector('#' + key + ' button');\n",
              "      quickchartButtonEl.disabled = true;  // To prevent multiple clicks.\n",
              "      quickchartButtonEl.classList.add('colab-df-spinner');\n",
              "      try {\n",
              "        const charts = await google.colab.kernel.invokeFunction(\n",
              "            'suggestCharts', [key], {});\n",
              "      } catch (error) {\n",
              "        console.error('Error during call to suggestCharts:', error);\n",
              "      }\n",
              "      quickchartButtonEl.classList.remove('colab-df-spinner');\n",
              "      quickchartButtonEl.classList.add('colab-df-quickchart-complete');\n",
              "    }\n",
              "    (() => {\n",
              "      let quickchartButtonEl =\n",
              "        document.querySelector('#df-afefe717-b63d-486e-943c-61178fa0634f button');\n",
              "      quickchartButtonEl.style.display =\n",
              "        google.colab.kernel.accessAllowed ? 'block' : 'none';\n",
              "    })();\n",
              "  </script>\n",
              "</div>\n",
              "\n",
              "    </div>\n",
              "  </div>\n"
            ],
            "application/vnd.google.colaboratory.intrinsic+json": {
              "type": "dataframe",
              "variable_name": "df",
              "summary": "{\n  \"name\": \"df\",\n  \"rows\": 3019,\n  \"fields\": [\n    {\n      \"column\": \"Date\",\n      \"properties\": {\n        \"dtype\": \"object\",\n        \"num_unique_values\": 3019,\n        \"samples\": [\n          \"2011-08-11\",\n          \"2012-03-20\",\n          \"2006-10-23\"\n        ],\n        \"semantic_type\": \"\",\n        \"description\": \"\"\n      }\n    },\n    {\n      \"column\": \"Open\",\n      \"properties\": {\n        \"dtype\": \"number\",\n        \"std\": 280.120546603692,\n        \"min\": 26.09,\n        \"max\": 1204.88,\n        \"num_unique_values\": 2840,\n        \"samples\": [\n          90.41,\n          492.57,\n          181.37\n        ],\n        \"semantic_type\": \"\",\n        \"description\": \"\"\n      }\n    },\n    {\n      \"column\": \"High\",\n      \"properties\": {\n        \"dtype\": \"number\",\n        \"std\": 281.82644236405423,\n        \"min\": 26.3,\n        \"max\": 1213.41,\n        \"num_unique_values\": 2840,\n        \"samples\": [\n          89.6,\n          491.66,\n          191.0\n        ],\n        \"semantic_type\": \"\",\n        \"description\": \"\"\n      }\n    },\n    {\n      \"column\": \"Low\",\n      \"properties\": {\n        \"dtype\": \"number\",\n        \"std\": 277.92713379526947,\n        \"min\": 25.76,\n        \"max\": 1191.15,\n        \"num_unique_values\": 2854,\n        \"samples\": [\n          242.7,\n          273.5,\n          75.4\n        ],\n        \"semantic_type\": \"\",\n        \"description\": \"\"\n      }\n    },\n    {\n      \"column\": \"Close\",\n      \"properties\": {\n        \"dtype\": \"number\",\n        \"std\": 279.9801611149029,\n        \"min\": 26.07,\n        \"max\": 1195.83,\n        \"num_unique_values\": 2901,\n        \"samples\": [\n          26.78,\n          81.95,\n          77.7\n        ],\n        \"semantic_type\": \"\",\n        \"description\": \"\"\n      }\n    },\n    {\n      \"column\": \"Volume\",\n      \"properties\": {\n        \"dtype\": \"number\",\n        \"std\": 5122033,\n        \"min\": 986435,\n        \"max\": 104404589,\n        \"num_unique_values\": 3019,\n        \"samples\": [\n          7404618,\n          9167308,\n          8059332\n        ],\n        \"semantic_type\": \"\",\n        \"description\": \"\"\n      }\n    },\n    {\n      \"column\": \"Name\",\n      \"properties\": {\n        \"dtype\": \"category\",\n        \"num_unique_values\": 1,\n        \"samples\": [\n          \"AMZN\"\n        ],\n        \"semantic_type\": \"\",\n        \"description\": \"\"\n      }\n    }\n  ]\n}"
            }
          },
          "metadata": {},
          "execution_count": 16
        }
      ],
      "source": [
        "import pandas as pd\n",
        "df = pd.read_csv('/content/acao_amazon.csv')\n",
        "\n",
        "df.head()"
      ]
    },
    {
      "cell_type": "code",
      "execution_count": 17,
      "metadata": {
        "colab": {
          "base_uri": "https://localhost:8080/"
        },
        "id": "P2DIkvPHPatJ",
        "outputId": "7184ec06-6ca6-46a6-f3c7-3f0a56fdf84c"
      },
      "outputs": [
        {
          "output_type": "stream",
          "name": "stdout",
          "text": [
            "<class 'pandas.core.frame.DataFrame'>\n",
            "RangeIndex: 3019 entries, 0 to 3018\n",
            "Data columns (total 7 columns):\n",
            " #   Column  Non-Null Count  Dtype  \n",
            "---  ------  --------------  -----  \n",
            " 0   Date    3019 non-null   object \n",
            " 1   Open    3019 non-null   float64\n",
            " 2   High    3019 non-null   float64\n",
            " 3   Low     3019 non-null   float64\n",
            " 4   Close   3019 non-null   float64\n",
            " 5   Volume  3019 non-null   int64  \n",
            " 6   Name    3019 non-null   object \n",
            "dtypes: float64(4), int64(1), object(2)\n",
            "memory usage: 165.2+ KB\n"
          ]
        }
      ],
      "source": [
        "df.info()"
      ]
    },
    {
      "cell_type": "code",
      "execution_count": 18,
      "metadata": {
        "id": "mH3vrOKJPatK"
      },
      "outputs": [],
      "source": [
        "# date para datetime\n",
        "df['Date'] = pd.to_datetime(df['Date'])\n",
        "\n",
        "# ordenando os valores em ordem crescente pela data\n",
        "df = df.sort_values(by='Date')\n",
        "\n",
        "df = df[['Open', 'High', 'Low', 'Volume', 'Close']]"
      ]
    },
    {
      "cell_type": "code",
      "execution_count": 19,
      "metadata": {
        "colab": {
          "base_uri": "https://localhost:8080/",
          "height": 206
        },
        "id": "T8FKFOFUPatK",
        "outputId": "fc21674f-126c-41b1-85ef-867df5665cbe"
      },
      "outputs": [
        {
          "output_type": "execute_result",
          "data": {
            "text/plain": [
              "    Open   High    Low   Volume  Close\n",
              "0  47.47  47.85  46.25  7582127  47.58\n",
              "1  47.48  47.73  46.69  7440914  47.25\n",
              "2  47.16  48.20  47.11  5417258  47.65\n",
              "3  47.97  48.58  47.32  6154285  47.87\n",
              "4  46.55  47.10  46.40  8945056  47.08"
            ],
            "text/html": [
              "\n",
              "  <div id=\"df-48664bd6-72fb-481b-8bc2-c3f1d27aeee7\" class=\"colab-df-container\">\n",
              "    <div>\n",
              "<style scoped>\n",
              "    .dataframe tbody tr th:only-of-type {\n",
              "        vertical-align: middle;\n",
              "    }\n",
              "\n",
              "    .dataframe tbody tr th {\n",
              "        vertical-align: top;\n",
              "    }\n",
              "\n",
              "    .dataframe thead th {\n",
              "        text-align: right;\n",
              "    }\n",
              "</style>\n",
              "<table border=\"1\" class=\"dataframe\">\n",
              "  <thead>\n",
              "    <tr style=\"text-align: right;\">\n",
              "      <th></th>\n",
              "      <th>Open</th>\n",
              "      <th>High</th>\n",
              "      <th>Low</th>\n",
              "      <th>Volume</th>\n",
              "      <th>Close</th>\n",
              "    </tr>\n",
              "  </thead>\n",
              "  <tbody>\n",
              "    <tr>\n",
              "      <th>0</th>\n",
              "      <td>47.47</td>\n",
              "      <td>47.85</td>\n",
              "      <td>46.25</td>\n",
              "      <td>7582127</td>\n",
              "      <td>47.58</td>\n",
              "    </tr>\n",
              "    <tr>\n",
              "      <th>1</th>\n",
              "      <td>47.48</td>\n",
              "      <td>47.73</td>\n",
              "      <td>46.69</td>\n",
              "      <td>7440914</td>\n",
              "      <td>47.25</td>\n",
              "    </tr>\n",
              "    <tr>\n",
              "      <th>2</th>\n",
              "      <td>47.16</td>\n",
              "      <td>48.20</td>\n",
              "      <td>47.11</td>\n",
              "      <td>5417258</td>\n",
              "      <td>47.65</td>\n",
              "    </tr>\n",
              "    <tr>\n",
              "      <th>3</th>\n",
              "      <td>47.97</td>\n",
              "      <td>48.58</td>\n",
              "      <td>47.32</td>\n",
              "      <td>6154285</td>\n",
              "      <td>47.87</td>\n",
              "    </tr>\n",
              "    <tr>\n",
              "      <th>4</th>\n",
              "      <td>46.55</td>\n",
              "      <td>47.10</td>\n",
              "      <td>46.40</td>\n",
              "      <td>8945056</td>\n",
              "      <td>47.08</td>\n",
              "    </tr>\n",
              "  </tbody>\n",
              "</table>\n",
              "</div>\n",
              "    <div class=\"colab-df-buttons\">\n",
              "\n",
              "  <div class=\"colab-df-container\">\n",
              "    <button class=\"colab-df-convert\" onclick=\"convertToInteractive('df-48664bd6-72fb-481b-8bc2-c3f1d27aeee7')\"\n",
              "            title=\"Convert this dataframe to an interactive table.\"\n",
              "            style=\"display:none;\">\n",
              "\n",
              "  <svg xmlns=\"http://www.w3.org/2000/svg\" height=\"24px\" viewBox=\"0 -960 960 960\">\n",
              "    <path d=\"M120-120v-720h720v720H120Zm60-500h600v-160H180v160Zm220 220h160v-160H400v160Zm0 220h160v-160H400v160ZM180-400h160v-160H180v160Zm440 0h160v-160H620v160ZM180-180h160v-160H180v160Zm440 0h160v-160H620v160Z\"/>\n",
              "  </svg>\n",
              "    </button>\n",
              "\n",
              "  <style>\n",
              "    .colab-df-container {\n",
              "      display:flex;\n",
              "      gap: 12px;\n",
              "    }\n",
              "\n",
              "    .colab-df-convert {\n",
              "      background-color: #E8F0FE;\n",
              "      border: none;\n",
              "      border-radius: 50%;\n",
              "      cursor: pointer;\n",
              "      display: none;\n",
              "      fill: #1967D2;\n",
              "      height: 32px;\n",
              "      padding: 0 0 0 0;\n",
              "      width: 32px;\n",
              "    }\n",
              "\n",
              "    .colab-df-convert:hover {\n",
              "      background-color: #E2EBFA;\n",
              "      box-shadow: 0px 1px 2px rgba(60, 64, 67, 0.3), 0px 1px 3px 1px rgba(60, 64, 67, 0.15);\n",
              "      fill: #174EA6;\n",
              "    }\n",
              "\n",
              "    .colab-df-buttons div {\n",
              "      margin-bottom: 4px;\n",
              "    }\n",
              "\n",
              "    [theme=dark] .colab-df-convert {\n",
              "      background-color: #3B4455;\n",
              "      fill: #D2E3FC;\n",
              "    }\n",
              "\n",
              "    [theme=dark] .colab-df-convert:hover {\n",
              "      background-color: #434B5C;\n",
              "      box-shadow: 0px 1px 3px 1px rgba(0, 0, 0, 0.15);\n",
              "      filter: drop-shadow(0px 1px 2px rgba(0, 0, 0, 0.3));\n",
              "      fill: #FFFFFF;\n",
              "    }\n",
              "  </style>\n",
              "\n",
              "    <script>\n",
              "      const buttonEl =\n",
              "        document.querySelector('#df-48664bd6-72fb-481b-8bc2-c3f1d27aeee7 button.colab-df-convert');\n",
              "      buttonEl.style.display =\n",
              "        google.colab.kernel.accessAllowed ? 'block' : 'none';\n",
              "\n",
              "      async function convertToInteractive(key) {\n",
              "        const element = document.querySelector('#df-48664bd6-72fb-481b-8bc2-c3f1d27aeee7');\n",
              "        const dataTable =\n",
              "          await google.colab.kernel.invokeFunction('convertToInteractive',\n",
              "                                                    [key], {});\n",
              "        if (!dataTable) return;\n",
              "\n",
              "        const docLinkHtml = 'Like what you see? Visit the ' +\n",
              "          '<a target=\"_blank\" href=https://colab.research.google.com/notebooks/data_table.ipynb>data table notebook</a>'\n",
              "          + ' to learn more about interactive tables.';\n",
              "        element.innerHTML = '';\n",
              "        dataTable['output_type'] = 'display_data';\n",
              "        await google.colab.output.renderOutput(dataTable, element);\n",
              "        const docLink = document.createElement('div');\n",
              "        docLink.innerHTML = docLinkHtml;\n",
              "        element.appendChild(docLink);\n",
              "      }\n",
              "    </script>\n",
              "  </div>\n",
              "\n",
              "\n",
              "<div id=\"df-7912fade-e013-4a1a-8e38-5f13d364c38e\">\n",
              "  <button class=\"colab-df-quickchart\" onclick=\"quickchart('df-7912fade-e013-4a1a-8e38-5f13d364c38e')\"\n",
              "            title=\"Suggest charts\"\n",
              "            style=\"display:none;\">\n",
              "\n",
              "<svg xmlns=\"http://www.w3.org/2000/svg\" height=\"24px\"viewBox=\"0 0 24 24\"\n",
              "     width=\"24px\">\n",
              "    <g>\n",
              "        <path d=\"M19 3H5c-1.1 0-2 .9-2 2v14c0 1.1.9 2 2 2h14c1.1 0 2-.9 2-2V5c0-1.1-.9-2-2-2zM9 17H7v-7h2v7zm4 0h-2V7h2v10zm4 0h-2v-4h2v4z\"/>\n",
              "    </g>\n",
              "</svg>\n",
              "  </button>\n",
              "\n",
              "<style>\n",
              "  .colab-df-quickchart {\n",
              "      --bg-color: #E8F0FE;\n",
              "      --fill-color: #1967D2;\n",
              "      --hover-bg-color: #E2EBFA;\n",
              "      --hover-fill-color: #174EA6;\n",
              "      --disabled-fill-color: #AAA;\n",
              "      --disabled-bg-color: #DDD;\n",
              "  }\n",
              "\n",
              "  [theme=dark] .colab-df-quickchart {\n",
              "      --bg-color: #3B4455;\n",
              "      --fill-color: #D2E3FC;\n",
              "      --hover-bg-color: #434B5C;\n",
              "      --hover-fill-color: #FFFFFF;\n",
              "      --disabled-bg-color: #3B4455;\n",
              "      --disabled-fill-color: #666;\n",
              "  }\n",
              "\n",
              "  .colab-df-quickchart {\n",
              "    background-color: var(--bg-color);\n",
              "    border: none;\n",
              "    border-radius: 50%;\n",
              "    cursor: pointer;\n",
              "    display: none;\n",
              "    fill: var(--fill-color);\n",
              "    height: 32px;\n",
              "    padding: 0;\n",
              "    width: 32px;\n",
              "  }\n",
              "\n",
              "  .colab-df-quickchart:hover {\n",
              "    background-color: var(--hover-bg-color);\n",
              "    box-shadow: 0 1px 2px rgba(60, 64, 67, 0.3), 0 1px 3px 1px rgba(60, 64, 67, 0.15);\n",
              "    fill: var(--button-hover-fill-color);\n",
              "  }\n",
              "\n",
              "  .colab-df-quickchart-complete:disabled,\n",
              "  .colab-df-quickchart-complete:disabled:hover {\n",
              "    background-color: var(--disabled-bg-color);\n",
              "    fill: var(--disabled-fill-color);\n",
              "    box-shadow: none;\n",
              "  }\n",
              "\n",
              "  .colab-df-spinner {\n",
              "    border: 2px solid var(--fill-color);\n",
              "    border-color: transparent;\n",
              "    border-bottom-color: var(--fill-color);\n",
              "    animation:\n",
              "      spin 1s steps(1) infinite;\n",
              "  }\n",
              "\n",
              "  @keyframes spin {\n",
              "    0% {\n",
              "      border-color: transparent;\n",
              "      border-bottom-color: var(--fill-color);\n",
              "      border-left-color: var(--fill-color);\n",
              "    }\n",
              "    20% {\n",
              "      border-color: transparent;\n",
              "      border-left-color: var(--fill-color);\n",
              "      border-top-color: var(--fill-color);\n",
              "    }\n",
              "    30% {\n",
              "      border-color: transparent;\n",
              "      border-left-color: var(--fill-color);\n",
              "      border-top-color: var(--fill-color);\n",
              "      border-right-color: var(--fill-color);\n",
              "    }\n",
              "    40% {\n",
              "      border-color: transparent;\n",
              "      border-right-color: var(--fill-color);\n",
              "      border-top-color: var(--fill-color);\n",
              "    }\n",
              "    60% {\n",
              "      border-color: transparent;\n",
              "      border-right-color: var(--fill-color);\n",
              "    }\n",
              "    80% {\n",
              "      border-color: transparent;\n",
              "      border-right-color: var(--fill-color);\n",
              "      border-bottom-color: var(--fill-color);\n",
              "    }\n",
              "    90% {\n",
              "      border-color: transparent;\n",
              "      border-bottom-color: var(--fill-color);\n",
              "    }\n",
              "  }\n",
              "</style>\n",
              "\n",
              "  <script>\n",
              "    async function quickchart(key) {\n",
              "      const quickchartButtonEl =\n",
              "        document.querySelector('#' + key + ' button');\n",
              "      quickchartButtonEl.disabled = true;  // To prevent multiple clicks.\n",
              "      quickchartButtonEl.classList.add('colab-df-spinner');\n",
              "      try {\n",
              "        const charts = await google.colab.kernel.invokeFunction(\n",
              "            'suggestCharts', [key], {});\n",
              "      } catch (error) {\n",
              "        console.error('Error during call to suggestCharts:', error);\n",
              "      }\n",
              "      quickchartButtonEl.classList.remove('colab-df-spinner');\n",
              "      quickchartButtonEl.classList.add('colab-df-quickchart-complete');\n",
              "    }\n",
              "    (() => {\n",
              "      let quickchartButtonEl =\n",
              "        document.querySelector('#df-7912fade-e013-4a1a-8e38-5f13d364c38e button');\n",
              "      quickchartButtonEl.style.display =\n",
              "        google.colab.kernel.accessAllowed ? 'block' : 'none';\n",
              "    })();\n",
              "  </script>\n",
              "</div>\n",
              "\n",
              "    </div>\n",
              "  </div>\n"
            ],
            "application/vnd.google.colaboratory.intrinsic+json": {
              "type": "dataframe",
              "variable_name": "df",
              "summary": "{\n  \"name\": \"df\",\n  \"rows\": 3019,\n  \"fields\": [\n    {\n      \"column\": \"Open\",\n      \"properties\": {\n        \"dtype\": \"number\",\n        \"std\": 280.120546603692,\n        \"min\": 26.09,\n        \"max\": 1204.88,\n        \"num_unique_values\": 2840,\n        \"samples\": [\n          90.41,\n          492.57,\n          181.37\n        ],\n        \"semantic_type\": \"\",\n        \"description\": \"\"\n      }\n    },\n    {\n      \"column\": \"High\",\n      \"properties\": {\n        \"dtype\": \"number\",\n        \"std\": 281.82644236405423,\n        \"min\": 26.3,\n        \"max\": 1213.41,\n        \"num_unique_values\": 2840,\n        \"samples\": [\n          89.6,\n          491.66,\n          191.0\n        ],\n        \"semantic_type\": \"\",\n        \"description\": \"\"\n      }\n    },\n    {\n      \"column\": \"Low\",\n      \"properties\": {\n        \"dtype\": \"number\",\n        \"std\": 277.92713379526947,\n        \"min\": 25.76,\n        \"max\": 1191.15,\n        \"num_unique_values\": 2854,\n        \"samples\": [\n          242.7,\n          273.5,\n          75.4\n        ],\n        \"semantic_type\": \"\",\n        \"description\": \"\"\n      }\n    },\n    {\n      \"column\": \"Volume\",\n      \"properties\": {\n        \"dtype\": \"number\",\n        \"std\": 5122033,\n        \"min\": 986435,\n        \"max\": 104404589,\n        \"num_unique_values\": 3019,\n        \"samples\": [\n          7404618,\n          9167308,\n          8059332\n        ],\n        \"semantic_type\": \"\",\n        \"description\": \"\"\n      }\n    },\n    {\n      \"column\": \"Close\",\n      \"properties\": {\n        \"dtype\": \"number\",\n        \"std\": 279.9801611149029,\n        \"min\": 26.07,\n        \"max\": 1195.83,\n        \"num_unique_values\": 2901,\n        \"samples\": [\n          26.78,\n          81.95,\n          77.7\n        ],\n        \"semantic_type\": \"\",\n        \"description\": \"\"\n      }\n    }\n  ]\n}"
            }
          },
          "metadata": {},
          "execution_count": 19
        }
      ],
      "source": [
        "df.head()"
      ]
    },
    {
      "cell_type": "code",
      "source": [
        "import numpy as np\n",
        "\n",
        "def create_lookback_data(df, lookback):\n",
        "    \"\"\"\n",
        "    Função para criar dados de entrada e saída para uma LSTM usando uma janela de lookback.\n",
        "\n",
        "    Parâmetros:\n",
        "    df (DataFrame): DataFrame contendo os dados. A última coluna é a coluna alvo.\n",
        "    lookback (int): Número de dias para a janela de lookback.\n",
        "\n",
        "    Retorna:\n",
        "    X (numpy array): Dados de entrada para a LSTM, de formato (n_amostras, lookback, n_features).\n",
        "    y (numpy array): Dados de saída/targets, de formato (n_amostras,).\n",
        "    \"\"\"\n",
        "    data = df.values\n",
        "    X, y = [], []\n",
        "\n",
        "    for i in range(lookback, len(data)):\n",
        "        X.append(data[i - lookback:i, :])  # Todas as colunas exceto a última (características)\n",
        "        y.append(data[i, -1])               # Apenas a última coluna (alvo)\n",
        "\n",
        "    return np.array(X), np.array(y)"
      ],
      "metadata": {
        "id": "zyv0Gkddd15y"
      },
      "execution_count": 20,
      "outputs": []
    },
    {
      "cell_type": "code",
      "source": [
        "lookback = 20\n",
        "X, y = create_lookback_data(df, lookback)\n",
        "\n",
        "print(f\"Formato de X: {X.shape}\")\n",
        "print(f\"Formato de y: {y.shape}\")"
      ],
      "metadata": {
        "colab": {
          "base_uri": "https://localhost:8080/"
        },
        "id": "poPGl2m9d7w2",
        "outputId": "244b3db0-3bad-4222-f3e2-ecc9c00f8515"
      },
      "execution_count": 21,
      "outputs": [
        {
          "output_type": "stream",
          "name": "stdout",
          "text": [
            "Formato de X: (2999, 20, 5)\n",
            "Formato de y: (2999,)\n"
          ]
        }
      ]
    },
    {
      "cell_type": "markdown",
      "metadata": {
        "id": "xd5Y2Xh5PatK"
      },
      "source": [
        "\n",
        "2. Separe 15% dos dados para teste e utilize 10% dos dados de treinamento como dados de validação durante o treinamento.\n"
      ]
    },
    {
      "cell_type": "code",
      "execution_count": 22,
      "metadata": {
        "colab": {
          "base_uri": "https://localhost:8080/"
        },
        "id": "9ouJQAWKPatK",
        "outputId": "bd3dfc38-01f7-49d7-9b10-014ab87c051a"
      },
      "outputs": [
        {
          "output_type": "stream",
          "name": "stdout",
          "text": [
            "Formato de X_train: (2294, 20, 5)\n",
            "Formato de X_val: (255, 20, 5)\n",
            "Formato de X_test: (450, 20, 5)\n",
            "Formato de y_train: (2294,)\n",
            "Formato de y_val: (255,)\n",
            "Formato de y_test: (450,)\n"
          ]
        }
      ],
      "source": [
        "from sklearn.model_selection import train_test_split\n",
        "\n",
        "# 15% teste\n",
        "X_train, X_test, y_train, y_test = train_test_split(X, y, test_size=0.15, shuffle=False)\n",
        "\n",
        "# 10% validação\n",
        "X_train, X_val, y_train, y_val = train_test_split(X_train, y_train, test_size=0.10, shuffle=False)\n",
        "\n",
        "print(f\"Formato de X_train: {X_train.shape}\")\n",
        "print(f\"Formato de X_val: {X_val.shape}\")\n",
        "print(f\"Formato de X_test: {X_test.shape}\")\n",
        "print(f\"Formato de y_train: {y_train.shape}\")\n",
        "print(f\"Formato de y_val: {y_val.shape}\")\n",
        "print(f\"Formato de y_test: {y_test.shape}\")"
      ]
    },
    {
      "cell_type": "code",
      "execution_count": 23,
      "metadata": {
        "colab": {
          "base_uri": "https://localhost:8080/"
        },
        "id": "d_YtSUvbPatL",
        "outputId": "8a56aa5e-d475-4742-ee5f-6448d2d42008"
      },
      "outputs": [
        {
          "output_type": "execute_result",
          "data": {
            "text/plain": [
              "45880"
            ]
          },
          "metadata": {},
          "execution_count": 23
        }
      ],
      "source": [
        "2294 * 20"
      ]
    },
    {
      "cell_type": "code",
      "execution_count": 24,
      "metadata": {
        "colab": {
          "base_uri": "https://localhost:8080/"
        },
        "id": "66Gq8iA6PatL",
        "outputId": "eb927165-6ed6-4be1-8f2e-6e4b03fa31b5"
      },
      "outputs": [
        {
          "output_type": "execute_result",
          "data": {
            "text/plain": [
              "(45880, 5)"
            ]
          },
          "metadata": {},
          "execution_count": 24
        }
      ],
      "source": [
        "X_train.reshape(-1, X_train.shape[-1]).shape"
      ]
    },
    {
      "cell_type": "code",
      "execution_count": 25,
      "metadata": {
        "colab": {
          "base_uri": "https://localhost:8080/"
        },
        "id": "Yta4a-lTPatL",
        "outputId": "7604a5b8-50fc-496c-99de-fe3727cb3ed5"
      },
      "outputs": [
        {
          "output_type": "execute_result",
          "data": {
            "text/plain": [
              "array([[4.747000e+01, 4.785000e+01, 4.625000e+01, 7.582127e+06,\n",
              "        4.758000e+01],\n",
              "       [4.748000e+01, 4.773000e+01, 4.669000e+01, 7.440914e+06,\n",
              "        4.725000e+01],\n",
              "       [4.716000e+01, 4.820000e+01, 4.711000e+01, 5.417258e+06,\n",
              "        4.765000e+01],\n",
              "       [4.797000e+01, 4.858000e+01, 4.732000e+01, 6.154285e+06,\n",
              "        4.787000e+01],\n",
              "       [4.655000e+01, 4.710000e+01, 4.640000e+01, 8.945056e+06,\n",
              "        4.708000e+01],\n",
              "       [4.641000e+01, 4.675000e+01, 4.536000e+01, 9.686957e+06,\n",
              "        4.565000e+01],\n",
              "       [4.565000e+01, 4.570000e+01, 4.426000e+01, 8.497383e+06,\n",
              "        4.493000e+01],\n",
              "       [4.479000e+01, 4.509000e+01, 4.409000e+01, 5.818301e+06,\n",
              "        4.436000e+01],\n",
              "       [4.448000e+01, 4.485000e+01, 4.400000e+01, 4.432237e+06,\n",
              "        4.440000e+01],\n",
              "       [4.395000e+01, 4.432000e+01, 4.366000e+01, 5.635225e+06,\n",
              "        4.400000e+01],\n",
              "       [4.319000e+01, 4.459000e+01, 4.310000e+01, 8.744464e+06,\n",
              "        4.432000e+01],\n",
              "       [4.450000e+01, 4.524000e+01, 4.430000e+01, 5.156990e+06,\n",
              "        4.445000e+01],\n",
              "       [4.423000e+01, 4.436000e+01, 4.320000e+01, 8.344332e+06,\n",
              "        4.392000e+01],\n",
              "       [4.418000e+01, 4.475000e+01, 4.350000e+01, 5.752811e+06,\n",
              "        4.373000e+01],\n",
              "       [4.366000e+01, 4.443000e+01, 4.342000e+01, 4.342401e+06,\n",
              "        4.402000e+01],\n",
              "       [4.405000e+01, 4.447000e+01, 4.334000e+01, 4.287595e+06,\n",
              "        4.360000e+01],\n",
              "       [4.395000e+01, 4.478000e+01, 4.379000e+01, 4.890969e+06,\n",
              "        4.468000e+01],\n",
              "       [4.455000e+01, 4.522000e+01, 4.453000e+01, 4.174089e+06,\n",
              "        4.522000e+01],\n",
              "       [4.541000e+01, 4.597000e+01, 4.474000e+01, 4.099826e+06,\n",
              "        4.496000e+01],\n",
              "       [4.476000e+01, 4.521000e+01, 4.425000e+01, 4.056024e+06,\n",
              "        4.482000e+01]])"
            ]
          },
          "metadata": {},
          "execution_count": 25
        }
      ],
      "source": [
        "X_train[0]"
      ]
    },
    {
      "cell_type": "code",
      "source": [
        "from sklearn.preprocessing import MinMaxScaler\n",
        "\n",
        "# Normalizando os dados de treinamento\n",
        "scaler_X = MinMaxScaler(feature_range=(0, 1))\n",
        "scaler_y = MinMaxScaler(feature_range=(0, 1))"
      ],
      "metadata": {
        "id": "t4qFYma7lnX2"
      },
      "execution_count": 26,
      "outputs": []
    },
    {
      "cell_type": "code",
      "source": [
        "# Ajustando a forma de X_train para duas dimensões antes da normalização\n",
        "X_train_reshaped = X_train.reshape(-1, X_train.shape[-1])\n",
        "print(X_train_reshaped.shape)\n",
        "X_train_reshaped[0]"
      ],
      "metadata": {
        "colab": {
          "base_uri": "https://localhost:8080/"
        },
        "id": "mHAltkPGl82g",
        "outputId": "5f0240e9-7a35-46de-a394-d3007f851fd0"
      },
      "execution_count": 28,
      "outputs": [
        {
          "output_type": "stream",
          "name": "stdout",
          "text": [
            "(45880, 5)\n"
          ]
        },
        {
          "output_type": "execute_result",
          "data": {
            "text/plain": [
              "array([4.747000e+01, 4.785000e+01, 4.625000e+01, 7.582127e+06,\n",
              "       4.758000e+01])"
            ]
          },
          "metadata": {},
          "execution_count": 28
        }
      ]
    },
    {
      "cell_type": "code",
      "source": [
        "# Normaliza os valores\n",
        "X_train_scaled = scaler_X.fit_transform(X_train_reshaped)\n",
        "print(X_train_scaled.shape)\n",
        "X_train_scaled[0]"
      ],
      "metadata": {
        "colab": {
          "base_uri": "https://localhost:8080/"
        },
        "id": "vkZSFHjJl9h2",
        "outputId": "d4df5615-1b93-43f5-d0ec-6482218475f1"
      },
      "execution_count": 30,
      "outputs": [
        {
          "output_type": "stream",
          "name": "stdout",
          "text": [
            "(45880, 5)\n"
          ]
        },
        {
          "output_type": "execute_result",
          "data": {
            "text/plain": [
              "array([0.05598178, 0.05644908, 0.05445992, 0.06377693, 0.05645966])"
            ]
          },
          "metadata": {},
          "execution_count": 30
        }
      ]
    },
    {
      "cell_type": "code",
      "source": [
        "# Ajustando a forma de volta para três dimensões após a normalização\n",
        "X_train = X_train_scaled.reshape(X_train.shape)\n",
        "print(X_train.shape)\n",
        "X_train[0]"
      ],
      "metadata": {
        "colab": {
          "base_uri": "https://localhost:8080/"
        },
        "id": "XsIEtATrmKg4",
        "outputId": "09da091f-2c62-4970-ce3a-6da16841f427"
      },
      "execution_count": 31,
      "outputs": [
        {
          "output_type": "stream",
          "name": "stdout",
          "text": [
            "(2294, 20, 5)\n"
          ]
        },
        {
          "output_type": "execute_result",
          "data": {
            "text/plain": [
              "array([[0.05598178, 0.05644908, 0.05445992, 0.06377693, 0.05645966],\n",
              "       [0.05600796, 0.05613474, 0.05562939, 0.06241147, 0.05559347],\n",
              "       [0.05517007, 0.05736588, 0.05674569, 0.04284376, 0.05664339],\n",
              "       [0.05729098, 0.05836127, 0.05730385, 0.04997043, 0.05722085],\n",
              "       [0.05357283, 0.05448449, 0.0548586 , 0.07695574, 0.05514725],\n",
              "       [0.05320625, 0.05356769, 0.05209441, 0.08412954, 0.05139377],\n",
              "       [0.05121626, 0.05081727, 0.04917074, 0.07262698, 0.04950391],\n",
              "       [0.04896442, 0.0492194 , 0.0487189 , 0.04672164, 0.04800777],\n",
              "       [0.04815271, 0.04859074, 0.04847969, 0.03331912, 0.04811276],\n",
              "       [0.04676494, 0.04720243, 0.04757602, 0.04495139, 0.04706284],\n",
              "       [0.04477495, 0.04790968, 0.0460876 , 0.07501612, 0.04790278],\n",
              "       [0.04820507, 0.04961232, 0.04927706, 0.04032711, 0.048244  ],\n",
              "       [0.0474981 , 0.04730721, 0.04635339, 0.07114705, 0.04685285],\n",
              "       [0.04736718, 0.04832879, 0.04715075, 0.04608839, 0.04635414],\n",
              "       [0.0460056 , 0.04749057, 0.04693812, 0.03245045, 0.04711533],\n",
              "       [0.04702679, 0.04759535, 0.04672549, 0.03192051, 0.04601291],\n",
              "       [0.04676494, 0.04840738, 0.04792154, 0.03775482, 0.04884771],\n",
              "       [0.048336  , 0.04955993, 0.04988837, 0.03082296, 0.05026511],\n",
              "       [0.05058783, 0.05152452, 0.05044652, 0.03010488, 0.04958266],\n",
              "       [0.04888586, 0.04953374, 0.04914416, 0.02968134, 0.04921518]])"
            ]
          },
          "metadata": {},
          "execution_count": 31
        }
      ]
    },
    {
      "cell_type": "code",
      "source": [
        "y_train = scaler_y.fit_transform(y_train.reshape(-1, 1))\n",
        "\n",
        "# Normalizando os dados de teste\n",
        "X_test = scaler_X.transform(X_test.reshape(-1, X_test.shape[-1])).reshape(X_test.shape)\n",
        "y_test = scaler_y.transform(y_test.reshape(-1, 1))"
      ],
      "metadata": {
        "id": "vI5LqpXKmPBp"
      },
      "execution_count": 32,
      "outputs": []
    },
    {
      "cell_type": "markdown",
      "metadata": {
        "id": "xnwHY879PatL"
      },
      "source": [
        "\n",
        "3. Treine um modelo de RNN, outro de GRU e outro de LSTM, cada um com 5 camadas contendo 50, 40, 30, 20 e 10 neurônios, respectivamente.\n"
      ]
    },
    {
      "cell_type": "code",
      "execution_count": 34,
      "metadata": {
        "colab": {
          "base_uri": "https://localhost:8080/"
        },
        "id": "PT_ApE7_PatM",
        "outputId": "1734d2a0-d77b-4b97-8371-171781f55524"
      },
      "outputs": [
        {
          "output_type": "stream",
          "name": "stdout",
          "text": [
            "Epoch 1/50\n",
            "\u001b[1m72/72\u001b[0m \u001b[32m━━━━━━━━━━━━━━━━━━━━\u001b[0m\u001b[37m\u001b[0m \u001b[1m10s\u001b[0m 41ms/step - loss: 0.1361 - val_loss: 281116.9375\n",
            "Epoch 2/50\n",
            "\u001b[1m72/72\u001b[0m \u001b[32m━━━━━━━━━━━━━━━━━━━━\u001b[0m\u001b[37m\u001b[0m \u001b[1m4s\u001b[0m 27ms/step - loss: 0.0014 - val_loss: 281094.4688\n",
            "Epoch 3/50\n",
            "\u001b[1m72/72\u001b[0m \u001b[32m━━━━━━━━━━━━━━━━━━━━\u001b[0m\u001b[37m\u001b[0m \u001b[1m2s\u001b[0m 28ms/step - loss: 8.5092e-04 - val_loss: 281081.4062\n",
            "Epoch 4/50\n",
            "\u001b[1m72/72\u001b[0m \u001b[32m━━━━━━━━━━━━━━━━━━━━\u001b[0m\u001b[37m\u001b[0m \u001b[1m3s\u001b[0m 29ms/step - loss: 6.5732e-04 - val_loss: 281082.9375\n",
            "Epoch 5/50\n",
            "\u001b[1m72/72\u001b[0m \u001b[32m━━━━━━━━━━━━━━━━━━━━\u001b[0m\u001b[37m\u001b[0m \u001b[1m2s\u001b[0m 22ms/step - loss: 5.8145e-04 - val_loss: 281086.3750\n",
            "Epoch 6/50\n",
            "\u001b[1m72/72\u001b[0m \u001b[32m━━━━━━━━━━━━━━━━━━━━\u001b[0m\u001b[37m\u001b[0m \u001b[1m3s\u001b[0m 23ms/step - loss: 4.4429e-04 - val_loss: 281093.6562\n",
            "Epoch 7/50\n",
            "\u001b[1m72/72\u001b[0m \u001b[32m━━━━━━━━━━━━━━━━━━━━\u001b[0m\u001b[37m\u001b[0m \u001b[1m3s\u001b[0m 28ms/step - loss: 4.3276e-04 - val_loss: 281099.2812\n",
            "Epoch 8/50\n",
            "\u001b[1m72/72\u001b[0m \u001b[32m━━━━━━━━━━━━━━━━━━━━\u001b[0m\u001b[37m\u001b[0m \u001b[1m2s\u001b[0m 22ms/step - loss: 4.6904e-04 - val_loss: 281109.2812\n",
            "Epoch 9/50\n",
            "\u001b[1m72/72\u001b[0m \u001b[32m━━━━━━━━━━━━━━━━━━━━\u001b[0m\u001b[37m\u001b[0m \u001b[1m4s\u001b[0m 37ms/step - loss: 5.1395e-04 - val_loss: 281121.8750\n",
            "Epoch 10/50\n",
            "\u001b[1m72/72\u001b[0m \u001b[32m━━━━━━━━━━━━━━━━━━━━\u001b[0m\u001b[37m\u001b[0m \u001b[1m2s\u001b[0m 22ms/step - loss: 3.2545e-04 - val_loss: 281130.4688\n",
            "Epoch 11/50\n",
            "\u001b[1m72/72\u001b[0m \u001b[32m━━━━━━━━━━━━━━━━━━━━\u001b[0m\u001b[37m\u001b[0m \u001b[1m3s\u001b[0m 23ms/step - loss: 5.4282e-04 - val_loss: 281136.5312\n",
            "Epoch 12/50\n",
            "\u001b[1m72/72\u001b[0m \u001b[32m━━━━━━━━━━━━━━━━━━━━\u001b[0m\u001b[37m\u001b[0m \u001b[1m2s\u001b[0m 22ms/step - loss: 3.6298e-04 - val_loss: 281147.8125\n",
            "Epoch 13/50\n",
            "\u001b[1m72/72\u001b[0m \u001b[32m━━━━━━━━━━━━━━━━━━━━\u001b[0m\u001b[37m\u001b[0m \u001b[1m2s\u001b[0m 29ms/step - loss: 4.9019e-04 - val_loss: 280812.4375\n",
            "Epoch 14/50\n",
            "\u001b[1m72/72\u001b[0m \u001b[32m━━━━━━━━━━━━━━━━━━━━\u001b[0m\u001b[37m\u001b[0m \u001b[1m2s\u001b[0m 22ms/step - loss: 6.3338e-04 - val_loss: 280825.9062\n",
            "Epoch 15/50\n",
            "\u001b[1m72/72\u001b[0m \u001b[32m━━━━━━━━━━━━━━━━━━━━\u001b[0m\u001b[37m\u001b[0m \u001b[1m4s\u001b[0m 40ms/step - loss: 3.6177e-04 - val_loss: 280828.9062\n",
            "Epoch 16/50\n",
            "\u001b[1m72/72\u001b[0m \u001b[32m━━━━━━━━━━━━━━━━━━━━\u001b[0m\u001b[37m\u001b[0m \u001b[1m2s\u001b[0m 30ms/step - loss: 4.1294e-04 - val_loss: 280841.4062\n",
            "Epoch 17/50\n",
            "\u001b[1m72/72\u001b[0m \u001b[32m━━━━━━━━━━━━━━━━━━━━\u001b[0m\u001b[37m\u001b[0m \u001b[1m3s\u001b[0m 37ms/step - loss: 4.8326e-04 - val_loss: 280836.7188\n",
            "Epoch 18/50\n",
            "\u001b[1m72/72\u001b[0m \u001b[32m━━━━━━━━━━━━━━━━━━━━\u001b[0m\u001b[37m\u001b[0m \u001b[1m4s\u001b[0m 21ms/step - loss: 3.7837e-04 - val_loss: 280843.5938\n",
            "Epoch 19/50\n",
            "\u001b[1m72/72\u001b[0m \u001b[32m━━━━━━━━━━━━━━━━━━━━\u001b[0m\u001b[37m\u001b[0m \u001b[1m2s\u001b[0m 30ms/step - loss: 5.3231e-04 - val_loss: 280852.9062\n",
            "Epoch 20/50\n",
            "\u001b[1m72/72\u001b[0m \u001b[32m━━━━━━━━━━━━━━━━━━━━\u001b[0m\u001b[37m\u001b[0m \u001b[1m4s\u001b[0m 52ms/step - loss: 3.2267e-04 - val_loss: 280861.0625\n",
            "Epoch 21/50\n",
            "\u001b[1m72/72\u001b[0m \u001b[32m━━━━━━━━━━━━━━━━━━━━\u001b[0m\u001b[37m\u001b[0m \u001b[1m3s\u001b[0m 26ms/step - loss: 4.4168e-04 - val_loss: 280862.5938\n",
            "Epoch 22/50\n",
            "\u001b[1m72/72\u001b[0m \u001b[32m━━━━━━━━━━━━━━━━━━━━\u001b[0m\u001b[37m\u001b[0m \u001b[1m2s\u001b[0m 29ms/step - loss: 2.7162e-04 - val_loss: 280869.2812\n",
            "Epoch 23/50\n",
            "\u001b[1m72/72\u001b[0m \u001b[32m━━━━━━━━━━━━━━━━━━━━\u001b[0m\u001b[37m\u001b[0m \u001b[1m2s\u001b[0m 22ms/step - loss: 2.7792e-04 - val_loss: 280872.7500\n",
            "Epoch 24/50\n",
            "\u001b[1m72/72\u001b[0m \u001b[32m━━━━━━━━━━━━━━━━━━━━\u001b[0m\u001b[37m\u001b[0m \u001b[1m3s\u001b[0m 27ms/step - loss: 4.9068e-04 - val_loss: 280867.1875\n",
            "Epoch 25/50\n",
            "\u001b[1m72/72\u001b[0m \u001b[32m━━━━━━━━━━━━━━━━━━━━\u001b[0m\u001b[37m\u001b[0m \u001b[1m3s\u001b[0m 31ms/step - loss: 3.3063e-04 - val_loss: 280880.1250\n",
            "Epoch 26/50\n",
            "\u001b[1m72/72\u001b[0m \u001b[32m━━━━━━━━━━━━━━━━━━━━\u001b[0m\u001b[37m\u001b[0m \u001b[1m3s\u001b[0m 34ms/step - loss: 3.5670e-04 - val_loss: 280877.5938\n",
            "Epoch 27/50\n",
            "\u001b[1m72/72\u001b[0m \u001b[32m━━━━━━━━━━━━━━━━━━━━\u001b[0m\u001b[37m\u001b[0m \u001b[1m2s\u001b[0m 23ms/step - loss: 2.6942e-04 - val_loss: 280878.0938\n",
            "Epoch 28/50\n",
            "\u001b[1m72/72\u001b[0m \u001b[32m━━━━━━━━━━━━━━━━━━━━\u001b[0m\u001b[37m\u001b[0m \u001b[1m3s\u001b[0m 26ms/step - loss: 5.2637e-04 - val_loss: 280887.3750\n",
            "Epoch 29/50\n",
            "\u001b[1m72/72\u001b[0m \u001b[32m━━━━━━━━━━━━━━━━━━━━\u001b[0m\u001b[37m\u001b[0m \u001b[1m5s\u001b[0m 62ms/step - loss: 3.8567e-04 - val_loss: 280896.0000\n",
            "Epoch 30/50\n",
            "\u001b[1m72/72\u001b[0m \u001b[32m━━━━━━━━━━━━━━━━━━━━\u001b[0m\u001b[37m\u001b[0m \u001b[1m3s\u001b[0m 37ms/step - loss: 3.4597e-04 - val_loss: 280894.7812\n",
            "Epoch 31/50\n",
            "\u001b[1m72/72\u001b[0m \u001b[32m━━━━━━━━━━━━━━━━━━━━\u001b[0m\u001b[37m\u001b[0m \u001b[1m4s\u001b[0m 22ms/step - loss: 2.5534e-04 - val_loss: 280896.6875\n",
            "Epoch 32/50\n",
            "\u001b[1m72/72\u001b[0m \u001b[32m━━━━━━━━━━━━━━━━━━━━\u001b[0m\u001b[37m\u001b[0m \u001b[1m3s\u001b[0m 37ms/step - loss: 3.8496e-04 - val_loss: 280890.1875\n",
            "Epoch 33/50\n",
            "\u001b[1m72/72\u001b[0m \u001b[32m━━━━━━━━━━━━━━━━━━━━\u001b[0m\u001b[37m\u001b[0m \u001b[1m2s\u001b[0m 24ms/step - loss: 2.7487e-04 - val_loss: 280895.0312\n",
            "Epoch 34/50\n",
            "\u001b[1m72/72\u001b[0m \u001b[32m━━━━━━━━━━━━━━━━━━━━\u001b[0m\u001b[37m\u001b[0m \u001b[1m4s\u001b[0m 38ms/step - loss: 3.1792e-04 - val_loss: 280893.8125\n",
            "Epoch 35/50\n",
            "\u001b[1m72/72\u001b[0m \u001b[32m━━━━━━━━━━━━━━━━━━━━\u001b[0m\u001b[37m\u001b[0m \u001b[1m4s\u001b[0m 23ms/step - loss: 2.5181e-04 - val_loss: 280886.5938\n",
            "Epoch 36/50\n",
            "\u001b[1m72/72\u001b[0m \u001b[32m━━━━━━━━━━━━━━━━━━━━\u001b[0m\u001b[37m\u001b[0m \u001b[1m3s\u001b[0m 24ms/step - loss: 3.5487e-04 - val_loss: 280889.9062\n",
            "Epoch 37/50\n",
            "\u001b[1m72/72\u001b[0m \u001b[32m━━━━━━━━━━━━━━━━━━━━\u001b[0m\u001b[37m\u001b[0m \u001b[1m2s\u001b[0m 23ms/step - loss: 6.8190e-04 - val_loss: 280901.4062\n",
            "Epoch 38/50\n",
            "\u001b[1m72/72\u001b[0m \u001b[32m━━━━━━━━━━━━━━━━━━━━\u001b[0m\u001b[37m\u001b[0m \u001b[1m3s\u001b[0m 35ms/step - loss: 4.3900e-04 - val_loss: 280905.3750\n",
            "Epoch 39/50\n",
            "\u001b[1m72/72\u001b[0m \u001b[32m━━━━━━━━━━━━━━━━━━━━\u001b[0m\u001b[37m\u001b[0m \u001b[1m2s\u001b[0m 30ms/step - loss: 3.0726e-04 - val_loss: 280896.9375\n",
            "Epoch 40/50\n",
            "\u001b[1m72/72\u001b[0m \u001b[32m━━━━━━━━━━━━━━━━━━━━\u001b[0m\u001b[37m\u001b[0m \u001b[1m2s\u001b[0m 23ms/step - loss: 2.5419e-04 - val_loss: 280904.2500\n",
            "Epoch 41/50\n",
            "\u001b[1m72/72\u001b[0m \u001b[32m━━━━━━━━━━━━━━━━━━━━\u001b[0m\u001b[37m\u001b[0m \u001b[1m2s\u001b[0m 23ms/step - loss: 3.0631e-04 - val_loss: 280900.8438\n",
            "Epoch 42/50\n",
            "\u001b[1m72/72\u001b[0m \u001b[32m━━━━━━━━━━━━━━━━━━━━\u001b[0m\u001b[37m\u001b[0m \u001b[1m2s\u001b[0m 27ms/step - loss: 2.2485e-04 - val_loss: 280905.3750\n",
            "Epoch 43/50\n",
            "\u001b[1m72/72\u001b[0m \u001b[32m━━━━━━━━━━━━━━━━━━━━\u001b[0m\u001b[37m\u001b[0m \u001b[1m2s\u001b[0m 21ms/step - loss: 2.7157e-04 - val_loss: 280904.4062\n",
            "Epoch 44/50\n",
            "\u001b[1m72/72\u001b[0m \u001b[32m━━━━━━━━━━━━━━━━━━━━\u001b[0m\u001b[37m\u001b[0m \u001b[1m2s\u001b[0m 33ms/step - loss: 2.7659e-04 - val_loss: 280902.0938\n",
            "Epoch 45/50\n",
            "\u001b[1m72/72\u001b[0m \u001b[32m━━━━━━━━━━━━━━━━━━━━\u001b[0m\u001b[37m\u001b[0m \u001b[1m3s\u001b[0m 38ms/step - loss: 3.0748e-04 - val_loss: 280912.1250\n",
            "Epoch 46/50\n",
            "\u001b[1m72/72\u001b[0m \u001b[32m━━━━━━━━━━━━━━━━━━━━\u001b[0m\u001b[37m\u001b[0m \u001b[1m2s\u001b[0m 23ms/step - loss: 3.4021e-04 - val_loss: 280913.5000\n",
            "Epoch 47/50\n",
            "\u001b[1m72/72\u001b[0m \u001b[32m━━━━━━━━━━━━━━━━━━━━\u001b[0m\u001b[37m\u001b[0m \u001b[1m2s\u001b[0m 22ms/step - loss: 2.8184e-04 - val_loss: 280914.4375\n",
            "Epoch 48/50\n",
            "\u001b[1m72/72\u001b[0m \u001b[32m━━━━━━━━━━━━━━━━━━━━\u001b[0m\u001b[37m\u001b[0m \u001b[1m3s\u001b[0m 26ms/step - loss: 2.3180e-04 - val_loss: 280915.5625\n",
            "Epoch 49/50\n",
            "\u001b[1m72/72\u001b[0m \u001b[32m━━━━━━━━━━━━━━━━━━━━\u001b[0m\u001b[37m\u001b[0m \u001b[1m2s\u001b[0m 26ms/step - loss: 2.5513e-04 - val_loss: 280912.5938\n",
            "Epoch 50/50\n",
            "\u001b[1m72/72\u001b[0m \u001b[32m━━━━━━━━━━━━━━━━━━━━\u001b[0m\u001b[37m\u001b[0m \u001b[1m3s\u001b[0m 47ms/step - loss: 2.1536e-04 - val_loss: 280913.6875\n"
          ]
        }
      ],
      "source": [
        "from tensorflow.keras.models import Sequential\n",
        "from tensorflow.keras.layers import SimpleRNN, Dense\n",
        "\n",
        "# Definindo o modelo RNN\n",
        "rnn_model = Sequential([\n",
        "    SimpleRNN(50, return_sequences=True, input_shape=(X_train.shape[1], X_train.shape[2])),\n",
        "    SimpleRNN(40, return_sequences=True),\n",
        "    SimpleRNN(30, return_sequences=True),\n",
        "    SimpleRNN(20, return_sequences=True),\n",
        "    SimpleRNN(10),\n",
        "    Dense(1)\n",
        "])\n",
        "\n",
        "rnn_model.compile(optimizer='adam', loss='mean_squared_error')\n",
        "rnn_history = rnn_model.fit(X_train, y_train, epochs=50, batch_size=32, validation_data=(X_val, y_val))"
      ]
    },
    {
      "cell_type": "code",
      "execution_count": 35,
      "metadata": {
        "colab": {
          "base_uri": "https://localhost:8080/"
        },
        "id": "SKJ_txaaPatM",
        "outputId": "ed022d21-1b30-4914-e5f4-1b852cc61f7e"
      },
      "outputs": [
        {
          "output_type": "stream",
          "name": "stdout",
          "text": [
            "Epoch 1/50\n",
            "\u001b[1m72/72\u001b[0m \u001b[32m━━━━━━━━━━━━━━━━━━━━\u001b[0m\u001b[37m\u001b[0m \u001b[1m17s\u001b[0m 85ms/step - loss: 0.0472 - val_loss: 281307.5312\n",
            "Epoch 2/50\n",
            "\u001b[1m72/72\u001b[0m \u001b[32m━━━━━━━━━━━━━━━━━━━━\u001b[0m\u001b[37m\u001b[0m \u001b[1m4s\u001b[0m 55ms/step - loss: 8.1549e-04 - val_loss: 281175.8750\n",
            "Epoch 3/50\n",
            "\u001b[1m72/72\u001b[0m \u001b[32m━━━━━━━━━━━━━━━━━━━━\u001b[0m\u001b[37m\u001b[0m \u001b[1m10s\u001b[0m 118ms/step - loss: 6.2920e-04 - val_loss: 281126.9375\n",
            "Epoch 4/50\n",
            "\u001b[1m72/72\u001b[0m \u001b[32m━━━━━━━━━━━━━━━━━━━━\u001b[0m\u001b[37m\u001b[0m \u001b[1m5s\u001b[0m 67ms/step - loss: 5.3029e-04 - val_loss: 281090.2500\n",
            "Epoch 5/50\n",
            "\u001b[1m72/72\u001b[0m \u001b[32m━━━━━━━━━━━━━━━━━━━━\u001b[0m\u001b[37m\u001b[0m \u001b[1m4s\u001b[0m 58ms/step - loss: 4.0387e-04 - val_loss: 281054.8125\n",
            "Epoch 6/50\n",
            "\u001b[1m72/72\u001b[0m \u001b[32m━━━━━━━━━━━━━━━━━━━━\u001b[0m\u001b[37m\u001b[0m \u001b[1m5s\u001b[0m 61ms/step - loss: 3.7418e-04 - val_loss: 281034.2500\n",
            "Epoch 7/50\n",
            "\u001b[1m72/72\u001b[0m \u001b[32m━━━━━━━━━━━━━━━━━━━━\u001b[0m\u001b[37m\u001b[0m \u001b[1m4s\u001b[0m 58ms/step - loss: 3.3358e-04 - val_loss: 280945.7188\n",
            "Epoch 8/50\n",
            "\u001b[1m72/72\u001b[0m \u001b[32m━━━━━━━━━━━━━━━━━━━━\u001b[0m\u001b[37m\u001b[0m \u001b[1m5s\u001b[0m 68ms/step - loss: 3.0857e-04 - val_loss: 280918.4688\n",
            "Epoch 9/50\n",
            "\u001b[1m72/72\u001b[0m \u001b[32m━━━━━━━━━━━━━━━━━━━━\u001b[0m\u001b[37m\u001b[0m \u001b[1m4s\u001b[0m 48ms/step - loss: 3.0447e-04 - val_loss: 280849.3750\n",
            "Epoch 10/50\n",
            "\u001b[1m72/72\u001b[0m \u001b[32m━━━━━━━━━━━━━━━━━━━━\u001b[0m\u001b[37m\u001b[0m \u001b[1m5s\u001b[0m 53ms/step - loss: 2.3678e-04 - val_loss: 280848.7812\n",
            "Epoch 11/50\n",
            "\u001b[1m72/72\u001b[0m \u001b[32m━━━━━━━━━━━━━━━━━━━━\u001b[0m\u001b[37m\u001b[0m \u001b[1m6s\u001b[0m 85ms/step - loss: 2.7431e-04 - val_loss: 280851.0312\n",
            "Epoch 12/50\n",
            "\u001b[1m72/72\u001b[0m \u001b[32m━━━━━━━━━━━━━━━━━━━━\u001b[0m\u001b[37m\u001b[0m \u001b[1m4s\u001b[0m 60ms/step - loss: 2.6226e-04 - val_loss: 280851.1562\n",
            "Epoch 13/50\n",
            "\u001b[1m72/72\u001b[0m \u001b[32m━━━━━━━━━━━━━━━━━━━━\u001b[0m\u001b[37m\u001b[0m \u001b[1m5s\u001b[0m 58ms/step - loss: 2.3299e-04 - val_loss: 280824.0312\n",
            "Epoch 14/50\n",
            "\u001b[1m72/72\u001b[0m \u001b[32m━━━━━━━━━━━━━━━━━━━━\u001b[0m\u001b[37m\u001b[0m \u001b[1m6s\u001b[0m 66ms/step - loss: 2.5300e-04 - val_loss: 280819.4375\n",
            "Epoch 15/50\n",
            "\u001b[1m72/72\u001b[0m \u001b[32m━━━━━━━━━━━━━━━━━━━━\u001b[0m\u001b[37m\u001b[0m \u001b[1m4s\u001b[0m 50ms/step - loss: 2.1000e-04 - val_loss: 280821.3125\n",
            "Epoch 16/50\n",
            "\u001b[1m72/72\u001b[0m \u001b[32m━━━━━━━━━━━━━━━━━━━━\u001b[0m\u001b[37m\u001b[0m \u001b[1m6s\u001b[0m 62ms/step - loss: 2.0722e-04 - val_loss: 280823.2812\n",
            "Epoch 17/50\n",
            "\u001b[1m72/72\u001b[0m \u001b[32m━━━━━━━━━━━━━━━━━━━━\u001b[0m\u001b[37m\u001b[0m \u001b[1m4s\u001b[0m 52ms/step - loss: 2.4347e-04 - val_loss: 280693.7188\n",
            "Epoch 18/50\n",
            "\u001b[1m72/72\u001b[0m \u001b[32m━━━━━━━━━━━━━━━━━━━━\u001b[0m\u001b[37m\u001b[0m \u001b[1m4s\u001b[0m 56ms/step - loss: 1.6742e-04 - val_loss: 280694.6562\n",
            "Epoch 19/50\n",
            "\u001b[1m72/72\u001b[0m \u001b[32m━━━━━━━━━━━━━━━━━━━━\u001b[0m\u001b[37m\u001b[0m \u001b[1m6s\u001b[0m 69ms/step - loss: 2.0987e-04 - val_loss: 280692.7500\n",
            "Epoch 20/50\n",
            "\u001b[1m72/72\u001b[0m \u001b[32m━━━━━━━━━━━━━━━━━━━━\u001b[0m\u001b[37m\u001b[0m \u001b[1m4s\u001b[0m 49ms/step - loss: 2.5563e-04 - val_loss: 280688.6562\n",
            "Epoch 21/50\n",
            "\u001b[1m72/72\u001b[0m \u001b[32m━━━━━━━━━━━━━━━━━━━━\u001b[0m\u001b[37m\u001b[0m \u001b[1m4s\u001b[0m 57ms/step - loss: 2.1106e-04 - val_loss: 280698.6562\n",
            "Epoch 22/50\n",
            "\u001b[1m72/72\u001b[0m \u001b[32m━━━━━━━━━━━━━━━━━━━━\u001b[0m\u001b[37m\u001b[0m \u001b[1m7s\u001b[0m 84ms/step - loss: 1.8921e-04 - val_loss: 280693.1875\n",
            "Epoch 23/50\n",
            "\u001b[1m72/72\u001b[0m \u001b[32m━━━━━━━━━━━━━━━━━━━━\u001b[0m\u001b[37m\u001b[0m \u001b[1m12s\u001b[0m 104ms/step - loss: 1.8718e-04 - val_loss: 280683.0625\n",
            "Epoch 24/50\n",
            "\u001b[1m72/72\u001b[0m \u001b[32m━━━━━━━━━━━━━━━━━━━━\u001b[0m\u001b[37m\u001b[0m \u001b[1m9s\u001b[0m 128ms/step - loss: 2.6499e-04 - val_loss: 280676.7188\n",
            "Epoch 25/50\n",
            "\u001b[1m72/72\u001b[0m \u001b[32m━━━━━━━━━━━━━━━━━━━━\u001b[0m\u001b[37m\u001b[0m \u001b[1m10s\u001b[0m 119ms/step - loss: 1.5133e-04 - val_loss: 280685.8125\n",
            "Epoch 26/50\n",
            "\u001b[1m72/72\u001b[0m \u001b[32m━━━━━━━━━━━━━━━━━━━━\u001b[0m\u001b[37m\u001b[0m \u001b[1m5s\u001b[0m 47ms/step - loss: 1.8950e-04 - val_loss: 280688.8438\n",
            "Epoch 27/50\n",
            "\u001b[1m72/72\u001b[0m \u001b[32m━━━━━━━━━━━━━━━━━━━━\u001b[0m\u001b[37m\u001b[0m \u001b[1m7s\u001b[0m 68ms/step - loss: 1.4163e-04 - val_loss: 280681.3750\n",
            "Epoch 28/50\n",
            "\u001b[1m72/72\u001b[0m \u001b[32m━━━━━━━━━━━━━━━━━━━━\u001b[0m\u001b[37m\u001b[0m \u001b[1m4s\u001b[0m 49ms/step - loss: 2.1524e-04 - val_loss: 280692.7500\n",
            "Epoch 29/50\n",
            "\u001b[1m72/72\u001b[0m \u001b[32m━━━━━━━━━━━━━━━━━━━━\u001b[0m\u001b[37m\u001b[0m \u001b[1m4s\u001b[0m 50ms/step - loss: 2.2258e-04 - val_loss: 280686.7812\n",
            "Epoch 30/50\n",
            "\u001b[1m72/72\u001b[0m \u001b[32m━━━━━━━━━━━━━━━━━━━━\u001b[0m\u001b[37m\u001b[0m \u001b[1m5s\u001b[0m 65ms/step - loss: 1.9828e-04 - val_loss: 280678.9375\n",
            "Epoch 31/50\n",
            "\u001b[1m72/72\u001b[0m \u001b[32m━━━━━━━━━━━━━━━━━━━━\u001b[0m\u001b[37m\u001b[0m \u001b[1m4s\u001b[0m 49ms/step - loss: 1.5021e-04 - val_loss: 280684.3125\n",
            "Epoch 32/50\n",
            "\u001b[1m72/72\u001b[0m \u001b[32m━━━━━━━━━━━━━━━━━━━━\u001b[0m\u001b[37m\u001b[0m \u001b[1m7s\u001b[0m 73ms/step - loss: 1.7128e-04 - val_loss: 280680.2500\n",
            "Epoch 33/50\n",
            "\u001b[1m72/72\u001b[0m \u001b[32m━━━━━━━━━━━━━━━━━━━━\u001b[0m\u001b[37m\u001b[0m \u001b[1m9s\u001b[0m 49ms/step - loss: 1.6065e-04 - val_loss: 280683.5000\n",
            "Epoch 34/50\n",
            "\u001b[1m72/72\u001b[0m \u001b[32m━━━━━━━━━━━━━━━━━━━━\u001b[0m\u001b[37m\u001b[0m \u001b[1m4s\u001b[0m 51ms/step - loss: 1.6713e-04 - val_loss: 280688.0938\n",
            "Epoch 35/50\n",
            "\u001b[1m72/72\u001b[0m \u001b[32m━━━━━━━━━━━━━━━━━━━━\u001b[0m\u001b[37m\u001b[0m \u001b[1m6s\u001b[0m 77ms/step - loss: 2.2558e-04 - val_loss: 280693.1875\n",
            "Epoch 36/50\n",
            "\u001b[1m72/72\u001b[0m \u001b[32m━━━━━━━━━━━━━━━━━━━━\u001b[0m\u001b[37m\u001b[0m \u001b[1m13s\u001b[0m 122ms/step - loss: 1.5349e-04 - val_loss: 280691.2500\n",
            "Epoch 37/50\n",
            "\u001b[1m72/72\u001b[0m \u001b[32m━━━━━━━━━━━━━━━━━━━━\u001b[0m\u001b[37m\u001b[0m \u001b[1m7s\u001b[0m 80ms/step - loss: 1.4942e-04 - val_loss: 280691.6250\n",
            "Epoch 38/50\n",
            "\u001b[1m72/72\u001b[0m \u001b[32m━━━━━━━━━━━━━━━━━━━━\u001b[0m\u001b[37m\u001b[0m \u001b[1m9s\u001b[0m 60ms/step - loss: 2.5137e-04 - val_loss: 280692.8125\n",
            "Epoch 39/50\n",
            "\u001b[1m72/72\u001b[0m \u001b[32m━━━━━━━━━━━━━━━━━━━━\u001b[0m\u001b[37m\u001b[0m \u001b[1m5s\u001b[0m 59ms/step - loss: 2.0998e-04 - val_loss: 280678.3438\n",
            "Epoch 40/50\n",
            "\u001b[1m72/72\u001b[0m \u001b[32m━━━━━━━━━━━━━━━━━━━━\u001b[0m\u001b[37m\u001b[0m \u001b[1m8s\u001b[0m 94ms/step - loss: 1.7667e-04 - val_loss: 280685.5625\n",
            "Epoch 41/50\n",
            "\u001b[1m72/72\u001b[0m \u001b[32m━━━━━━━━━━━━━━━━━━━━\u001b[0m\u001b[37m\u001b[0m \u001b[1m4s\u001b[0m 57ms/step - loss: 2.9863e-04 - val_loss: 280677.0312\n",
            "Epoch 42/50\n",
            "\u001b[1m72/72\u001b[0m \u001b[32m━━━━━━━━━━━━━━━━━━━━\u001b[0m\u001b[37m\u001b[0m \u001b[1m6s\u001b[0m 82ms/step - loss: 1.8749e-04 - val_loss: 280675.9688\n",
            "Epoch 43/50\n",
            "\u001b[1m72/72\u001b[0m \u001b[32m━━━━━━━━━━━━━━━━━━━━\u001b[0m\u001b[37m\u001b[0m \u001b[1m8s\u001b[0m 51ms/step - loss: 2.3831e-04 - val_loss: 280668.5000\n",
            "Epoch 44/50\n",
            "\u001b[1m72/72\u001b[0m \u001b[32m━━━━━━━━━━━━━━━━━━━━\u001b[0m\u001b[37m\u001b[0m \u001b[1m4s\u001b[0m 59ms/step - loss: 1.8333e-04 - val_loss: 280658.9062\n",
            "Epoch 45/50\n",
            "\u001b[1m72/72\u001b[0m \u001b[32m━━━━━━━━━━━━━━━━━━━━\u001b[0m\u001b[37m\u001b[0m \u001b[1m5s\u001b[0m 62ms/step - loss: 1.8368e-04 - val_loss: 280654.0938\n",
            "Epoch 46/50\n",
            "\u001b[1m72/72\u001b[0m \u001b[32m━━━━━━━━━━━━━━━━━━━━\u001b[0m\u001b[37m\u001b[0m \u001b[1m5s\u001b[0m 60ms/step - loss: 1.4408e-04 - val_loss: 280664.9688\n",
            "Epoch 47/50\n",
            "\u001b[1m72/72\u001b[0m \u001b[32m━━━━━━━━━━━━━━━━━━━━\u001b[0m\u001b[37m\u001b[0m \u001b[1m4s\u001b[0m 61ms/step - loss: 1.3739e-04 - val_loss: 280671.1250\n",
            "Epoch 48/50\n",
            "\u001b[1m72/72\u001b[0m \u001b[32m━━━━━━━━━━━━━━━━━━━━\u001b[0m\u001b[37m\u001b[0m \u001b[1m5s\u001b[0m 75ms/step - loss: 1.4454e-04 - val_loss: 280674.0625\n",
            "Epoch 49/50\n",
            "\u001b[1m72/72\u001b[0m \u001b[32m━━━━━━━━━━━━━━━━━━━━\u001b[0m\u001b[37m\u001b[0m \u001b[1m12s\u001b[0m 97ms/step - loss: 1.8602e-04 - val_loss: 280660.4688\n",
            "Epoch 50/50\n",
            "\u001b[1m72/72\u001b[0m \u001b[32m━━━━━━━━━━━━━━━━━━━━\u001b[0m\u001b[37m\u001b[0m \u001b[1m7s\u001b[0m 50ms/step - loss: 2.0249e-04 - val_loss: 280647.8438\n"
          ]
        }
      ],
      "source": [
        "from tensorflow.keras.layers import GRU\n",
        "\n",
        "# Definindo o modelo GRU\n",
        "gru_model = Sequential([\n",
        "    GRU(50, return_sequences=True, input_shape=(X_train.shape[1], X_train.shape[2])),\n",
        "    GRU(40, return_sequences=True),\n",
        "    GRU(30, return_sequences=True),\n",
        "    GRU(20, return_sequences=True),\n",
        "    GRU(10),\n",
        "    Dense(1)\n",
        "])\n",
        "\n",
        "gru_model.compile(optimizer='adam', loss='mean_squared_error')\n",
        "gru_history = gru_model.fit(X_train, y_train, epochs=50, batch_size=32, validation_data=(X_val, y_val))"
      ]
    },
    {
      "cell_type": "code",
      "execution_count": 36,
      "metadata": {
        "colab": {
          "base_uri": "https://localhost:8080/"
        },
        "id": "Ld7DY1lZPatM",
        "outputId": "a0dcbd9f-f5a5-4ac8-8fc9-77a399d1520b"
      },
      "outputs": [
        {
          "output_type": "stream",
          "name": "stdout",
          "text": [
            "Epoch 1/50\n",
            "\u001b[1m72/72\u001b[0m \u001b[32m━━━━━━━━━━━━━━━━━━━━\u001b[0m\u001b[37m\u001b[0m \u001b[1m13s\u001b[0m 54ms/step - loss: 0.0423 - val_loss: 281037.5000\n",
            "Epoch 2/50\n",
            "\u001b[1m72/72\u001b[0m \u001b[32m━━━━━━━━━━━━━━━━━━━━\u001b[0m\u001b[37m\u001b[0m \u001b[1m4s\u001b[0m 47ms/step - loss: 0.0015 - val_loss: 280948.1250\n",
            "Epoch 3/50\n",
            "\u001b[1m72/72\u001b[0m \u001b[32m━━━━━━━━━━━━━━━━━━━━\u001b[0m\u001b[37m\u001b[0m \u001b[1m4s\u001b[0m 39ms/step - loss: 0.0013 - val_loss: 280933.2188\n",
            "Epoch 4/50\n",
            "\u001b[1m72/72\u001b[0m \u001b[32m━━━━━━━━━━━━━━━━━━━━\u001b[0m\u001b[37m\u001b[0m \u001b[1m3s\u001b[0m 39ms/step - loss: 0.0013 - val_loss: 280914.9688\n",
            "Epoch 5/50\n",
            "\u001b[1m72/72\u001b[0m \u001b[32m━━━━━━━━━━━━━━━━━━━━\u001b[0m\u001b[37m\u001b[0m \u001b[1m3s\u001b[0m 41ms/step - loss: 0.0012 - val_loss: 280762.4688\n",
            "Epoch 6/50\n",
            "\u001b[1m72/72\u001b[0m \u001b[32m━━━━━━━━━━━━━━━━━━━━\u001b[0m\u001b[37m\u001b[0m \u001b[1m5s\u001b[0m 46ms/step - loss: 0.0013 - val_loss: 280756.7812\n",
            "Epoch 7/50\n",
            "\u001b[1m72/72\u001b[0m \u001b[32m━━━━━━━━━━━━━━━━━━━━\u001b[0m\u001b[37m\u001b[0m \u001b[1m3s\u001b[0m 40ms/step - loss: 0.0011 - val_loss: 280736.8750\n",
            "Epoch 8/50\n",
            "\u001b[1m72/72\u001b[0m \u001b[32m━━━━━━━━━━━━━━━━━━━━\u001b[0m\u001b[37m\u001b[0m \u001b[1m5s\u001b[0m 41ms/step - loss: 0.0011 - val_loss: 280722.5000\n",
            "Epoch 9/50\n",
            "\u001b[1m72/72\u001b[0m \u001b[32m━━━━━━━━━━━━━━━━━━━━\u001b[0m\u001b[37m\u001b[0m \u001b[1m4s\u001b[0m 60ms/step - loss: 0.0010 - val_loss: 280828.7188\n",
            "Epoch 10/50\n",
            "\u001b[1m72/72\u001b[0m \u001b[32m━━━━━━━━━━━━━━━━━━━━\u001b[0m\u001b[37m\u001b[0m \u001b[1m3s\u001b[0m 40ms/step - loss: 0.0012 - val_loss: 280639.1875\n",
            "Epoch 11/50\n",
            "\u001b[1m72/72\u001b[0m \u001b[32m━━━━━━━━━━━━━━━━━━━━\u001b[0m\u001b[37m\u001b[0m \u001b[1m3s\u001b[0m 38ms/step - loss: 0.0016 - val_loss: 280564.5938\n",
            "Epoch 12/50\n",
            "\u001b[1m72/72\u001b[0m \u001b[32m━━━━━━━━━━━━━━━━━━━━\u001b[0m\u001b[37m\u001b[0m \u001b[1m6s\u001b[0m 51ms/step - loss: 8.5122e-04 - val_loss: 280535.7812\n",
            "Epoch 13/50\n",
            "\u001b[1m72/72\u001b[0m \u001b[32m━━━━━━━━━━━━━━━━━━━━\u001b[0m\u001b[37m\u001b[0m \u001b[1m4s\u001b[0m 48ms/step - loss: 9.4795e-04 - val_loss: 280527.0625\n",
            "Epoch 14/50\n",
            "\u001b[1m72/72\u001b[0m \u001b[32m━━━━━━━━━━━━━━━━━━━━\u001b[0m\u001b[37m\u001b[0m \u001b[1m5s\u001b[0m 40ms/step - loss: 8.9548e-04 - val_loss: 280540.9375\n",
            "Epoch 15/50\n",
            "\u001b[1m72/72\u001b[0m \u001b[32m━━━━━━━━━━━━━━━━━━━━\u001b[0m\u001b[37m\u001b[0m \u001b[1m3s\u001b[0m 41ms/step - loss: 7.9854e-04 - val_loss: 280532.2500\n",
            "Epoch 16/50\n",
            "\u001b[1m72/72\u001b[0m \u001b[32m━━━━━━━━━━━━━━━━━━━━\u001b[0m\u001b[37m\u001b[0m \u001b[1m4s\u001b[0m 62ms/step - loss: 8.8440e-04 - val_loss: 280525.8750\n",
            "Epoch 17/50\n",
            "\u001b[1m72/72\u001b[0m \u001b[32m━━━━━━━━━━━━━━━━━━━━\u001b[0m\u001b[37m\u001b[0m \u001b[1m4s\u001b[0m 41ms/step - loss: 6.7369e-04 - val_loss: 280507.6562\n",
            "Epoch 18/50\n",
            "\u001b[1m72/72\u001b[0m \u001b[32m━━━━━━━━━━━━━━━━━━━━\u001b[0m\u001b[37m\u001b[0m \u001b[1m5s\u001b[0m 39ms/step - loss: 6.8958e-04 - val_loss: 280321.2188\n",
            "Epoch 19/50\n",
            "\u001b[1m72/72\u001b[0m \u001b[32m━━━━━━━━━━━━━━━━━━━━\u001b[0m\u001b[37m\u001b[0m \u001b[1m4s\u001b[0m 57ms/step - loss: 7.9249e-04 - val_loss: 280116.3750\n",
            "Epoch 20/50\n",
            "\u001b[1m72/72\u001b[0m \u001b[32m━━━━━━━━━━━━━━━━━━━━\u001b[0m\u001b[37m\u001b[0m \u001b[1m4s\u001b[0m 40ms/step - loss: 6.3932e-04 - val_loss: 279870.8125\n",
            "Epoch 21/50\n",
            "\u001b[1m72/72\u001b[0m \u001b[32m━━━━━━━━━━━━━━━━━━━━\u001b[0m\u001b[37m\u001b[0m \u001b[1m3s\u001b[0m 40ms/step - loss: 5.4801e-04 - val_loss: 279857.1250\n",
            "Epoch 22/50\n",
            "\u001b[1m72/72\u001b[0m \u001b[32m━━━━━━━━━━━━━━━━━━━━\u001b[0m\u001b[37m\u001b[0m \u001b[1m6s\u001b[0m 55ms/step - loss: 5.1381e-04 - val_loss: 279858.1250\n",
            "Epoch 23/50\n",
            "\u001b[1m72/72\u001b[0m \u001b[32m━━━━━━━━━━━━━━━━━━━━\u001b[0m\u001b[37m\u001b[0m \u001b[1m3s\u001b[0m 44ms/step - loss: 6.5641e-04 - val_loss: 279827.1250\n",
            "Epoch 24/50\n",
            "\u001b[1m72/72\u001b[0m \u001b[32m━━━━━━━━━━━━━━━━━━━━\u001b[0m\u001b[37m\u001b[0m \u001b[1m5s\u001b[0m 41ms/step - loss: 4.9987e-04 - val_loss: 279833.7812\n",
            "Epoch 25/50\n",
            "\u001b[1m72/72\u001b[0m \u001b[32m━━━━━━━━━━━━━━━━━━━━\u001b[0m\u001b[37m\u001b[0m \u001b[1m3s\u001b[0m 40ms/step - loss: 4.3340e-04 - val_loss: 279812.7812\n",
            "Epoch 26/50\n",
            "\u001b[1m72/72\u001b[0m \u001b[32m━━━━━━━━━━━━━━━━━━━━\u001b[0m\u001b[37m\u001b[0m \u001b[1m5s\u001b[0m 40ms/step - loss: 4.7291e-04 - val_loss: 279866.0938\n",
            "Epoch 27/50\n",
            "\u001b[1m72/72\u001b[0m \u001b[32m━━━━━━━━━━━━━━━━━━━━\u001b[0m\u001b[37m\u001b[0m \u001b[1m5s\u001b[0m 40ms/step - loss: 6.3020e-04 - val_loss: 279880.6250\n",
            "Epoch 28/50\n",
            "\u001b[1m72/72\u001b[0m \u001b[32m━━━━━━━━━━━━━━━━━━━━\u001b[0m\u001b[37m\u001b[0m \u001b[1m4s\u001b[0m 49ms/step - loss: 4.6509e-04 - val_loss: 279925.0312\n",
            "Epoch 29/50\n",
            "\u001b[1m72/72\u001b[0m \u001b[32m━━━━━━━━━━━━━━━━━━━━\u001b[0m\u001b[37m\u001b[0m \u001b[1m4s\u001b[0m 39ms/step - loss: 4.0190e-04 - val_loss: 280004.8438\n",
            "Epoch 30/50\n",
            "\u001b[1m72/72\u001b[0m \u001b[32m━━━━━━━━━━━━━━━━━━━━\u001b[0m\u001b[37m\u001b[0m \u001b[1m5s\u001b[0m 39ms/step - loss: 3.8110e-04 - val_loss: 279873.1250\n",
            "Epoch 31/50\n",
            "\u001b[1m72/72\u001b[0m \u001b[32m━━━━━━━━━━━━━━━━━━━━\u001b[0m\u001b[37m\u001b[0m \u001b[1m6s\u001b[0m 52ms/step - loss: 4.8891e-04 - val_loss: 279888.5000\n",
            "Epoch 32/50\n",
            "\u001b[1m72/72\u001b[0m \u001b[32m━━━━━━━━━━━━━━━━━━━━\u001b[0m\u001b[37m\u001b[0m \u001b[1m3s\u001b[0m 40ms/step - loss: 3.6969e-04 - val_loss: 279893.5000\n",
            "Epoch 33/50\n",
            "\u001b[1m72/72\u001b[0m \u001b[32m━━━━━━━━━━━━━━━━━━━━\u001b[0m\u001b[37m\u001b[0m \u001b[1m3s\u001b[0m 41ms/step - loss: 3.6429e-04 - val_loss: 279867.9688\n",
            "Epoch 34/50\n",
            "\u001b[1m72/72\u001b[0m \u001b[32m━━━━━━━━━━━━━━━━━━━━\u001b[0m\u001b[37m\u001b[0m \u001b[1m6s\u001b[0m 60ms/step - loss: 5.0228e-04 - val_loss: 279925.3750\n",
            "Epoch 35/50\n",
            "\u001b[1m72/72\u001b[0m \u001b[32m━━━━━━━━━━━━━━━━━━━━\u001b[0m\u001b[37m\u001b[0m \u001b[1m4s\u001b[0m 39ms/step - loss: 3.8018e-04 - val_loss: 279895.7812\n",
            "Epoch 36/50\n",
            "\u001b[1m72/72\u001b[0m \u001b[32m━━━━━━━━━━━━━━━━━━━━\u001b[0m\u001b[37m\u001b[0m \u001b[1m5s\u001b[0m 40ms/step - loss: 3.8012e-04 - val_loss: 279925.9688\n",
            "Epoch 37/50\n",
            "\u001b[1m72/72\u001b[0m \u001b[32m━━━━━━━━━━━━━━━━━━━━\u001b[0m\u001b[37m\u001b[0m \u001b[1m6s\u001b[0m 48ms/step - loss: 3.3376e-04 - val_loss: 279889.4375\n",
            "Epoch 38/50\n",
            "\u001b[1m72/72\u001b[0m \u001b[32m━━━━━━━━━━━━━━━━━━━━\u001b[0m\u001b[37m\u001b[0m \u001b[1m4s\u001b[0m 38ms/step - loss: 3.7021e-04 - val_loss: 279893.9375\n",
            "Epoch 39/50\n",
            "\u001b[1m72/72\u001b[0m \u001b[32m━━━━━━━━━━━━━━━━━━━━\u001b[0m\u001b[37m\u001b[0m \u001b[1m6s\u001b[0m 56ms/step - loss: 3.0327e-04 - val_loss: 279884.3438\n",
            "Epoch 40/50\n",
            "\u001b[1m72/72\u001b[0m \u001b[32m━━━━━━━━━━━━━━━━━━━━\u001b[0m\u001b[37m\u001b[0m \u001b[1m3s\u001b[0m 45ms/step - loss: 3.2605e-04 - val_loss: 279888.4688\n",
            "Epoch 41/50\n",
            "\u001b[1m72/72\u001b[0m \u001b[32m━━━━━━━━━━━━━━━━━━━━\u001b[0m\u001b[37m\u001b[0m \u001b[1m3s\u001b[0m 39ms/step - loss: 3.0074e-04 - val_loss: 279912.9688\n",
            "Epoch 42/50\n",
            "\u001b[1m72/72\u001b[0m \u001b[32m━━━━━━━━━━━━━━━━━━━━\u001b[0m\u001b[37m\u001b[0m \u001b[1m5s\u001b[0m 41ms/step - loss: 3.2865e-04 - val_loss: 279893.1250\n",
            "Epoch 43/50\n",
            "\u001b[1m72/72\u001b[0m \u001b[32m━━━━━━━━━━━━━━━━━━━━\u001b[0m\u001b[37m\u001b[0m \u001b[1m5s\u001b[0m 40ms/step - loss: 3.2355e-04 - val_loss: 279883.2188\n",
            "Epoch 44/50\n",
            "\u001b[1m72/72\u001b[0m \u001b[32m━━━━━━━━━━━━━━━━━━━━\u001b[0m\u001b[37m\u001b[0m \u001b[1m5s\u001b[0m 39ms/step - loss: 3.4013e-04 - val_loss: 279878.2188\n",
            "Epoch 45/50\n",
            "\u001b[1m72/72\u001b[0m \u001b[32m━━━━━━━━━━━━━━━━━━━━\u001b[0m\u001b[37m\u001b[0m \u001b[1m4s\u001b[0m 55ms/step - loss: 2.8492e-04 - val_loss: 279876.3438\n",
            "Epoch 46/50\n",
            "\u001b[1m72/72\u001b[0m \u001b[32m━━━━━━━━━━━━━━━━━━━━\u001b[0m\u001b[37m\u001b[0m \u001b[1m4s\u001b[0m 50ms/step - loss: 2.6305e-04 - val_loss: 279899.1562\n",
            "Epoch 47/50\n",
            "\u001b[1m72/72\u001b[0m \u001b[32m━━━━━━━━━━━━━━━━━━━━\u001b[0m\u001b[37m\u001b[0m \u001b[1m3s\u001b[0m 39ms/step - loss: 2.5179e-04 - val_loss: 279898.5000\n",
            "Epoch 48/50\n",
            "\u001b[1m72/72\u001b[0m \u001b[32m━━━━━━━━━━━━━━━━━━━━\u001b[0m\u001b[37m\u001b[0m \u001b[1m5s\u001b[0m 38ms/step - loss: 2.4164e-04 - val_loss: 279860.8125\n",
            "Epoch 49/50\n",
            "\u001b[1m72/72\u001b[0m \u001b[32m━━━━━━━━━━━━━━━━━━━━\u001b[0m\u001b[37m\u001b[0m \u001b[1m5s\u001b[0m 39ms/step - loss: 2.8408e-04 - val_loss: 279830.9375\n",
            "Epoch 50/50\n",
            "\u001b[1m72/72\u001b[0m \u001b[32m━━━━━━━━━━━━━━━━━━━━\u001b[0m\u001b[37m\u001b[0m \u001b[1m3s\u001b[0m 40ms/step - loss: 1.9984e-04 - val_loss: 279844.2188\n"
          ]
        }
      ],
      "source": [
        "from tensorflow.keras.layers import LSTM\n",
        "\n",
        "# Definindo o modelo LSTM\n",
        "lstm_model = Sequential([\n",
        "    LSTM(50, return_sequences=True, input_shape=(X_train.shape[1], X_train.shape[2])),\n",
        "    LSTM(40, return_sequences=True),\n",
        "    LSTM(30, return_sequences=True),\n",
        "    LSTM(20, return_sequences=True),\n",
        "    LSTM(10),\n",
        "    Dense(1)\n",
        "])\n",
        "\n",
        "lstm_model.compile(optimizer='adam', loss='mean_squared_error')\n",
        "lstm_history = lstm_model.fit(X_train, y_train, epochs=50, batch_size=32, validation_data=(X_val, y_val))"
      ]
    },
    {
      "cell_type": "markdown",
      "metadata": {
        "id": "DtDPWD4JPatM"
      },
      "source": [
        "\n",
        "4. Coloque Dropout de 15% após as camadas com 50 e 20 neurônios.\n"
      ]
    },
    {
      "cell_type": "code",
      "execution_count": 39,
      "metadata": {
        "id": "yVpVBADdPatN"
      },
      "outputs": [],
      "source": [
        "from tensorflow.keras.layers import Dropout\n",
        "\n",
        "rnn_model = Sequential([\n",
        "    SimpleRNN(50, return_sequences=True, input_shape=(X_train.shape[1], X_train.shape[2])),\n",
        "    Dropout(0.15),\n",
        "    SimpleRNN(40, return_sequences=True),\n",
        "    SimpleRNN(30, return_sequences=True),\n",
        "    SimpleRNN(20, return_sequences=True),\n",
        "    Dropout(0.15),\n",
        "    SimpleRNN(10),\n",
        "    Dense(1)\n",
        "])\n",
        "\n",
        "rnn_model.compile(optimizer='adam', loss='mean_squared_error')"
      ]
    },
    {
      "cell_type": "code",
      "source": [
        "gru_model = Sequential([\n",
        "    GRU(50, return_sequences=True, input_shape=(X_train.shape[1], X_train.shape[2])),\n",
        "    Dropout(0.15),\n",
        "    GRU(40, return_sequences=True),\n",
        "    GRU(30, return_sequences=True),\n",
        "    GRU(20, return_sequences=True),\n",
        "    Dropout(0.15),\n",
        "    GRU(10),\n",
        "    Dense(1)\n",
        "])\n",
        "\n",
        "gru_model.compile(optimizer='adam', loss='mean_squared_error')"
      ],
      "metadata": {
        "id": "tz0WnL3Snsap"
      },
      "execution_count": 40,
      "outputs": []
    },
    {
      "cell_type": "code",
      "source": [
        "lstm_model = Sequential([\n",
        "    LSTM(50, return_sequences=True, input_shape=(X_train.shape[1], X_train.shape[2])),\n",
        "    Dropout(0.15),\n",
        "    LSTM(40, return_sequences=True),\n",
        "    LSTM(30, return_sequences=True),\n",
        "    LSTM(20, return_sequences=True),\n",
        "    Dropout(0.15),\n",
        "    LSTM(10),\n",
        "    Dense(1)\n",
        "])\n",
        "\n",
        "lstm_model.compile(optimizer='adam', loss='mean_squared_error')"
      ],
      "metadata": {
        "id": "xRQ8GuKqnsQV"
      },
      "execution_count": 41,
      "outputs": []
    },
    {
      "cell_type": "markdown",
      "metadata": {
        "id": "wE-baBUEPatN"
      },
      "source": [
        "\n",
        "5. Treine os modelos por 20 épocas.\n"
      ]
    },
    {
      "cell_type": "code",
      "execution_count": 42,
      "metadata": {
        "colab": {
          "base_uri": "https://localhost:8080/"
        },
        "id": "PXP0erc2PatN",
        "outputId": "42cb2533-234c-4c88-9465-c75ad74d0270"
      },
      "outputs": [
        {
          "output_type": "stream",
          "name": "stdout",
          "text": [
            "Epoch 1/20\n",
            "\u001b[1m72/72\u001b[0m \u001b[32m━━━━━━━━━━━━━━━━━━━━\u001b[0m\u001b[37m\u001b[0m \u001b[1m22s\u001b[0m 32ms/step - loss: 0.2583 - val_loss: 281810.6250\n",
            "Epoch 2/20\n",
            "\u001b[1m72/72\u001b[0m \u001b[32m━━━━━━━━━━━━━━━━━━━━\u001b[0m\u001b[37m\u001b[0m \u001b[1m2s\u001b[0m 24ms/step - loss: 0.0232 - val_loss: 281941.9062\n",
            "Epoch 3/20\n",
            "\u001b[1m72/72\u001b[0m \u001b[32m━━━━━━━━━━━━━━━━━━━━\u001b[0m\u001b[37m\u001b[0m \u001b[1m2s\u001b[0m 23ms/step - loss: 0.0132 - val_loss: 281998.1875\n",
            "Epoch 4/20\n",
            "\u001b[1m72/72\u001b[0m \u001b[32m━━━━━━━━━━━━━━━━━━━━\u001b[0m\u001b[37m\u001b[0m \u001b[1m2s\u001b[0m 30ms/step - loss: 0.0087 - val_loss: 282047.5312\n",
            "Epoch 5/20\n",
            "\u001b[1m72/72\u001b[0m \u001b[32m━━━━━━━━━━━━━━━━━━━━\u001b[0m\u001b[37m\u001b[0m \u001b[1m3s\u001b[0m 34ms/step - loss: 0.0070 - val_loss: 282093.0000\n",
            "Epoch 6/20\n",
            "\u001b[1m72/72\u001b[0m \u001b[32m━━━━━━━━━━━━━━━━━━━━\u001b[0m\u001b[37m\u001b[0m \u001b[1m2s\u001b[0m 24ms/step - loss: 0.0061 - val_loss: 282109.3125\n",
            "Epoch 7/20\n",
            "\u001b[1m72/72\u001b[0m \u001b[32m━━━━━━━━━━━━━━━━━━━━\u001b[0m\u001b[37m\u001b[0m \u001b[1m2s\u001b[0m 23ms/step - loss: 0.0047 - val_loss: 282154.9062\n",
            "Epoch 8/20\n",
            "\u001b[1m72/72\u001b[0m \u001b[32m━━━━━━━━━━━━━━━━━━━━\u001b[0m\u001b[37m\u001b[0m \u001b[1m3s\u001b[0m 24ms/step - loss: 0.0043 - val_loss: 282150.3750\n",
            "Epoch 9/20\n",
            "\u001b[1m72/72\u001b[0m \u001b[32m━━━━━━━━━━━━━━━━━━━━\u001b[0m\u001b[37m\u001b[0m \u001b[1m2s\u001b[0m 22ms/step - loss: 0.0036 - val_loss: 282188.0938\n",
            "Epoch 10/20\n",
            "\u001b[1m72/72\u001b[0m \u001b[32m━━━━━━━━━━━━━━━━━━━━\u001b[0m\u001b[37m\u001b[0m \u001b[1m2s\u001b[0m 29ms/step - loss: 0.0035 - val_loss: 282205.3750\n",
            "Epoch 11/20\n",
            "\u001b[1m72/72\u001b[0m \u001b[32m━━━━━━━━━━━━━━━━━━━━\u001b[0m\u001b[37m\u001b[0m \u001b[1m3s\u001b[0m 36ms/step - loss: 0.0035 - val_loss: 282201.7812\n",
            "Epoch 12/20\n",
            "\u001b[1m72/72\u001b[0m \u001b[32m━━━━━━━━━━━━━━━━━━━━\u001b[0m\u001b[37m\u001b[0m \u001b[1m4s\u001b[0m 24ms/step - loss: 0.0030 - val_loss: 282199.4688\n",
            "Epoch 13/20\n",
            "\u001b[1m72/72\u001b[0m \u001b[32m━━━━━━━━━━━━━━━━━━━━\u001b[0m\u001b[37m\u001b[0m \u001b[1m3s\u001b[0m 25ms/step - loss: 0.0032 - val_loss: 282216.5625\n",
            "Epoch 14/20\n",
            "\u001b[1m72/72\u001b[0m \u001b[32m━━━━━━━━━━━━━━━━━━━━\u001b[0m\u001b[37m\u001b[0m \u001b[1m2s\u001b[0m 26ms/step - loss: 0.0029 - val_loss: 282214.9062\n",
            "Epoch 15/20\n",
            "\u001b[1m72/72\u001b[0m \u001b[32m━━━━━━━━━━━━━━━━━━━━\u001b[0m\u001b[37m\u001b[0m \u001b[1m3s\u001b[0m 38ms/step - loss: 0.0025 - val_loss: 282197.7188\n",
            "Epoch 16/20\n",
            "\u001b[1m72/72\u001b[0m \u001b[32m━━━━━━━━━━━━━━━━━━━━\u001b[0m\u001b[37m\u001b[0m \u001b[1m2s\u001b[0m 32ms/step - loss: 0.0021 - val_loss: 282220.6250\n",
            "Epoch 17/20\n",
            "\u001b[1m72/72\u001b[0m \u001b[32m━━━━━━━━━━━━━━━━━━━━\u001b[0m\u001b[37m\u001b[0m \u001b[1m2s\u001b[0m 24ms/step - loss: 0.0025 - val_loss: 282193.9375\n",
            "Epoch 18/20\n",
            "\u001b[1m72/72\u001b[0m \u001b[32m━━━━━━━━━━━━━━━━━━━━\u001b[0m\u001b[37m\u001b[0m \u001b[1m3s\u001b[0m 24ms/step - loss: 0.0021 - val_loss: 282227.6875\n",
            "Epoch 19/20\n",
            "\u001b[1m72/72\u001b[0m \u001b[32m━━━━━━━━━━━━━━━━━━━━\u001b[0m\u001b[37m\u001b[0m \u001b[1m2s\u001b[0m 23ms/step - loss: 0.0020 - val_loss: 282200.5938\n",
            "Epoch 20/20\n",
            "\u001b[1m72/72\u001b[0m \u001b[32m━━━━━━━━━━━━━━━━━━━━\u001b[0m\u001b[37m\u001b[0m \u001b[1m2s\u001b[0m 22ms/step - loss: 0.0021 - val_loss: 282206.8438\n"
          ]
        }
      ],
      "source": [
        "rnn_history = rnn_model.fit(X_train, y_train, epochs=20, batch_size=32, validation_data=(X_val, y_val))"
      ]
    },
    {
      "cell_type": "code",
      "execution_count": 43,
      "metadata": {
        "colab": {
          "base_uri": "https://localhost:8080/"
        },
        "id": "dzA6ewmwPatN",
        "outputId": "f4f5a6b3-85a9-45ff-823d-95b5bcb6651f"
      },
      "outputs": [
        {
          "output_type": "stream",
          "name": "stdout",
          "text": [
            "Epoch 1/20\n",
            "\u001b[1m72/72\u001b[0m \u001b[32m━━━━━━━━━━━━━━━━━━━━\u001b[0m\u001b[37m\u001b[0m \u001b[1m16s\u001b[0m 79ms/step - loss: 0.0248 - val_loss: 281024.7812\n",
            "Epoch 2/20\n",
            "\u001b[1m72/72\u001b[0m \u001b[32m━━━━━━━━━━━━━━━━━━━━\u001b[0m\u001b[37m\u001b[0m \u001b[1m4s\u001b[0m 57ms/step - loss: 0.0021 - val_loss: 280827.9375\n",
            "Epoch 3/20\n",
            "\u001b[1m72/72\u001b[0m \u001b[32m━━━━━━━━━━━━━━━━━━━━\u001b[0m\u001b[37m\u001b[0m \u001b[1m5s\u001b[0m 52ms/step - loss: 0.0013 - val_loss: 280793.3750\n",
            "Epoch 4/20\n",
            "\u001b[1m72/72\u001b[0m \u001b[32m━━━━━━━━━━━━━━━━━━━━\u001b[0m\u001b[37m\u001b[0m \u001b[1m4s\u001b[0m 62ms/step - loss: 0.0011 - val_loss: 280696.9375\n",
            "Epoch 5/20\n",
            "\u001b[1m72/72\u001b[0m \u001b[32m━━━━━━━━━━━━━━━━━━━━\u001b[0m\u001b[37m\u001b[0m \u001b[1m4s\u001b[0m 58ms/step - loss: 0.0012 - val_loss: 280597.4062\n",
            "Epoch 6/20\n",
            "\u001b[1m72/72\u001b[0m \u001b[32m━━━━━━━━━━━━━━━━━━━━\u001b[0m\u001b[37m\u001b[0m \u001b[1m4s\u001b[0m 49ms/step - loss: 9.4380e-04 - val_loss: 280498.2812\n",
            "Epoch 7/20\n",
            "\u001b[1m72/72\u001b[0m \u001b[32m━━━━━━━━━━━━━━━━━━━━\u001b[0m\u001b[37m\u001b[0m \u001b[1m4s\u001b[0m 53ms/step - loss: 9.9644e-04 - val_loss: 280518.7188\n",
            "Epoch 8/20\n",
            "\u001b[1m72/72\u001b[0m \u001b[32m━━━━━━━━━━━━━━━━━━━━\u001b[0m\u001b[37m\u001b[0m \u001b[1m5s\u001b[0m 58ms/step - loss: 9.7924e-04 - val_loss: 280542.2188\n",
            "Epoch 9/20\n",
            "\u001b[1m72/72\u001b[0m \u001b[32m━━━━━━━━━━━━━━━━━━━━\u001b[0m\u001b[37m\u001b[0m \u001b[1m4s\u001b[0m 49ms/step - loss: 7.6051e-04 - val_loss: 280519.6250\n",
            "Epoch 10/20\n",
            "\u001b[1m72/72\u001b[0m \u001b[32m━━━━━━━━━━━━━━━━━━━━\u001b[0m\u001b[37m\u001b[0m \u001b[1m4s\u001b[0m 58ms/step - loss: 7.7353e-04 - val_loss: 280363.3125\n",
            "Epoch 11/20\n",
            "\u001b[1m72/72\u001b[0m \u001b[32m━━━━━━━━━━━━━━━━━━━━\u001b[0m\u001b[37m\u001b[0m \u001b[1m5s\u001b[0m 63ms/step - loss: 8.7647e-04 - val_loss: 280341.8125\n",
            "Epoch 12/20\n",
            "\u001b[1m72/72\u001b[0m \u001b[32m━━━━━━━━━━━━━━━━━━━━\u001b[0m\u001b[37m\u001b[0m \u001b[1m4s\u001b[0m 54ms/step - loss: 7.4627e-04 - val_loss: 280118.1562\n",
            "Epoch 13/20\n",
            "\u001b[1m72/72\u001b[0m \u001b[32m━━━━━━━━━━━━━━━━━━━━\u001b[0m\u001b[37m\u001b[0m \u001b[1m6s\u001b[0m 64ms/step - loss: 7.2173e-04 - val_loss: 279995.3750\n",
            "Epoch 14/20\n",
            "\u001b[1m72/72\u001b[0m \u001b[32m━━━━━━━━━━━━━━━━━━━━\u001b[0m\u001b[37m\u001b[0m \u001b[1m4s\u001b[0m 58ms/step - loss: 6.7315e-04 - val_loss: 279983.0000\n",
            "Epoch 15/20\n",
            "\u001b[1m72/72\u001b[0m \u001b[32m━━━━━━━━━━━━━━━━━━━━\u001b[0m\u001b[37m\u001b[0m \u001b[1m4s\u001b[0m 51ms/step - loss: 7.4025e-04 - val_loss: 280007.9375\n",
            "Epoch 16/20\n",
            "\u001b[1m72/72\u001b[0m \u001b[32m━━━━━━━━━━━━━━━━━━━━\u001b[0m\u001b[37m\u001b[0m \u001b[1m4s\u001b[0m 50ms/step - loss: 6.8812e-04 - val_loss: 279999.9375\n",
            "Epoch 17/20\n",
            "\u001b[1m72/72\u001b[0m \u001b[32m━━━━━━━━━━━━━━━━━━━━\u001b[0m\u001b[37m\u001b[0m \u001b[1m5s\u001b[0m 68ms/step - loss: 6.4583e-04 - val_loss: 279984.2500\n",
            "Epoch 18/20\n",
            "\u001b[1m72/72\u001b[0m \u001b[32m━━━━━━━━━━━━━━━━━━━━\u001b[0m\u001b[37m\u001b[0m \u001b[1m4s\u001b[0m 50ms/step - loss: 7.8994e-04 - val_loss: 279972.1875\n",
            "Epoch 19/20\n",
            "\u001b[1m72/72\u001b[0m \u001b[32m━━━━━━━━━━━━━━━━━━━━\u001b[0m\u001b[37m\u001b[0m \u001b[1m4s\u001b[0m 50ms/step - loss: 6.3112e-04 - val_loss: 279975.3125\n",
            "Epoch 20/20\n",
            "\u001b[1m72/72\u001b[0m \u001b[32m━━━━━━━━━━━━━━━━━━━━\u001b[0m\u001b[37m\u001b[0m \u001b[1m6s\u001b[0m 67ms/step - loss: 5.3408e-04 - val_loss: 279930.4688\n"
          ]
        }
      ],
      "source": [
        "gru_history = gru_model.fit(X_train, y_train, epochs=20, batch_size=32, validation_data=(X_val, y_val))"
      ]
    },
    {
      "cell_type": "code",
      "execution_count": 44,
      "metadata": {
        "colab": {
          "base_uri": "https://localhost:8080/"
        },
        "id": "h1NxANSTPatN",
        "outputId": "a3c26aa0-c614-4de9-ec35-45f6a33d8bde"
      },
      "outputs": [
        {
          "output_type": "stream",
          "name": "stdout",
          "text": [
            "Epoch 1/20\n",
            "\u001b[1m72/72\u001b[0m \u001b[32m━━━━━━━━━━━━━━━━━━━━\u001b[0m\u001b[37m\u001b[0m \u001b[1m13s\u001b[0m 74ms/step - loss: 0.0467 - val_loss: 280558.8125\n",
            "Epoch 2/20\n",
            "\u001b[1m72/72\u001b[0m \u001b[32m━━━━━━━━━━━━━━━━━━━━\u001b[0m\u001b[37m\u001b[0m \u001b[1m3s\u001b[0m 41ms/step - loss: 0.0018 - val_loss: 280542.7500\n",
            "Epoch 3/20\n",
            "\u001b[1m72/72\u001b[0m \u001b[32m━━━━━━━━━━━━━━━━━━━━\u001b[0m\u001b[37m\u001b[0m \u001b[1m3s\u001b[0m 40ms/step - loss: 0.0017 - val_loss: 280541.0000\n",
            "Epoch 4/20\n",
            "\u001b[1m72/72\u001b[0m \u001b[32m━━━━━━━━━━━━━━━━━━━━\u001b[0m\u001b[37m\u001b[0m \u001b[1m3s\u001b[0m 39ms/step - loss: 0.0019 - val_loss: 280494.4375\n",
            "Epoch 5/20\n",
            "\u001b[1m72/72\u001b[0m \u001b[32m━━━━━━━━━━━━━━━━━━━━\u001b[0m\u001b[37m\u001b[0m \u001b[1m5s\u001b[0m 42ms/step - loss: 0.0016 - val_loss: 280443.3438\n",
            "Epoch 6/20\n",
            "\u001b[1m72/72\u001b[0m \u001b[32m━━━━━━━━━━━━━━━━━━━━\u001b[0m\u001b[37m\u001b[0m \u001b[1m5s\u001b[0m 38ms/step - loss: 0.0016 - val_loss: 280306.7188\n",
            "Epoch 7/20\n",
            "\u001b[1m72/72\u001b[0m \u001b[32m━━━━━━━━━━━━━━━━━━━━\u001b[0m\u001b[37m\u001b[0m \u001b[1m6s\u001b[0m 57ms/step - loss: 0.0014 - val_loss: 280311.4375\n",
            "Epoch 8/20\n",
            "\u001b[1m72/72\u001b[0m \u001b[32m━━━━━━━━━━━━━━━━━━━━\u001b[0m\u001b[37m\u001b[0m \u001b[1m4s\u001b[0m 38ms/step - loss: 0.0015 - val_loss: 280279.9062\n",
            "Epoch 9/20\n",
            "\u001b[1m72/72\u001b[0m \u001b[32m━━━━━━━━━━━━━━━━━━━━\u001b[0m\u001b[37m\u001b[0m \u001b[1m3s\u001b[0m 39ms/step - loss: 0.0013 - val_loss: 280209.1562\n",
            "Epoch 10/20\n",
            "\u001b[1m72/72\u001b[0m \u001b[32m━━━━━━━━━━━━━━━━━━━━\u001b[0m\u001b[37m\u001b[0m \u001b[1m3s\u001b[0m 38ms/step - loss: 0.0013 - val_loss: 280242.5000\n",
            "Epoch 11/20\n",
            "\u001b[1m72/72\u001b[0m \u001b[32m━━━━━━━━━━━━━━━━━━━━\u001b[0m\u001b[37m\u001b[0m \u001b[1m5s\u001b[0m 42ms/step - loss: 0.0014 - val_loss: 280202.9375\n",
            "Epoch 12/20\n",
            "\u001b[1m72/72\u001b[0m \u001b[32m━━━━━━━━━━━━━━━━━━━━\u001b[0m\u001b[37m\u001b[0m \u001b[1m3s\u001b[0m 40ms/step - loss: 0.0012 - val_loss: 280250.8125\n",
            "Epoch 13/20\n",
            "\u001b[1m72/72\u001b[0m \u001b[32m━━━━━━━━━━━━━━━━━━━━\u001b[0m\u001b[37m\u001b[0m \u001b[1m6s\u001b[0m 49ms/step - loss: 0.0011 - val_loss: 280199.8438\n",
            "Epoch 14/20\n",
            "\u001b[1m72/72\u001b[0m \u001b[32m━━━━━━━━━━━━━━━━━━━━\u001b[0m\u001b[37m\u001b[0m \u001b[1m4s\u001b[0m 40ms/step - loss: 0.0013 - val_loss: 280194.6562\n",
            "Epoch 15/20\n",
            "\u001b[1m72/72\u001b[0m \u001b[32m━━━━━━━━━━━━━━━━━━━━\u001b[0m\u001b[37m\u001b[0m \u001b[1m5s\u001b[0m 38ms/step - loss: 0.0011 - val_loss: 280282.2500\n",
            "Epoch 16/20\n",
            "\u001b[1m72/72\u001b[0m \u001b[32m━━━━━━━━━━━━━━━━━━━━\u001b[0m\u001b[37m\u001b[0m \u001b[1m6s\u001b[0m 51ms/step - loss: 0.0010 - val_loss: 280267.0000\n",
            "Epoch 17/20\n",
            "\u001b[1m72/72\u001b[0m \u001b[32m━━━━━━━━━━━━━━━━━━━━\u001b[0m\u001b[37m\u001b[0m \u001b[1m4s\u001b[0m 39ms/step - loss: 0.0014 - val_loss: 280323.6875\n",
            "Epoch 18/20\n",
            "\u001b[1m72/72\u001b[0m \u001b[32m━━━━━━━━━━━━━━━━━━━━\u001b[0m\u001b[37m\u001b[0m \u001b[1m3s\u001b[0m 40ms/step - loss: 0.0010 - val_loss: 280403.6562\n",
            "Epoch 19/20\n",
            "\u001b[1m72/72\u001b[0m \u001b[32m━━━━━━━━━━━━━━━━━━━━\u001b[0m\u001b[37m\u001b[0m \u001b[1m4s\u001b[0m 53ms/step - loss: 0.0010 - val_loss: 280398.5938\n",
            "Epoch 20/20\n",
            "\u001b[1m72/72\u001b[0m \u001b[32m━━━━━━━━━━━━━━━━━━━━\u001b[0m\u001b[37m\u001b[0m \u001b[1m3s\u001b[0m 43ms/step - loss: 9.9727e-04 - val_loss: 280422.4688\n"
          ]
        }
      ],
      "source": [
        "lstm_history = lstm_model.fit(X_train, y_train, epochs=20, batch_size=32, validation_data=(X_val, y_val))"
      ]
    },
    {
      "cell_type": "markdown",
      "metadata": {
        "id": "3nbLqWpyPatN"
      },
      "source": [
        "\n",
        "6. Salve o history e exiba os valores de loss de treinamento e validação para os três modelos.\n"
      ]
    },
    {
      "cell_type": "code",
      "execution_count": 45,
      "metadata": {
        "id": "3SIqfDvCPatN"
      },
      "outputs": [],
      "source": [
        "import matplotlib.pyplot as plt\n",
        "\n",
        "def plot_history(history, model_name):\n",
        "    plt.plot(history.history['loss'], label='Treinamento')\n",
        "    plt.plot(history.history['val_loss'], label='Validação')\n",
        "    plt.title(f'Perda (Loss) - {model_name}')\n",
        "    plt.xlabel('Épocas')\n",
        "    plt.ylabel('Loss')\n",
        "    plt.legend()\n",
        "    plt.show()"
      ]
    },
    {
      "cell_type": "code",
      "execution_count": 46,
      "metadata": {
        "colab": {
          "base_uri": "https://localhost:8080/",
          "height": 509
        },
        "id": "3jQbVe8fPatO",
        "outputId": "6850c0d2-b100-4713-9250-b5772ae90792"
      },
      "outputs": [
        {
          "output_type": "stream",
          "name": "stdout",
          "text": [
            "RNN Loss de Treinamento: 0.001994263380765915\n",
            "RNN Loss de Validação: 282206.84375\n"
          ]
        },
        {
          "output_type": "display_data",
          "data": {
            "text/plain": [
              "<Figure size 640x480 with 1 Axes>"
            ],
            "image/png": "[encoded data removed]"
          },
          "metadata": {}
        }
      ],
      "source": [
        "# RNN\n",
        "rnn_history_df = pd.DataFrame(rnn_history.history)\n",
        "rnn_history_df.to_csv('rnn_history.csv')\n",
        "print(\"RNN Loss de Treinamento:\", rnn_history.history['loss'][-1])\n",
        "print(\"RNN Loss de Validação:\", rnn_history.history['val_loss'][-1])\n",
        "plot_history(rnn_history, \"RNN\")"
      ]
    },
    {
      "cell_type": "code",
      "execution_count": 47,
      "metadata": {
        "colab": {
          "base_uri": "https://localhost:8080/",
          "height": 509
        },
        "id": "SVk5hAn9PatO",
        "outputId": "60bb9139-c3fc-414b-d441-64d8b8d3a951"
      },
      "outputs": [
        {
          "output_type": "stream",
          "name": "stdout",
          "text": [
            "GRU Loss de Treinamento: 0.0005605009500868618\n",
            "GRU Loss de Validação: 279930.46875\n"
          ]
        },
        {
          "output_type": "display_data",
          "data": {
            "text/plain": [
              "<Figure size 640x480 with 1 Axes>"
            ],
            "image/png": "[encoded data removed]"
          },
          "metadata": {}
        }
      ],
      "source": [
        "# GRU\n",
        "gru_history_df = pd.DataFrame(gru_history.history)\n",
        "gru_history_df.to_csv('gru_history.csv')\n",
        "print(\"GRU Loss de Treinamento:\", gru_history.history['loss'][-1])\n",
        "print(\"GRU Loss de Validação:\", gru_history.history['val_loss'][-1])\n",
        "plot_history(gru_history, \"GRU\")"
      ]
    },
    {
      "cell_type": "code",
      "execution_count": 48,
      "metadata": {
        "colab": {
          "base_uri": "https://localhost:8080/",
          "height": 509
        },
        "id": "XyPzwXd0PatO",
        "outputId": "b173d571-f485-4b0c-b3cb-df78deaa8e5c"
      },
      "outputs": [
        {
          "output_type": "stream",
          "name": "stdout",
          "text": [
            "LSTM Loss de Treinamento: 0.0010069181444123387\n",
            "LSTM Loss de Validação: 280422.46875\n"
          ]
        },
        {
          "output_type": "display_data",
          "data": {
            "text/plain": [
              "<Figure size 640x480 with 1 Axes>"
            ],
            "image/png": "[encoded data removed]"
          },
          "metadata": {}
        }
      ],
      "source": [
        "# LSTM\n",
        "lstm_history_df = pd.DataFrame(lstm_history.history)\n",
        "lstm_history_df.to_csv('lstm_history.csv')\n",
        "print(\"LSTM Loss de Treinamento:\", lstm_history.history['loss'][-1])\n",
        "print(\"LSTM Loss de Validação:\", lstm_history.history['val_loss'][-1])\n",
        "plot_history(lstm_history, \"LSTM\")"
      ]
    },
    {
      "cell_type": "markdown",
      "metadata": {
        "id": "oTk09ZP1PatO"
      },
      "source": [
        "\n",
        "7. Exiba as métricas MSE, MAE, RMSE e R² para os dados de treinamento e teste dos três modelos.\n"
      ]
    },
    {
      "cell_type": "code",
      "execution_count": 49,
      "metadata": {
        "id": "lA3W_NVdPatO"
      },
      "outputs": [],
      "source": [
        "from sklearn.metrics import mean_squared_error, mean_absolute_error, r2_score\n",
        "import numpy as np\n",
        "\n",
        "# exibir as métricas\n",
        "def calculate_metrics(model, X_train, y_train, X_test, y_test, scaler_y, model_name):\n",
        "    # previsões treinamento\n",
        "    y_train_pred = model.predict(X_train)\n",
        "    y_train_pred = scaler_y.inverse_transform(y_train_pred)\n",
        "    y_train_true = scaler_y.inverse_transform(y_train.reshape(-1, 1))\n",
        "\n",
        "    # previsões teste\n",
        "    y_test_pred = model.predict(X_test)\n",
        "    y_test_pred = scaler_y.inverse_transform(y_test_pred)\n",
        "    y_test_true = scaler_y.inverse_transform(y_test.reshape(-1, 1))\n",
        "\n",
        "    # métricas treinamento\n",
        "    mse_train = mean_squared_error(y_train_true, y_train_pred)\n",
        "    mae_train = mean_absolute_error(y_train_true, y_train_pred)\n",
        "    rmse_train = np.sqrt(mse_train)\n",
        "    r2_train = r2_score(y_train_true, y_train_pred)\n",
        "\n",
        "    # métricas teste\n",
        "    mse_test = mean_squared_error(y_test_true, y_test_pred)\n",
        "    mae_test = mean_absolute_error(y_test_true, y_test_pred)\n",
        "    rmse_test = np.sqrt(mse_test)\n",
        "    r2_test = r2_score(y_test_true, y_test_pred)\n",
        "\n",
        "    # resultados\n",
        "    print(f'\\nMétricas para o modelo {model_name}:')\n",
        "    print(f'Treinamento - MSE: {mse_train:.4f}, MAE: {mae_train:.4f}, RMSE: {rmse_train:.4f}, R²: {r2_train:.4f}')\n",
        "    print(f'Teste - MSE: {mse_test:.4f}, MAE: {mae_test:.4f}, RMSE: {rmse_test:.4f}, R²: {r2_test:.4f}')"
      ]
    },
    {
      "cell_type": "code",
      "execution_count": 50,
      "metadata": {
        "colab": {
          "base_uri": "https://localhost:8080/"
        },
        "id": "_DeeMKDIPatP",
        "outputId": "f25bbe06-2f2b-46ad-843a-aa0091379abf"
      },
      "outputs": [
        {
          "output_type": "stream",
          "name": "stdout",
          "text": [
            "\u001b[1m72/72\u001b[0m \u001b[32m━━━━━━━━━━━━━━━━━━━━\u001b[0m\u001b[37m\u001b[0m \u001b[1m2s\u001b[0m 14ms/step\n",
            "\u001b[1m15/15\u001b[0m \u001b[32m━━━━━━━━━━━━━━━━━━━━\u001b[0m\u001b[37m\u001b[0m \u001b[1m0s\u001b[0m 6ms/step\n",
            "\n",
            "Métricas para o modelo RNN:\n",
            "Treinamento - MSE: 81.3734, MAE: 6.7278, RMSE: 9.0207, R²: 0.9928\n",
            "Teste - MSE: 611400.2071, MAE: 746.7475, RMSE: 781.9208, R²: -27.2534\n"
          ]
        }
      ],
      "source": [
        "# RNN\n",
        "calculate_metrics(rnn_model, X_train, y_train, X_test, y_test, scaler_y, \"RNN\")"
      ]
    },
    {
      "cell_type": "code",
      "execution_count": 51,
      "metadata": {
        "colab": {
          "base_uri": "https://localhost:8080/"
        },
        "id": "XrZBEXGRPatP",
        "outputId": "f50470b4-e036-4a04-d4b3-22c236501993"
      },
      "outputs": [
        {
          "output_type": "stream",
          "name": "stdout",
          "text": [
            "\u001b[1m72/72\u001b[0m \u001b[32m━━━━━━━━━━━━━━━━━━━━\u001b[0m\u001b[37m\u001b[0m \u001b[1m2s\u001b[0m 23ms/step\n",
            "\u001b[1m15/15\u001b[0m \u001b[32m━━━━━━━━━━━━━━━━━━━━\u001b[0m\u001b[37m\u001b[0m \u001b[1m0s\u001b[0m 11ms/step\n",
            "\n",
            "Métricas para o modelo GRU:\n",
            "Treinamento - MSE: 51.0905, MAE: 4.9039, RMSE: 7.1478, R²: 0.9955\n",
            "Teste - MSE: 127016.7648, MAE: 328.3084, RMSE: 356.3941, R²: -4.8696\n"
          ]
        }
      ],
      "source": [
        "# GRU\n",
        "calculate_metrics(gru_model, X_train, y_train, X_test, y_test, scaler_y, \"GRU\")"
      ]
    },
    {
      "cell_type": "code",
      "execution_count": 52,
      "metadata": {
        "colab": {
          "base_uri": "https://localhost:8080/"
        },
        "id": "6A4xyGlZPatP",
        "outputId": "aa87b83a-7175-44e2-c32d-4b7353a5375a"
      },
      "outputs": [
        {
          "output_type": "stream",
          "name": "stdout",
          "text": [
            "\u001b[1m72/72\u001b[0m \u001b[32m━━━━━━━━━━━━━━━━━━━━\u001b[0m\u001b[37m\u001b[0m \u001b[1m4s\u001b[0m 25ms/step\n",
            "\u001b[1m15/15\u001b[0m \u001b[32m━━━━━━━━━━━━━━━━━━━━\u001b[0m\u001b[37m\u001b[0m \u001b[1m0s\u001b[0m 10ms/step\n",
            "\n",
            "Métricas para o modelo LSTM:\n",
            "Treinamento - MSE: 119.8693, MAE: 7.9264, RMSE: 10.9485, R²: 0.9894\n",
            "Teste - MSE: 166883.2217, MAE: 382.4289, RMSE: 408.5134, R²: -6.7118\n"
          ]
        }
      ],
      "source": [
        "# LSTM\n",
        "calculate_metrics(lstm_model, X_train, y_train, X_test, y_test, scaler_y, \"LSTM\")"
      ]
    }
  ],
  "metadata": {
    "language_info": {
      "name": "python"
    },
    "colab": {
      "provenance": []
    },
    "kernelspec": {
      "name": "python3",
      "display_name": "Python 3"
    }
  },
  "nbformat": 4,
  "nbformat_minor": 0
}