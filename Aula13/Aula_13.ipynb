{
  "cells": [
    {
      "cell_type": "markdown",
      "metadata": {
        "id": "y_-RuqeGsqGd"
      },
      "source": [
        "# Aula 12: RNNs, LSTM e GRU - Introdução às RNNs, Conceitos básicos e estrutura\n",
        "\n",
        "## Objetivo da Aula\n",
        "- Introduzir os conceitos fundamentais das Redes Neurais Recorrentes (RNNs).\n",
        "- Compreender a estrutura e o funcionamento das RNNs.\n",
        "- Abordar os principais desafios associados ao uso de RNNs."
      ]
    },
    {
      "cell_type": "markdown",
      "metadata": {
        "id": "-8pJsxfgsqGg"
      },
      "source": [
        "### 1. Introdução às Redes Neurais Recorrentes (RNNs)\n",
        "\n",
        "#### Motivação para o Uso de RNNs\n",
        "Redes Neurais Recorrentes (RNNs) são uma classe de redes neurais especialmente adequadas para trabalhar com dados sequenciais. Diferente das redes neurais tradicionais, que assumem independência entre as entradas, as RNNs conseguem capturar dependências temporais ao manter um estado interno que é atualizado a cada passo temporal.\n",
        "\n",
        "#### Necessidade de Modelos que Possam Lidar com Dados Sequenciais\n",
        "- **Dados Sequenciais**: Muitos tipos de dados do mundo real são sequenciais, onde a ordem dos dados é crucial. Exemplos incluem séries temporais, texto, áudio, e vídeos.\n",
        "- **Dependências Temporais**: Em muitos casos, a predição de um determinado valor depende de valores anteriores na sequência. RNNs são projetadas para capturar e aprender essas dependências.\n",
        "\n",
        "#### Aplicações Comuns de RNNs\n",
        "- **Processamento de Linguagem Natural (PLN)**:\n",
        "  - **Tradução Automática**: Traduzir textos de um idioma para outro, onde o contexto das palavras anteriores influencia a tradução das palavras seguintes.\n",
        "  - **Análise de Sentimento**: Determinar o sentimento (positivo, negativo, neutro) de um texto, onde o significado de uma palavra pode depender de palavras anteriores.\n",
        "  - **Modelagem de Linguagem**: Prever a próxima palavra em uma sequência de palavras, útil em autocompletar e geração de texto.\n",
        "\n",
        "- **Séries Temporais**:\n",
        "  - **Previsão de Demanda**: Prever a demanda futura de produtos ou serviços com base em dados históricos.\n",
        "  - **Análise Financeira**: Analisar dados financeiros como preços de ações para prever tendências futuras.\n",
        "  - **Monitoramento de Sensores**: Analisar dados de sensores ao longo do tempo para detectar anomalias ou prever falhas.\n",
        "\n",
        "- **Reconhecimento de Fala**:\n",
        "  - **Transcrição de Áudio para Texto**: Converter fala em texto, onde o contexto temporal das palavras é essencial para a precisão da transcrição.\n",
        "  - **Comandos de Voz**: Reconhecer e interpretar comandos de voz, onde a sequência de palavras pode alterar o significado do comando.\n",
        "\n",
        "- **Gerenciamento de Diálogos**:\n",
        "  - **Chatbots e Assistentes Virtuais**: Manter o contexto de uma conversa para fornecer respostas mais coerentes e relevantes.\n",
        "\n",
        "RNNs são uma ferramenta poderosa para qualquer tarefa onde a ordem dos dados importa. Sua capacidade de manter um estado interno que é influenciado por entradas anteriores permite que capturem padrões complexos em dados sequenciais.\n"
      ]
    },
    {
      "cell_type": "code",
      "execution_count": 1,
      "metadata": {
        "id": "FC9e-vWwsqGh"
      },
      "outputs": [],
      "source": [
        "import numpy as np\n",
        "import pandas as pd\n",
        "import matplotlib.pyplot as plt\n",
        "import tensorflow as tf\n",
        "from tensorflow.keras.models import Sequential\n",
        "from tensorflow.keras.layers import SimpleRNN, Dense, Dropout\n",
        "from sklearn.preprocessing import MinMaxScaler\n",
        "from sklearn.model_selection import train_test_split"
      ]
    },
    {
      "cell_type": "code",
      "execution_count": 2,
      "metadata": {
        "id": "2OzHXOcisqGh"
      },
      "outputs": [],
      "source": [
        "df = pd.read_csv('acao_apple.csv')"
      ]
    },
    {
      "cell_type": "code",
      "execution_count": 3,
      "metadata": {
        "colab": {
          "base_uri": "https://localhost:8080/",
          "height": 206
        },
        "id": "ecPJMRFbsqGi",
        "outputId": "488b4c60-68af-4fd5-e083-7010827ab3c4"
      },
      "outputs": [
        {
          "output_type": "execute_result",
          "data": {
            "text/plain": [
              "       data      valor\n",
              "0  1/2/2013  79.117142\n",
              "1  1/3/2013  78.268570\n",
              "2  1/4/2013  76.709999\n",
              "3  1/7/2013  74.571426\n",
              "4  1/8/2013  75.601425"
            ],
            "text/html": [
              "\n",
              "  <div id=\"df-7379b55d-6873-4759-b6c9-d64ed77e6777\" class=\"colab-df-container\">\n",
              "    <div>\n",
              "<style scoped>\n",
              "    .dataframe tbody tr th:only-of-type {\n",
              "        vertical-align: middle;\n",
              "    }\n",
              "\n",
              "    .dataframe tbody tr th {\n",
              "        vertical-align: top;\n",
              "    }\n",
              "\n",
              "    .dataframe thead th {\n",
              "        text-align: right;\n",
              "    }\n",
              "</style>\n",
              "<table border=\"1\" class=\"dataframe\">\n",
              "  <thead>\n",
              "    <tr style=\"text-align: right;\">\n",
              "      <th></th>\n",
              "      <th>data</th>\n",
              "      <th>valor</th>\n",
              "    </tr>\n",
              "  </thead>\n",
              "  <tbody>\n",
              "    <tr>\n",
              "      <th>0</th>\n",
              "      <td>1/2/2013</td>\n",
              "      <td>79.117142</td>\n",
              "    </tr>\n",
              "    <tr>\n",
              "      <th>1</th>\n",
              "      <td>1/3/2013</td>\n",
              "      <td>78.268570</td>\n",
              "    </tr>\n",
              "    <tr>\n",
              "      <th>2</th>\n",
              "      <td>1/4/2013</td>\n",
              "      <td>76.709999</td>\n",
              "    </tr>\n",
              "    <tr>\n",
              "      <th>3</th>\n",
              "      <td>1/7/2013</td>\n",
              "      <td>74.571426</td>\n",
              "    </tr>\n",
              "    <tr>\n",
              "      <th>4</th>\n",
              "      <td>1/8/2013</td>\n",
              "      <td>75.601425</td>\n",
              "    </tr>\n",
              "  </tbody>\n",
              "</table>\n",
              "</div>\n",
              "    <div class=\"colab-df-buttons\">\n",
              "\n",
              "  <div class=\"colab-df-container\">\n",
              "    <button class=\"colab-df-convert\" onclick=\"convertToInteractive('df-7379b55d-6873-4759-b6c9-d64ed77e6777')\"\n",
              "            title=\"Convert this dataframe to an interactive table.\"\n",
              "            style=\"display:none;\">\n",
              "\n",
              "  <svg xmlns=\"http://www.w3.org/2000/svg\" height=\"24px\" viewBox=\"0 -960 960 960\">\n",
              "    <path d=\"M120-120v-720h720v720H120Zm60-500h600v-160H180v160Zm220 220h160v-160H400v160Zm0 220h160v-160H400v160ZM180-400h160v-160H180v160Zm440 0h160v-160H620v160ZM180-180h160v-160H180v160Zm440 0h160v-160H620v160Z\"/>\n",
              "  </svg>\n",
              "    </button>\n",
              "\n",
              "  <style>\n",
              "    .colab-df-container {\n",
              "      display:flex;\n",
              "      gap: 12px;\n",
              "    }\n",
              "\n",
              "    .colab-df-convert {\n",
              "      background-color: #E8F0FE;\n",
              "      border: none;\n",
              "      border-radius: 50%;\n",
              "      cursor: pointer;\n",
              "      display: none;\n",
              "      fill: #1967D2;\n",
              "      height: 32px;\n",
              "      padding: 0 0 0 0;\n",
              "      width: 32px;\n",
              "    }\n",
              "\n",
              "    .colab-df-convert:hover {\n",
              "      background-color: #E2EBFA;\n",
              "      box-shadow: 0px 1px 2px rgba(60, 64, 67, 0.3), 0px 1px 3px 1px rgba(60, 64, 67, 0.15);\n",
              "      fill: #174EA6;\n",
              "    }\n",
              "\n",
              "    .colab-df-buttons div {\n",
              "      margin-bottom: 4px;\n",
              "    }\n",
              "\n",
              "    [theme=dark] .colab-df-convert {\n",
              "      background-color: #3B4455;\n",
              "      fill: #D2E3FC;\n",
              "    }\n",
              "\n",
              "    [theme=dark] .colab-df-convert:hover {\n",
              "      background-color: #434B5C;\n",
              "      box-shadow: 0px 1px 3px 1px rgba(0, 0, 0, 0.15);\n",
              "      filter: drop-shadow(0px 1px 2px rgba(0, 0, 0, 0.3));\n",
              "      fill: #FFFFFF;\n",
              "    }\n",
              "  </style>\n",
              "\n",
              "    <script>\n",
              "      const buttonEl =\n",
              "        document.querySelector('#df-7379b55d-6873-4759-b6c9-d64ed77e6777 button.colab-df-convert');\n",
              "      buttonEl.style.display =\n",
              "        google.colab.kernel.accessAllowed ? 'block' : 'none';\n",
              "\n",
              "      async function convertToInteractive(key) {\n",
              "        const element = document.querySelector('#df-7379b55d-6873-4759-b6c9-d64ed77e6777');\n",
              "        const dataTable =\n",
              "          await google.colab.kernel.invokeFunction('convertToInteractive',\n",
              "                                                    [key], {});\n",
              "        if (!dataTable) return;\n",
              "\n",
              "        const docLinkHtml = 'Like what you see? Visit the ' +\n",
              "          '<a target=\"_blank\" href=https://colab.research.google.com/notebooks/data_table.ipynb>data table notebook</a>'\n",
              "          + ' to learn more about interactive tables.';\n",
              "        element.innerHTML = '';\n",
              "        dataTable['output_type'] = 'display_data';\n",
              "        await google.colab.output.renderOutput(dataTable, element);\n",
              "        const docLink = document.createElement('div');\n",
              "        docLink.innerHTML = docLinkHtml;\n",
              "        element.appendChild(docLink);\n",
              "      }\n",
              "    </script>\n",
              "  </div>\n",
              "\n",
              "\n",
              "<div id=\"df-2723cd12-377d-4e16-818f-dae4171681d8\">\n",
              "  <button class=\"colab-df-quickchart\" onclick=\"quickchart('df-2723cd12-377d-4e16-818f-dae4171681d8')\"\n",
              "            title=\"Suggest charts\"\n",
              "            style=\"display:none;\">\n",
              "\n",
              "<svg xmlns=\"http://www.w3.org/2000/svg\" height=\"24px\"viewBox=\"0 0 24 24\"\n",
              "     width=\"24px\">\n",
              "    <g>\n",
              "        <path d=\"M19 3H5c-1.1 0-2 .9-2 2v14c0 1.1.9 2 2 2h14c1.1 0 2-.9 2-2V5c0-1.1-.9-2-2-2zM9 17H7v-7h2v7zm4 0h-2V7h2v10zm4 0h-2v-4h2v4z\"/>\n",
              "    </g>\n",
              "</svg>\n",
              "  </button>\n",
              "\n",
              "<style>\n",
              "  .colab-df-quickchart {\n",
              "      --bg-color: #E8F0FE;\n",
              "      --fill-color: #1967D2;\n",
              "      --hover-bg-color: #E2EBFA;\n",
              "      --hover-fill-color: #174EA6;\n",
              "      --disabled-fill-color: #AAA;\n",
              "      --disabled-bg-color: #DDD;\n",
              "  }\n",
              "\n",
              "  [theme=dark] .colab-df-quickchart {\n",
              "      --bg-color: #3B4455;\n",
              "      --fill-color: #D2E3FC;\n",
              "      --hover-bg-color: #434B5C;\n",
              "      --hover-fill-color: #FFFFFF;\n",
              "      --disabled-bg-color: #3B4455;\n",
              "      --disabled-fill-color: #666;\n",
              "  }\n",
              "\n",
              "  .colab-df-quickchart {\n",
              "    background-color: var(--bg-color);\n",
              "    border: none;\n",
              "    border-radius: 50%;\n",
              "    cursor: pointer;\n",
              "    display: none;\n",
              "    fill: var(--fill-color);\n",
              "    height: 32px;\n",
              "    padding: 0;\n",
              "    width: 32px;\n",
              "  }\n",
              "\n",
              "  .colab-df-quickchart:hover {\n",
              "    background-color: var(--hover-bg-color);\n",
              "    box-shadow: 0 1px 2px rgba(60, 64, 67, 0.3), 0 1px 3px 1px rgba(60, 64, 67, 0.15);\n",
              "    fill: var(--button-hover-fill-color);\n",
              "  }\n",
              "\n",
              "  .colab-df-quickchart-complete:disabled,\n",
              "  .colab-df-quickchart-complete:disabled:hover {\n",
              "    background-color: var(--disabled-bg-color);\n",
              "    fill: var(--disabled-fill-color);\n",
              "    box-shadow: none;\n",
              "  }\n",
              "\n",
              "  .colab-df-spinner {\n",
              "    border: 2px solid var(--fill-color);\n",
              "    border-color: transparent;\n",
              "    border-bottom-color: var(--fill-color);\n",
              "    animation:\n",
              "      spin 1s steps(1) infinite;\n",
              "  }\n",
              "\n",
              "  @keyframes spin {\n",
              "    0% {\n",
              "      border-color: transparent;\n",
              "      border-bottom-color: var(--fill-color);\n",
              "      border-left-color: var(--fill-color);\n",
              "    }\n",
              "    20% {\n",
              "      border-color: transparent;\n",
              "      border-left-color: var(--fill-color);\n",
              "      border-top-color: var(--fill-color);\n",
              "    }\n",
              "    30% {\n",
              "      border-color: transparent;\n",
              "      border-left-color: var(--fill-color);\n",
              "      border-top-color: var(--fill-color);\n",
              "      border-right-color: var(--fill-color);\n",
              "    }\n",
              "    40% {\n",
              "      border-color: transparent;\n",
              "      border-right-color: var(--fill-color);\n",
              "      border-top-color: var(--fill-color);\n",
              "    }\n",
              "    60% {\n",
              "      border-color: transparent;\n",
              "      border-right-color: var(--fill-color);\n",
              "    }\n",
              "    80% {\n",
              "      border-color: transparent;\n",
              "      border-right-color: var(--fill-color);\n",
              "      border-bottom-color: var(--fill-color);\n",
              "    }\n",
              "    90% {\n",
              "      border-color: transparent;\n",
              "      border-bottom-color: var(--fill-color);\n",
              "    }\n",
              "  }\n",
              "</style>\n",
              "\n",
              "  <script>\n",
              "    async function quickchart(key) {\n",
              "      const quickchartButtonEl =\n",
              "        document.querySelector('#' + key + ' button');\n",
              "      quickchartButtonEl.disabled = true;  // To prevent multiple clicks.\n",
              "      quickchartButtonEl.classList.add('colab-df-spinner');\n",
              "      try {\n",
              "        const charts = await google.colab.kernel.invokeFunction(\n",
              "            'suggestCharts', [key], {});\n",
              "      } catch (error) {\n",
              "        console.error('Error during call to suggestCharts:', error);\n",
              "      }\n",
              "      quickchartButtonEl.classList.remove('colab-df-spinner');\n",
              "      quickchartButtonEl.classList.add('colab-df-quickchart-complete');\n",
              "    }\n",
              "    (() => {\n",
              "      let quickchartButtonEl =\n",
              "        document.querySelector('#df-2723cd12-377d-4e16-818f-dae4171681d8 button');\n",
              "      quickchartButtonEl.style.display =\n",
              "        google.colab.kernel.accessAllowed ? 'block' : 'none';\n",
              "    })();\n",
              "  </script>\n",
              "</div>\n",
              "\n",
              "    </div>\n",
              "  </div>\n"
            ],
            "application/vnd.google.colaboratory.intrinsic+json": {
              "type": "dataframe",
              "variable_name": "df",
              "summary": "{\n  \"name\": \"df\",\n  \"rows\": 1259,\n  \"fields\": [\n    {\n      \"column\": \"data\",\n      \"properties\": {\n        \"dtype\": \"object\",\n        \"num_unique_values\": 1259,\n        \"samples\": [\n          \"4/23/2013\",\n          \"1/30/2017\",\n          \"3/6/2013\"\n        ],\n        \"semantic_type\": \"\",\n        \"description\": \"\"\n      }\n    },\n    {\n      \"column\": \"valor\",\n      \"properties\": {\n        \"dtype\": \"number\",\n        \"std\": 29.63032317647222,\n        \"min\": 55.424286,\n        \"max\": 175.110001,\n        \"num_unique_values\": 1187,\n        \"samples\": [\n          81.172859,\n          119.550003,\n          161.940002\n        ],\n        \"semantic_type\": \"\",\n        \"description\": \"\"\n      }\n    }\n  ]\n}"
            }
          },
          "metadata": {},
          "execution_count": 3
        }
      ],
      "source": [
        "df.head()"
      ]
    },
    {
      "cell_type": "code",
      "execution_count": 4,
      "metadata": {
        "colab": {
          "base_uri": "https://localhost:8080/"
        },
        "id": "fhaZiMtusqGi",
        "outputId": "5f7dcea7-07b0-43c0-f222-af0cb48ca122"
      },
      "outputs": [
        {
          "output_type": "execute_result",
          "data": {
            "text/plain": [
              "array([[ 79.117142],\n",
              "       [ 78.26857 ],\n",
              "       [ 76.709999],\n",
              "       ...,\n",
              "       [170.100006],\n",
              "       [171.      ],\n",
              "       [170.520004]])"
            ]
          },
          "metadata": {},
          "execution_count": 4
        }
      ],
      "source": [
        "data = df['valor'].values.reshape(-1, 1)\n",
        "data"
      ]
    },
    {
      "cell_type": "code",
      "execution_count": 5,
      "metadata": {
        "id": "Kpo8QNlFsqGi"
      },
      "outputs": [],
      "source": [
        "# Normalizando os dados\n",
        "scaler = MinMaxScaler(feature_range=(0, 1))\n",
        "data = scaler.fit_transform(data)"
      ]
    },
    {
      "cell_type": "code",
      "execution_count": 6,
      "metadata": {
        "id": "CmJGB8fQsqGi"
      },
      "outputs": [],
      "source": [
        "# Função para criar dados de treinamento e teste\n",
        "def create_dataset(data, time_step=5):\n",
        "    X, y = [], []\n",
        "    for i in range(len(data) - time_step):\n",
        "        X.append(data[i:(i + time_step), 0])\n",
        "        y.append(data[i + time_step, 0])\n",
        "    return np.array(X), np.array(y)\n",
        "\n",
        "# Criando dados de treinamento e teste\n",
        "time_step = 3  # usando uma janela de 60 dias para prever o próximo valor\n",
        "X, y = create_dataset(data, time_step)\n",
        "\n",
        "X = X.reshape((X.shape[0], X.shape[1], 1))"
      ]
    },
    {
      "cell_type": "code",
      "execution_count": 7,
      "metadata": {
        "colab": {
          "base_uri": "https://localhost:8080/"
        },
        "id": "SMVObEPxsqGi",
        "outputId": "79892ccf-0171-4176-f224-e8af312c4aa1"
      },
      "outputs": [
        {
          "output_type": "execute_result",
          "data": {
            "text/plain": [
              "array([[0.19086893],\n",
              "       [0.17784673],\n",
              "       [0.15997849]])"
            ]
          },
          "metadata": {},
          "execution_count": 7
        }
      ],
      "source": [
        "X[1]"
      ]
    },
    {
      "cell_type": "code",
      "execution_count": 8,
      "metadata": {
        "colab": {
          "base_uri": "https://localhost:8080/"
        },
        "id": "86stDKefsqGi",
        "outputId": "83d9b64d-a180-410a-83f8-ff3631db7352"
      },
      "outputs": [
        {
          "output_type": "execute_result",
          "data": {
            "text/plain": [
              "0.15997849033194983"
            ]
          },
          "metadata": {},
          "execution_count": 8
        }
      ],
      "source": [
        "y[0]"
      ]
    },
    {
      "cell_type": "code",
      "execution_count": 9,
      "metadata": {
        "colab": {
          "base_uri": "https://localhost:8080/"
        },
        "id": "kMBZI9YUsqGj",
        "outputId": "6bcf3e1f-ff4b-4973-ffe4-6e70482fa885"
      },
      "outputs": [
        {
          "output_type": "execute_result",
          "data": {
            "text/plain": [
              "array([0.15997849, 0.16858435, 0.16057534, ..., 0.95814041, 0.96566005,\n",
              "       0.96164958])"
            ]
          },
          "metadata": {},
          "execution_count": 9
        }
      ],
      "source": [
        "y"
      ]
    },
    {
      "cell_type": "code",
      "execution_count": 10,
      "metadata": {
        "colab": {
          "base_uri": "https://localhost:8080/"
        },
        "id": "mnt0bpAysqGj",
        "outputId": "701a3901-e247-4c68-a640-a88be776bf80"
      },
      "outputs": [
        {
          "output_type": "execute_result",
          "data": {
            "text/plain": [
              "array([[[0.19795893],\n",
              "        [0.19086893],\n",
              "        [0.17784673]],\n",
              "\n",
              "       [[0.19086893],\n",
              "        [0.17784673],\n",
              "        [0.15997849]],\n",
              "\n",
              "       [[0.17784673],\n",
              "        [0.15997849],\n",
              "        [0.16858435]],\n",
              "\n",
              "       ...,\n",
              "\n",
              "       [[0.99214607],\n",
              "        [0.99640719],\n",
              "        [0.96398904]],\n",
              "\n",
              "       [[0.99640719],\n",
              "        [0.96398904],\n",
              "        [0.95814041]],\n",
              "\n",
              "       [[0.96398904],\n",
              "        [0.95814041],\n",
              "        [0.96566005]]])"
            ]
          },
          "metadata": {},
          "execution_count": 10
        }
      ],
      "source": [
        "X"
      ]
    },
    {
      "cell_type": "code",
      "execution_count": 11,
      "metadata": {
        "colab": {
          "base_uri": "https://localhost:8080/"
        },
        "id": "ArnVMHDcsqGj",
        "outputId": "72d24af3-7a53-40be-852d-63a05705a9d0"
      },
      "outputs": [
        {
          "output_type": "execute_result",
          "data": {
            "text/plain": [
              "(1256, 3, 1)"
            ]
          },
          "metadata": {},
          "execution_count": 11
        }
      ],
      "source": [
        "X.shape"
      ]
    },
    {
      "cell_type": "code",
      "execution_count": 12,
      "metadata": {
        "colab": {
          "base_uri": "https://localhost:8080/"
        },
        "id": "DS18NFTlsqGj",
        "outputId": "ca051e95-0590-4a12-b55e-7d27dce14970"
      },
      "outputs": [
        {
          "output_type": "execute_result",
          "data": {
            "text/plain": [
              "(3, 1)"
            ]
          },
          "metadata": {},
          "execution_count": 12
        }
      ],
      "source": [
        "X[0].shape"
      ]
    },
    {
      "cell_type": "code",
      "execution_count": 13,
      "metadata": {
        "id": "Tl9dyBiJsqGj"
      },
      "outputs": [],
      "source": [
        "X_train = X[:int(len(X) * 0.8)]\n",
        "X_test = X[int(len(X) * 0.8):]\n",
        "\n",
        "y_train = y[:int(len(y) * 0.8)]\n",
        "y_test = y[int(len(y) * 0.8):]"
      ]
    },
    {
      "cell_type": "code",
      "execution_count": 14,
      "metadata": {
        "colab": {
          "base_uri": "https://localhost:8080/"
        },
        "id": "E6qB6oDbsqGj",
        "outputId": "a2885897-8570-4e87-d7c9-5b70647fc673"
      },
      "outputs": [
        {
          "output_type": "stream",
          "name": "stderr",
          "text": [
            "/usr/local/lib/python3.10/dist-packages/keras/src/layers/rnn/rnn.py:204: UserWarning: Do not pass an `input_shape`/`input_dim` argument to a layer. When using Sequential models, prefer using an `Input(shape)` object as the first layer in the model instead.\n",
            "  super().__init__(**kwargs)\n"
          ]
        }
      ],
      "source": [
        "# Definindo a arquitetura da RNN\n",
        "model = Sequential()\n",
        "model.add(SimpleRNN(units=50, activation='tanh', input_shape=(time_step, 1)))\n",
        "model.add(Dropout(0.2))\n",
        "model.add(Dense(units=1))\n",
        "\n",
        "# Compilando o modelo\n",
        "model.compile(optimizer='adam', loss='mean_squared_error')"
      ]
    },
    {
      "cell_type": "code",
      "execution_count": 15,
      "metadata": {
        "colab": {
          "base_uri": "https://localhost:8080/"
        },
        "id": "pFEjyT-ZsqGj",
        "outputId": "509b7251-7d11-4f14-a205-6d2af30dec99"
      },
      "outputs": [
        {
          "output_type": "stream",
          "name": "stdout",
          "text": [
            "Epoch 1/100\n",
            "29/29 - 2s - 81ms/step - loss: 0.0667 - val_loss: 0.0094\n",
            "Epoch 2/100\n",
            "29/29 - 1s - 31ms/step - loss: 0.0087 - val_loss: 4.0097e-04\n",
            "Epoch 3/100\n",
            "29/29 - 1s - 26ms/step - loss: 0.0055 - val_loss: 4.2360e-04\n",
            "Epoch 4/100\n",
            "29/29 - 1s - 20ms/step - loss: 0.0045 - val_loss: 4.1935e-04\n",
            "Epoch 5/100\n",
            "29/29 - 1s - 19ms/step - loss: 0.0035 - val_loss: 5.4416e-04\n",
            "Epoch 6/100\n",
            "29/29 - 1s - 23ms/step - loss: 0.0030 - val_loss: 3.6563e-04\n",
            "Epoch 7/100\n",
            "29/29 - 0s - 6ms/step - loss: 0.0024 - val_loss: 3.7730e-04\n",
            "Epoch 8/100\n",
            "29/29 - 0s - 15ms/step - loss: 0.0026 - val_loss: 4.0708e-04\n",
            "Epoch 9/100\n",
            "29/29 - 1s - 19ms/step - loss: 0.0022 - val_loss: 3.5518e-04\n",
            "Epoch 10/100\n",
            "29/29 - 0s - 8ms/step - loss: 0.0022 - val_loss: 3.4720e-04\n",
            "Epoch 11/100\n",
            "29/29 - 0s - 11ms/step - loss: 0.0019 - val_loss: 7.4474e-04\n",
            "Epoch 12/100\n",
            "29/29 - 0s - 10ms/step - loss: 0.0020 - val_loss: 4.2110e-04\n",
            "Epoch 13/100\n",
            "29/29 - 0s - 10ms/step - loss: 0.0017 - val_loss: 6.0410e-04\n",
            "Epoch 14/100\n",
            "29/29 - 0s - 12ms/step - loss: 0.0017 - val_loss: 3.3480e-04\n",
            "Epoch 15/100\n",
            "29/29 - 0s - 10ms/step - loss: 0.0016 - val_loss: 5.6118e-04\n",
            "Epoch 16/100\n",
            "29/29 - 0s - 9ms/step - loss: 0.0015 - val_loss: 3.3700e-04\n",
            "Epoch 17/100\n",
            "29/29 - 0s - 11ms/step - loss: 0.0015 - val_loss: 3.3875e-04\n",
            "Epoch 18/100\n",
            "29/29 - 1s - 19ms/step - loss: 0.0016 - val_loss: 3.2304e-04\n",
            "Epoch 19/100\n",
            "29/29 - 0s - 10ms/step - loss: 0.0016 - val_loss: 4.1443e-04\n",
            "Epoch 20/100\n",
            "29/29 - 0s - 14ms/step - loss: 0.0016 - val_loss: 4.9370e-04\n",
            "Epoch 21/100\n",
            "29/29 - 1s - 18ms/step - loss: 0.0014 - val_loss: 4.2587e-04\n",
            "Epoch 22/100\n",
            "29/29 - 0s - 10ms/step - loss: 0.0013 - val_loss: 3.0588e-04\n",
            "Epoch 23/100\n",
            "29/29 - 0s - 9ms/step - loss: 0.0012 - val_loss: 3.5896e-04\n",
            "Epoch 24/100\n",
            "29/29 - 0s - 12ms/step - loss: 0.0014 - val_loss: 3.2884e-04\n",
            "Epoch 25/100\n",
            "29/29 - 0s - 13ms/step - loss: 0.0012 - val_loss: 3.3285e-04\n",
            "Epoch 26/100\n",
            "29/29 - 1s - 20ms/step - loss: 0.0012 - val_loss: 2.9457e-04\n",
            "Epoch 27/100\n",
            "29/29 - 0s - 13ms/step - loss: 0.0012 - val_loss: 2.9518e-04\n",
            "Epoch 28/100\n",
            "29/29 - 0s - 16ms/step - loss: 0.0012 - val_loss: 2.9025e-04\n",
            "Epoch 29/100\n",
            "29/29 - 0s - 4ms/step - loss: 0.0012 - val_loss: 3.0636e-04\n",
            "Epoch 30/100\n",
            "29/29 - 0s - 4ms/step - loss: 0.0012 - val_loss: 3.1190e-04\n",
            "Epoch 31/100\n",
            "29/29 - 0s - 4ms/step - loss: 0.0013 - val_loss: 2.8111e-04\n",
            "Epoch 32/100\n",
            "29/29 - 0s - 4ms/step - loss: 0.0012 - val_loss: 2.9096e-04\n",
            "Epoch 33/100\n",
            "29/29 - 0s - 4ms/step - loss: 0.0012 - val_loss: 3.8407e-04\n",
            "Epoch 34/100\n",
            "29/29 - 0s - 4ms/step - loss: 0.0011 - val_loss: 3.1609e-04\n",
            "Epoch 35/100\n",
            "29/29 - 0s - 5ms/step - loss: 0.0011 - val_loss: 3.6523e-04\n",
            "Epoch 36/100\n",
            "29/29 - 0s - 4ms/step - loss: 0.0011 - val_loss: 4.0805e-04\n",
            "Epoch 37/100\n",
            "29/29 - 0s - 4ms/step - loss: 0.0011 - val_loss: 2.6415e-04\n",
            "Epoch 38/100\n",
            "29/29 - 0s - 5ms/step - loss: 0.0010 - val_loss: 2.6195e-04\n",
            "Epoch 39/100\n",
            "29/29 - 0s - 6ms/step - loss: 0.0011 - val_loss: 4.9987e-04\n",
            "Epoch 40/100\n",
            "29/29 - 0s - 10ms/step - loss: 0.0012 - val_loss: 2.5556e-04\n",
            "Epoch 41/100\n",
            "29/29 - 0s - 10ms/step - loss: 0.0010 - val_loss: 3.1005e-04\n",
            "Epoch 42/100\n",
            "29/29 - 0s - 10ms/step - loss: 0.0010 - val_loss: 2.9170e-04\n",
            "Epoch 43/100\n",
            "29/29 - 0s - 11ms/step - loss: 9.4165e-04 - val_loss: 2.6688e-04\n",
            "Epoch 44/100\n",
            "29/29 - 0s - 10ms/step - loss: 0.0011 - val_loss: 6.0322e-04\n",
            "Epoch 45/100\n",
            "29/29 - 0s - 15ms/step - loss: 0.0010 - val_loss: 2.8204e-04\n",
            "Epoch 46/100\n",
            "29/29 - 1s - 19ms/step - loss: 0.0010 - val_loss: 2.8695e-04\n",
            "Epoch 47/100\n",
            "29/29 - 0s - 11ms/step - loss: 9.9982e-04 - val_loss: 5.0625e-04\n",
            "Epoch 48/100\n",
            "29/29 - 0s - 6ms/step - loss: 8.5959e-04 - val_loss: 0.0012\n",
            "Epoch 49/100\n",
            "29/29 - 0s - 5ms/step - loss: 0.0012 - val_loss: 2.7841e-04\n",
            "Epoch 50/100\n",
            "29/29 - 0s - 5ms/step - loss: 0.0011 - val_loss: 2.3648e-04\n",
            "Epoch 51/100\n",
            "29/29 - 0s - 4ms/step - loss: 7.6282e-04 - val_loss: 2.3808e-04\n",
            "Epoch 52/100\n",
            "29/29 - 0s - 5ms/step - loss: 9.7433e-04 - val_loss: 2.3607e-04\n",
            "Epoch 53/100\n",
            "29/29 - 0s - 5ms/step - loss: 9.4398e-04 - val_loss: 2.7234e-04\n",
            "Epoch 54/100\n",
            "29/29 - 0s - 6ms/step - loss: 0.0011 - val_loss: 3.2442e-04\n",
            "Epoch 55/100\n",
            "29/29 - 0s - 4ms/step - loss: 8.6422e-04 - val_loss: 2.7696e-04\n",
            "Epoch 56/100\n",
            "29/29 - 0s - 4ms/step - loss: 9.2232e-04 - val_loss: 6.4804e-04\n",
            "Epoch 57/100\n",
            "29/29 - 0s - 4ms/step - loss: 8.2642e-04 - val_loss: 2.5922e-04\n",
            "Epoch 58/100\n",
            "29/29 - 0s - 4ms/step - loss: 9.5724e-04 - val_loss: 4.1439e-04\n",
            "Epoch 59/100\n",
            "29/29 - 0s - 4ms/step - loss: 7.9304e-04 - val_loss: 3.5161e-04\n",
            "Epoch 60/100\n",
            "29/29 - 0s - 5ms/step - loss: 8.3716e-04 - val_loss: 4.1155e-04\n",
            "Epoch 61/100\n",
            "29/29 - 0s - 4ms/step - loss: 8.4048e-04 - val_loss: 3.4173e-04\n",
            "Epoch 62/100\n",
            "29/29 - 0s - 5ms/step - loss: 8.5436e-04 - val_loss: 2.9143e-04\n",
            "Epoch 63/100\n",
            "29/29 - 0s - 4ms/step - loss: 8.8507e-04 - val_loss: 2.4190e-04\n",
            "Epoch 64/100\n",
            "29/29 - 0s - 4ms/step - loss: 8.5024e-04 - val_loss: 2.0610e-04\n",
            "Epoch 65/100\n",
            "29/29 - 0s - 5ms/step - loss: 9.2647e-04 - val_loss: 2.0975e-04\n",
            "Epoch 66/100\n",
            "29/29 - 0s - 5ms/step - loss: 8.3287e-04 - val_loss: 2.1756e-04\n",
            "Epoch 67/100\n",
            "29/29 - 0s - 4ms/step - loss: 8.2323e-04 - val_loss: 2.0679e-04\n",
            "Epoch 68/100\n",
            "29/29 - 0s - 4ms/step - loss: 8.7918e-04 - val_loss: 2.0476e-04\n",
            "Epoch 69/100\n",
            "29/29 - 0s - 5ms/step - loss: 8.2600e-04 - val_loss: 2.0609e-04\n",
            "Epoch 70/100\n",
            "29/29 - 0s - 5ms/step - loss: 7.2275e-04 - val_loss: 2.5306e-04\n",
            "Epoch 71/100\n",
            "29/29 - 0s - 5ms/step - loss: 8.0769e-04 - val_loss: 6.5955e-04\n",
            "Epoch 72/100\n",
            "29/29 - 0s - 4ms/step - loss: 8.7955e-04 - val_loss: 1.9634e-04\n",
            "Epoch 73/100\n",
            "29/29 - 0s - 4ms/step - loss: 7.0994e-04 - val_loss: 1.9865e-04\n",
            "Epoch 74/100\n",
            "29/29 - 0s - 4ms/step - loss: 8.4987e-04 - val_loss: 2.5586e-04\n",
            "Epoch 75/100\n",
            "29/29 - 0s - 4ms/step - loss: 7.4271e-04 - val_loss: 2.0566e-04\n",
            "Epoch 76/100\n",
            "29/29 - 0s - 4ms/step - loss: 7.5959e-04 - val_loss: 4.3918e-04\n",
            "Epoch 77/100\n",
            "29/29 - 0s - 4ms/step - loss: 7.4850e-04 - val_loss: 3.2298e-04\n",
            "Epoch 78/100\n",
            "29/29 - 0s - 6ms/step - loss: 7.3923e-04 - val_loss: 2.8753e-04\n",
            "Epoch 79/100\n",
            "29/29 - 0s - 4ms/step - loss: 7.2758e-04 - val_loss: 2.8356e-04\n",
            "Epoch 80/100\n",
            "29/29 - 0s - 4ms/step - loss: 7.4896e-04 - val_loss: 2.6977e-04\n",
            "Epoch 81/100\n",
            "29/29 - 0s - 4ms/step - loss: 7.4708e-04 - val_loss: 2.3047e-04\n",
            "Epoch 82/100\n",
            "29/29 - 0s - 4ms/step - loss: 7.7021e-04 - val_loss: 1.8904e-04\n",
            "Epoch 83/100\n",
            "29/29 - 0s - 4ms/step - loss: 7.1024e-04 - val_loss: 2.5427e-04\n",
            "Epoch 84/100\n",
            "29/29 - 0s - 4ms/step - loss: 7.1808e-04 - val_loss: 2.4935e-04\n",
            "Epoch 85/100\n",
            "29/29 - 0s - 4ms/step - loss: 6.8291e-04 - val_loss: 2.3331e-04\n",
            "Epoch 86/100\n",
            "29/29 - 0s - 6ms/step - loss: 7.0285e-04 - val_loss: 1.9988e-04\n",
            "Epoch 87/100\n",
            "29/29 - 0s - 4ms/step - loss: 7.2187e-04 - val_loss: 1.9083e-04\n",
            "Epoch 88/100\n",
            "29/29 - 0s - 4ms/step - loss: 6.8122e-04 - val_loss: 2.6975e-04\n",
            "Epoch 89/100\n",
            "29/29 - 0s - 5ms/step - loss: 6.1590e-04 - val_loss: 1.9333e-04\n",
            "Epoch 90/100\n",
            "29/29 - 0s - 4ms/step - loss: 7.0833e-04 - val_loss: 1.7919e-04\n",
            "Epoch 91/100\n",
            "29/29 - 0s - 4ms/step - loss: 6.1304e-04 - val_loss: 2.5224e-04\n",
            "Epoch 92/100\n",
            "29/29 - 0s - 5ms/step - loss: 6.4797e-04 - val_loss: 6.5633e-04\n",
            "Epoch 93/100\n",
            "29/29 - 0s - 5ms/step - loss: 7.7544e-04 - val_loss: 2.1454e-04\n",
            "Epoch 94/100\n",
            "29/29 - 0s - 4ms/step - loss: 6.1507e-04 - val_loss: 4.0471e-04\n",
            "Epoch 95/100\n",
            "29/29 - 0s - 4ms/step - loss: 6.0742e-04 - val_loss: 3.4797e-04\n",
            "Epoch 96/100\n",
            "29/29 - 0s - 5ms/step - loss: 7.4567e-04 - val_loss: 1.8219e-04\n",
            "Epoch 97/100\n",
            "29/29 - 0s - 4ms/step - loss: 7.5588e-04 - val_loss: 1.8505e-04\n",
            "Epoch 98/100\n",
            "29/29 - 0s - 5ms/step - loss: 5.8563e-04 - val_loss: 2.2778e-04\n",
            "Epoch 99/100\n",
            "29/29 - 0s - 5ms/step - loss: 6.3478e-04 - val_loss: 3.3365e-04\n",
            "Epoch 100/100\n",
            "29/29 - 0s - 5ms/step - loss: 6.8847e-04 - val_loss: 1.6895e-04\n"
          ]
        }
      ],
      "source": [
        "# Treinando a RNN\n",
        "history = model.fit(X_train, y_train, epochs=100, batch_size=32, validation_split=0.1, verbose=2)"
      ]
    },
    {
      "cell_type": "code",
      "execution_count": 16,
      "metadata": {
        "colab": {
          "base_uri": "https://localhost:8080/",
          "height": 567
        },
        "id": "eRHn3EZ3sqGj",
        "outputId": "b89ba586-a33f-4fe3-842f-4bf5a875bf8e"
      },
      "outputs": [
        {
          "output_type": "display_data",
          "data": {
            "text/plain": [
              "<Figure size 1200x600 with 1 Axes>"
            ],
            "image/png": "[encoded data removed]"
          },
          "metadata": {}
        }
      ],
      "source": [
        "# Importando as bibliotecas necessárias\n",
        "import matplotlib.pyplot as plt\n",
        "\n",
        "# Supondo que você já tenha o objeto 'history' do treinamento do modelo\n",
        "\n",
        "# Plotando o gráfico do histórico de treinamento\n",
        "plt.figure(figsize=(12, 6))\n",
        "\n",
        "# Plotando a perda de treinamento\n",
        "plt.plot(history.history['loss'], label='Perda de Treinamento')\n",
        "\n",
        "# Plotando a perda de validação\n",
        "plt.plot(history.history['val_loss'], label='Perda de Validação')\n",
        "\n",
        "# Adicionando título e legendas\n",
        "plt.title('Histórico de Treinamento e Validação')\n",
        "plt.xlabel('Épocas')\n",
        "plt.ylabel('Perda')\n",
        "plt.legend()\n",
        "\n",
        "# Exibindo o gráfico\n",
        "plt.show()"
      ]
    },
    {
      "cell_type": "code",
      "execution_count": 17,
      "metadata": {
        "colab": {
          "base_uri": "https://localhost:8080/"
        },
        "id": "c1wBjfFvsqGk",
        "outputId": "056691aa-5907-4731-8eb6-7ac1031500d6"
      },
      "outputs": [
        {
          "output_type": "stream",
          "name": "stdout",
          "text": [
            "\u001b[1m32/32\u001b[0m \u001b[32m━━━━━━━━━━━━━━━━━━━━\u001b[0m\u001b[37m\u001b[0m \u001b[1m0s\u001b[0m 6ms/step\n",
            "\u001b[1m8/8\u001b[0m \u001b[32m━━━━━━━━━━━━━━━━━━━━\u001b[0m\u001b[37m\u001b[0m \u001b[1m0s\u001b[0m 2ms/step \n"
          ]
        }
      ],
      "source": [
        "# Fazendo previsões\n",
        "train_predict = model.predict(X_train)\n",
        "test_predict = model.predict(X_test)"
      ]
    },
    {
      "cell_type": "code",
      "execution_count": 18,
      "metadata": {
        "id": "DUK84JTssqGk"
      },
      "outputs": [],
      "source": [
        "# Invertendo a normalização para obter os valores reais\n",
        "train_predict = scaler.inverse_transform(train_predict)\n",
        "test_predict = scaler.inverse_transform(test_predict)\n",
        "y_train = scaler.inverse_transform(y_train.reshape(-1, 1))\n",
        "y_test = scaler.inverse_transform(y_test.reshape(-1, 1))"
      ]
    },
    {
      "cell_type": "code",
      "execution_count": 19,
      "metadata": {
        "colab": {
          "base_uri": "https://localhost:8080/",
          "height": 543
        },
        "id": "jbFa3rFdsqGk",
        "outputId": "7dd3066f-60a3-4cde-f0c2-4caccfba8a1d"
      },
      "outputs": [
        {
          "output_type": "display_data",
          "data": {
            "text/plain": [
              "<Figure size 1200x600 with 1 Axes>"
            ],
            "image/png": "[encoded data removed]"
          },
          "metadata": {}
        }
      ],
      "source": [
        "# Plotando os resultados\n",
        "plt.figure(figsize=(12, 6))\n",
        "plt.plot(df['valor'], label='Dados reais')\n",
        "train_range = range(time_step, time_step + len(train_predict))\n",
        "test_range = range(time_step + len(train_predict), time_step + len(train_predict) + len(test_predict))\n",
        "plt.plot(train_range, train_predict, label='Previsões de treino')\n",
        "plt.plot(test_range, test_predict, label='Previsões de teste')\n",
        "plt.xlabel('Dias')\n",
        "plt.ylabel('Preço de Fechamento Normalizado')\n",
        "plt.legend()\n",
        "plt.show()"
      ]
    },
    {
      "cell_type": "code",
      "execution_count": 20,
      "metadata": {
        "id": "l9jkRI8ysqGk"
      },
      "outputs": [],
      "source": [
        "from sklearn.metrics import mean_absolute_error, mean_squared_error, r2_score\n",
        "\n",
        "def regression_metrics(y_test, test_predict):\n",
        "    # Calculando MAE\n",
        "    mae = mean_absolute_error(y_test, test_predict)\n",
        "\n",
        "    # Calculando MSE\n",
        "    mse = mean_squared_error(y_test, test_predict)\n",
        "\n",
        "    # Calculando RMSE\n",
        "    rmse = np.sqrt(mse)\n",
        "\n",
        "    # Calculando R²\n",
        "    r2 = r2_score(y_test, test_predict)\n",
        "\n",
        "    # Exibindo os resultados\n",
        "    print(f'Mean Absolute Error (MAE): {mae}')\n",
        "    print(f'Mean Squared Error (MSE): {mse}')\n",
        "    print(f'Root Mean Squared Error (RMSE): {rmse}')\n",
        "    print(f'Coefficient of Determination (R²): {r2}')"
      ]
    },
    {
      "cell_type": "code",
      "execution_count": 21,
      "metadata": {
        "colab": {
          "base_uri": "https://localhost:8080/"
        },
        "id": "AtVO9WJ5sqGk",
        "outputId": "c0bed17b-1b87-46ae-ee19-e8bdbe1f6228"
      },
      "outputs": [
        {
          "output_type": "stream",
          "name": "stdout",
          "text": [
            "Mean Absolute Error (MAE): 2.2076523805997335\n",
            "Mean Squared Error (MSE): 7.991811597112949\n",
            "Root Mean Squared Error (RMSE): 2.826979235352278\n",
            "Coefficient of Determination (R²): 0.9637061564314622\n"
          ]
        }
      ],
      "source": [
        "regression_metrics(y_test, test_predict)"
      ]
    },
    {
      "cell_type": "code",
      "execution_count": 22,
      "metadata": {
        "colab": {
          "base_uri": "https://localhost:8080/"
        },
        "id": "3hq4PIBasqGk",
        "outputId": "ed28733e-a426-4fac-f831-cefd4a90dbd9"
      },
      "outputs": [
        {
          "output_type": "stream",
          "name": "stdout",
          "text": [
            "Mean Absolute Error (MAE): 1.2794093954010615\n",
            "Mean Squared Error (MSE): 3.3465215706954266\n",
            "Root Mean Squared Error (RMSE): 1.8293500405049403\n",
            "Coefficient of Determination (R²): 0.9926270931269546\n"
          ]
        }
      ],
      "source": [
        "regression_metrics(y_train, train_predict)"
      ]
    },
    {
      "cell_type": "markdown",
      "metadata": {
        "id": "ZkErcqeysqGk"
      },
      "source": [
        "### Explicação das Métricas de Regressão\n",
        "\n",
        "#### 1. Erro Absoluto Médio (MAE)\n",
        "- **Definição**: O Erro Absoluto Médio (MAE) mede a média dos erros absolutos entre as previsões e os valores reais. Ele é a média da diferença absoluta entre as previsões e os valores reais.\n",
        "- **Fórmula**: \\(\\text{MAE} = \\frac{1}{n} \\sum_{i=1}^{n} |y_i - \\hat{y}_i|\\)\n",
        "- **Interpretação**:\n",
        "  - **Bom Valor**: Um valor de MAE próximo de 0 indica que as previsões estão muito próximas dos valores reais.\n",
        "  - **Valor Ruim**: Um valor de MAE alto indica que há uma grande diferença entre as previsões e os valores reais.\n",
        "\n",
        "#### 2. Erro Quadrático Médio (MSE)\n",
        "- **Definição**: O Erro Quadrático Médio (MSE) mede a média dos quadrados dos erros entre as previsões e os valores reais. Ele penaliza mais os grandes erros do que os pequenos erros.\n",
        "- **Fórmula**: \\(\\text{MSE} = \\frac{1}{n} \\sum_{i=1}^{n} (y_i - \\hat{y}_i)^2\\)\n",
        "- **Interpretação**:\n",
        "  - **Bom Valor**: Um valor de MSE próximo de 0 indica que as previsões estão muito próximas dos valores reais.\n",
        "  - **Valor Ruim**: Um valor de MSE alto indica que há uma grande diferença entre as previsões e os valores reais.\n",
        "\n",
        "#### 3. Raiz do Erro Quadrático Médio (RMSE)\n",
        "- **Definição**: A Raiz do Erro Quadrático Médio (RMSE) é a raiz quadrada do MSE. Ele fornece uma medida do erro em unidades comparáveis aos valores reais.\n",
        "- **Fórmula**: \\(\\text{RMSE} = \\sqrt{\\text{MSE}}\\)\n",
        "- **Interpretação**:\n",
        "  - **Bom Valor**: Um valor de RMSE próximo de 0 indica que as previsões estão muito próximas dos valores reais.\n",
        "  - **Valor Ruim**: Um valor de RMSE alto indica que há uma grande diferença entre as previsões e os valores reais.\n",
        "\n",
        "#### 4. Coeficiente de Determinação (R²)\n",
        "- **Definição**: O Coeficiente de Determinação (R²) mede a proporção da variância dos valores reais que é explicada pelas previsões do modelo. Ele varia de 0 a 1, onde 1 indica um modelo perfeito.\n",
        "- **Fórmula**: \\(R^2 = 1 - \\frac{\\sum_{i=1}^{n} (y_i - \\hat{y}_i)^2}{\\sum_{i=1}^{n} (y_i - \\bar{y})^2}\\)\n",
        "- **Interpretação**:\n",
        "  - **Bom Valor**: Um valor de R² próximo de 1 indica que as previsões explicam bem a variância dos valores reais.\n",
        "  - **Valor Ruim**: Um valor de R² próximo de 0 indica que as previsões não explicam bem a variância dos valores reais.\n",
        "\n",
        "### Considerações Gerais:\n",
        "- Para todas as métricas (MAE, MSE, RMSE), valores mais baixos são desejáveis, indicando previsões mais precisas.\n",
        "- Para o coeficiente de determinação (R²), valores mais próximos de 1 são desejáveis, indicando que o modelo explica bem a variância dos dados.\n",
        "\n",
        "Um bom modelo de regressão deve ter valores baixos para MAE, MSE e RMSE, e um valor alto para R².\n"
      ]
    },
    {
      "cell_type": "markdown",
      "metadata": {
        "id": "9gZgKV95sqGk"
      },
      "source": [
        "### 2. Conceitos Básicos de RNNs\n",
        "\n",
        "#### Definição e Características das RNNs\n",
        "Redes Neurais Recorrentes (RNNs) são um tipo de rede neural projetada para processar sequências de dados, como séries temporais e texto. Diferente das redes neurais tradicionais (feedforward), as RNNs possuem conexões recorrentes que permitem a propagação de informações ao longo da sequência.\n",
        "\n",
        "- **Diferenciação entre RNNs e Redes Neurais Tradicionais (Feedforward)**\n",
        "  - **Redes Neurais Tradicionais**: Processam dados de forma independente, sem considerar a ordem ou dependências temporais.\n",
        "  - **RNNs**: Mantêm um estado interno (memória) que é atualizado a cada passo temporal, permitindo que informações de estados anteriores influenciem a saída atual. Isso é crucial para capturar dependências temporais em dados sequenciais.\n",
        "\n",
        "- **Capacidade das RNNs de Manter Informações sobre Estados Anteriores através de Laços de Realimentação**\n",
        "  - As RNNs têm laços de realimentação que conectam os estados ocultos de diferentes passos temporais.\n",
        "  - Cada estado oculto (\\(h_t\\)) é influenciado pela entrada atual (\\(x_t\\)) e pelo estado oculto do passo anterior (\\(h_{t-1}\\)), permitindo que a rede capture e utilize dependências temporais.\n",
        "\n",
        "#### Equações Matemáticas Fundamentais\n",
        "\n",
        "As equações matemáticas fundamentais das RNNs descrevem como os estados ocultos e as saídas são atualizados a cada passo temporal.\n",
        "\n",
        "- **Equação de Ativação das RNNs**\n",
        "  \\[\n",
        "  h_t = \\sigma(W_{xh}x_t + W_{hh}h_{t-1} + b_h)\n",
        "  \\]\n",
        "  Onde:\n",
        "  - \\(h_t\\) é o estado oculto no tempo \\(t\\).\n",
        "  - \\(x_t\\) é a entrada no tempo \\(t\\).\n",
        "  - \\(W_{xh}\\) é a matriz de pesos entre a entrada e o estado oculto.\n",
        "  - \\(W_{hh}\\) é a matriz de pesos entre o estado oculto anterior e o estado oculto atual.\n",
        "  - \\(b_h\\) é o vetor de bias para o estado oculto.\n",
        "  - \\(\\sigma\\) é a função de ativação, geralmente uma função não linear como tanh ou ReLU.\n",
        "\n",
        "- **Equação de Saída das RNNs**\n",
        "  \\[\n",
        "  y_t = \\sigma(W_{hy}h_t + b_y)\n",
        "  \\]\n",
        "  Onde:\n",
        "  - \\(y_t\\) é a saída no tempo \\(t\\).\n",
        "  - \\(h_t\\) é o estado oculto no tempo \\(t\\).\n",
        "  - \\(W_{hy}\\) é a matriz de pesos entre o estado oculto e a saída.\n",
        "  - \\(b_y\\) é o vetor de bias para a saída.\n",
        "  - \\(\\sigma\\) é a função de ativação aplicada à saída.\n",
        "\n",
        "Essas equações mostram como as RNNs processam sequências de dados, atualizando os estados ocultos a cada passo temporal e gerando saídas que dependem tanto das entradas atuais quanto dos estados ocultos anteriores. Essa capacidade de capturar dependências temporais faz das RNNs uma ferramenta poderosa para tarefas que envolvem dados sequenciais.\n"
      ]
    },
    {
      "cell_type": "code",
      "execution_count": 23,
      "metadata": {
        "id": "faLGE4o1sqGl"
      },
      "outputs": [],
      "source": [
        "import numpy as np\n",
        "import pandas as pd\n",
        "from sklearn.preprocessing import MinMaxScaler\n",
        "from sklearn.model_selection import train_test_split"
      ]
    },
    {
      "cell_type": "code",
      "execution_count": 24,
      "metadata": {
        "id": "qSix98y0sqGl"
      },
      "outputs": [],
      "source": [
        "# Carregando os dados do arquivo CSV\n",
        "df = pd.read_csv('acao_google.csv')"
      ]
    },
    {
      "cell_type": "code",
      "execution_count": 25,
      "metadata": {
        "id": "8CINAS1SsqGl"
      },
      "outputs": [],
      "source": [
        "df = df[['Date', 'Open', 'High', 'Low', 'Volume', 'Close']]"
      ]
    },
    {
      "cell_type": "code",
      "execution_count": 26,
      "metadata": {
        "colab": {
          "base_uri": "https://localhost:8080/"
        },
        "id": "OMok_TfWsqGl",
        "outputId": "bf8eb303-2a26-4521-9a1c-d8de3acc093b"
      },
      "outputs": [
        {
          "output_type": "stream",
          "name": "stdout",
          "text": [
            "<class 'pandas.core.frame.DataFrame'>\n",
            "RangeIndex: 1258 entries, 0 to 1257\n",
            "Data columns (total 6 columns):\n",
            " #   Column  Non-Null Count  Dtype  \n",
            "---  ------  --------------  -----  \n",
            " 0   Date    1258 non-null   object \n",
            " 1   Open    1258 non-null   float64\n",
            " 2   High    1258 non-null   float64\n",
            " 3   Low     1258 non-null   float64\n",
            " 4   Volume  1258 non-null   object \n",
            " 5   Close   1258 non-null   object \n",
            "dtypes: float64(3), object(3)\n",
            "memory usage: 59.1+ KB\n"
          ]
        }
      ],
      "source": [
        "df.info()"
      ]
    },
    {
      "cell_type": "code",
      "execution_count": 27,
      "metadata": {
        "colab": {
          "base_uri": "https://localhost:8080/",
          "height": 206
        },
        "id": "n5kwfm9isqGl",
        "outputId": "bff423c4-ab46-437f-eac8-708a7ad90eea"
      },
      "outputs": [
        {
          "output_type": "execute_result",
          "data": {
            "text/plain": [
              "       Date    Open    High     Low      Volume   Close\n",
              "0  1/3/2012  325.25  332.83  324.97   7,380,500  663.59\n",
              "1  1/4/2012  331.27  333.87  329.08   5,749,400  666.45\n",
              "2  1/5/2012  329.83  330.75  326.89   6,590,300  657.21\n",
              "3  1/6/2012  328.34  328.77  323.68   5,405,900  648.24\n",
              "4  1/9/2012  322.04  322.29  309.46  11,688,800  620.76"
            ],
            "text/html": [
              "\n",
              "  <div id=\"df-6c9c834e-4978-4a8d-9a5e-ce77df182fb0\" class=\"colab-df-container\">\n",
              "    <div>\n",
              "<style scoped>\n",
              "    .dataframe tbody tr th:only-of-type {\n",
              "        vertical-align: middle;\n",
              "    }\n",
              "\n",
              "    .dataframe tbody tr th {\n",
              "        vertical-align: top;\n",
              "    }\n",
              "\n",
              "    .dataframe thead th {\n",
              "        text-align: right;\n",
              "    }\n",
              "</style>\n",
              "<table border=\"1\" class=\"dataframe\">\n",
              "  <thead>\n",
              "    <tr style=\"text-align: right;\">\n",
              "      <th></th>\n",
              "      <th>Date</th>\n",
              "      <th>Open</th>\n",
              "      <th>High</th>\n",
              "      <th>Low</th>\n",
              "      <th>Volume</th>\n",
              "      <th>Close</th>\n",
              "    </tr>\n",
              "  </thead>\n",
              "  <tbody>\n",
              "    <tr>\n",
              "      <th>0</th>\n",
              "      <td>1/3/2012</td>\n",
              "      <td>325.25</td>\n",
              "      <td>332.83</td>\n",
              "      <td>324.97</td>\n",
              "      <td>7,380,500</td>\n",
              "      <td>663.59</td>\n",
              "    </tr>\n",
              "    <tr>\n",
              "      <th>1</th>\n",
              "      <td>1/4/2012</td>\n",
              "      <td>331.27</td>\n",
              "      <td>333.87</td>\n",
              "      <td>329.08</td>\n",
              "      <td>5,749,400</td>\n",
              "      <td>666.45</td>\n",
              "    </tr>\n",
              "    <tr>\n",
              "      <th>2</th>\n",
              "      <td>1/5/2012</td>\n",
              "      <td>329.83</td>\n",
              "      <td>330.75</td>\n",
              "      <td>326.89</td>\n",
              "      <td>6,590,300</td>\n",
              "      <td>657.21</td>\n",
              "    </tr>\n",
              "    <tr>\n",
              "      <th>3</th>\n",
              "      <td>1/6/2012</td>\n",
              "      <td>328.34</td>\n",
              "      <td>328.77</td>\n",
              "      <td>323.68</td>\n",
              "      <td>5,405,900</td>\n",
              "      <td>648.24</td>\n",
              "    </tr>\n",
              "    <tr>\n",
              "      <th>4</th>\n",
              "      <td>1/9/2012</td>\n",
              "      <td>322.04</td>\n",
              "      <td>322.29</td>\n",
              "      <td>309.46</td>\n",
              "      <td>11,688,800</td>\n",
              "      <td>620.76</td>\n",
              "    </tr>\n",
              "  </tbody>\n",
              "</table>\n",
              "</div>\n",
              "    <div class=\"colab-df-buttons\">\n",
              "\n",
              "  <div class=\"colab-df-container\">\n",
              "    <button class=\"colab-df-convert\" onclick=\"convertToInteractive('df-6c9c834e-4978-4a8d-9a5e-ce77df182fb0')\"\n",
              "            title=\"Convert this dataframe to an interactive table.\"\n",
              "            style=\"display:none;\">\n",
              "\n",
              "  <svg xmlns=\"http://www.w3.org/2000/svg\" height=\"24px\" viewBox=\"0 -960 960 960\">\n",
              "    <path d=\"M120-120v-720h720v720H120Zm60-500h600v-160H180v160Zm220 220h160v-160H400v160Zm0 220h160v-160H400v160ZM180-400h160v-160H180v160Zm440 0h160v-160H620v160ZM180-180h160v-160H180v160Zm440 0h160v-160H620v160Z\"/>\n",
              "  </svg>\n",
              "    </button>\n",
              "\n",
              "  <style>\n",
              "    .colab-df-container {\n",
              "      display:flex;\n",
              "      gap: 12px;\n",
              "    }\n",
              "\n",
              "    .colab-df-convert {\n",
              "      background-color: #E8F0FE;\n",
              "      border: none;\n",
              "      border-radius: 50%;\n",
              "      cursor: pointer;\n",
              "      display: none;\n",
              "      fill: #1967D2;\n",
              "      height: 32px;\n",
              "      padding: 0 0 0 0;\n",
              "      width: 32px;\n",
              "    }\n",
              "\n",
              "    .colab-df-convert:hover {\n",
              "      background-color: #E2EBFA;\n",
              "      box-shadow: 0px 1px 2px rgba(60, 64, 67, 0.3), 0px 1px 3px 1px rgba(60, 64, 67, 0.15);\n",
              "      fill: #174EA6;\n",
              "    }\n",
              "\n",
              "    .colab-df-buttons div {\n",
              "      margin-bottom: 4px;\n",
              "    }\n",
              "\n",
              "    [theme=dark] .colab-df-convert {\n",
              "      background-color: #3B4455;\n",
              "      fill: #D2E3FC;\n",
              "    }\n",
              "\n",
              "    [theme=dark] .colab-df-convert:hover {\n",
              "      background-color: #434B5C;\n",
              "      box-shadow: 0px 1px 3px 1px rgba(0, 0, 0, 0.15);\n",
              "      filter: drop-shadow(0px 1px 2px rgba(0, 0, 0, 0.3));\n",
              "      fill: #FFFFFF;\n",
              "    }\n",
              "  </style>\n",
              "\n",
              "    <script>\n",
              "      const buttonEl =\n",
              "        document.querySelector('#df-6c9c834e-4978-4a8d-9a5e-ce77df182fb0 button.colab-df-convert');\n",
              "      buttonEl.style.display =\n",
              "        google.colab.kernel.accessAllowed ? 'block' : 'none';\n",
              "\n",
              "      async function convertToInteractive(key) {\n",
              "        const element = document.querySelector('#df-6c9c834e-4978-4a8d-9a5e-ce77df182fb0');\n",
              "        const dataTable =\n",
              "          await google.colab.kernel.invokeFunction('convertToInteractive',\n",
              "                                                    [key], {});\n",
              "        if (!dataTable) return;\n",
              "\n",
              "        const docLinkHtml = 'Like what you see? Visit the ' +\n",
              "          '<a target=\"_blank\" href=https://colab.research.google.com/notebooks/data_table.ipynb>data table notebook</a>'\n",
              "          + ' to learn more about interactive tables.';\n",
              "        element.innerHTML = '';\n",
              "        dataTable['output_type'] = 'display_data';\n",
              "        await google.colab.output.renderOutput(dataTable, element);\n",
              "        const docLink = document.createElement('div');\n",
              "        docLink.innerHTML = docLinkHtml;\n",
              "        element.appendChild(docLink);\n",
              "      }\n",
              "    </script>\n",
              "  </div>\n",
              "\n",
              "\n",
              "<div id=\"df-28d030b3-8d85-4783-9652-c0d34d94a66e\">\n",
              "  <button class=\"colab-df-quickchart\" onclick=\"quickchart('df-28d030b3-8d85-4783-9652-c0d34d94a66e')\"\n",
              "            title=\"Suggest charts\"\n",
              "            style=\"display:none;\">\n",
              "\n",
              "<svg xmlns=\"http://www.w3.org/2000/svg\" height=\"24px\"viewBox=\"0 0 24 24\"\n",
              "     width=\"24px\">\n",
              "    <g>\n",
              "        <path d=\"M19 3H5c-1.1 0-2 .9-2 2v14c0 1.1.9 2 2 2h14c1.1 0 2-.9 2-2V5c0-1.1-.9-2-2-2zM9 17H7v-7h2v7zm4 0h-2V7h2v10zm4 0h-2v-4h2v4z\"/>\n",
              "    </g>\n",
              "</svg>\n",
              "  </button>\n",
              "\n",
              "<style>\n",
              "  .colab-df-quickchart {\n",
              "      --bg-color: #E8F0FE;\n",
              "      --fill-color: #1967D2;\n",
              "      --hover-bg-color: #E2EBFA;\n",
              "      --hover-fill-color: #174EA6;\n",
              "      --disabled-fill-color: #AAA;\n",
              "      --disabled-bg-color: #DDD;\n",
              "  }\n",
              "\n",
              "  [theme=dark] .colab-df-quickchart {\n",
              "      --bg-color: #3B4455;\n",
              "      --fill-color: #D2E3FC;\n",
              "      --hover-bg-color: #434B5C;\n",
              "      --hover-fill-color: #FFFFFF;\n",
              "      --disabled-bg-color: #3B4455;\n",
              "      --disabled-fill-color: #666;\n",
              "  }\n",
              "\n",
              "  .colab-df-quickchart {\n",
              "    background-color: var(--bg-color);\n",
              "    border: none;\n",
              "    border-radius: 50%;\n",
              "    cursor: pointer;\n",
              "    display: none;\n",
              "    fill: var(--fill-color);\n",
              "    height: 32px;\n",
              "    padding: 0;\n",
              "    width: 32px;\n",
              "  }\n",
              "\n",
              "  .colab-df-quickchart:hover {\n",
              "    background-color: var(--hover-bg-color);\n",
              "    box-shadow: 0 1px 2px rgba(60, 64, 67, 0.3), 0 1px 3px 1px rgba(60, 64, 67, 0.15);\n",
              "    fill: var(--button-hover-fill-color);\n",
              "  }\n",
              "\n",
              "  .colab-df-quickchart-complete:disabled,\n",
              "  .colab-df-quickchart-complete:disabled:hover {\n",
              "    background-color: var(--disabled-bg-color);\n",
              "    fill: var(--disabled-fill-color);\n",
              "    box-shadow: none;\n",
              "  }\n",
              "\n",
              "  .colab-df-spinner {\n",
              "    border: 2px solid var(--fill-color);\n",
              "    border-color: transparent;\n",
              "    border-bottom-color: var(--fill-color);\n",
              "    animation:\n",
              "      spin 1s steps(1) infinite;\n",
              "  }\n",
              "\n",
              "  @keyframes spin {\n",
              "    0% {\n",
              "      border-color: transparent;\n",
              "      border-bottom-color: var(--fill-color);\n",
              "      border-left-color: var(--fill-color);\n",
              "    }\n",
              "    20% {\n",
              "      border-color: transparent;\n",
              "      border-left-color: var(--fill-color);\n",
              "      border-top-color: var(--fill-color);\n",
              "    }\n",
              "    30% {\n",
              "      border-color: transparent;\n",
              "      border-left-color: var(--fill-color);\n",
              "      border-top-color: var(--fill-color);\n",
              "      border-right-color: var(--fill-color);\n",
              "    }\n",
              "    40% {\n",
              "      border-color: transparent;\n",
              "      border-right-color: var(--fill-color);\n",
              "      border-top-color: var(--fill-color);\n",
              "    }\n",
              "    60% {\n",
              "      border-color: transparent;\n",
              "      border-right-color: var(--fill-color);\n",
              "    }\n",
              "    80% {\n",
              "      border-color: transparent;\n",
              "      border-right-color: var(--fill-color);\n",
              "      border-bottom-color: var(--fill-color);\n",
              "    }\n",
              "    90% {\n",
              "      border-color: transparent;\n",
              "      border-bottom-color: var(--fill-color);\n",
              "    }\n",
              "  }\n",
              "</style>\n",
              "\n",
              "  <script>\n",
              "    async function quickchart(key) {\n",
              "      const quickchartButtonEl =\n",
              "        document.querySelector('#' + key + ' button');\n",
              "      quickchartButtonEl.disabled = true;  // To prevent multiple clicks.\n",
              "      quickchartButtonEl.classList.add('colab-df-spinner');\n",
              "      try {\n",
              "        const charts = await google.colab.kernel.invokeFunction(\n",
              "            'suggestCharts', [key], {});\n",
              "      } catch (error) {\n",
              "        console.error('Error during call to suggestCharts:', error);\n",
              "      }\n",
              "      quickchartButtonEl.classList.remove('colab-df-spinner');\n",
              "      quickchartButtonEl.classList.add('colab-df-quickchart-complete');\n",
              "    }\n",
              "    (() => {\n",
              "      let quickchartButtonEl =\n",
              "        document.querySelector('#df-28d030b3-8d85-4783-9652-c0d34d94a66e button');\n",
              "      quickchartButtonEl.style.display =\n",
              "        google.colab.kernel.accessAllowed ? 'block' : 'none';\n",
              "    })();\n",
              "  </script>\n",
              "</div>\n",
              "\n",
              "    </div>\n",
              "  </div>\n"
            ],
            "application/vnd.google.colaboratory.intrinsic+json": {
              "type": "dataframe",
              "variable_name": "df",
              "summary": "{\n  \"name\": \"df\",\n  \"rows\": 1258,\n  \"fields\": [\n    {\n      \"column\": \"Date\",\n      \"properties\": {\n        \"dtype\": \"object\",\n        \"num_unique_values\": 1258,\n        \"samples\": [\n          \"3/28/2014\",\n          \"5/29/2012\",\n          \"3/16/2012\"\n        ],\n        \"semantic_type\": \"\",\n        \"description\": \"\"\n      }\n    },\n    {\n      \"column\": \"Open\",\n      \"properties\": {\n        \"dtype\": \"number\",\n        \"std\": 151.90444191569622,\n        \"min\": 279.12,\n        \"max\": 816.68,\n        \"num_unique_values\": 1215,\n        \"samples\": [\n          509.6,\n          536.91,\n          302.89\n        ],\n        \"semantic_type\": \"\",\n        \"description\": \"\"\n      }\n    },\n    {\n      \"column\": \"High\",\n      \"properties\": {\n        \"dtype\": \"number\",\n        \"std\": 153.0088108666111,\n        \"min\": 281.21,\n        \"max\": 816.68,\n        \"num_unique_values\": 1219,\n        \"samples\": [\n          564.88,\n          376.39,\n          304.45\n        ],\n        \"semantic_type\": \"\",\n        \"description\": \"\"\n      }\n    },\n    {\n      \"column\": \"Low\",\n      \"properties\": {\n        \"dtype\": \"number\",\n        \"std\": 150.5528073376813,\n        \"min\": 277.22,\n        \"max\": 805.14,\n        \"num_unique_values\": 1223,\n        \"samples\": [\n          583.4,\n          341.56,\n          335.78\n        ],\n        \"semantic_type\": \"\",\n        \"description\": \"\"\n      }\n    },\n    {\n      \"column\": \"Volume\",\n      \"properties\": {\n        \"dtype\": \"string\",\n        \"num_unique_values\": 1240,\n        \"samples\": [\n          \"3,737,100\",\n          \"7,884,700\",\n          \"2,920,800\"\n        ],\n        \"semantic_type\": \"\",\n        \"description\": \"\"\n      }\n    },\n    {\n      \"column\": \"Close\",\n      \"properties\": {\n        \"dtype\": \"string\",\n        \"num_unique_values\": 1241,\n        \"samples\": [\n          \"600.7\",\n          \"605.89\",\n          \"704.36\"\n        ],\n        \"semantic_type\": \"\",\n        \"description\": \"\"\n      }\n    }\n  ]\n}"
            }
          },
          "metadata": {},
          "execution_count": 27
        }
      ],
      "source": [
        "df.head()"
      ]
    },
    {
      "cell_type": "code",
      "execution_count": 28,
      "metadata": {
        "id": "33ffl9-isqGl"
      },
      "outputs": [],
      "source": [
        "# Removendo a vírgula como separador de milhar na coluna 'Volume' e convertendo para float\n",
        "df['Volume'] = df['Volume'].str.replace(',', '').astype(int)\n",
        "\n",
        "# Removendo a vírgula como separador de milhar na coluna 'Close' e convertendo para float\n",
        "df['Close'] = df['Close'].str.replace(',', '').astype(float)"
      ]
    },
    {
      "cell_type": "code",
      "execution_count": 29,
      "metadata": {
        "colab": {
          "base_uri": "https://localhost:8080/",
          "height": 272
        },
        "id": "K6A2A302sqGl",
        "outputId": "0cc3b191-e201-4d92-f1ab-26a0ba07f651"
      },
      "outputs": [
        {
          "output_type": "execute_result",
          "data": {
            "text/plain": [
              "Date      0\n",
              "Open      0\n",
              "High      0\n",
              "Low       0\n",
              "Volume    0\n",
              "Close     0\n",
              "dtype: int64"
            ],
            "text/html": [
              "<div>\n",
              "<style scoped>\n",
              "    .dataframe tbody tr th:only-of-type {\n",
              "        vertical-align: middle;\n",
              "    }\n",
              "\n",
              "    .dataframe tbody tr th {\n",
              "        vertical-align: top;\n",
              "    }\n",
              "\n",
              "    .dataframe thead th {\n",
              "        text-align: right;\n",
              "    }\n",
              "</style>\n",
              "<table border=\"1\" class=\"dataframe\">\n",
              "  <thead>\n",
              "    <tr style=\"text-align: right;\">\n",
              "      <th></th>\n",
              "      <th>0</th>\n",
              "    </tr>\n",
              "  </thead>\n",
              "  <tbody>\n",
              "    <tr>\n",
              "      <th>Date</th>\n",
              "      <td>0</td>\n",
              "    </tr>\n",
              "    <tr>\n",
              "      <th>Open</th>\n",
              "      <td>0</td>\n",
              "    </tr>\n",
              "    <tr>\n",
              "      <th>High</th>\n",
              "      <td>0</td>\n",
              "    </tr>\n",
              "    <tr>\n",
              "      <th>Low</th>\n",
              "      <td>0</td>\n",
              "    </tr>\n",
              "    <tr>\n",
              "      <th>Volume</th>\n",
              "      <td>0</td>\n",
              "    </tr>\n",
              "    <tr>\n",
              "      <th>Close</th>\n",
              "      <td>0</td>\n",
              "    </tr>\n",
              "  </tbody>\n",
              "</table>\n",
              "</div><br><label><b>dtype:</b> int64</label>"
            ]
          },
          "metadata": {},
          "execution_count": 29
        }
      ],
      "source": [
        "df.isna().sum()"
      ]
    },
    {
      "cell_type": "code",
      "execution_count": 30,
      "metadata": {
        "colab": {
          "base_uri": "https://localhost:8080/",
          "height": 300
        },
        "id": "hNkVKWFesqGl",
        "outputId": "0b2b66df-81ec-439a-8e0a-224ede6a1631"
      },
      "outputs": [
        {
          "output_type": "execute_result",
          "data": {
            "text/plain": [
              "              Open         High          Low        Volume        Close\n",
              "count  1258.000000  1258.000000  1258.000000  1.258000e+03  1258.000000\n",
              "mean    533.709833   537.880223   529.007409  3.158107e+06   712.669666\n",
              "std     151.904442   153.008811   150.552807  2.273726e+06   164.752591\n",
              "min     279.120000   281.210000   277.220000  7.900000e+03   491.200000\n",
              "25%     404.115000   406.765000   401.765000  1.621700e+06   576.740000\n",
              "50%     537.470000   540.750000   532.990000  2.566150e+06   695.675000\n",
              "75%     654.922500   662.587500   644.800000  4.122500e+06   782.105000\n",
              "max     816.680000   816.680000   805.140000  2.497790e+07  1216.830000"
            ],
            "text/html": [
              "\n",
              "  <div id=\"df-a0069e3b-4d45-41f4-adce-66fe2bdee95c\" class=\"colab-df-container\">\n",
              "    <div>\n",
              "<style scoped>\n",
              "    .dataframe tbody tr th:only-of-type {\n",
              "        vertical-align: middle;\n",
              "    }\n",
              "\n",
              "    .dataframe tbody tr th {\n",
              "        vertical-align: top;\n",
              "    }\n",
              "\n",
              "    .dataframe thead th {\n",
              "        text-align: right;\n",
              "    }\n",
              "</style>\n",
              "<table border=\"1\" class=\"dataframe\">\n",
              "  <thead>\n",
              "    <tr style=\"text-align: right;\">\n",
              "      <th></th>\n",
              "      <th>Open</th>\n",
              "      <th>High</th>\n",
              "      <th>Low</th>\n",
              "      <th>Volume</th>\n",
              "      <th>Close</th>\n",
              "    </tr>\n",
              "  </thead>\n",
              "  <tbody>\n",
              "    <tr>\n",
              "      <th>count</th>\n",
              "      <td>1258.000000</td>\n",
              "      <td>1258.000000</td>\n",
              "      <td>1258.000000</td>\n",
              "      <td>1.258000e+03</td>\n",
              "      <td>1258.000000</td>\n",
              "    </tr>\n",
              "    <tr>\n",
              "      <th>mean</th>\n",
              "      <td>533.709833</td>\n",
              "      <td>537.880223</td>\n",
              "      <td>529.007409</td>\n",
              "      <td>3.158107e+06</td>\n",
              "      <td>712.669666</td>\n",
              "    </tr>\n",
              "    <tr>\n",
              "      <th>std</th>\n",
              "      <td>151.904442</td>\n",
              "      <td>153.008811</td>\n",
              "      <td>150.552807</td>\n",
              "      <td>2.273726e+06</td>\n",
              "      <td>164.752591</td>\n",
              "    </tr>\n",
              "    <tr>\n",
              "      <th>min</th>\n",
              "      <td>279.120000</td>\n",
              "      <td>281.210000</td>\n",
              "      <td>277.220000</td>\n",
              "      <td>7.900000e+03</td>\n",
              "      <td>491.200000</td>\n",
              "    </tr>\n",
              "    <tr>\n",
              "      <th>25%</th>\n",
              "      <td>404.115000</td>\n",
              "      <td>406.765000</td>\n",
              "      <td>401.765000</td>\n",
              "      <td>1.621700e+06</td>\n",
              "      <td>576.740000</td>\n",
              "    </tr>\n",
              "    <tr>\n",
              "      <th>50%</th>\n",
              "      <td>537.470000</td>\n",
              "      <td>540.750000</td>\n",
              "      <td>532.990000</td>\n",
              "      <td>2.566150e+06</td>\n",
              "      <td>695.675000</td>\n",
              "    </tr>\n",
              "    <tr>\n",
              "      <th>75%</th>\n",
              "      <td>654.922500</td>\n",
              "      <td>662.587500</td>\n",
              "      <td>644.800000</td>\n",
              "      <td>4.122500e+06</td>\n",
              "      <td>782.105000</td>\n",
              "    </tr>\n",
              "    <tr>\n",
              "      <th>max</th>\n",
              "      <td>816.680000</td>\n",
              "      <td>816.680000</td>\n",
              "      <td>805.140000</td>\n",
              "      <td>2.497790e+07</td>\n",
              "      <td>1216.830000</td>\n",
              "    </tr>\n",
              "  </tbody>\n",
              "</table>\n",
              "</div>\n",
              "    <div class=\"colab-df-buttons\">\n",
              "\n",
              "  <div class=\"colab-df-container\">\n",
              "    <button class=\"colab-df-convert\" onclick=\"convertToInteractive('df-a0069e3b-4d45-41f4-adce-66fe2bdee95c')\"\n",
              "            title=\"Convert this dataframe to an interactive table.\"\n",
              "            style=\"display:none;\">\n",
              "\n",
              "  <svg xmlns=\"http://www.w3.org/2000/svg\" height=\"24px\" viewBox=\"0 -960 960 960\">\n",
              "    <path d=\"M120-120v-720h720v720H120Zm60-500h600v-160H180v160Zm220 220h160v-160H400v160Zm0 220h160v-160H400v160ZM180-400h160v-160H180v160Zm440 0h160v-160H620v160ZM180-180h160v-160H180v160Zm440 0h160v-160H620v160Z\"/>\n",
              "  </svg>\n",
              "    </button>\n",
              "\n",
              "  <style>\n",
              "    .colab-df-container {\n",
              "      display:flex;\n",
              "      gap: 12px;\n",
              "    }\n",
              "\n",
              "    .colab-df-convert {\n",
              "      background-color: #E8F0FE;\n",
              "      border: none;\n",
              "      border-radius: 50%;\n",
              "      cursor: pointer;\n",
              "      display: none;\n",
              "      fill: #1967D2;\n",
              "      height: 32px;\n",
              "      padding: 0 0 0 0;\n",
              "      width: 32px;\n",
              "    }\n",
              "\n",
              "    .colab-df-convert:hover {\n",
              "      background-color: #E2EBFA;\n",
              "      box-shadow: 0px 1px 2px rgba(60, 64, 67, 0.3), 0px 1px 3px 1px rgba(60, 64, 67, 0.15);\n",
              "      fill: #174EA6;\n",
              "    }\n",
              "\n",
              "    .colab-df-buttons div {\n",
              "      margin-bottom: 4px;\n",
              "    }\n",
              "\n",
              "    [theme=dark] .colab-df-convert {\n",
              "      background-color: #3B4455;\n",
              "      fill: #D2E3FC;\n",
              "    }\n",
              "\n",
              "    [theme=dark] .colab-df-convert:hover {\n",
              "      background-color: #434B5C;\n",
              "      box-shadow: 0px 1px 3px 1px rgba(0, 0, 0, 0.15);\n",
              "      filter: drop-shadow(0px 1px 2px rgba(0, 0, 0, 0.3));\n",
              "      fill: #FFFFFF;\n",
              "    }\n",
              "  </style>\n",
              "\n",
              "    <script>\n",
              "      const buttonEl =\n",
              "        document.querySelector('#df-a0069e3b-4d45-41f4-adce-66fe2bdee95c button.colab-df-convert');\n",
              "      buttonEl.style.display =\n",
              "        google.colab.kernel.accessAllowed ? 'block' : 'none';\n",
              "\n",
              "      async function convertToInteractive(key) {\n",
              "        const element = document.querySelector('#df-a0069e3b-4d45-41f4-adce-66fe2bdee95c');\n",
              "        const dataTable =\n",
              "          await google.colab.kernel.invokeFunction('convertToInteractive',\n",
              "                                                    [key], {});\n",
              "        if (!dataTable) return;\n",
              "\n",
              "        const docLinkHtml = 'Like what you see? Visit the ' +\n",
              "          '<a target=\"_blank\" href=https://colab.research.google.com/notebooks/data_table.ipynb>data table notebook</a>'\n",
              "          + ' to learn more about interactive tables.';\n",
              "        element.innerHTML = '';\n",
              "        dataTable['output_type'] = 'display_data';\n",
              "        await google.colab.output.renderOutput(dataTable, element);\n",
              "        const docLink = document.createElement('div');\n",
              "        docLink.innerHTML = docLinkHtml;\n",
              "        element.appendChild(docLink);\n",
              "      }\n",
              "    </script>\n",
              "  </div>\n",
              "\n",
              "\n",
              "<div id=\"df-529c53bd-64d1-440d-80b9-a68d0854a5e5\">\n",
              "  <button class=\"colab-df-quickchart\" onclick=\"quickchart('df-529c53bd-64d1-440d-80b9-a68d0854a5e5')\"\n",
              "            title=\"Suggest charts\"\n",
              "            style=\"display:none;\">\n",
              "\n",
              "<svg xmlns=\"http://www.w3.org/2000/svg\" height=\"24px\"viewBox=\"0 0 24 24\"\n",
              "     width=\"24px\">\n",
              "    <g>\n",
              "        <path d=\"M19 3H5c-1.1 0-2 .9-2 2v14c0 1.1.9 2 2 2h14c1.1 0 2-.9 2-2V5c0-1.1-.9-2-2-2zM9 17H7v-7h2v7zm4 0h-2V7h2v10zm4 0h-2v-4h2v4z\"/>\n",
              "    </g>\n",
              "</svg>\n",
              "  </button>\n",
              "\n",
              "<style>\n",
              "  .colab-df-quickchart {\n",
              "      --bg-color: #E8F0FE;\n",
              "      --fill-color: #1967D2;\n",
              "      --hover-bg-color: #E2EBFA;\n",
              "      --hover-fill-color: #174EA6;\n",
              "      --disabled-fill-color: #AAA;\n",
              "      --disabled-bg-color: #DDD;\n",
              "  }\n",
              "\n",
              "  [theme=dark] .colab-df-quickchart {\n",
              "      --bg-color: #3B4455;\n",
              "      --fill-color: #D2E3FC;\n",
              "      --hover-bg-color: #434B5C;\n",
              "      --hover-fill-color: #FFFFFF;\n",
              "      --disabled-bg-color: #3B4455;\n",
              "      --disabled-fill-color: #666;\n",
              "  }\n",
              "\n",
              "  .colab-df-quickchart {\n",
              "    background-color: var(--bg-color);\n",
              "    border: none;\n",
              "    border-radius: 50%;\n",
              "    cursor: pointer;\n",
              "    display: none;\n",
              "    fill: var(--fill-color);\n",
              "    height: 32px;\n",
              "    padding: 0;\n",
              "    width: 32px;\n",
              "  }\n",
              "\n",
              "  .colab-df-quickchart:hover {\n",
              "    background-color: var(--hover-bg-color);\n",
              "    box-shadow: 0 1px 2px rgba(60, 64, 67, 0.3), 0 1px 3px 1px rgba(60, 64, 67, 0.15);\n",
              "    fill: var(--button-hover-fill-color);\n",
              "  }\n",
              "\n",
              "  .colab-df-quickchart-complete:disabled,\n",
              "  .colab-df-quickchart-complete:disabled:hover {\n",
              "    background-color: var(--disabled-bg-color);\n",
              "    fill: var(--disabled-fill-color);\n",
              "    box-shadow: none;\n",
              "  }\n",
              "\n",
              "  .colab-df-spinner {\n",
              "    border: 2px solid var(--fill-color);\n",
              "    border-color: transparent;\n",
              "    border-bottom-color: var(--fill-color);\n",
              "    animation:\n",
              "      spin 1s steps(1) infinite;\n",
              "  }\n",
              "\n",
              "  @keyframes spin {\n",
              "    0% {\n",
              "      border-color: transparent;\n",
              "      border-bottom-color: var(--fill-color);\n",
              "      border-left-color: var(--fill-color);\n",
              "    }\n",
              "    20% {\n",
              "      border-color: transparent;\n",
              "      border-left-color: var(--fill-color);\n",
              "      border-top-color: var(--fill-color);\n",
              "    }\n",
              "    30% {\n",
              "      border-color: transparent;\n",
              "      border-left-color: var(--fill-color);\n",
              "      border-top-color: var(--fill-color);\n",
              "      border-right-color: var(--fill-color);\n",
              "    }\n",
              "    40% {\n",
              "      border-color: transparent;\n",
              "      border-right-color: var(--fill-color);\n",
              "      border-top-color: var(--fill-color);\n",
              "    }\n",
              "    60% {\n",
              "      border-color: transparent;\n",
              "      border-right-color: var(--fill-color);\n",
              "    }\n",
              "    80% {\n",
              "      border-color: transparent;\n",
              "      border-right-color: var(--fill-color);\n",
              "      border-bottom-color: var(--fill-color);\n",
              "    }\n",
              "    90% {\n",
              "      border-color: transparent;\n",
              "      border-bottom-color: var(--fill-color);\n",
              "    }\n",
              "  }\n",
              "</style>\n",
              "\n",
              "  <script>\n",
              "    async function quickchart(key) {\n",
              "      const quickchartButtonEl =\n",
              "        document.querySelector('#' + key + ' button');\n",
              "      quickchartButtonEl.disabled = true;  // To prevent multiple clicks.\n",
              "      quickchartButtonEl.classList.add('colab-df-spinner');\n",
              "      try {\n",
              "        const charts = await google.colab.kernel.invokeFunction(\n",
              "            'suggestCharts', [key], {});\n",
              "      } catch (error) {\n",
              "        console.error('Error during call to suggestCharts:', error);\n",
              "      }\n",
              "      quickchartButtonEl.classList.remove('colab-df-spinner');\n",
              "      quickchartButtonEl.classList.add('colab-df-quickchart-complete');\n",
              "    }\n",
              "    (() => {\n",
              "      let quickchartButtonEl =\n",
              "        document.querySelector('#df-529c53bd-64d1-440d-80b9-a68d0854a5e5 button');\n",
              "      quickchartButtonEl.style.display =\n",
              "        google.colab.kernel.accessAllowed ? 'block' : 'none';\n",
              "    })();\n",
              "  </script>\n",
              "</div>\n",
              "\n",
              "    </div>\n",
              "  </div>\n"
            ],
            "application/vnd.google.colaboratory.intrinsic+json": {
              "type": "dataframe",
              "summary": "{\n  \"name\": \"df\",\n  \"rows\": 8,\n  \"fields\": [\n    {\n      \"column\": \"Open\",\n      \"properties\": {\n        \"dtype\": \"number\",\n        \"std\": 344.34086503832845,\n        \"min\": 151.90444191569622,\n        \"max\": 1258.0,\n        \"num_unique_values\": 8,\n        \"samples\": [\n          533.7098330683625,\n          537.47,\n          1258.0\n        ],\n        \"semantic_type\": \"\",\n        \"description\": \"\"\n      }\n    },\n    {\n      \"column\": \"High\",\n      \"properties\": {\n        \"dtype\": \"number\",\n        \"std\": 343.8040216995855,\n        \"min\": 153.0088108666111,\n        \"max\": 1258.0,\n        \"num_unique_values\": 8,\n        \"samples\": [\n          537.8802225755168,\n          540.75,\n          1258.0\n        ],\n        \"semantic_type\": \"\",\n        \"description\": \"\"\n      }\n    },\n    {\n      \"column\": \"Low\",\n      \"properties\": {\n        \"dtype\": \"number\",\n        \"std\": 343.72835967710535,\n        \"min\": 150.5528073376813,\n        \"max\": 1258.0,\n        \"num_unique_values\": 8,\n        \"samples\": [\n          529.0074085850557,\n          532.99,\n          1258.0\n        ],\n        \"semantic_type\": \"\",\n        \"description\": \"\"\n      }\n    },\n    {\n      \"column\": \"Volume\",\n      \"properties\": {\n        \"dtype\": \"number\",\n        \"std\": 8261397.3611159185,\n        \"min\": 1258.0,\n        \"max\": 24977900.0,\n        \"num_unique_values\": 8,\n        \"samples\": [\n          3158106.756756757,\n          2566150.0,\n          1258.0\n        ],\n        \"semantic_type\": \"\",\n        \"description\": \"\"\n      }\n    },\n    {\n      \"column\": \"Close\",\n      \"properties\": {\n        \"dtype\": \"number\",\n        \"std\": 362.447933093099,\n        \"min\": 164.75259078525374,\n        \"max\": 1258.0,\n        \"num_unique_values\": 8,\n        \"samples\": [\n          712.6696661367249,\n          695.675,\n          1258.0\n        ],\n        \"semantic_type\": \"\",\n        \"description\": \"\"\n      }\n    }\n  ]\n}"
            }
          },
          "metadata": {},
          "execution_count": 30
        }
      ],
      "source": [
        "df.describe()"
      ]
    },
    {
      "cell_type": "code",
      "execution_count": 31,
      "metadata": {
        "id": "KZv2NKq_sqGm"
      },
      "outputs": [],
      "source": [
        "data = df.drop('Date', axis = 1).values"
      ]
    },
    {
      "cell_type": "code",
      "execution_count": 32,
      "metadata": {
        "id": "bwiRRhQXsqGm"
      },
      "outputs": [],
      "source": [
        "# Função para criar dados históricos de lookback\n",
        "def create_dataset(data, time_step=60):\n",
        "    \"\"\"\n",
        "    Cria dados históricos para previsão, considerando uma janela de tempo.\n",
        "\n",
        "    Args:\n",
        "        data (np.array): O conjunto de dados de entrada, contendo as colunas 'Open', 'High', 'Low' e 'Close'.\n",
        "        time_step (int): O número de passos de tempo (dias) para a janela de lookback.\n",
        "\n",
        "    Returns:\n",
        "        np.array: Os dados de entrada (X) com forma (n_amostras, time_step, n_features).\n",
        "        np.array: Os dados de saída (Y) com forma (n_amostras,).\n",
        "    \"\"\"\n",
        "    # Inicializando as listas para armazenar as sequências de entrada (X) e os valores alvo (Y)\n",
        "    X, y = [], []\n",
        "\n",
        "    # Loop para criar sequências de entrada e os valores alvo correspondentes\n",
        "    for i in range(len(data) - time_step):\n",
        "        # Adicionando a sequência de 'time_step' valores à lista X\n",
        "        X.append(data[i:(i + time_step)])\n",
        "        # Adicionando o valor de 'Close' após a sequência à lista Y\n",
        "        y.append(data[i + time_step, -1])  # Usando 'Close' como o valor alvo\n",
        "\n",
        "    # Convertendo as listas X e Y para arrays numpy\n",
        "    return np.array(X), np.array(y)\n"
      ]
    },
    {
      "cell_type": "markdown",
      "metadata": {
        "id": "8fTgDeZosqGm"
      },
      "source": [
        "## Explicação da Função `create_dataset`\n",
        "\n",
        "### Por que esta função é necessária?\n",
        "\n",
        "Em problemas de séries temporais, como a previsão de preços de ações, é importante capturar a dependência temporal dos dados. Isso significa que a previsão de um valor futuro depende de uma sequência de valores passados. A função `create_dataset` é usada para preparar os dados de entrada de modo a incluir essas sequências históricas (lookback) para treinar modelos de aprendizado de máquina ou deep learning.\n",
        "\n",
        "### Como a função `create_dataset` funciona?\n",
        "\n",
        "A função `create_dataset` recebe um conjunto de dados e um parâmetro `time_step` que define o tamanho da janela de tempo (lookback) usada para criar as sequências históricas. A função retorna duas arrays: uma contendo as sequências de entrada (`X`) e outra contendo os valores alvo correspondentes (`Y`).\n",
        "\n",
        "### Passo a Passo da Função\n",
        "\n",
        "1. **Inicialização**:\n",
        "    - A função inicializa duas listas vazias, `X` e `Y`, para armazenar as sequências de entrada e os valores alvo, respectivamente.\n",
        "\n",
        "2. **Loop sobre os dados**:\n",
        "    - A função percorre o conjunto de dados usando um loop. Para cada posição no conjunto de dados:\n",
        "        - **Sequência de entrada (`X`)**: A função coleta uma sequência de `time_step` valores e a adiciona à lista `X`.\n",
        "        - **Valor alvo (`Y`)**: O valor de `Close` imediatamente após a sequência é adicionado à lista `Y`. Este é o valor que o modelo tentará prever.\n",
        "\n",
        "3. **Conversão para arrays NumPy**:\n",
        "    - Após a coleta de todas as sequências e valores alvo, as listas `X` e `Y` são convertidas para arrays NumPy para facilitar o uso em modelos de aprendizado de máquina.\n",
        "\n",
        "### Exemplo Prático\n",
        "\n",
        "Suponha que temos dados de preços de ações com colunas `Open`, `High`, `Low` e `Close`, e queremos prever o preço de fechamento (`Close`) usando os últimos 60 dias de dados. A função `create_dataset` será usada da seguinte maneira:\n",
        "\n",
        "```python\n",
        "data = df[['Open', 'High', 'Low', 'Close']].values  # Conjunto de dados de entrada\n",
        "time_step = 60  # Tamanho da janela de lookback\n",
        "X, Y = create_dataset(data, time_step)  # Criando as sequências de entrada e valores alvo\n"
      ]
    },
    {
      "cell_type": "code",
      "execution_count": 33,
      "metadata": {
        "id": "C6t68QaQsqGm"
      },
      "outputs": [],
      "source": [
        "# Criando os dados históricos com lookback de 60 dias\n",
        "time_step = 14\n",
        "X, y = create_dataset(data, time_step)"
      ]
    },
    {
      "cell_type": "code",
      "execution_count": 34,
      "metadata": {
        "colab": {
          "base_uri": "https://localhost:8080/"
        },
        "id": "veV-_-tksqGm",
        "outputId": "857ea88f-7375-4d50-e8b8-4790d566b8a2"
      },
      "outputs": [
        {
          "output_type": "execute_result",
          "data": {
            "text/plain": [
              "array([[[3.25250e+02, 3.32830e+02, 3.24970e+02, 7.38050e+06,\n",
              "         6.63590e+02],\n",
              "        [3.31270e+02, 3.33870e+02, 3.29080e+02, 5.74940e+06,\n",
              "         6.66450e+02],\n",
              "        [3.29830e+02, 3.30750e+02, 3.26890e+02, 6.59030e+06,\n",
              "         6.57210e+02],\n",
              "        ...,\n",
              "        [3.19300e+02, 3.19300e+02, 3.14550e+02, 1.26578e+07,\n",
              "         6.37820e+02],\n",
              "        [2.94160e+02, 2.94400e+02, 2.89760e+02, 2.12318e+07,\n",
              "         5.84390e+02],\n",
              "        [2.91910e+02, 2.93230e+02, 2.90490e+02, 6.85130e+06,\n",
              "         5.83920e+02]],\n",
              "\n",
              "       [[3.31270e+02, 3.33870e+02, 3.29080e+02, 5.74940e+06,\n",
              "         6.66450e+02],\n",
              "        [3.29830e+02, 3.30750e+02, 3.26890e+02, 6.59030e+06,\n",
              "         6.57210e+02],\n",
              "        [3.28340e+02, 3.28770e+02, 3.23680e+02, 5.40590e+06,\n",
              "         6.48240e+02],\n",
              "        ...,\n",
              "        [2.94160e+02, 2.94400e+02, 2.89760e+02, 2.12318e+07,\n",
              "         5.84390e+02],\n",
              "        [2.91910e+02, 2.93230e+02, 2.90490e+02, 6.85130e+06,\n",
              "         5.83920e+02],\n",
              "        [2.92070e+02, 2.92740e+02, 2.87920e+02, 6.13440e+06,\n",
              "         5.79340e+02]],\n",
              "\n",
              "       [[3.29830e+02, 3.30750e+02, 3.26890e+02, 6.59030e+06,\n",
              "         6.57210e+02],\n",
              "        [3.28340e+02, 3.28770e+02, 3.23680e+02, 5.40590e+06,\n",
              "         6.48240e+02],\n",
              "        [3.22040e+02, 3.22290e+02, 3.09460e+02, 1.16888e+07,\n",
              "         6.20760e+02],\n",
              "        ...,\n",
              "        [2.91910e+02, 2.93230e+02, 2.90490e+02, 6.85130e+06,\n",
              "         5.83920e+02],\n",
              "        [2.92070e+02, 2.92740e+02, 2.87920e+02, 6.13440e+06,\n",
              "         5.79340e+02],\n",
              "        [2.87680e+02, 2.88270e+02, 2.82130e+02, 1.00127e+07,\n",
              "         5.67930e+02]],\n",
              "\n",
              "       ...,\n",
              "\n",
              "       [[7.61000e+02, 7.71360e+02, 7.55800e+02, 1.76100e+06,\n",
              "         7.71190e+02],\n",
              "        [7.72480e+02, 7.78180e+02, 7.67230e+02, 1.48810e+06,\n",
              "         7.76420e+02],\n",
              "        [7.80000e+02, 7.89430e+02, 7.79020e+02, 1.82190e+06,\n",
              "         7.89290e+02],\n",
              "        ...,\n",
              "        [7.92360e+02, 7.93320e+02, 7.88580e+02, 9.72200e+05,\n",
              "         7.91260e+02],\n",
              "        [7.90900e+02, 7.92740e+02, 7.87280e+02, 6.23400e+05,\n",
              "         7.89910e+02],\n",
              "        [7.90680e+02, 7.97860e+02, 7.87660e+02, 7.89100e+05,\n",
              "         7.91550e+02]],\n",
              "\n",
              "       [[7.72480e+02, 7.78180e+02, 7.67230e+02, 1.48810e+06,\n",
              "         7.76420e+02],\n",
              "        [7.80000e+02, 7.89430e+02, 7.79020e+02, 1.82190e+06,\n",
              "         7.89290e+02],\n",
              "        [7.85040e+02, 7.91250e+02, 7.84350e+02, 2.10410e+06,\n",
              "         7.89270e+02],\n",
              "        ...,\n",
              "        [7.90900e+02, 7.92740e+02, 7.87280e+02, 6.23400e+05,\n",
              "         7.89910e+02],\n",
              "        [7.90680e+02, 7.97860e+02, 7.87660e+02, 7.89100e+05,\n",
              "         7.91550e+02],\n",
              "        [7.93700e+02, 7.94230e+02, 7.83200e+02, 1.15380e+06,\n",
              "         7.85050e+02]],\n",
              "\n",
              "       [[7.80000e+02, 7.89430e+02, 7.79020e+02, 1.82190e+06,\n",
              "         7.89290e+02],\n",
              "        [7.85040e+02, 7.91250e+02, 7.84350e+02, 2.10410e+06,\n",
              "         7.89270e+02],\n",
              "        [7.93900e+02, 8.04380e+02, 7.93340e+02, 2.14520e+06,\n",
              "         7.96100e+02],\n",
              "        ...,\n",
              "        [7.90680e+02, 7.97860e+02, 7.87660e+02, 7.89100e+05,\n",
              "         7.91550e+02],\n",
              "        [7.93700e+02, 7.94230e+02, 7.83200e+02, 1.15380e+06,\n",
              "         7.85050e+02],\n",
              "        [7.83330e+02, 7.85930e+02, 7.78920e+02, 7.44300e+05,\n",
              "         7.82790e+02]]])"
            ]
          },
          "metadata": {},
          "execution_count": 34
        }
      ],
      "source": [
        "X"
      ]
    },
    {
      "cell_type": "code",
      "execution_count": 35,
      "metadata": {
        "colab": {
          "base_uri": "https://localhost:8080/"
        },
        "id": "pQWDSbvDsqGn",
        "outputId": "e7ddb6fa-d058-4564-802e-afb3eb6b4271"
      },
      "outputs": [
        {
          "output_type": "execute_result",
          "data": {
            "text/plain": [
              "array([[3.25250e+02, 3.32830e+02, 3.24970e+02, 7.38050e+06, 6.63590e+02],\n",
              "       [3.31270e+02, 3.33870e+02, 3.29080e+02, 5.74940e+06, 6.66450e+02],\n",
              "       [3.29830e+02, 3.30750e+02, 3.26890e+02, 6.59030e+06, 6.57210e+02],\n",
              "       [3.28340e+02, 3.28770e+02, 3.23680e+02, 5.40590e+06, 6.48240e+02],\n",
              "       [3.22040e+02, 3.22290e+02, 3.09460e+02, 1.16888e+07, 6.20760e+02],\n",
              "       [3.13700e+02, 3.15720e+02, 3.07300e+02, 8.82400e+06, 6.21430e+02],\n",
              "       [3.10590e+02, 3.13520e+02, 3.09400e+02, 4.81780e+06, 6.24250e+02],\n",
              "       [3.14430e+02, 3.15260e+02, 3.12080e+02, 3.76440e+06, 6.27920e+02],\n",
              "       [3.11960e+02, 3.12300e+02, 3.09370e+02, 4.63180e+06, 6.23280e+02],\n",
              "       [3.14810e+02, 3.14810e+02, 3.11670e+02, 3.83280e+06, 6.26860e+02],\n",
              "       [3.12140e+02, 3.15820e+02, 3.09900e+02, 5.54400e+06, 6.31180e+02],\n",
              "       [3.19300e+02, 3.19300e+02, 3.14550e+02, 1.26578e+07, 6.37820e+02],\n",
              "       [2.94160e+02, 2.94400e+02, 2.89760e+02, 2.12318e+07, 5.84390e+02],\n",
              "       [2.91910e+02, 2.93230e+02, 2.90490e+02, 6.85130e+06, 5.83920e+02]])"
            ]
          },
          "metadata": {},
          "execution_count": 35
        }
      ],
      "source": [
        "X[0]"
      ]
    },
    {
      "cell_type": "code",
      "execution_count": 36,
      "metadata": {
        "id": "Y1U0lUFqsqGn"
      },
      "outputs": [],
      "source": [
        "# Dividindo os dados em conjuntos de treino e teste\n",
        "X_train = X[:int(len(X) * 0.8)]\n",
        "X_test = X[int(len(X) * 0.8):]\n",
        "\n",
        "y_train = y[:int(len(y) * 0.8)]\n",
        "y_test = y[int(len(y) * 0.8):]"
      ]
    },
    {
      "cell_type": "code",
      "execution_count": 37,
      "metadata": {
        "id": "u5MFgItqsqGn"
      },
      "outputs": [],
      "source": [
        "# Normalizando os dados de treinamento\n",
        "scaler_X = MinMaxScaler(feature_range=(0, 1))\n",
        "scaler_y = MinMaxScaler(feature_range=(0, 1))\n",
        "\n",
        "X_train = scaler_X.fit_transform(X_train.reshape(-1, X_train.shape[-1])).reshape(X_train.shape)\n",
        "y_train = scaler_y.fit_transform(y_train.reshape(-1, 1))"
      ]
    },
    {
      "cell_type": "code",
      "execution_count": 38,
      "metadata": {
        "id": "Nba88GZRsqGn"
      },
      "outputs": [],
      "source": [
        "# Normalizando os dados de teste\n",
        "X_test = scaler_X.transform(X_test.reshape(-1, X_test.shape[-1])).reshape(X_test.shape)\n",
        "y_test = scaler_y.transform(y_test.reshape(-1, 1))"
      ]
    },
    {
      "cell_type": "code",
      "execution_count": 39,
      "metadata": {
        "colab": {
          "base_uri": "https://localhost:8080/"
        },
        "id": "Tyy2h1uIsqGo",
        "outputId": "ea3b5e18-4514-4363-c19c-05dd0d17e929"
      },
      "outputs": [
        {
          "output_type": "stream",
          "name": "stdout",
          "text": [
            "X_train shape: (995, 14, 5)\n",
            "y_train shape: (995, 1)\n",
            "X_test shape: (249, 14, 5)\n",
            "y_test shape: (249, 1)\n"
          ]
        }
      ],
      "source": [
        "# Verificando as formas dos conjuntos de dados\n",
        "print(\"X_train shape:\", X_train.shape)\n",
        "print(\"y_train shape:\", y_train.shape)\n",
        "print(\"X_test shape:\", X_test.shape)\n",
        "print(\"y_test shape:\", y_test.shape)"
      ]
    },
    {
      "cell_type": "code",
      "execution_count": 40,
      "metadata": {
        "colab": {
          "base_uri": "https://localhost:8080/"
        },
        "id": "S8i0qkWQsqGo",
        "outputId": "2b25b038-77f2-4388-cdef-8481bf11f08a"
      },
      "outputs": [
        {
          "output_type": "execute_result",
          "data": {
            "text/plain": [
              "5"
            ]
          },
          "metadata": {},
          "execution_count": 40
        }
      ],
      "source": [
        "X_train.shape[2]"
      ]
    },
    {
      "cell_type": "code",
      "execution_count": 41,
      "metadata": {
        "colab": {
          "base_uri": "https://localhost:8080/"
        },
        "id": "dTn-toPdsqGo",
        "outputId": "23166b5f-ebd3-4860-d7e4-19eaf47dafe9"
      },
      "outputs": [
        {
          "output_type": "execute_result",
          "data": {
            "text/plain": [
              "(995, 14, 5)"
            ]
          },
          "metadata": {},
          "execution_count": 41
        }
      ],
      "source": [
        "X_train.shape"
      ]
    },
    {
      "cell_type": "code",
      "execution_count": 42,
      "metadata": {
        "colab": {
          "base_uri": "https://localhost:8080/",
          "height": 361
        },
        "id": "tDbaRR3MsqGo",
        "outputId": "ccf43fa2-7079-449c-ec5a-3f5923c3daa7"
      },
      "outputs": [
        {
          "output_type": "stream",
          "name": "stderr",
          "text": [
            "/usr/local/lib/python3.10/dist-packages/keras/src/layers/rnn/rnn.py:204: UserWarning: Do not pass an `input_shape`/`input_dim` argument to a layer. When using Sequential models, prefer using an `Input(shape)` object as the first layer in the model instead.\n",
            "  super().__init__(**kwargs)\n"
          ]
        },
        {
          "output_type": "display_data",
          "data": {
            "text/plain": [
              "\u001b[1mModel: \"sequential_1\"\u001b[0m\n"
            ],
            "text/html": [
              "<pre style=\"white-space:pre;overflow-x:auto;line-height:normal;font-family:Menlo,'DejaVu Sans Mono',consolas,'Courier New',monospace\"><span style=\"font-weight: bold\">Model: \"sequential_1\"</span>\n",
              "</pre>\n"
            ]
          },
          "metadata": {}
        },
        {
          "output_type": "display_data",
          "data": {
            "text/plain": [
              "┏━━━━━━━━━━━━━━━━━━━━━━━━━━━━━━━━━━━━━━┳━━━━━━━━━━━━━━━━━━━━━━━━━━━━━┳━━━━━━━━━━━━━━━━━┓\n",
              "┃\u001b[1m \u001b[0m\u001b[1mLayer (type)                        \u001b[0m\u001b[1m \u001b[0m┃\u001b[1m \u001b[0m\u001b[1mOutput Shape               \u001b[0m\u001b[1m \u001b[0m┃\u001b[1m \u001b[0m\u001b[1m        Param #\u001b[0m\u001b[1m \u001b[0m┃\n",
              "┡━━━━━━━━━━━━━━━━━━━━━━━━━━━━━━━━━━━━━━╇━━━━━━━━━━━━━━━━━━━━━━━━━━━━━╇━━━━━━━━━━━━━━━━━┩\n",
              "│ simple_rnn_1 (\u001b[38;5;33mSimpleRNN\u001b[0m)             │ (\u001b[38;5;45mNone\u001b[0m, \u001b[38;5;34m14\u001b[0m, \u001b[38;5;34m50\u001b[0m)              │           \u001b[38;5;34m2,800\u001b[0m │\n",
              "├──────────────────────────────────────┼─────────────────────────────┼─────────────────┤\n",
              "│ dropout_1 (\u001b[38;5;33mDropout\u001b[0m)                  │ (\u001b[38;5;45mNone\u001b[0m, \u001b[38;5;34m14\u001b[0m, \u001b[38;5;34m50\u001b[0m)              │               \u001b[38;5;34m0\u001b[0m │\n",
              "├──────────────────────────────────────┼─────────────────────────────┼─────────────────┤\n",
              "│ simple_rnn_2 (\u001b[38;5;33mSimpleRNN\u001b[0m)             │ (\u001b[38;5;45mNone\u001b[0m, \u001b[38;5;34m50\u001b[0m)                  │           \u001b[38;5;34m5,050\u001b[0m │\n",
              "├──────────────────────────────────────┼─────────────────────────────┼─────────────────┤\n",
              "│ dropout_2 (\u001b[38;5;33mDropout\u001b[0m)                  │ (\u001b[38;5;45mNone\u001b[0m, \u001b[38;5;34m50\u001b[0m)                  │               \u001b[38;5;34m0\u001b[0m │\n",
              "├──────────────────────────────────────┼─────────────────────────────┼─────────────────┤\n",
              "│ dense_1 (\u001b[38;5;33mDense\u001b[0m)                      │ (\u001b[38;5;45mNone\u001b[0m, \u001b[38;5;34m1\u001b[0m)                   │              \u001b[38;5;34m51\u001b[0m │\n",
              "└──────────────────────────────────────┴─────────────────────────────┴─────────────────┘\n"
            ],
            "text/html": [
              "<pre style=\"white-space:pre;overflow-x:auto;line-height:normal;font-family:Menlo,'DejaVu Sans Mono',consolas,'Courier New',monospace\">┏━━━━━━━━━━━━━━━━━━━━━━━━━━━━━━━━━━━━━━┳━━━━━━━━━━━━━━━━━━━━━━━━━━━━━┳━━━━━━━━━━━━━━━━━┓\n",
              "┃<span style=\"font-weight: bold\"> Layer (type)                         </span>┃<span style=\"font-weight: bold\"> Output Shape                </span>┃<span style=\"font-weight: bold\">         Param # </span>┃\n",
              "┡━━━━━━━━━━━━━━━━━━━━━━━━━━━━━━━━━━━━━━╇━━━━━━━━━━━━━━━━━━━━━━━━━━━━━╇━━━━━━━━━━━━━━━━━┩\n",
              "│ simple_rnn_1 (<span style=\"color: #0087ff; text-decoration-color: #0087ff\">SimpleRNN</span>)             │ (<span style=\"color: #00d7ff; text-decoration-color: #00d7ff\">None</span>, <span style=\"color: #00af00; text-decoration-color: #00af00\">14</span>, <span style=\"color: #00af00; text-decoration-color: #00af00\">50</span>)              │           <span style=\"color: #00af00; text-decoration-color: #00af00\">2,800</span> │\n",
              "├──────────────────────────────────────┼─────────────────────────────┼─────────────────┤\n",
              "│ dropout_1 (<span style=\"color: #0087ff; text-decoration-color: #0087ff\">Dropout</span>)                  │ (<span style=\"color: #00d7ff; text-decoration-color: #00d7ff\">None</span>, <span style=\"color: #00af00; text-decoration-color: #00af00\">14</span>, <span style=\"color: #00af00; text-decoration-color: #00af00\">50</span>)              │               <span style=\"color: #00af00; text-decoration-color: #00af00\">0</span> │\n",
              "├──────────────────────────────────────┼─────────────────────────────┼─────────────────┤\n",
              "│ simple_rnn_2 (<span style=\"color: #0087ff; text-decoration-color: #0087ff\">SimpleRNN</span>)             │ (<span style=\"color: #00d7ff; text-decoration-color: #00d7ff\">None</span>, <span style=\"color: #00af00; text-decoration-color: #00af00\">50</span>)                  │           <span style=\"color: #00af00; text-decoration-color: #00af00\">5,050</span> │\n",
              "├──────────────────────────────────────┼─────────────────────────────┼─────────────────┤\n",
              "│ dropout_2 (<span style=\"color: #0087ff; text-decoration-color: #0087ff\">Dropout</span>)                  │ (<span style=\"color: #00d7ff; text-decoration-color: #00d7ff\">None</span>, <span style=\"color: #00af00; text-decoration-color: #00af00\">50</span>)                  │               <span style=\"color: #00af00; text-decoration-color: #00af00\">0</span> │\n",
              "├──────────────────────────────────────┼─────────────────────────────┼─────────────────┤\n",
              "│ dense_1 (<span style=\"color: #0087ff; text-decoration-color: #0087ff\">Dense</span>)                      │ (<span style=\"color: #00d7ff; text-decoration-color: #00d7ff\">None</span>, <span style=\"color: #00af00; text-decoration-color: #00af00\">1</span>)                   │              <span style=\"color: #00af00; text-decoration-color: #00af00\">51</span> │\n",
              "└──────────────────────────────────────┴─────────────────────────────┴─────────────────┘\n",
              "</pre>\n"
            ]
          },
          "metadata": {}
        },
        {
          "output_type": "display_data",
          "data": {
            "text/plain": [
              "\u001b[1m Total params: \u001b[0m\u001b[38;5;34m7,901\u001b[0m (30.86 KB)\n"
            ],
            "text/html": [
              "<pre style=\"white-space:pre;overflow-x:auto;line-height:normal;font-family:Menlo,'DejaVu Sans Mono',consolas,'Courier New',monospace\"><span style=\"font-weight: bold\"> Total params: </span><span style=\"color: #00af00; text-decoration-color: #00af00\">7,901</span> (30.86 KB)\n",
              "</pre>\n"
            ]
          },
          "metadata": {}
        },
        {
          "output_type": "display_data",
          "data": {
            "text/plain": [
              "\u001b[1m Trainable params: \u001b[0m\u001b[38;5;34m7,901\u001b[0m (30.86 KB)\n"
            ],
            "text/html": [
              "<pre style=\"white-space:pre;overflow-x:auto;line-height:normal;font-family:Menlo,'DejaVu Sans Mono',consolas,'Courier New',monospace\"><span style=\"font-weight: bold\"> Trainable params: </span><span style=\"color: #00af00; text-decoration-color: #00af00\">7,901</span> (30.86 KB)\n",
              "</pre>\n"
            ]
          },
          "metadata": {}
        },
        {
          "output_type": "display_data",
          "data": {
            "text/plain": [
              "\u001b[1m Non-trainable params: \u001b[0m\u001b[38;5;34m0\u001b[0m (0.00 B)\n"
            ],
            "text/html": [
              "<pre style=\"white-space:pre;overflow-x:auto;line-height:normal;font-family:Menlo,'DejaVu Sans Mono',consolas,'Courier New',monospace\"><span style=\"font-weight: bold\"> Non-trainable params: </span><span style=\"color: #00af00; text-decoration-color: #00af00\">0</span> (0.00 B)\n",
              "</pre>\n"
            ]
          },
          "metadata": {}
        }
      ],
      "source": [
        "# Definindo a arquitetura do modelo RNN\n",
        "model = Sequential()\n",
        "\n",
        "# Adicionando uma camada RNN com 50 unidades e ativação tanh\n",
        "# Esta camada processa a sequência de entrada e mantém um estado interno para capturar dependências temporais\n",
        "# return_sequences=True garante que todas as saídas da sequência sejam retornadas, não apenas o último estado\n",
        "model.add(SimpleRNN(units=50, activation='tanh', return_sequences=True, input_shape=(X_train.shape[1], X_train.shape[2])))\n",
        "\n",
        "# Adicionando uma camada Dropout com taxa de 0.2 para evitar overfitting\n",
        "# Dropout ajuda a regularizar o modelo desligando aleatoriamente uma fração das unidades durante o treinamento\n",
        "model.add(Dropout(0.2))\n",
        "\n",
        "# Adicionando uma segunda camada RNN com 50 unidades e ativação tanh\n",
        "# Adiciona capacidade extra ao modelo para aprender padrões mais complexos nas sequências de entrada\n",
        "# Esta camada não precisa de return_sequences=True, pois é a última camada RNN antes da camada densa\n",
        "model.add(SimpleRNN(units=50, activation='tanh'))\n",
        "\n",
        "# Adicionando uma segunda camada Dropout com taxa de 0.2 para regularização adicional\n",
        "model.add(Dropout(0.2))\n",
        "\n",
        "# Adicionando uma camada densa (fully connected) com 1 unidade\n",
        "# Esta camada gera a previsão final do modelo\n",
        "model.add(Dense(units=1))\n",
        "\n",
        "# Compilando o modelo com otimizador adam e função de perda mean_squared_error\n",
        "model.compile(optimizer='adam', loss='mean_squared_error')\n",
        "\n",
        "# Exibindo a arquitetura do modelo\n",
        "model.summary()\n"
      ]
    },
    {
      "cell_type": "markdown",
      "metadata": {
        "id": "PRZb0EGasqGo"
      },
      "source": [
        "### 3. Estrutura e Funcionamento das RNNs\n",
        "\n",
        "#### Arquitetura de uma RNN\n",
        "\n",
        "A arquitetura de uma Rede Neural Recorrente (RNN) é composta por várias camadas que trabalham juntas para processar dados sequenciais. Essas camadas incluem:\n",
        "\n",
        "- **Camada de Entrada**: Recebe os dados de entrada em uma sequência temporal. Cada elemento da sequência é processado um a um pela RNN.\n",
        "- **Camadas Ocultas Recorrentes**: Estas camadas são responsáveis por manter e atualizar o estado oculto da RNN. Cada unidade recorrente dentro dessas camadas utiliza os dados de entrada atuais e o estado oculto anterior para calcular o novo estado oculto.\n",
        "- **Camada de Saída**: Gera a saída da RNN a partir do estado oculto atual. A saída pode ser usada diretamente ou passar por camadas adicionais dependendo da aplicação.\n",
        "\n",
        "\n",
        "\n",
        "\n",
        "#### Propagação da Informação em RNNs\n",
        "\n",
        "**Propagação Direta (Forward Propagation)**\n",
        "A propagação direta em uma RNN envolve o cálculo do estado oculto e da saída para cada elemento da sequência de entrada. O processo é realizado da seguinte forma:\n",
        "\n",
        "1. **Estado Oculto Atual (\\(h_t\\))**: Calculado utilizando a entrada atual (\\(x_t\\)) e o estado oculto anterior (\\(h_{t-1}\\)):\n",
        "   \\[   h_t = \\sigma(W_{xh}x_t + W_{hh}h_{t-1} + b_h)   \\]\n",
        "   Onde:\n",
        "   - \\(W_{xh}\\) é a matriz de pesos entre a entrada e o estado oculto.\n",
        "   - \\(W_{hh}\\) é a matriz de pesos entre o estado oculto anterior e o estado oculto atual.\n",
        "   - \\(b_h\\) é o vetor de bias para o estado oculto.\n",
        "   - \\(\\sigma\\) é a função de ativação (e.g., tanh ou ReLU).\n",
        "\n",
        "2. **Saída Atual (\\(y_t\\))**: Calculada a partir do estado oculto atual:\n",
        "   \\[   y_t = \\sigma(W_{hy}h_t + b_y)   \\]\n",
        "   Onde:\n",
        "   - \\(W_{hy}\\) é a matriz de pesos entre o estado oculto e a saída.\n",
        "   - \\(b_y\\) é o vetor de bias para a saída.\n",
        "   - \\(\\sigma\\) é a função de ativação aplicada à saída.\n",
        "\n",
        "**Propagação Retroativa (Backpropagation Through Time - BPTT)**\n",
        "A propagação retroativa em RNNs, conhecida como Backpropagation Through Time (BPTT), é o método utilizado para treinar a rede ajustando os pesos com base nos erros de predição. O processo envolve:\n",
        "\n",
        "1. **Cálculo do Erro**: O erro é calculado comparando a saída da RNN com o valor esperado (ground truth).\n",
        "\n",
        "2. **Propagação do Erro Através do Tempo**: O erro é propagado para trás através do tempo, atualizando os pesos não apenas com base no estado atual, mas também considerando como os estados anteriores influenciaram o estado atual.\n",
        "\n",
        "3. **Atualização dos Pesos**: Os pesos da RNN são ajustados para minimizar o erro de predição utilizando gradientes calculados durante a propagação retroativa.\n",
        "\n",
        "Este processo permite que a RNN aprenda a ajustar seus parâmetros para capturar melhor as dependências temporais nos dados sequenciais, melhorando sua capacidade de fazer previsões precisas.\n"
      ]
    },
    {
      "cell_type": "code",
      "execution_count": 43,
      "metadata": {
        "colab": {
          "base_uri": "https://localhost:8080/"
        },
        "id": "a5XX_ahfsqGo",
        "outputId": "96bf69b2-cd6a-4558-fb49-4aa3af7ebd9b"
      },
      "outputs": [
        {
          "output_type": "stream",
          "name": "stdout",
          "text": [
            "Epoch 1/100\n",
            "28/28 - 3s - 125ms/step - loss: 0.1673 - val_loss: 0.0015\n",
            "Epoch 2/100\n",
            "28/28 - 0s - 9ms/step - loss: 0.0768 - val_loss: 0.0085\n",
            "Epoch 3/100\n",
            "28/28 - 0s - 12ms/step - loss: 0.0465 - val_loss: 0.0051\n",
            "Epoch 4/100\n",
            "28/28 - 0s - 11ms/step - loss: 0.0312 - val_loss: 0.0142\n",
            "Epoch 5/100\n",
            "28/28 - 0s - 10ms/step - loss: 0.0260 - val_loss: 0.0078\n",
            "Epoch 6/100\n",
            "28/28 - 0s - 10ms/step - loss: 0.0226 - val_loss: 0.0029\n",
            "Epoch 7/100\n",
            "28/28 - 0s - 11ms/step - loss: 0.0188 - val_loss: 0.0094\n",
            "Epoch 8/100\n",
            "28/28 - 0s - 11ms/step - loss: 0.0171 - val_loss: 0.0069\n",
            "Epoch 9/100\n",
            "28/28 - 1s - 27ms/step - loss: 0.0161 - val_loss: 0.0051\n",
            "Epoch 10/100\n",
            "28/28 - 1s - 22ms/step - loss: 0.0143 - val_loss: 0.0017\n",
            "Epoch 11/100\n",
            "28/28 - 0s - 17ms/step - loss: 0.0115 - val_loss: 0.0014\n",
            "Epoch 12/100\n",
            "28/28 - 1s - 22ms/step - loss: 0.0110 - val_loss: 0.0011\n",
            "Epoch 13/100\n",
            "28/28 - 0s - 18ms/step - loss: 0.0097 - val_loss: 0.0029\n",
            "Epoch 14/100\n",
            "28/28 - 0s - 10ms/step - loss: 0.0095 - val_loss: 0.0026\n",
            "Epoch 15/100\n",
            "28/28 - 0s - 12ms/step - loss: 0.0095 - val_loss: 0.0012\n",
            "Epoch 16/100\n",
            "28/28 - 0s - 10ms/step - loss: 0.0073 - val_loss: 0.0019\n",
            "Epoch 17/100\n",
            "28/28 - 0s - 10ms/step - loss: 0.0077 - val_loss: 0.0016\n",
            "Epoch 18/100\n",
            "28/28 - 0s - 10ms/step - loss: 0.0071 - val_loss: 0.0016\n",
            "Epoch 19/100\n",
            "28/28 - 0s - 11ms/step - loss: 0.0075 - val_loss: 4.6128e-04\n",
            "Epoch 20/100\n",
            "28/28 - 0s - 11ms/step - loss: 0.0073 - val_loss: 0.0010\n",
            "Epoch 21/100\n",
            "28/28 - 0s - 10ms/step - loss: 0.0079 - val_loss: 0.0028\n",
            "Epoch 22/100\n",
            "28/28 - 0s - 10ms/step - loss: 0.0066 - val_loss: 0.0012\n",
            "Epoch 23/100\n",
            "28/28 - 0s - 10ms/step - loss: 0.0060 - val_loss: 5.6230e-04\n",
            "Epoch 24/100\n",
            "28/28 - 0s - 10ms/step - loss: 0.0064 - val_loss: 4.6259e-04\n",
            "Epoch 25/100\n",
            "28/28 - 0s - 11ms/step - loss: 0.0055 - val_loss: 0.0022\n",
            "Epoch 26/100\n",
            "28/28 - 0s - 11ms/step - loss: 0.0058 - val_loss: 0.0019\n",
            "Epoch 27/100\n",
            "28/28 - 0s - 10ms/step - loss: 0.0060 - val_loss: 0.0023\n",
            "Epoch 28/100\n",
            "28/28 - 0s - 11ms/step - loss: 0.0047 - val_loss: 0.0012\n",
            "Epoch 29/100\n",
            "28/28 - 0s - 11ms/step - loss: 0.0052 - val_loss: 9.2009e-04\n",
            "Epoch 30/100\n",
            "28/28 - 0s - 11ms/step - loss: 0.0048 - val_loss: 3.9015e-04\n",
            "Epoch 31/100\n",
            "28/28 - 0s - 11ms/step - loss: 0.0050 - val_loss: 4.2010e-04\n",
            "Epoch 32/100\n",
            "28/28 - 0s - 11ms/step - loss: 0.0047 - val_loss: 4.8855e-04\n",
            "Epoch 33/100\n",
            "28/28 - 0s - 10ms/step - loss: 0.0046 - val_loss: 0.0015\n",
            "Epoch 34/100\n",
            "28/28 - 0s - 11ms/step - loss: 0.0049 - val_loss: 6.1889e-04\n",
            "Epoch 35/100\n",
            "28/28 - 0s - 11ms/step - loss: 0.0042 - val_loss: 0.0014\n",
            "Epoch 36/100\n",
            "28/28 - 0s - 11ms/step - loss: 0.0044 - val_loss: 5.8381e-04\n",
            "Epoch 37/100\n",
            "28/28 - 0s - 11ms/step - loss: 0.0042 - val_loss: 0.0015\n",
            "Epoch 38/100\n",
            "28/28 - 0s - 10ms/step - loss: 0.0040 - val_loss: 4.2033e-04\n",
            "Epoch 39/100\n",
            "28/28 - 0s - 11ms/step - loss: 0.0042 - val_loss: 5.5812e-04\n",
            "Epoch 40/100\n",
            "28/28 - 0s - 10ms/step - loss: 0.0039 - val_loss: 7.0915e-04\n",
            "Epoch 41/100\n",
            "28/28 - 0s - 10ms/step - loss: 0.0041 - val_loss: 4.7589e-04\n",
            "Epoch 42/100\n",
            "28/28 - 0s - 10ms/step - loss: 0.0035 - val_loss: 3.5055e-04\n",
            "Epoch 43/100\n",
            "28/28 - 0s - 10ms/step - loss: 0.0035 - val_loss: 0.0013\n",
            "Epoch 44/100\n",
            "28/28 - 0s - 10ms/step - loss: 0.0036 - val_loss: 4.8397e-04\n",
            "Epoch 45/100\n",
            "28/28 - 0s - 10ms/step - loss: 0.0038 - val_loss: 9.3628e-04\n",
            "Epoch 46/100\n",
            "28/28 - 0s - 11ms/step - loss: 0.0035 - val_loss: 5.4471e-04\n",
            "Epoch 47/100\n",
            "28/28 - 0s - 15ms/step - loss: 0.0033 - val_loss: 3.7804e-04\n",
            "Epoch 48/100\n",
            "28/28 - 1s - 22ms/step - loss: 0.0039 - val_loss: 3.8576e-04\n",
            "Epoch 49/100\n",
            "28/28 - 0s - 15ms/step - loss: 0.0032 - val_loss: 4.6285e-04\n",
            "Epoch 50/100\n",
            "28/28 - 1s - 23ms/step - loss: 0.0034 - val_loss: 8.1277e-04\n",
            "Epoch 51/100\n",
            "28/28 - 1s - 23ms/step - loss: 0.0030 - val_loss: 4.0289e-04\n",
            "Epoch 52/100\n",
            "28/28 - 0s - 10ms/step - loss: 0.0030 - val_loss: 4.5364e-04\n",
            "Epoch 53/100\n",
            "28/28 - 0s - 10ms/step - loss: 0.0032 - val_loss: 5.6538e-04\n",
            "Epoch 54/100\n",
            "28/28 - 0s - 10ms/step - loss: 0.0035 - val_loss: 0.0022\n",
            "Epoch 55/100\n",
            "28/28 - 0s - 10ms/step - loss: 0.0037 - val_loss: 0.0016\n",
            "Epoch 56/100\n",
            "28/28 - 0s - 11ms/step - loss: 0.0030 - val_loss: 3.2491e-04\n",
            "Epoch 57/100\n",
            "28/28 - 0s - 12ms/step - loss: 0.0030 - val_loss: 0.0012\n",
            "Epoch 58/100\n",
            "28/28 - 0s - 10ms/step - loss: 0.0028 - val_loss: 5.3485e-04\n",
            "Epoch 59/100\n",
            "28/28 - 0s - 11ms/step - loss: 0.0027 - val_loss: 7.1695e-04\n",
            "Epoch 60/100\n",
            "28/28 - 0s - 10ms/step - loss: 0.0028 - val_loss: 0.0017\n",
            "Epoch 61/100\n",
            "28/28 - 0s - 11ms/step - loss: 0.0030 - val_loss: 3.7289e-04\n",
            "Epoch 62/100\n",
            "28/28 - 0s - 10ms/step - loss: 0.0030 - val_loss: 3.3398e-04\n",
            "Epoch 63/100\n",
            "28/28 - 0s - 11ms/step - loss: 0.0027 - val_loss: 4.8928e-04\n",
            "Epoch 64/100\n",
            "28/28 - 0s - 12ms/step - loss: 0.0021 - val_loss: 8.1193e-04\n",
            "Epoch 65/100\n",
            "28/28 - 0s - 11ms/step - loss: 0.0032 - val_loss: 5.0050e-04\n",
            "Epoch 66/100\n",
            "28/28 - 0s - 10ms/step - loss: 0.0028 - val_loss: 3.4591e-04\n",
            "Epoch 67/100\n",
            "28/28 - 0s - 10ms/step - loss: 0.0025 - val_loss: 3.9499e-04\n",
            "Epoch 68/100\n",
            "28/28 - 0s - 11ms/step - loss: 0.0024 - val_loss: 4.3175e-04\n",
            "Epoch 69/100\n",
            "28/28 - 0s - 10ms/step - loss: 0.0023 - val_loss: 7.7592e-04\n",
            "Epoch 70/100\n",
            "28/28 - 0s - 10ms/step - loss: 0.0029 - val_loss: 0.0013\n",
            "Epoch 71/100\n",
            "28/28 - 0s - 11ms/step - loss: 0.0022 - val_loss: 3.0579e-04\n",
            "Epoch 72/100\n",
            "28/28 - 0s - 10ms/step - loss: 0.0028 - val_loss: 3.0784e-04\n",
            "Epoch 73/100\n",
            "28/28 - 0s - 10ms/step - loss: 0.0026 - val_loss: 3.2518e-04\n",
            "Epoch 74/100\n",
            "28/28 - 0s - 10ms/step - loss: 0.0024 - val_loss: 3.2755e-04\n",
            "Epoch 75/100\n",
            "28/28 - 0s - 10ms/step - loss: 0.0022 - val_loss: 3.1755e-04\n",
            "Epoch 76/100\n",
            "28/28 - 0s - 11ms/step - loss: 0.0025 - val_loss: 3.4638e-04\n",
            "Epoch 77/100\n",
            "28/28 - 0s - 10ms/step - loss: 0.0023 - val_loss: 5.3437e-04\n",
            "Epoch 78/100\n",
            "28/28 - 0s - 11ms/step - loss: 0.0026 - val_loss: 8.5407e-04\n",
            "Epoch 79/100\n",
            "28/28 - 0s - 10ms/step - loss: 0.0027 - val_loss: 9.7191e-04\n",
            "Epoch 80/100\n",
            "28/28 - 0s - 10ms/step - loss: 0.0026 - val_loss: 3.2196e-04\n",
            "Epoch 81/100\n",
            "28/28 - 0s - 11ms/step - loss: 0.0021 - val_loss: 4.6907e-04\n",
            "Epoch 82/100\n",
            "28/28 - 0s - 11ms/step - loss: 0.0029 - val_loss: 4.2726e-04\n",
            "Epoch 83/100\n",
            "28/28 - 0s - 9ms/step - loss: 0.0024 - val_loss: 3.3386e-04\n",
            "Epoch 84/100\n",
            "28/28 - 0s - 10ms/step - loss: 0.0022 - val_loss: 3.4857e-04\n",
            "Epoch 85/100\n",
            "28/28 - 0s - 11ms/step - loss: 0.0028 - val_loss: 7.5272e-04\n",
            "Epoch 86/100\n",
            "28/28 - 1s - 26ms/step - loss: 0.0020 - val_loss: 3.1690e-04\n",
            "Epoch 87/100\n",
            "28/28 - 0s - 15ms/step - loss: 0.0024 - val_loss: 7.9161e-04\n",
            "Epoch 88/100\n",
            "28/28 - 1s - 24ms/step - loss: 0.0023 - val_loss: 3.8488e-04\n",
            "Epoch 89/100\n",
            "28/28 - 1s - 21ms/step - loss: 0.0022 - val_loss: 0.0011\n",
            "Epoch 90/100\n",
            "28/28 - 1s - 19ms/step - loss: 0.0021 - val_loss: 4.7801e-04\n",
            "Epoch 91/100\n",
            "28/28 - 0s - 10ms/step - loss: 0.0026 - val_loss: 4.0958e-04\n",
            "Epoch 92/100\n",
            "28/28 - 0s - 11ms/step - loss: 0.0021 - val_loss: 4.0776e-04\n",
            "Epoch 93/100\n",
            "28/28 - 0s - 11ms/step - loss: 0.0021 - val_loss: 4.0318e-04\n",
            "Epoch 94/100\n",
            "28/28 - 0s - 11ms/step - loss: 0.0024 - val_loss: 0.0010\n",
            "Epoch 95/100\n",
            "28/28 - 0s - 10ms/step - loss: 0.0020 - val_loss: 3.1023e-04\n",
            "Epoch 96/100\n",
            "28/28 - 0s - 9ms/step - loss: 0.0022 - val_loss: 3.3354e-04\n",
            "Epoch 97/100\n",
            "28/28 - 0s - 10ms/step - loss: 0.0019 - val_loss: 3.3736e-04\n",
            "Epoch 98/100\n",
            "28/28 - 0s - 11ms/step - loss: 0.0021 - val_loss: 4.7694e-04\n",
            "Epoch 99/100\n",
            "28/28 - 0s - 11ms/step - loss: 0.0019 - val_loss: 7.7408e-04\n",
            "Epoch 100/100\n",
            "28/28 - 0s - 10ms/step - loss: 0.0026 - val_loss: 6.6960e-04\n"
          ]
        }
      ],
      "source": [
        "# Treinando a RNN\n",
        "history = model.fit(X_train, y_train, epochs=100, batch_size=32, validation_split=0.1, verbose=2)"
      ]
    },
    {
      "cell_type": "code",
      "execution_count": 44,
      "metadata": {
        "colab": {
          "base_uri": "https://localhost:8080/",
          "height": 567
        },
        "id": "Yx4QnxassqGo",
        "outputId": "7046513f-9718-4a0e-ec43-d613212f217e"
      },
      "outputs": [
        {
          "output_type": "display_data",
          "data": {
            "text/plain": [
              "<Figure size 1200x600 with 1 Axes>"
            ],
            "image/png": "[encoded data removed]"
          },
          "metadata": {}
        }
      ],
      "source": [
        "plt.figure(figsize=(12, 6))\n",
        "\n",
        "# Plotando a perda de treinamento\n",
        "plt.plot(history.history['loss'], label='Perda de Treinamento')\n",
        "\n",
        "# Plotando a perda de validação\n",
        "plt.plot(history.history['val_loss'], label='Perda de Validação')\n",
        "\n",
        "# Adicionando título e legendas\n",
        "plt.title('Histórico de Treinamento e Validação')\n",
        "plt.xlabel('Épocas')\n",
        "plt.ylabel('Perda')\n",
        "plt.legend()\n",
        "\n",
        "# Exibindo o gráfico\n",
        "plt.show()"
      ]
    },
    {
      "cell_type": "code",
      "execution_count": 45,
      "metadata": {
        "colab": {
          "base_uri": "https://localhost:8080/"
        },
        "id": "cuvaDbm3sqGp",
        "outputId": "2ade3516-9c15-4a1e-8b4e-a01cb0df8735"
      },
      "outputs": [
        {
          "output_type": "stream",
          "name": "stdout",
          "text": [
            "\u001b[1m32/32\u001b[0m \u001b[32m━━━━━━━━━━━━━━━━━━━━\u001b[0m\u001b[37m\u001b[0m \u001b[1m1s\u001b[0m 10ms/step\n",
            "\u001b[1m8/8\u001b[0m \u001b[32m━━━━━━━━━━━━━━━━━━━━\u001b[0m\u001b[37m\u001b[0m \u001b[1m0s\u001b[0m 4ms/step \n"
          ]
        }
      ],
      "source": [
        "# Fazendo previsões\n",
        "train_predict = model.predict(X_train)\n",
        "test_predict = model.predict(X_test)\n",
        "\n",
        "# Invertendo a normalização para obter os valores reais\n",
        "train_predict = scaler.inverse_transform(train_predict)\n",
        "test_predict = scaler.inverse_transform(test_predict)\n",
        "y_train = scaler.inverse_transform(y_train.reshape(-1, 1))\n",
        "y_test = scaler.inverse_transform(y_test.reshape(-1, 1))"
      ]
    },
    {
      "cell_type": "markdown",
      "metadata": {
        "id": "qc7nFSossqGp"
      },
      "source": [
        "### 4. Problemas de RNNs: Desvanecimento e Explosão de Gradientes\n",
        "\n",
        "#### Desafios com Gradientes em RNNs\n",
        "\n",
        "As Redes Neurais Recorrentes (RNNs) enfrentam dois problemas principais durante o treinamento: desvanecimento de gradientes e explosão de gradientes. Ambos os problemas ocorrem devido à maneira como os gradientes são propagados através do tempo na rede.\n",
        "\n",
        "- **Problemas de Desvanecimento de Gradientes**\n",
        "  - **Descrição**: Ocorre quando os gradientes dos erros em relação aos pesos tornam-se extremamente pequenos durante a propagação retroativa (backpropagation through time - BPTT).\n",
        "  - **Causa**: Quando a função de ativação utilizada tem derivadas pequenas (como a tanh e a sigmoid), os gradientes podem diminuir exponencialmente à medida que são propagados para trás ao longo de muitos passos temporais.\n",
        "  - **Impacto**: Pesos nas camadas iniciais da rede são ajustados muito pouco, resultando em uma aprendizagem lenta ou estagnada para essas camadas. A rede tem dificuldade em aprender dependências de longo prazo.\n",
        "\n",
        "- **Problemas de Explosão de Gradientes**\n",
        "  - **Descrição**: Ocorre quando os gradientes dos erros em relação aos pesos tornam-se extremamente grandes durante a BPTT.\n",
        "  - **Causa**: Quando os pesos da rede são grandes ou quando a função de ativação tem derivadas grandes, os gradientes podem aumentar exponencialmente à medida que são propagados para trás ao longo de muitos passos temporais.\n",
        "  - **Impacto**: Pesos nas camadas iniciais da rede são ajustados excessivamente, resultando em atualizações instáveis dos pesos e em possíveis falhas no treinamento.\n",
        "\n",
        "#### Técnicas para Mitigar Desafios\n",
        "\n",
        "Para lidar com os problemas de desvanecimento e explosão de gradientes em RNNs, várias técnicas podem ser aplicadas:\n",
        "\n",
        "- **Métodos de Regularização**\n",
        "  - **Dropout**: Uma técnica que consiste em desligar (definir como zero) aleatoriamente algumas unidades na rede durante o treinamento. Isso ajuda a prevenir o overfitting e pode estabilizar a atualização dos pesos.\n",
        "  - **Regularização L2**: Adiciona uma penalidade ao custo total da rede baseada na magnitude dos pesos. Isso ajuda a manter os pesos pequenos e estabiliza a propagação dos gradientes.\n",
        "\n",
        "- **Uso de Funções de Ativação Apropriadas**\n",
        "  - **ReLU (Rectified Linear Unit)**: Funciona bem para evitar desvanecimento de gradientes, mas pode levar à explosão de gradientes se não for combinado com outras técnicas de normalização.\n",
        "  - **Leaky ReLU**: Uma variação do ReLU que permite pequenos valores negativos, ajudando a manter um fluxo de gradientes mesmo para neurônios que, de outra forma, estariam inativos.\n",
        "\n",
        "- **Normalização de Gradientes**\n",
        "  - **Clipping de Gradientes**: Limita o valor máximo dos gradientes durante a BPTT. Quando os gradientes excedem um determinado limiar, eles são ajustados para esse valor limite. Isso ajuda a prevenir a explosão de gradientes.\n",
        "  - **Batch Normalization**: Normaliza a entrada de cada camada com base nas estatísticas de mini-batches durante o treinamento. Isso ajuda a estabilizar e acelerar a convergência.\n",
        "\n",
        "\n",
        "\n",
        "\n",
        "## Referências\n",
        "- Goodfellow, I., Bengio, Y., & Courville, A. (2016). Deep Learning. MIT Press.\n",
        "- Olah, C. (2015). Understanding LSTM Networks. [Link para o artigo](http://colah.github.io/posts/2015-08-Understanding-LSTMs/)."
      ]
    },
    {
      "cell_type": "code",
      "execution_count": 46,
      "metadata": {
        "colab": {
          "base_uri": "https://localhost:8080/",
          "height": 542
        },
        "id": "UASJKjpZsqGp",
        "outputId": "ea2602a5-476c-4c81-df11-121dd2007371"
      },
      "outputs": [
        {
          "output_type": "display_data",
          "data": {
            "text/plain": [
              "<Figure size 1200x600 with 1 Axes>"
            ],
            "image/png": "[encoded data removed]"
          },
          "metadata": {}
        }
      ],
      "source": [
        "# Plotando os resultados\n",
        "plt.figure(figsize=(12, 6))\n",
        "train_range = range(time_step, time_step + len(train_predict))\n",
        "test_range = range(time_step + len(train_predict), time_step + len(train_predict) + len(test_predict))\n",
        "plt.plot(train_range, y_train, label='Real de treino', color='green')\n",
        "plt.plot(test_range, y_test, label='Real de teste', color='green')\n",
        "plt.plot(train_range, train_predict, label='Previsões de treino')\n",
        "plt.plot(test_range, test_predict, label='Previsões de teste')\n",
        "plt.xlabel('Dias')\n",
        "plt.ylabel('Preço de Fechamento Normalizado')\n",
        "plt.legend()\n",
        "plt.show()"
      ]
    },
    {
      "cell_type": "code",
      "execution_count": 47,
      "metadata": {
        "colab": {
          "base_uri": "https://localhost:8080/"
        },
        "id": "Nd1PcnKMsqGp",
        "outputId": "23707323-0706-4252-8267-bb8ee783caee"
      },
      "outputs": [
        {
          "output_type": "stream",
          "name": "stdout",
          "text": [
            "Mean Absolute Error (MAE): 2.5886233745968297\n",
            "Mean Squared Error (MSE): 9.047575446069265\n",
            "Root Mean Squared Error (RMSE): 3.0079187898062116\n",
            "Coefficient of Determination (R²): 0.7221021198868516\n"
          ]
        }
      ],
      "source": [
        "regression_metrics(y_test, test_predict)"
      ]
    },
    {
      "cell_type": "code",
      "execution_count": 48,
      "metadata": {
        "colab": {
          "base_uri": "https://localhost:8080/"
        },
        "id": "HqPxjt3usqGp",
        "outputId": "8352a4e2-361b-451a-abe1-e4c3a1ee2dee"
      },
      "outputs": [
        {
          "output_type": "stream",
          "name": "stdout",
          "text": [
            "Mean Absolute Error (MAE): 2.310992026257502\n",
            "Mean Squared Error (MSE): 16.65081390579987\n",
            "Root Mean Squared Error (RMSE): 4.080540883976028\n",
            "Coefficient of Determination (R²): 0.9817876355062285\n"
          ]
        }
      ],
      "source": [
        "regression_metrics(y_train, train_predict)"
      ]
    },
    {
      "cell_type": "markdown",
      "metadata": {
        "id": "vAYASMDrsqGp"
      },
      "source": [
        "## Exercícios de Análise de Séries Temporais com Ethereum (ETH)\n",
        "\n",
        "1. **Leitura dos Dados**\n",
        "   - Leia a base de dados de preço da moeda Ethereum (ETH).\n",
        "\n",
        "2. **Seleção dos Dados**\n",
        "   - Use todos os dados exceto a coluna de data.\n",
        "\n",
        "3. **Definição de X e Y**\n",
        "   - Defina `X` e `y` considerando o valor dos últimos 10 dias para previsão.\n",
        "\n",
        "4. **Separação em Treinamento e Teste**\n",
        "   - Separe os dados em conjuntos de treinamento e teste, utilizando 20% das datas mais recentes para o conjunto de teste.\n",
        "\n",
        "5. **Normalização dos Dados de Treinamento**\n",
        "   - Normalize `X` e `y` de treinamento usando `fit_transform`.\n",
        "\n",
        "6. **Normalização dos Dados de Teste**\n",
        "   - Normalize `X` e `y` de teste usando `transform`.\n",
        "\n",
        "7. **Definição do Modelo**\n",
        "   - Defina uma estrutura de Rede Neural Recorrente para o tratamento dos dados.\n",
        "\n",
        "8. **Treinamento do Modelo**\n",
        "   - Treine o modelo utilizando 5% dos dados de treinamento para validação.\n",
        "\n",
        "9. **Visualização do Histórico de Treinamento**\n",
        "   - Exiba o gráfico de perda (`loss`) de treinamento e validação.\n",
        "\n",
        "10. **Previsão com Dados de Teste**\n",
        "    - Faça previsões utilizando os dados de teste.\n",
        "\n",
        "11. **Desnormalização das Previsões**\n",
        "    - Desnormalize as previsões de teste e o `y` de teste para obter valores em escala real.\n",
        "\n",
        "12. **Exibição de Métricas de Regressão**\n",
        "    - Exiba as métricas de regressão para avaliar o desempenho do modelo nas previsões."
      ]
    },
    {
      "cell_type": "code",
      "execution_count": 55,
      "metadata": {
        "colab": {
          "base_uri": "https://localhost:8080/",
          "height": 206
        },
        "id": "RWc79HTJsqGq",
        "outputId": "5246eb33-2c0e-4aa4-f879-17196c815d46"
      },
      "outputs": [
        {
          "output_type": "execute_result",
          "data": {
            "text/plain": [
              "        Date         Open         High          Low        Close       Volume\n",
              "0  2/23/2022  2639.447021  2741.368408  2587.412842  2590.359619  13382637240\n",
              "1  2/22/2022  2572.898682  2648.916748  2510.678711  2639.299316  16360200507\n",
              "2  2/21/2022  2627.665527  2752.458496  2568.254395  2573.816162  18646392740\n",
              "3  2/20/2022  2763.756592  2763.756592  2585.946289  2628.648438  11641437834\n",
              "4  2/19/2022  2784.872803  2826.347900  2707.378418  2763.701172   9774183169"
            ],
            "text/html": [
              "\n",
              "  <div id=\"df-8354bd75-8fa1-45fa-a37c-a6025e3a6bec\" class=\"colab-df-container\">\n",
              "    <div>\n",
              "<style scoped>\n",
              "    .dataframe tbody tr th:only-of-type {\n",
              "        vertical-align: middle;\n",
              "    }\n",
              "\n",
              "    .dataframe tbody tr th {\n",
              "        vertical-align: top;\n",
              "    }\n",
              "\n",
              "    .dataframe thead th {\n",
              "        text-align: right;\n",
              "    }\n",
              "</style>\n",
              "<table border=\"1\" class=\"dataframe\">\n",
              "  <thead>\n",
              "    <tr style=\"text-align: right;\">\n",
              "      <th></th>\n",
              "      <th>Date</th>\n",
              "      <th>Open</th>\n",
              "      <th>High</th>\n",
              "      <th>Low</th>\n",
              "      <th>Close</th>\n",
              "      <th>Volume</th>\n",
              "    </tr>\n",
              "  </thead>\n",
              "  <tbody>\n",
              "    <tr>\n",
              "      <th>0</th>\n",
              "      <td>2/23/2022</td>\n",
              "      <td>2639.447021</td>\n",
              "      <td>2741.368408</td>\n",
              "      <td>2587.412842</td>\n",
              "      <td>2590.359619</td>\n",
              "      <td>13382637240</td>\n",
              "    </tr>\n",
              "    <tr>\n",
              "      <th>1</th>\n",
              "      <td>2/22/2022</td>\n",
              "      <td>2572.898682</td>\n",
              "      <td>2648.916748</td>\n",
              "      <td>2510.678711</td>\n",
              "      <td>2639.299316</td>\n",
              "      <td>16360200507</td>\n",
              "    </tr>\n",
              "    <tr>\n",
              "      <th>2</th>\n",
              "      <td>2/21/2022</td>\n",
              "      <td>2627.665527</td>\n",
              "      <td>2752.458496</td>\n",
              "      <td>2568.254395</td>\n",
              "      <td>2573.816162</td>\n",
              "      <td>18646392740</td>\n",
              "    </tr>\n",
              "    <tr>\n",
              "      <th>3</th>\n",
              "      <td>2/20/2022</td>\n",
              "      <td>2763.756592</td>\n",
              "      <td>2763.756592</td>\n",
              "      <td>2585.946289</td>\n",
              "      <td>2628.648438</td>\n",
              "      <td>11641437834</td>\n",
              "    </tr>\n",
              "    <tr>\n",
              "      <th>4</th>\n",
              "      <td>2/19/2022</td>\n",
              "      <td>2784.872803</td>\n",
              "      <td>2826.347900</td>\n",
              "      <td>2707.378418</td>\n",
              "      <td>2763.701172</td>\n",
              "      <td>9774183169</td>\n",
              "    </tr>\n",
              "  </tbody>\n",
              "</table>\n",
              "</div>\n",
              "    <div class=\"colab-df-buttons\">\n",
              "\n",
              "  <div class=\"colab-df-container\">\n",
              "    <button class=\"colab-df-convert\" onclick=\"convertToInteractive('df-8354bd75-8fa1-45fa-a37c-a6025e3a6bec')\"\n",
              "            title=\"Convert this dataframe to an interactive table.\"\n",
              "            style=\"display:none;\">\n",
              "\n",
              "  <svg xmlns=\"http://www.w3.org/2000/svg\" height=\"24px\" viewBox=\"0 -960 960 960\">\n",
              "    <path d=\"M120-120v-720h720v720H120Zm60-500h600v-160H180v160Zm220 220h160v-160H400v160Zm0 220h160v-160H400v160ZM180-400h160v-160H180v160Zm440 0h160v-160H620v160ZM180-180h160v-160H180v160Zm440 0h160v-160H620v160Z\"/>\n",
              "  </svg>\n",
              "    </button>\n",
              "\n",
              "  <style>\n",
              "    .colab-df-container {\n",
              "      display:flex;\n",
              "      gap: 12px;\n",
              "    }\n",
              "\n",
              "    .colab-df-convert {\n",
              "      background-color: #E8F0FE;\n",
              "      border: none;\n",
              "      border-radius: 50%;\n",
              "      cursor: pointer;\n",
              "      display: none;\n",
              "      fill: #1967D2;\n",
              "      height: 32px;\n",
              "      padding: 0 0 0 0;\n",
              "      width: 32px;\n",
              "    }\n",
              "\n",
              "    .colab-df-convert:hover {\n",
              "      background-color: #E2EBFA;\n",
              "      box-shadow: 0px 1px 2px rgba(60, 64, 67, 0.3), 0px 1px 3px 1px rgba(60, 64, 67, 0.15);\n",
              "      fill: #174EA6;\n",
              "    }\n",
              "\n",
              "    .colab-df-buttons div {\n",
              "      margin-bottom: 4px;\n",
              "    }\n",
              "\n",
              "    [theme=dark] .colab-df-convert {\n",
              "      background-color: #3B4455;\n",
              "      fill: #D2E3FC;\n",
              "    }\n",
              "\n",
              "    [theme=dark] .colab-df-convert:hover {\n",
              "      background-color: #434B5C;\n",
              "      box-shadow: 0px 1px 3px 1px rgba(0, 0, 0, 0.15);\n",
              "      filter: drop-shadow(0px 1px 2px rgba(0, 0, 0, 0.3));\n",
              "      fill: #FFFFFF;\n",
              "    }\n",
              "  </style>\n",
              "\n",
              "    <script>\n",
              "      const buttonEl =\n",
              "        document.querySelector('#df-8354bd75-8fa1-45fa-a37c-a6025e3a6bec button.colab-df-convert');\n",
              "      buttonEl.style.display =\n",
              "        google.colab.kernel.accessAllowed ? 'block' : 'none';\n",
              "\n",
              "      async function convertToInteractive(key) {\n",
              "        const element = document.querySelector('#df-8354bd75-8fa1-45fa-a37c-a6025e3a6bec');\n",
              "        const dataTable =\n",
              "          await google.colab.kernel.invokeFunction('convertToInteractive',\n",
              "                                                    [key], {});\n",
              "        if (!dataTable) return;\n",
              "\n",
              "        const docLinkHtml = 'Like what you see? Visit the ' +\n",
              "          '<a target=\"_blank\" href=https://colab.research.google.com/notebooks/data_table.ipynb>data table notebook</a>'\n",
              "          + ' to learn more about interactive tables.';\n",
              "        element.innerHTML = '';\n",
              "        dataTable['output_type'] = 'display_data';\n",
              "        await google.colab.output.renderOutput(dataTable, element);\n",
              "        const docLink = document.createElement('div');\n",
              "        docLink.innerHTML = docLinkHtml;\n",
              "        element.appendChild(docLink);\n",
              "      }\n",
              "    </script>\n",
              "  </div>\n",
              "\n",
              "\n",
              "<div id=\"df-cdae4f80-cb7a-4655-912b-e8fc54508945\">\n",
              "  <button class=\"colab-df-quickchart\" onclick=\"quickchart('df-cdae4f80-cb7a-4655-912b-e8fc54508945')\"\n",
              "            title=\"Suggest charts\"\n",
              "            style=\"display:none;\">\n",
              "\n",
              "<svg xmlns=\"http://www.w3.org/2000/svg\" height=\"24px\"viewBox=\"0 0 24 24\"\n",
              "     width=\"24px\">\n",
              "    <g>\n",
              "        <path d=\"M19 3H5c-1.1 0-2 .9-2 2v14c0 1.1.9 2 2 2h14c1.1 0 2-.9 2-2V5c0-1.1-.9-2-2-2zM9 17H7v-7h2v7zm4 0h-2V7h2v10zm4 0h-2v-4h2v4z\"/>\n",
              "    </g>\n",
              "</svg>\n",
              "  </button>\n",
              "\n",
              "<style>\n",
              "  .colab-df-quickchart {\n",
              "      --bg-color: #E8F0FE;\n",
              "      --fill-color: #1967D2;\n",
              "      --hover-bg-color: #E2EBFA;\n",
              "      --hover-fill-color: #174EA6;\n",
              "      --disabled-fill-color: #AAA;\n",
              "      --disabled-bg-color: #DDD;\n",
              "  }\n",
              "\n",
              "  [theme=dark] .colab-df-quickchart {\n",
              "      --bg-color: #3B4455;\n",
              "      --fill-color: #D2E3FC;\n",
              "      --hover-bg-color: #434B5C;\n",
              "      --hover-fill-color: #FFFFFF;\n",
              "      --disabled-bg-color: #3B4455;\n",
              "      --disabled-fill-color: #666;\n",
              "  }\n",
              "\n",
              "  .colab-df-quickchart {\n",
              "    background-color: var(--bg-color);\n",
              "    border: none;\n",
              "    border-radius: 50%;\n",
              "    cursor: pointer;\n",
              "    display: none;\n",
              "    fill: var(--fill-color);\n",
              "    height: 32px;\n",
              "    padding: 0;\n",
              "    width: 32px;\n",
              "  }\n",
              "\n",
              "  .colab-df-quickchart:hover {\n",
              "    background-color: var(--hover-bg-color);\n",
              "    box-shadow: 0 1px 2px rgba(60, 64, 67, 0.3), 0 1px 3px 1px rgba(60, 64, 67, 0.15);\n",
              "    fill: var(--button-hover-fill-color);\n",
              "  }\n",
              "\n",
              "  .colab-df-quickchart-complete:disabled,\n",
              "  .colab-df-quickchart-complete:disabled:hover {\n",
              "    background-color: var(--disabled-bg-color);\n",
              "    fill: var(--disabled-fill-color);\n",
              "    box-shadow: none;\n",
              "  }\n",
              "\n",
              "  .colab-df-spinner {\n",
              "    border: 2px solid var(--fill-color);\n",
              "    border-color: transparent;\n",
              "    border-bottom-color: var(--fill-color);\n",
              "    animation:\n",
              "      spin 1s steps(1) infinite;\n",
              "  }\n",
              "\n",
              "  @keyframes spin {\n",
              "    0% {\n",
              "      border-color: transparent;\n",
              "      border-bottom-color: var(--fill-color);\n",
              "      border-left-color: var(--fill-color);\n",
              "    }\n",
              "    20% {\n",
              "      border-color: transparent;\n",
              "      border-left-color: var(--fill-color);\n",
              "      border-top-color: var(--fill-color);\n",
              "    }\n",
              "    30% {\n",
              "      border-color: transparent;\n",
              "      border-left-color: var(--fill-color);\n",
              "      border-top-color: var(--fill-color);\n",
              "      border-right-color: var(--fill-color);\n",
              "    }\n",
              "    40% {\n",
              "      border-color: transparent;\n",
              "      border-right-color: var(--fill-color);\n",
              "      border-top-color: var(--fill-color);\n",
              "    }\n",
              "    60% {\n",
              "      border-color: transparent;\n",
              "      border-right-color: var(--fill-color);\n",
              "    }\n",
              "    80% {\n",
              "      border-color: transparent;\n",
              "      border-right-color: var(--fill-color);\n",
              "      border-bottom-color: var(--fill-color);\n",
              "    }\n",
              "    90% {\n",
              "      border-color: transparent;\n",
              "      border-bottom-color: var(--fill-color);\n",
              "    }\n",
              "  }\n",
              "</style>\n",
              "\n",
              "  <script>\n",
              "    async function quickchart(key) {\n",
              "      const quickchartButtonEl =\n",
              "        document.querySelector('#' + key + ' button');\n",
              "      quickchartButtonEl.disabled = true;  // To prevent multiple clicks.\n",
              "      quickchartButtonEl.classList.add('colab-df-spinner');\n",
              "      try {\n",
              "        const charts = await google.colab.kernel.invokeFunction(\n",
              "            'suggestCharts', [key], {});\n",
              "      } catch (error) {\n",
              "        console.error('Error during call to suggestCharts:', error);\n",
              "      }\n",
              "      quickchartButtonEl.classList.remove('colab-df-spinner');\n",
              "      quickchartButtonEl.classList.add('colab-df-quickchart-complete');\n",
              "    }\n",
              "    (() => {\n",
              "      let quickchartButtonEl =\n",
              "        document.querySelector('#df-cdae4f80-cb7a-4655-912b-e8fc54508945 button');\n",
              "      quickchartButtonEl.style.display =\n",
              "        google.colab.kernel.accessAllowed ? 'block' : 'none';\n",
              "    })();\n",
              "  </script>\n",
              "</div>\n",
              "\n",
              "    </div>\n",
              "  </div>\n"
            ],
            "application/vnd.google.colaboratory.intrinsic+json": {
              "type": "dataframe",
              "variable_name": "df",
              "summary": "{\n  \"name\": \"df\",\n  \"rows\": 1568,\n  \"fields\": [\n    {\n      \"column\": \"Date\",\n      \"properties\": {\n        \"dtype\": \"object\",\n        \"num_unique_values\": 1568,\n        \"samples\": [\n          \"12/11/2017\",\n          \"6/16/2019\",\n          \"12/18/2020\"\n        ],\n        \"semantic_type\": \"\",\n        \"description\": \"\"\n      }\n    },\n    {\n      \"column\": \"Open\",\n      \"properties\": {\n        \"dtype\": \"number\",\n        \"std\": 1218.9225996834507,\n        \"min\": 84.279694,\n        \"max\": 4810.071289,\n        \"num_unique_values\": 1567,\n        \"samples\": [\n          391.678986,\n          216.909134,\n          273.705078\n        ],\n        \"semantic_type\": \"\",\n        \"description\": \"\"\n      }\n    },\n    {\n      \"column\": \"High\",\n      \"properties\": {\n        \"dtype\": \"number\",\n        \"std\": 1258.3051283070567,\n        \"min\": 85.342743,\n        \"max\": 4891.70459,\n        \"num_unique_values\": 1568,\n        \"samples\": [\n          516.968994,\n          278.143188,\n          662.699097\n        ],\n        \"semantic_type\": \"\",\n        \"description\": \"\"\n      }\n    },\n    {\n      \"column\": \"Low\",\n      \"properties\": {\n        \"dtype\": \"number\",\n        \"std\": 1172.7020470807706,\n        \"min\": 82.829887,\n        \"max\": 4718.039063,\n        \"num_unique_values\": 1568,\n        \"samples\": [\n          439.104004,\n          265.535339,\n          632.356079\n        ],\n        \"semantic_type\": \"\",\n        \"description\": \"\"\n      }\n    },\n    {\n      \"column\": \"Close\",\n      \"properties\": {\n        \"dtype\": \"number\",\n        \"std\": 1218.8753430006511,\n        \"min\": 84.308296,\n        \"max\": 4812.087402,\n        \"num_unique_values\": 1568,\n        \"samples\": [\n          515.135986,\n          269.223206,\n          654.811951\n        ],\n        \"semantic_type\": \"\",\n        \"description\": \"\"\n      }\n    },\n    {\n      \"column\": \"Volume\",\n      \"properties\": {\n        \"dtype\": \"number\",\n        \"std\": 11307704461,\n        \"min\": 621732992,\n        \"max\": 84482912776,\n        \"num_unique_values\": 1568,\n        \"samples\": [\n          1771440000,\n          9676746453,\n          15756303983\n        ],\n        \"semantic_type\": \"\",\n        \"description\": \"\"\n      }\n    }\n  ]\n}"
            }
          },
          "metadata": {},
          "execution_count": 55
        }
      ],
      "source": [
        "# 1.\n",
        "df = pd.read_csv('/content/preco_eth.csv')\n",
        "df.head()"
      ]
    },
    {
      "cell_type": "code",
      "execution_count": 56,
      "metadata": {
        "id": "vumdao0tsqGq"
      },
      "outputs": [],
      "source": [
        "# 2.\n",
        "df = df.drop(columns=['Date'])"
      ]
    },
    {
      "cell_type": "code",
      "execution_count": 57,
      "metadata": {
        "colab": {
          "base_uri": "https://localhost:8080/"
        },
        "id": "p3aPPiD9sqGq",
        "outputId": "abeffe55-f3cc-4e71-bebe-e5d936ebbb11"
      },
      "outputs": [
        {
          "output_type": "stream",
          "name": "stdout",
          "text": [
            "Formato de X: (1558, 10, 5)\n",
            "Formato de y: (1558,)\n"
          ]
        }
      ],
      "source": [
        "# 3\n",
        "n_dias = 10\n",
        "\n",
        "X, y = [], []\n",
        "\n",
        "for i in range(n_dias, len(df)):\n",
        "    X.append(df.iloc[i-n_dias:i].values)\n",
        "    y.append(df.iloc[i]['Close'])\n",
        "\n",
        "X, y = np.array(X), np.array(y)\n",
        "\n",
        "print(f'Formato de X: {X.shape}')\n",
        "print(f'Formato de y: {y.shape}')"
      ]
    },
    {
      "cell_type": "code",
      "execution_count": 58,
      "metadata": {
        "colab": {
          "base_uri": "https://localhost:8080/"
        },
        "id": "Baoje0bCsqGq",
        "outputId": "2eed5cac-bfe0-4391-eee3-18905fabbf56"
      },
      "outputs": [
        {
          "output_type": "stream",
          "name": "stdout",
          "text": [
            "Tamanho do conjunto de treinamento: (1246, 10, 5)\n",
            "Tamanho do conjunto de teste: (312, 10, 5)\n"
          ]
        }
      ],
      "source": [
        "# 4.\n",
        "from sklearn.model_selection import train_test_split\n",
        "\n",
        "# Separação em 80% treinamento e 20% teste\n",
        "X_train, X_test, y_train, y_test = train_test_split(X, y, test_size=0.2, shuffle=False)\n",
        "\n",
        "print(f'Tamanho do conjunto de treinamento: {X_train.shape}')\n",
        "print(f'Tamanho do conjunto de teste: {X_test.shape}')"
      ]
    },
    {
      "cell_type": "code",
      "execution_count": 59,
      "metadata": {
        "colab": {
          "base_uri": "https://localhost:8080/"
        },
        "id": "4fJXwVzHsqGq",
        "outputId": "7d859d50-58e9-4db5-d430-924a635de960"
      },
      "outputs": [
        {
          "output_type": "stream",
          "name": "stdout",
          "text": [
            "Dados normalizados de X_train: [[[0.54068557 0.55260626 0.54033871 0.53006946 0.14745932]\n",
            "  [0.52660363 0.533371   0.52378409 0.54042098 0.18316233]\n",
            "  [0.53819255 0.55491364 0.53620547 0.52657026 0.21057533]\n",
            "  [0.56699007 0.5572643  0.54002232 0.53816815 0.12658115]\n",
            "  [0.57145836 0.57028689 0.56622008 0.56673394 0.1041915 ]\n",
            "  [0.59250621 0.5933731  0.57792719 0.57139286 0.17582371]\n",
            "  [0.64382414 0.6385854  0.59954623 0.59164643 0.17716705]\n",
            "  [0.65516369 0.64420331 0.64125225 0.64375296 0.13510615]\n",
            "  [0.60295704 0.64501552 0.61162877 0.65476175 0.15391774]\n",
            "  [0.59162745 0.59767054 0.59488743 0.60264463 0.13285365]]\n",
            "\n",
            " [[0.52660363 0.533371   0.52378409 0.54042098 0.18316233]\n",
            "  [0.53819255 0.55491364 0.53620547 0.52657026 0.21057533]\n",
            "  [0.56699007 0.5572643  0.54002232 0.53816815 0.12658115]\n",
            "  [0.57145836 0.57028689 0.56622008 0.56673394 0.1041915 ]\n",
            "  [0.59250621 0.5933731  0.57792719 0.57139286 0.17582371]\n",
            "  [0.64382414 0.6385854  0.59954623 0.59164643 0.17716705]\n",
            "  [0.65516369 0.64420331 0.64125225 0.64375296 0.13510615]\n",
            "  [0.60295704 0.64501552 0.61162877 0.65476175 0.15391774]\n",
            "  [0.59162745 0.59767054 0.59488743 0.60264463 0.13285365]\n",
            "  [0.59937257 0.59555105 0.59599636 0.59206554 0.09556756]]\n",
            "\n",
            " [[0.53819255 0.55491364 0.53620547 0.52657026 0.21057533]\n",
            "  [0.56699007 0.5572643  0.54002232 0.53816815 0.12658115]\n",
            "  [0.57145836 0.57028689 0.56622008 0.56673394 0.1041915 ]\n",
            "  [0.59250621 0.5933731  0.57792719 0.57139286 0.17582371]\n",
            "  [0.64382414 0.6385854  0.59954623 0.59164643 0.17716705]\n",
            "  [0.65516369 0.64420331 0.64125225 0.64375296 0.13510615]\n",
            "  [0.60295704 0.64501552 0.61162877 0.65476175 0.15391774]\n",
            "  [0.59162745 0.59767054 0.59488743 0.60264463 0.13285365]\n",
            "  [0.59937257 0.59555105 0.59599636 0.59206554 0.09556756]\n",
            "  [0.60161493 0.60227188 0.60134225 0.5992358  0.12193977]]\n",
            "\n",
            " [[0.56699007 0.5572643  0.54002232 0.53816815 0.12658115]\n",
            "  [0.57145836 0.57028689 0.56622008 0.56673394 0.1041915 ]\n",
            "  [0.59250621 0.5933731  0.57792719 0.57139286 0.17582371]\n",
            "  [0.64382414 0.6385854  0.59954623 0.59164643 0.17716705]\n",
            "  [0.65516369 0.64420331 0.64125225 0.64375296 0.13510615]\n",
            "  [0.60295704 0.64501552 0.61162877 0.65476175 0.15391774]\n",
            "  [0.59162745 0.59767054 0.59488743 0.60264463 0.13285365]\n",
            "  [0.59937257 0.59555105 0.59599636 0.59206554 0.09556756]\n",
            "  [0.60161493 0.60227188 0.60134225 0.5992358  0.12193977]\n",
            "  [0.63336128 0.63293361 0.60534008 0.60135535 0.17936944]]\n",
            "\n",
            " [[0.57145836 0.57028689 0.56622008 0.56673394 0.1041915 ]\n",
            "  [0.59250621 0.5933731  0.57792719 0.57139286 0.17582371]\n",
            "  [0.64382414 0.6385854  0.59954623 0.59164643 0.17716705]\n",
            "  [0.65516369 0.64420331 0.64125225 0.64375296 0.13510615]\n",
            "  [0.60295704 0.64501552 0.61162877 0.65476175 0.15391774]\n",
            "  [0.59162745 0.59767054 0.59488743 0.60264463 0.13285365]\n",
            "  [0.59937257 0.59555105 0.59599636 0.59206554 0.09556756]\n",
            "  [0.60161493 0.60227188 0.60134225 0.5992358  0.12193977]\n",
            "  [0.63336128 0.63293361 0.60534008 0.60135535 0.17936944]\n",
            "  [0.66778936 0.66286591 0.64453365 0.63310358 0.21037259]]]\n",
            "Dados normalizados de y_train: [[0.59206554]\n",
            " [0.5992358 ]\n",
            " [0.60135535]\n",
            " [0.63310358]\n",
            " [0.66736382]]\n"
          ]
        }
      ],
      "source": [
        "# 5\n",
        "from sklearn.preprocessing import MinMaxScaler\n",
        "\n",
        "scaler_X = MinMaxScaler()\n",
        "scaler_y = MinMaxScaler()\n",
        "\n",
        "X_train = scaler_X.fit_transform(X_train.reshape(-1, X_train.shape[-1])).reshape(X_train.shape)\n",
        "y_train = scaler_y.fit_transform(y_train.reshape(-1, 1))\n",
        "\n",
        "print(f'Dados normalizados de X_train: {X_train[:5]}')\n",
        "print(f'Dados normalizados de y_train: {y_train[:5]}')"
      ]
    },
    {
      "cell_type": "code",
      "execution_count": 60,
      "metadata": {
        "colab": {
          "base_uri": "https://localhost:8080/"
        },
        "id": "ema7VxvWsqGq",
        "outputId": "8d7ae1b3-e783-4fcd-aa59-81dbc9191aec"
      },
      "outputs": [
        {
          "output_type": "stream",
          "name": "stdout",
          "text": [
            "Dados normalizados de X_test: [[[0.02843276 0.02831544 0.02724432 0.02782251 0.00804922]\n",
            "  [0.03048109 0.02974896 0.02667843 0.02838472 0.01241695]\n",
            "  [0.03397617 0.03324037 0.03120897 0.03054747 0.00796097]\n",
            "  [0.03316107 0.03373056 0.03344555 0.03384712 0.00729825]\n",
            "  [0.0345037  0.03450703 0.03257245 0.03303278 0.01003632]\n",
            "  [0.0298302  0.0339228  0.02993114 0.03432388 0.02100036]\n",
            "  [0.02666396 0.02901888 0.02695868 0.02967201 0.00836062]\n",
            "  [0.02649129 0.02674128 0.02563555 0.02657922 0.0077762 ]\n",
            "  [0.02387226 0.02663434 0.02440108 0.0265805  0.00858329]\n",
            "  [0.02905382 0.028903   0.02426603 0.02402115 0.01121249]]\n",
            "\n",
            " [[0.03048109 0.02974896 0.02667843 0.02838472 0.01241695]\n",
            "  [0.03397617 0.03324037 0.03120897 0.03054747 0.00796097]\n",
            "  [0.03316107 0.03373056 0.03344555 0.03384712 0.00729825]\n",
            "  [0.0345037  0.03450703 0.03257245 0.03303278 0.01003632]\n",
            "  [0.0298302  0.0339228  0.02993114 0.03432388 0.02100036]\n",
            "  [0.02666396 0.02901888 0.02695868 0.02967201 0.00836062]\n",
            "  [0.02649129 0.02674128 0.02563555 0.02657922 0.0077762 ]\n",
            "  [0.02387226 0.02663434 0.02440108 0.0265805  0.00858329]\n",
            "  [0.02905382 0.028903   0.02426603 0.02402115 0.01121249]\n",
            "  [0.02931219 0.02859965 0.02767688 0.02882552 0.00500551]]\n",
            "\n",
            " [[0.03397617 0.03324037 0.03120897 0.03054747 0.00796097]\n",
            "  [0.03316107 0.03373056 0.03344555 0.03384712 0.00729825]\n",
            "  [0.0345037  0.03450703 0.03257245 0.03303278 0.01003632]\n",
            "  [0.0298302  0.0339228  0.02993114 0.03432388 0.02100036]\n",
            "  [0.02666396 0.02901888 0.02695868 0.02967201 0.00836062]\n",
            "  [0.02649129 0.02674128 0.02563555 0.02657922 0.0077762 ]\n",
            "  [0.02387226 0.02663434 0.02440108 0.0265805  0.00858329]\n",
            "  [0.02905382 0.028903   0.02426603 0.02402115 0.01121249]\n",
            "  [0.02931219 0.02859965 0.02767688 0.02882552 0.00500551]\n",
            "  [0.02656366 0.02939048 0.02735068 0.02935114 0.0070227 ]]\n",
            "\n",
            " [[0.03316107 0.03373056 0.03344555 0.03384712 0.00729825]\n",
            "  [0.0345037  0.03450703 0.03257245 0.03303278 0.01003632]\n",
            "  [0.0298302  0.0339228  0.02993114 0.03432388 0.02100036]\n",
            "  [0.02666396 0.02901888 0.02695868 0.02967201 0.00836062]\n",
            "  [0.02649129 0.02674128 0.02563555 0.02657922 0.0077762 ]\n",
            "  [0.02387226 0.02663434 0.02440108 0.0265805  0.00858329]\n",
            "  [0.02905382 0.028903   0.02426603 0.02402115 0.01121249]\n",
            "  [0.02931219 0.02859965 0.02767688 0.02882552 0.00500551]\n",
            "  [0.02656366 0.02939048 0.02735068 0.02935114 0.0070227 ]\n",
            "  [0.02716779 0.02859778 0.02632915 0.02695572 0.01375787]]\n",
            "\n",
            " [[0.0345037  0.03450703 0.03257245 0.03303278 0.01003632]\n",
            "  [0.0298302  0.0339228  0.02993114 0.03432388 0.02100036]\n",
            "  [0.02666396 0.02901888 0.02695868 0.02967201 0.00836062]\n",
            "  [0.02649129 0.02674128 0.02563555 0.02657922 0.0077762 ]\n",
            "  [0.02387226 0.02663434 0.02440108 0.0265805  0.00858329]\n",
            "  [0.02905382 0.028903   0.02426603 0.02402115 0.01121249]\n",
            "  [0.02931219 0.02859965 0.02767688 0.02882552 0.00500551]\n",
            "  [0.02656366 0.02939048 0.02735068 0.02935114 0.0070227 ]\n",
            "  [0.02716779 0.02859778 0.02632915 0.02695572 0.01375787]\n",
            "  [0.02103337 0.02676853 0.02175719 0.02687218 0.01493931]]]\n",
            "Dados normalizados de y_test: [[0.02882552]\n",
            " [0.02935114]\n",
            " [0.02695572]\n",
            " [0.02687218]\n",
            " [0.02094487]]\n"
          ]
        }
      ],
      "source": [
        "# 6\n",
        "X_test = scaler_X.transform(X_test.reshape(-1, X_test.shape[-1])).reshape(X_test.shape)\n",
        "y_test = scaler_y.transform(y_test.reshape(-1, 1))\n",
        "\n",
        "print(f'Dados normalizados de X_test: {X_test[:5]}')\n",
        "print(f'Dados normalizados de y_test: {y_test[:5]}')"
      ]
    },
    {
      "cell_type": "code",
      "execution_count": 61,
      "metadata": {
        "colab": {
          "base_uri": "https://localhost:8080/",
          "height": 378
        },
        "id": "odw9HwdMsqGq",
        "outputId": "7b5eeb80-b415-4eb9-8167-2909388e2ad5"
      },
      "outputs": [
        {
          "output_type": "stream",
          "name": "stderr",
          "text": [
            "/usr/local/lib/python3.10/dist-packages/keras/src/layers/rnn/rnn.py:204: UserWarning: Do not pass an `input_shape`/`input_dim` argument to a layer. When using Sequential models, prefer using an `Input(shape)` object as the first layer in the model instead.\n",
            "  super().__init__(**kwargs)\n"
          ]
        },
        {
          "output_type": "display_data",
          "data": {
            "text/plain": [
              "\u001b[1mModel: \"sequential_2\"\u001b[0m\n"
            ],
            "text/html": [
              "<pre style=\"white-space:pre;overflow-x:auto;line-height:normal;font-family:Menlo,'DejaVu Sans Mono',consolas,'Courier New',monospace\"><span style=\"font-weight: bold\">Model: \"sequential_2\"</span>\n",
              "</pre>\n"
            ]
          },
          "metadata": {}
        },
        {
          "output_type": "display_data",
          "data": {
            "text/plain": [
              "┏━━━━━━━━━━━━━━━━━━━━━━━━━━━━━━━━━━━━━━┳━━━━━━━━━━━━━━━━━━━━━━━━━━━━━┳━━━━━━━━━━━━━━━━━┓\n",
              "┃\u001b[1m \u001b[0m\u001b[1mLayer (type)                        \u001b[0m\u001b[1m \u001b[0m┃\u001b[1m \u001b[0m\u001b[1mOutput Shape               \u001b[0m\u001b[1m \u001b[0m┃\u001b[1m \u001b[0m\u001b[1m        Param #\u001b[0m\u001b[1m \u001b[0m┃\n",
              "┡━━━━━━━━━━━━━━━━━━━━━━━━━━━━━━━━━━━━━━╇━━━━━━━━━━━━━━━━━━━━━━━━━━━━━╇━━━━━━━━━━━━━━━━━┩\n",
              "│ lstm (\u001b[38;5;33mLSTM\u001b[0m)                          │ (\u001b[38;5;45mNone\u001b[0m, \u001b[38;5;34m10\u001b[0m, \u001b[38;5;34m50\u001b[0m)              │          \u001b[38;5;34m11,200\u001b[0m │\n",
              "├──────────────────────────────────────┼─────────────────────────────┼─────────────────┤\n",
              "│ dropout_3 (\u001b[38;5;33mDropout\u001b[0m)                  │ (\u001b[38;5;45mNone\u001b[0m, \u001b[38;5;34m10\u001b[0m, \u001b[38;5;34m50\u001b[0m)              │               \u001b[38;5;34m0\u001b[0m │\n",
              "├──────────────────────────────────────┼─────────────────────────────┼─────────────────┤\n",
              "│ lstm_1 (\u001b[38;5;33mLSTM\u001b[0m)                        │ (\u001b[38;5;45mNone\u001b[0m, \u001b[38;5;34m50\u001b[0m)                  │          \u001b[38;5;34m20,200\u001b[0m │\n",
              "├──────────────────────────────────────┼─────────────────────────────┼─────────────────┤\n",
              "│ dropout_4 (\u001b[38;5;33mDropout\u001b[0m)                  │ (\u001b[38;5;45mNone\u001b[0m, \u001b[38;5;34m50\u001b[0m)                  │               \u001b[38;5;34m0\u001b[0m │\n",
              "├──────────────────────────────────────┼─────────────────────────────┼─────────────────┤\n",
              "│ dense_2 (\u001b[38;5;33mDense\u001b[0m)                      │ (\u001b[38;5;45mNone\u001b[0m, \u001b[38;5;34m1\u001b[0m)                   │              \u001b[38;5;34m51\u001b[0m │\n",
              "└──────────────────────────────────────┴─────────────────────────────┴─────────────────┘\n"
            ],
            "text/html": [
              "<pre style=\"white-space:pre;overflow-x:auto;line-height:normal;font-family:Menlo,'DejaVu Sans Mono',consolas,'Courier New',monospace\">┏━━━━━━━━━━━━━━━━━━━━━━━━━━━━━━━━━━━━━━┳━━━━━━━━━━━━━━━━━━━━━━━━━━━━━┳━━━━━━━━━━━━━━━━━┓\n",
              "┃<span style=\"font-weight: bold\"> Layer (type)                         </span>┃<span style=\"font-weight: bold\"> Output Shape                </span>┃<span style=\"font-weight: bold\">         Param # </span>┃\n",
              "┡━━━━━━━━━━━━━━━━━━━━━━━━━━━━━━━━━━━━━━╇━━━━━━━━━━━━━━━━━━━━━━━━━━━━━╇━━━━━━━━━━━━━━━━━┩\n",
              "│ lstm (<span style=\"color: #0087ff; text-decoration-color: #0087ff\">LSTM</span>)                          │ (<span style=\"color: #00d7ff; text-decoration-color: #00d7ff\">None</span>, <span style=\"color: #00af00; text-decoration-color: #00af00\">10</span>, <span style=\"color: #00af00; text-decoration-color: #00af00\">50</span>)              │          <span style=\"color: #00af00; text-decoration-color: #00af00\">11,200</span> │\n",
              "├──────────────────────────────────────┼─────────────────────────────┼─────────────────┤\n",
              "│ dropout_3 (<span style=\"color: #0087ff; text-decoration-color: #0087ff\">Dropout</span>)                  │ (<span style=\"color: #00d7ff; text-decoration-color: #00d7ff\">None</span>, <span style=\"color: #00af00; text-decoration-color: #00af00\">10</span>, <span style=\"color: #00af00; text-decoration-color: #00af00\">50</span>)              │               <span style=\"color: #00af00; text-decoration-color: #00af00\">0</span> │\n",
              "├──────────────────────────────────────┼─────────────────────────────┼─────────────────┤\n",
              "│ lstm_1 (<span style=\"color: #0087ff; text-decoration-color: #0087ff\">LSTM</span>)                        │ (<span style=\"color: #00d7ff; text-decoration-color: #00d7ff\">None</span>, <span style=\"color: #00af00; text-decoration-color: #00af00\">50</span>)                  │          <span style=\"color: #00af00; text-decoration-color: #00af00\">20,200</span> │\n",
              "├──────────────────────────────────────┼─────────────────────────────┼─────────────────┤\n",
              "│ dropout_4 (<span style=\"color: #0087ff; text-decoration-color: #0087ff\">Dropout</span>)                  │ (<span style=\"color: #00d7ff; text-decoration-color: #00d7ff\">None</span>, <span style=\"color: #00af00; text-decoration-color: #00af00\">50</span>)                  │               <span style=\"color: #00af00; text-decoration-color: #00af00\">0</span> │\n",
              "├──────────────────────────────────────┼─────────────────────────────┼─────────────────┤\n",
              "│ dense_2 (<span style=\"color: #0087ff; text-decoration-color: #0087ff\">Dense</span>)                      │ (<span style=\"color: #00d7ff; text-decoration-color: #00d7ff\">None</span>, <span style=\"color: #00af00; text-decoration-color: #00af00\">1</span>)                   │              <span style=\"color: #00af00; text-decoration-color: #00af00\">51</span> │\n",
              "└──────────────────────────────────────┴─────────────────────────────┴─────────────────┘\n",
              "</pre>\n"
            ]
          },
          "metadata": {}
        },
        {
          "output_type": "display_data",
          "data": {
            "text/plain": [
              "\u001b[1m Total params: \u001b[0m\u001b[38;5;34m31,451\u001b[0m (122.86 KB)\n"
            ],
            "text/html": [
              "<pre style=\"white-space:pre;overflow-x:auto;line-height:normal;font-family:Menlo,'DejaVu Sans Mono',consolas,'Courier New',monospace\"><span style=\"font-weight: bold\"> Total params: </span><span style=\"color: #00af00; text-decoration-color: #00af00\">31,451</span> (122.86 KB)\n",
              "</pre>\n"
            ]
          },
          "metadata": {}
        },
        {
          "output_type": "display_data",
          "data": {
            "text/plain": [
              "\u001b[1m Trainable params: \u001b[0m\u001b[38;5;34m31,451\u001b[0m (122.86 KB)\n"
            ],
            "text/html": [
              "<pre style=\"white-space:pre;overflow-x:auto;line-height:normal;font-family:Menlo,'DejaVu Sans Mono',consolas,'Courier New',monospace\"><span style=\"font-weight: bold\"> Trainable params: </span><span style=\"color: #00af00; text-decoration-color: #00af00\">31,451</span> (122.86 KB)\n",
              "</pre>\n"
            ]
          },
          "metadata": {}
        },
        {
          "output_type": "display_data",
          "data": {
            "text/plain": [
              "\u001b[1m Non-trainable params: \u001b[0m\u001b[38;5;34m0\u001b[0m (0.00 B)\n"
            ],
            "text/html": [
              "<pre style=\"white-space:pre;overflow-x:auto;line-height:normal;font-family:Menlo,'DejaVu Sans Mono',consolas,'Courier New',monospace\"><span style=\"font-weight: bold\"> Non-trainable params: </span><span style=\"color: #00af00; text-decoration-color: #00af00\">0</span> (0.00 B)\n",
              "</pre>\n"
            ]
          },
          "metadata": {}
        },
        {
          "output_type": "stream",
          "name": "stdout",
          "text": [
            "None\n"
          ]
        }
      ],
      "source": [
        "# 7\n",
        "from tensorflow.keras.models import Sequential\n",
        "from tensorflow.keras.layers import LSTM, Dense, Dropout\n",
        "\n",
        "model = Sequential()\n",
        "\n",
        "model.add(LSTM(units=50, return_sequences=True, input_shape=(X_train.shape[1], X_train.shape[2])))\n",
        "model.add(Dropout(0.2))\n",
        "\n",
        "model.add(LSTM(units=50, return_sequences=False))\n",
        "model.add(Dropout(0.2))\n",
        "\n",
        "model.add(Dense(units=1))\n",
        "\n",
        "model.compile(optimizer='adam', loss='mean_squared_error')\n",
        "\n",
        "print(model.summary())"
      ]
    },
    {
      "cell_type": "code",
      "source": [
        "# 8\n",
        "history = model.fit(X_train, y_train, epochs=50, batch_size=32, validation_split=0.05)\n"
      ],
      "metadata": {
        "colab": {
          "base_uri": "https://localhost:8080/"
        },
        "id": "cRuFC7tT5Afp",
        "outputId": "4c9d34ef-5604-4e6c-b693-ce5d22a65465"
      },
      "execution_count": 62,
      "outputs": [
        {
          "output_type": "stream",
          "name": "stdout",
          "text": [
            "Epoch 1/50\n",
            "\u001b[1m37/37\u001b[0m \u001b[32m━━━━━━━━━━━━━━━━━━━━\u001b[0m\u001b[37m\u001b[0m \u001b[1m4s\u001b[0m 23ms/step - loss: 0.0500 - val_loss: 4.8335e-05\n",
            "Epoch 2/50\n",
            "\u001b[1m37/37\u001b[0m \u001b[32m━━━━━━━━━━━━━━━━━━━━\u001b[0m\u001b[37m\u001b[0m \u001b[1m0s\u001b[0m 12ms/step - loss: 0.0033 - val_loss: 2.3688e-05\n",
            "Epoch 3/50\n",
            "\u001b[1m37/37\u001b[0m \u001b[32m━━━━━━━━━━━━━━━━━━━━\u001b[0m\u001b[37m\u001b[0m \u001b[1m1s\u001b[0m 20ms/step - loss: 0.0026 - val_loss: 3.4003e-05\n",
            "Epoch 4/50\n",
            "\u001b[1m37/37\u001b[0m \u001b[32m━━━━━━━━━━━━━━━━━━━━\u001b[0m\u001b[37m\u001b[0m \u001b[1m1s\u001b[0m 21ms/step - loss: 0.0030 - val_loss: 2.1354e-05\n",
            "Epoch 5/50\n",
            "\u001b[1m37/37\u001b[0m \u001b[32m━━━━━━━━━━━━━━━━━━━━\u001b[0m\u001b[37m\u001b[0m \u001b[1m1s\u001b[0m 15ms/step - loss: 0.0019 - val_loss: 1.3215e-05\n",
            "Epoch 6/50\n",
            "\u001b[1m37/37\u001b[0m \u001b[32m━━━━━━━━━━━━━━━━━━━━\u001b[0m\u001b[37m\u001b[0m \u001b[1m1s\u001b[0m 13ms/step - loss: 0.0025 - val_loss: 1.1253e-05\n",
            "Epoch 7/50\n",
            "\u001b[1m37/37\u001b[0m \u001b[32m━━━━━━━━━━━━━━━━━━━━\u001b[0m\u001b[37m\u001b[0m \u001b[1m1s\u001b[0m 13ms/step - loss: 0.0027 - val_loss: 1.2701e-05\n",
            "Epoch 8/50\n",
            "\u001b[1m37/37\u001b[0m \u001b[32m━━━━━━━━━━━━━━━━━━━━\u001b[0m\u001b[37m\u001b[0m \u001b[1m0s\u001b[0m 12ms/step - loss: 0.0024 - val_loss: 3.1913e-05\n",
            "Epoch 9/50\n",
            "\u001b[1m37/37\u001b[0m \u001b[32m━━━━━━━━━━━━━━━━━━━━\u001b[0m\u001b[37m\u001b[0m \u001b[1m1s\u001b[0m 13ms/step - loss: 0.0023 - val_loss: 1.6088e-05\n",
            "Epoch 10/50\n",
            "\u001b[1m37/37\u001b[0m \u001b[32m━━━━━━━━━━━━━━━━━━━━\u001b[0m\u001b[37m\u001b[0m \u001b[1m0s\u001b[0m 12ms/step - loss: 0.0017 - val_loss: 9.9615e-06\n",
            "Epoch 11/50\n",
            "\u001b[1m37/37\u001b[0m \u001b[32m━━━━━━━━━━━━━━━━━━━━\u001b[0m\u001b[37m\u001b[0m \u001b[1m1s\u001b[0m 14ms/step - loss: 0.0021 - val_loss: 1.3034e-05\n",
            "Epoch 12/50\n",
            "\u001b[1m37/37\u001b[0m \u001b[32m━━━━━━━━━━━━━━━━━━━━\u001b[0m\u001b[37m\u001b[0m \u001b[1m1s\u001b[0m 14ms/step - loss: 0.0018 - val_loss: 1.4567e-05\n",
            "Epoch 13/50\n",
            "\u001b[1m37/37\u001b[0m \u001b[32m━━━━━━━━━━━━━━━━━━━━\u001b[0m\u001b[37m\u001b[0m \u001b[1m1s\u001b[0m 22ms/step - loss: 0.0020 - val_loss: 1.2266e-05\n",
            "Epoch 14/50\n",
            "\u001b[1m37/37\u001b[0m \u001b[32m━━━━━━━━━━━━━━━━━━━━\u001b[0m\u001b[37m\u001b[0m \u001b[1m1s\u001b[0m 14ms/step - loss: 0.0017 - val_loss: 1.8863e-05\n",
            "Epoch 15/50\n",
            "\u001b[1m37/37\u001b[0m \u001b[32m━━━━━━━━━━━━━━━━━━━━\u001b[0m\u001b[37m\u001b[0m \u001b[1m0s\u001b[0m 13ms/step - loss: 0.0022 - val_loss: 1.4506e-05\n",
            "Epoch 16/50\n",
            "\u001b[1m37/37\u001b[0m \u001b[32m━━━━━━━━━━━━━━━━━━━━\u001b[0m\u001b[37m\u001b[0m \u001b[1m1s\u001b[0m 12ms/step - loss: 0.0018 - val_loss: 1.7724e-05\n",
            "Epoch 17/50\n",
            "\u001b[1m37/37\u001b[0m \u001b[32m━━━━━━━━━━━━━━━━━━━━\u001b[0m\u001b[37m\u001b[0m \u001b[1m1s\u001b[0m 18ms/step - loss: 0.0021 - val_loss: 1.4686e-05\n",
            "Epoch 18/50\n",
            "\u001b[1m37/37\u001b[0m \u001b[32m━━━━━━━━━━━━━━━━━━━━\u001b[0m\u001b[37m\u001b[0m \u001b[1m1s\u001b[0m 18ms/step - loss: 0.0018 - val_loss: 1.6150e-05\n",
            "Epoch 19/50\n",
            "\u001b[1m37/37\u001b[0m \u001b[32m━━━━━━━━━━━━━━━━━━━━\u001b[0m\u001b[37m\u001b[0m \u001b[1m1s\u001b[0m 16ms/step - loss: 0.0018 - val_loss: 8.7057e-06\n",
            "Epoch 20/50\n",
            "\u001b[1m37/37\u001b[0m \u001b[32m━━━━━━━━━━━━━━━━━━━━\u001b[0m\u001b[37m\u001b[0m \u001b[1m2s\u001b[0m 25ms/step - loss: 0.0020 - val_loss: 1.0837e-05\n",
            "Epoch 21/50\n",
            "\u001b[1m37/37\u001b[0m \u001b[32m━━━━━━━━━━━━━━━━━━━━\u001b[0m\u001b[37m\u001b[0m \u001b[1m1s\u001b[0m 26ms/step - loss: 0.0014 - val_loss: 1.5751e-05\n",
            "Epoch 22/50\n",
            "\u001b[1m37/37\u001b[0m \u001b[32m━━━━━━━━━━━━━━━━━━━━\u001b[0m\u001b[37m\u001b[0m \u001b[1m1s\u001b[0m 29ms/step - loss: 0.0018 - val_loss: 9.7587e-06\n",
            "Epoch 23/50\n",
            "\u001b[1m37/37\u001b[0m \u001b[32m━━━━━━━━━━━━━━━━━━━━\u001b[0m\u001b[37m\u001b[0m \u001b[1m1s\u001b[0m 22ms/step - loss: 0.0017 - val_loss: 9.3571e-06\n",
            "Epoch 24/50\n",
            "\u001b[1m37/37\u001b[0m \u001b[32m━━━━━━━━━━━━━━━━━━━━\u001b[0m\u001b[37m\u001b[0m \u001b[1m1s\u001b[0m 14ms/step - loss: 0.0013 - val_loss: 4.2692e-05\n",
            "Epoch 25/50\n",
            "\u001b[1m37/37\u001b[0m \u001b[32m━━━━━━━━━━━━━━━━━━━━\u001b[0m\u001b[37m\u001b[0m \u001b[1m1s\u001b[0m 24ms/step - loss: 0.0018 - val_loss: 2.8480e-05\n",
            "Epoch 26/50\n",
            "\u001b[1m37/37\u001b[0m \u001b[32m━━━━━━━━━━━━━━━━━━━━\u001b[0m\u001b[37m\u001b[0m \u001b[1m1s\u001b[0m 18ms/step - loss: 0.0014 - val_loss: 1.3369e-05\n",
            "Epoch 27/50\n",
            "\u001b[1m37/37\u001b[0m \u001b[32m━━━━━━━━━━━━━━━━━━━━\u001b[0m\u001b[37m\u001b[0m \u001b[1m1s\u001b[0m 13ms/step - loss: 0.0018 - val_loss: 7.5605e-05\n",
            "Epoch 28/50\n",
            "\u001b[1m37/37\u001b[0m \u001b[32m━━━━━━━━━━━━━━━━━━━━\u001b[0m\u001b[37m\u001b[0m \u001b[1m0s\u001b[0m 12ms/step - loss: 0.0015 - val_loss: 3.7775e-05\n",
            "Epoch 29/50\n",
            "\u001b[1m37/37\u001b[0m \u001b[32m━━━━━━━━━━━━━━━━━━━━\u001b[0m\u001b[37m\u001b[0m \u001b[1m1s\u001b[0m 14ms/step - loss: 0.0013 - val_loss: 1.0483e-05\n",
            "Epoch 30/50\n",
            "\u001b[1m37/37\u001b[0m \u001b[32m━━━━━━━━━━━━━━━━━━━━\u001b[0m\u001b[37m\u001b[0m \u001b[1m1s\u001b[0m 13ms/step - loss: 0.0016 - val_loss: 6.1672e-05\n",
            "Epoch 31/50\n",
            "\u001b[1m37/37\u001b[0m \u001b[32m━━━━━━━━━━━━━━━━━━━━\u001b[0m\u001b[37m\u001b[0m \u001b[1m1s\u001b[0m 13ms/step - loss: 0.0012 - val_loss: 1.0215e-05\n",
            "Epoch 32/50\n",
            "\u001b[1m37/37\u001b[0m \u001b[32m━━━━━━━━━━━━━━━━━━━━\u001b[0m\u001b[37m\u001b[0m \u001b[1m0s\u001b[0m 12ms/step - loss: 0.0011 - val_loss: 7.1939e-06\n",
            "Epoch 33/50\n",
            "\u001b[1m37/37\u001b[0m \u001b[32m━━━━━━━━━━━━━━━━━━━━\u001b[0m\u001b[37m\u001b[0m \u001b[1m1s\u001b[0m 13ms/step - loss: 0.0011 - val_loss: 3.3876e-05\n",
            "Epoch 34/50\n",
            "\u001b[1m37/37\u001b[0m \u001b[32m━━━━━━━━━━━━━━━━━━━━\u001b[0m\u001b[37m\u001b[0m \u001b[1m0s\u001b[0m 12ms/step - loss: 0.0012 - val_loss: 7.9792e-06\n",
            "Epoch 35/50\n",
            "\u001b[1m37/37\u001b[0m \u001b[32m━━━━━━━━━━━━━━━━━━━━\u001b[0m\u001b[37m\u001b[0m \u001b[1m1s\u001b[0m 12ms/step - loss: 0.0013 - val_loss: 6.6886e-06\n",
            "Epoch 36/50\n",
            "\u001b[1m37/37\u001b[0m \u001b[32m━━━━━━━━━━━━━━━━━━━━\u001b[0m\u001b[37m\u001b[0m \u001b[1m1s\u001b[0m 13ms/step - loss: 0.0016 - val_loss: 8.8053e-06\n",
            "Epoch 37/50\n",
            "\u001b[1m37/37\u001b[0m \u001b[32m━━━━━━━━━━━━━━━━━━━━\u001b[0m\u001b[37m\u001b[0m \u001b[1m1s\u001b[0m 17ms/step - loss: 0.0011 - val_loss: 8.5469e-06\n",
            "Epoch 38/50\n",
            "\u001b[1m37/37\u001b[0m \u001b[32m━━━━━━━━━━━━━━━━━━━━\u001b[0m\u001b[37m\u001b[0m \u001b[1m1s\u001b[0m 20ms/step - loss: 0.0011 - val_loss: 2.7869e-05\n",
            "Epoch 39/50\n",
            "\u001b[1m37/37\u001b[0m \u001b[32m━━━━━━━━━━━━━━━━━━━━\u001b[0m\u001b[37m\u001b[0m \u001b[1m1s\u001b[0m 21ms/step - loss: 0.0014 - val_loss: 7.3727e-06\n",
            "Epoch 40/50\n",
            "\u001b[1m37/37\u001b[0m \u001b[32m━━━━━━━━━━━━━━━━━━━━\u001b[0m\u001b[37m\u001b[0m \u001b[1m1s\u001b[0m 21ms/step - loss: 0.0012 - val_loss: 3.1794e-05\n",
            "Epoch 41/50\n",
            "\u001b[1m37/37\u001b[0m \u001b[32m━━━━━━━━━━━━━━━━━━━━\u001b[0m\u001b[37m\u001b[0m \u001b[1m1s\u001b[0m 13ms/step - loss: 0.0010 - val_loss: 6.9452e-06\n",
            "Epoch 42/50\n",
            "\u001b[1m37/37\u001b[0m \u001b[32m━━━━━━━━━━━━━━━━━━━━\u001b[0m\u001b[37m\u001b[0m \u001b[1m1s\u001b[0m 12ms/step - loss: 9.1302e-04 - val_loss: 8.0501e-06\n",
            "Epoch 43/50\n",
            "\u001b[1m37/37\u001b[0m \u001b[32m━━━━━━━━━━━━━━━━━━━━\u001b[0m\u001b[37m\u001b[0m \u001b[1m1s\u001b[0m 13ms/step - loss: 0.0013 - val_loss: 1.0370e-05\n",
            "Epoch 44/50\n",
            "\u001b[1m37/37\u001b[0m \u001b[32m━━━━━━━━━━━━━━━━━━━━\u001b[0m\u001b[37m\u001b[0m \u001b[1m0s\u001b[0m 12ms/step - loss: 0.0012 - val_loss: 9.4563e-06\n",
            "Epoch 45/50\n",
            "\u001b[1m37/37\u001b[0m \u001b[32m━━━━━━━━━━━━━━━━━━━━\u001b[0m\u001b[37m\u001b[0m \u001b[1m1s\u001b[0m 13ms/step - loss: 0.0013 - val_loss: 8.0462e-06\n",
            "Epoch 46/50\n",
            "\u001b[1m37/37\u001b[0m \u001b[32m━━━━━━━━━━━━━━━━━━━━\u001b[0m\u001b[37m\u001b[0m \u001b[1m0s\u001b[0m 12ms/step - loss: 9.1513e-04 - val_loss: 1.3034e-05\n",
            "Epoch 47/50\n",
            "\u001b[1m37/37\u001b[0m \u001b[32m━━━━━━━━━━━━━━━━━━━━\u001b[0m\u001b[37m\u001b[0m \u001b[1m1s\u001b[0m 14ms/step - loss: 0.0013 - val_loss: 6.3507e-06\n",
            "Epoch 48/50\n",
            "\u001b[1m37/37\u001b[0m \u001b[32m━━━━━━━━━━━━━━━━━━━━\u001b[0m\u001b[37m\u001b[0m \u001b[1m0s\u001b[0m 13ms/step - loss: 0.0010 - val_loss: 8.3909e-06\n",
            "Epoch 49/50\n",
            "\u001b[1m37/37\u001b[0m \u001b[32m━━━━━━━━━━━━━━━━━━━━\u001b[0m\u001b[37m\u001b[0m \u001b[1m1s\u001b[0m 14ms/step - loss: 0.0011 - val_loss: 3.5004e-05\n",
            "Epoch 50/50\n",
            "\u001b[1m37/37\u001b[0m \u001b[32m━━━━━━━━━━━━━━━━━━━━\u001b[0m\u001b[37m\u001b[0m \u001b[1m1s\u001b[0m 13ms/step - loss: 9.5608e-04 - val_loss: 9.3525e-06\n"
          ]
        }
      ]
    },
    {
      "cell_type": "code",
      "source": [
        "# 9\n",
        "import matplotlib.pyplot as plt\n",
        "\n",
        "plt.plot(history.history['loss'], label='Treinamento')\n",
        "plt.plot(history.history['val_loss'], label='Validação')\n",
        "plt.title('Perda durante o Treinamento e Validação')\n",
        "plt.xlabel('Épocas')\n",
        "plt.ylabel('Perda')\n",
        "plt.legend()\n",
        "plt.show()"
      ],
      "metadata": {
        "colab": {
          "base_uri": "https://localhost:8080/",
          "height": 474
        },
        "id": "dL2RyjBe5II8",
        "outputId": "9f22494b-6473-4785-d369-767f9d1069eb"
      },
      "execution_count": 63,
      "outputs": [
        {
          "output_type": "display_data",
          "data": {
            "text/plain": [
              "<Figure size 640x480 with 1 Axes>"
            ],
            "image/png": "[encoded data removed]"
          },
          "metadata": {}
        }
      ]
    },
    {
      "cell_type": "code",
      "source": [
        "# 10\n",
        "y_pred = model.predict(X_test)\n",
        "\n",
        "print(f'Primeiras previsões (normalizadas): {y_pred[:5]}')"
      ],
      "metadata": {
        "colab": {
          "base_uri": "https://localhost:8080/"
        },
        "id": "cM8G5YdJ5IDR",
        "outputId": "56953f48-7431-40a0-8b8d-bce7220ecdbb"
      },
      "execution_count": 64,
      "outputs": [
        {
          "output_type": "stream",
          "name": "stdout",
          "text": [
            "\u001b[1m10/10\u001b[0m \u001b[32m━━━━━━━━━━━━━━━━━━━━\u001b[0m\u001b[37m\u001b[0m \u001b[1m1s\u001b[0m 38ms/step\n",
            "Primeiras previsões (normalizadas): [[0.03022044]\n",
            " [0.02995893]\n",
            " [0.02995694]\n",
            " [0.02996045]\n",
            " [0.02931117]]\n"
          ]
        }
      ]
    },
    {
      "cell_type": "code",
      "source": [
        "# 11\n",
        "y_pred_desnormalizado = scaler_y.inverse_transform(y_pred)\n",
        "\n",
        "y_test_desnormalizado = scaler_y.inverse_transform(y_test)\n",
        "\n",
        "print(f'Primeiras previsões (desnormalizadas): {y_pred_desnormalizado[:5]}')\n",
        "print(f'Primeiros valores reais (desnormalizados): {y_test_desnormalizado[:5]}')"
      ],
      "metadata": {
        "colab": {
          "base_uri": "https://localhost:8080/"
        },
        "id": "c2UzivXc5raz",
        "outputId": "b46fa149-26b4-4b16-c315-ae98f4930810"
      },
      "execution_count": 65,
      "outputs": [
        {
          "output_type": "stream",
          "name": "stdout",
          "text": [
            "Primeiras previsões (desnormalizadas): [[227.18387]\n",
            " [225.94751]\n",
            " [225.93808]\n",
            " [225.9547 ]\n",
            " [222.88504]]\n",
            "Primeiros valores reais (desnormalizados): [[220.589005]\n",
            " [223.074005]\n",
            " [211.748993]\n",
            " [211.354004]\n",
            " [183.330994]]\n"
          ]
        }
      ]
    },
    {
      "cell_type": "code",
      "source": [
        "# 12\n",
        "mae = mean_absolute_error(y_test_desnormalizado, y_pred_desnormalizado)\n",
        "mse = mean_squared_error(y_test_desnormalizado, y_pred_desnormalizado)\n",
        "rmse = np.sqrt(mse)\n",
        "\n",
        "print(f'Erro Médio Absoluto (MAE): {mae}')\n",
        "print(f'Erro Quadrático Médio (MSE): {mse}')\n",
        "print(f'Raiz do Erro Quadrático Médio (RMSE): {rmse}')"
      ],
      "metadata": {
        "colab": {
          "base_uri": "https://localhost:8080/"
        },
        "id": "1CMnNTnT5vHa",
        "outputId": "4b51a5d2-ffae-47b5-8ede-55681e284755"
      },
      "execution_count": 66,
      "outputs": [
        {
          "output_type": "stream",
          "name": "stdout",
          "text": [
            "Erro Médio Absoluto (MAE): 41.13161787524414\n",
            "Erro Quadrático Médio (MSE): 3365.6542893536216\n",
            "Raiz do Erro Quadrático Médio (RMSE): 58.01425936227766\n"
          ]
        }
      ]
    }
  ],
  "metadata": {
    "kernelspec": {
      "display_name": "base",
      "language": "python",
      "name": "python3"
    },
    "language_info": {
      "codemirror_mode": {
        "name": "ipython",
        "version": 3
      },
      "file_extension": ".py",
      "mimetype": "text/x-python",
      "name": "python",
      "nbconvert_exporter": "python",
      "pygments_lexer": "ipython3",
      "version": "3.11.7"
    },
    "colab": {
      "provenance": []
    }
  },
  "nbformat": 4,
  "nbformat_minor": 0
}