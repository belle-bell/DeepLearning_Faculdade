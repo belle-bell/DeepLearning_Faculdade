{
  "cells": [
    {
      "cell_type": "markdown",
      "metadata": {
        "id": "fnQOS8Pl7KW4"
      },
      "source": [
        "# Aula 14 - LSTM - Estrutura, Funcionamento e Aplicações"
      ]
    },
    {
      "cell_type": "markdown",
      "metadata": {
        "id": "snRyVNGp7KW5"
      },
      "source": [
        "- **Motivação para LSTM:**\n",
        "  - Limitações das RNNs tradicionais\n",
        "  - Problema de desvanecimento e explosão de gradientes\n",
        "  - Necessidade de capturar dependências de longo prazo"
      ]
    },
    {
      "cell_type": "markdown",
      "metadata": {
        "id": "tqb10mFe7KW6"
      },
      "source": [
        "## Antes de Falar Sobre as Redes LSTM\n",
        "\n",
        "## Problema de Gradiente de Desvanecimento e Explosão\n",
        "\n",
        "### O Que é o Problema de Gradiente de Desvanecimento?\n",
        "\n",
        "- **Definição:**\n",
        "  - O problema de gradiente de desvanecimento ocorre durante o treinamento de redes neurais profundas, especialmente em Redes Neurais Recorrentes (RNNs). Isso acontece quando os gradientes das funções de perda em relação aos pesos se tornam muito pequenos, resultando em ajustes insignificantes nos pesos da rede.\n",
        "\n",
        "- **Causa:**\n",
        "  - Durante a retropropagação, os gradientes são multiplicados repetidamente pela derivada das funções de ativação ao longo de várias camadas ou passos de tempo. Se essas derivadas forem menores que 1, os gradientes diminuem exponencialmente, tornando-se quase nulos.\n",
        "  - Isso é comum em funções de ativação como a sigmoide ou a tangente hiperbólica, cujas derivadas estão entre 0 e 1.\n",
        "\n",
        "- **Efeito:**\n",
        "  - Quando os gradientes se tornam muito pequenos, a rede neural para de aprender porque as atualizações dos pesos são insignificantes.\n",
        "  - Como resultado, a rede tem dificuldade em capturar dependências de longo prazo nos dados, afetando negativamente o desempenho em tarefas que requerem memorização de informações antigas.\n",
        "\n",
        "### O Que é o Problema de Explosão de Gradiente?\n",
        "\n",
        "- **Definição:**\n",
        "  - O problema de explosão de gradiente ocorre quando os gradientes das funções de perda em relação aos pesos se tornam muito grandes durante a retropropagação. Isso resulta em grandes atualizações nos pesos, que podem levar à instabilidade do modelo.\n",
        "\n",
        "- **Causa:**\n",
        "  - Assim como no problema de desvanecimento, durante a retropropagação, os gradientes são multiplicados repetidamente pela derivada das funções de ativação. Se essas derivadas forem maiores que 1, os gradientes aumentam exponencialmente.\n",
        "  - Redes neurais profundas ou RNNs que usam funções de ativação não saturadas, como ReLU, são particularmente suscetíveis a esse problema.\n",
        "\n",
        "- **Efeito:**\n",
        "  - Quando os gradientes se tornam muito grandes, as atualizações dos pesos são descontroladas, levando a oscilações na função de perda e instabilidade no treinamento.\n",
        "  - O modelo pode não convergir e, em vez disso, divergir, resultando em desempenho pobre ou falha completa do treinamento.\n",
        "\n",
        "### Como Esses Problemas Afetam o Treinamento?\n",
        "\n",
        "- **Gradiente de Desvanecimento:**\n",
        "  - Dificulta a aprendizagem de dependências de longo prazo.\n",
        "  - Redes neurais podem parar de aprender após algumas iterações de treinamento.\n",
        "  - Afeta a capacidade de a rede capturar padrões importantes em dados sequenciais.\n",
        "\n",
        "- **Explosão de Gradiente:**\n",
        "  - Pode levar a atualizações de pesos extremamente grandes, fazendo com que o modelo se torne instável.\n",
        "  - Resulta em flutuações significativas na função de perda, tornando difícil a convergência.\n",
        "  - Pode causar a saturação dos neurônios, onde os pesos assumem valores extremos, levando à perda de capacidade de generalização do modelo.\n",
        "\n",
        "### Métodos para Mitigar os Problemas de Gradiente\n",
        "\n",
        "- **Para Gradiente de Desvanecimento:**\n",
        "  - **LSTMs e GRUs:** Estas arquiteturas de RNNs foram projetadas para lidar com o problema de desvanecimento de gradientes, graças às suas estruturas de portas que regulam o fluxo de informações.\n",
        "  - **Inicialização Adequada de Pesos:** Utilizar métodos como inicialização de Xavier ou He para manter os gradientes em uma faixa adequada.\n",
        "  - **Funções de Ativação Alternativas:** Utilizar funções de ativação que não sofram tanto com o desvanecimento de gradientes, como ReLU.\n",
        "\n",
        "- **Para Explosão de Gradiente:**\n",
        "  - **Clipping de Gradiente:** Técnica que limita o valor dos gradientes a um intervalo predefinido durante a retropropagação, prevenindo atualizações excessivamente grandes.\n",
        "  - **Regularização:** Métodos como dropout e regularização L2 podem ajudar a controlar o crescimento dos pesos.\n",
        "  - **Uso de Otimizadores Adaptativos:** Otimizadores como Adam, RMSprop e AdaGrad ajustam a taxa de aprendizado com base nos gradientes, ajudando a prevenir a explosão de gradientes."
      ]
    },
    {
      "cell_type": "markdown",
      "metadata": {
        "id": "ag-xGB1t7KW6"
      },
      "source": [
        "## Estrutura das LSTM\n",
        "- **Componentes Principais:**\n",
        "  - **Célula de Memória:**\n",
        "    - Função: Mantém informações ao longo do tempo.\n",
        "    - Papel: Atua como um meio para armazenar informações relevantes para longas sequências de dados, possibilitando a captura de dependências de longo prazo.\n",
        "  \n",
        "  - **Porta de Entrada (Input Gate):**\n",
        "    - Função: Decide quais informações da entrada atual atualizar na célula de memória.\n",
        "    - Detalhamento:\n",
        "      - Calcula uma função sigmoide que determina quais valores da entrada atual devem ser armazenados na célula de memória.\n",
        "      - Equação: \\( i_t = \\sigma(W_i \\cdot [h_{t-1}, x_t] + b_i) \\)\n",
        "      - \\( \\sigma \\) representa a função sigmoide que gera valores entre 0 e 1, indicando a importância da atualização.\n",
        "\n",
        "  - **Porta de Esquecimento (Forget Gate):**\n",
        "    - Função: Decide quais informações antigas na célula de memória descartar.\n",
        "    - Detalhamento:\n",
        "      - Calcula uma função sigmoide que determina quais valores da célula de memória devem ser esquecidos.\n",
        "      - Equação: \\( f_t = \\sigma(W_f \\cdot [h_{t-1}, x_t] + b_f) \\)\n",
        "      - \\( \\sigma \\) representa a função sigmoide que gera valores entre 0 e 1, indicando a importância da manutenção das informações.\n",
        "\n",
        "  - **Porta de Saída (Output Gate):**\n",
        "    - Função: Decide quais informações da célula de memória usar na saída atual.\n",
        "    - Detalhamento:\n",
        "      - Calcula uma função sigmoide que determina quais valores da célula de memória devem ser usados para a saída.\n",
        "      - Equação: \\( o_t = \\sigma(W_o \\cdot [h_{t-1}, x_t] + b_o) \\)\n",
        "      - \\( \\sigma \\) representa a função sigmoide que gera valores entre 0 e 1, indicando a importância das informações para a saída.\n"
      ]
    },
    {
      "cell_type": "code",
      "execution_count": 1,
      "metadata": {
        "colab": {
          "base_uri": "https://localhost:8080/",
          "height": 293
        },
        "id": "ZUd9U4iV7KW7",
        "outputId": "4ae0b946-1420-4506-8dd1-d50d5fc5a372"
      },
      "outputs": [
        {
          "output_type": "stream",
          "name": "stderr",
          "text": [
            "/usr/local/lib/python3.10/dist-packages/keras/src/layers/rnn/rnn.py:204: UserWarning: Do not pass an `input_shape`/`input_dim` argument to a layer. When using Sequential models, prefer using an `Input(shape)` object as the first layer in the model instead.\n",
            "  super().__init__(**kwargs)\n"
          ]
        },
        {
          "output_type": "display_data",
          "data": {
            "text/plain": [
              "\u001b[1mModel: \"sequential\"\u001b[0m\n"
            ],
            "text/html": [
              "<pre style=\"white-space:pre;overflow-x:auto;line-height:normal;font-family:Menlo,'DejaVu Sans Mono',consolas,'Courier New',monospace\"><span style=\"font-weight: bold\">Model: \"sequential\"</span>\n",
              "</pre>\n"
            ]
          },
          "metadata": {}
        },
        {
          "output_type": "display_data",
          "data": {
            "text/plain": [
              "┏━━━━━━━━━━━━━━━━━━━━━━━━━━━━━━━━━━━━━━┳━━━━━━━━━━━━━━━━━━━━━━━━━━━━━┳━━━━━━━━━━━━━━━━━┓\n",
              "┃\u001b[1m \u001b[0m\u001b[1mLayer (type)                        \u001b[0m\u001b[1m \u001b[0m┃\u001b[1m \u001b[0m\u001b[1mOutput Shape               \u001b[0m\u001b[1m \u001b[0m┃\u001b[1m \u001b[0m\u001b[1m        Param #\u001b[0m\u001b[1m \u001b[0m┃\n",
              "┡━━━━━━━━━━━━━━━━━━━━━━━━━━━━━━━━━━━━━━╇━━━━━━━━━━━━━━━━━━━━━━━━━━━━━╇━━━━━━━━━━━━━━━━━┩\n",
              "│ lstm (\u001b[38;5;33mLSTM\u001b[0m)                          │ (\u001b[38;5;45mNone\u001b[0m, \u001b[38;5;34m10\u001b[0m, \u001b[38;5;34m50\u001b[0m)              │          \u001b[38;5;34m10,400\u001b[0m │\n",
              "├──────────────────────────────────────┼─────────────────────────────┼─────────────────┤\n",
              "│ lstm_1 (\u001b[38;5;33mLSTM\u001b[0m)                        │ (\u001b[38;5;45mNone\u001b[0m, \u001b[38;5;34m50\u001b[0m)                  │          \u001b[38;5;34m20,200\u001b[0m │\n",
              "├──────────────────────────────────────┼─────────────────────────────┼─────────────────┤\n",
              "│ dense (\u001b[38;5;33mDense\u001b[0m)                        │ (\u001b[38;5;45mNone\u001b[0m, \u001b[38;5;34m1\u001b[0m)                   │              \u001b[38;5;34m51\u001b[0m │\n",
              "└──────────────────────────────────────┴─────────────────────────────┴─────────────────┘\n"
            ],
            "text/html": [
              "<pre style=\"white-space:pre;overflow-x:auto;line-height:normal;font-family:Menlo,'DejaVu Sans Mono',consolas,'Courier New',monospace\">┏━━━━━━━━━━━━━━━━━━━━━━━━━━━━━━━━━━━━━━┳━━━━━━━━━━━━━━━━━━━━━━━━━━━━━┳━━━━━━━━━━━━━━━━━┓\n",
              "┃<span style=\"font-weight: bold\"> Layer (type)                         </span>┃<span style=\"font-weight: bold\"> Output Shape                </span>┃<span style=\"font-weight: bold\">         Param # </span>┃\n",
              "┡━━━━━━━━━━━━━━━━━━━━━━━━━━━━━━━━━━━━━━╇━━━━━━━━━━━━━━━━━━━━━━━━━━━━━╇━━━━━━━━━━━━━━━━━┩\n",
              "│ lstm (<span style=\"color: #0087ff; text-decoration-color: #0087ff\">LSTM</span>)                          │ (<span style=\"color: #00d7ff; text-decoration-color: #00d7ff\">None</span>, <span style=\"color: #00af00; text-decoration-color: #00af00\">10</span>, <span style=\"color: #00af00; text-decoration-color: #00af00\">50</span>)              │          <span style=\"color: #00af00; text-decoration-color: #00af00\">10,400</span> │\n",
              "├──────────────────────────────────────┼─────────────────────────────┼─────────────────┤\n",
              "│ lstm_1 (<span style=\"color: #0087ff; text-decoration-color: #0087ff\">LSTM</span>)                        │ (<span style=\"color: #00d7ff; text-decoration-color: #00d7ff\">None</span>, <span style=\"color: #00af00; text-decoration-color: #00af00\">50</span>)                  │          <span style=\"color: #00af00; text-decoration-color: #00af00\">20,200</span> │\n",
              "├──────────────────────────────────────┼─────────────────────────────┼─────────────────┤\n",
              "│ dense (<span style=\"color: #0087ff; text-decoration-color: #0087ff\">Dense</span>)                        │ (<span style=\"color: #00d7ff; text-decoration-color: #00d7ff\">None</span>, <span style=\"color: #00af00; text-decoration-color: #00af00\">1</span>)                   │              <span style=\"color: #00af00; text-decoration-color: #00af00\">51</span> │\n",
              "└──────────────────────────────────────┴─────────────────────────────┴─────────────────┘\n",
              "</pre>\n"
            ]
          },
          "metadata": {}
        },
        {
          "output_type": "display_data",
          "data": {
            "text/plain": [
              "\u001b[1m Total params: \u001b[0m\u001b[38;5;34m30,651\u001b[0m (119.73 KB)\n"
            ],
            "text/html": [
              "<pre style=\"white-space:pre;overflow-x:auto;line-height:normal;font-family:Menlo,'DejaVu Sans Mono',consolas,'Courier New',monospace\"><span style=\"font-weight: bold\"> Total params: </span><span style=\"color: #00af00; text-decoration-color: #00af00\">30,651</span> (119.73 KB)\n",
              "</pre>\n"
            ]
          },
          "metadata": {}
        },
        {
          "output_type": "display_data",
          "data": {
            "text/plain": [
              "\u001b[1m Trainable params: \u001b[0m\u001b[38;5;34m30,651\u001b[0m (119.73 KB)\n"
            ],
            "text/html": [
              "<pre style=\"white-space:pre;overflow-x:auto;line-height:normal;font-family:Menlo,'DejaVu Sans Mono',consolas,'Courier New',monospace\"><span style=\"font-weight: bold\"> Trainable params: </span><span style=\"color: #00af00; text-decoration-color: #00af00\">30,651</span> (119.73 KB)\n",
              "</pre>\n"
            ]
          },
          "metadata": {}
        },
        {
          "output_type": "display_data",
          "data": {
            "text/plain": [
              "\u001b[1m Non-trainable params: \u001b[0m\u001b[38;5;34m0\u001b[0m (0.00 B)\n"
            ],
            "text/html": [
              "<pre style=\"white-space:pre;overflow-x:auto;line-height:normal;font-family:Menlo,'DejaVu Sans Mono',consolas,'Courier New',monospace\"><span style=\"font-weight: bold\"> Non-trainable params: </span><span style=\"color: #00af00; text-decoration-color: #00af00\">0</span> (0.00 B)\n",
              "</pre>\n"
            ]
          },
          "metadata": {}
        }
      ],
      "source": [
        "import tensorflow as tf\n",
        "from tensorflow.keras.models import Sequential\n",
        "from tensorflow.keras.layers import LSTM, Dense\n",
        "\n",
        "# Definição do modelo sequencial\n",
        "model = Sequential()\n",
        "\n",
        "# Adicionando a primeira camada LSTM\n",
        "# Units: número de neurônios na camada LSTM\n",
        "# Input_shape: formato dos dados de entrada (timesteps, features)\n",
        "model.add(LSTM(units=50, input_shape=(10, 1), return_sequences=True))\n",
        "\n",
        "\n",
        "# Adicionando uma segunda camada LSTM para maior profundidade\n",
        "model.add(LSTM(units=50, return_sequences=False))\n",
        "\n",
        "# - A segunda camada LSTM recebe como entrada as saídas da primeira camada LSTM.\n",
        "# - Assim como a primeira camada, ela possui Célula de Memória, Porta de Entrada,\n",
        "# Porta de Esquecimento e Porta de Saída, realizando o mesmo tipo de processamento.\n",
        "\n",
        "# Adicionando uma camada densa (fully connected) após as LSTMs\n",
        "model.add(Dense(units=1))\n",
        "\n",
        "# - A camada Dense é uma camada totalmente conectada que recebe as saídas da última camada LSTM.\n",
        "# - Ela é usada para mapear a saída final da LSTM para a dimensão de saída desejada, que neste caso é 1.\n",
        "\n",
        "# Estrutura do modelo (sem compilar e treinar)\n",
        "model.summary()"
      ]
    },
    {
      "cell_type": "markdown",
      "metadata": {
        "id": "niY7jfLQ7KW8"
      },
      "source": [
        "## Funcionamento das LSTM\n",
        "\n",
        "- **Fluxo de Dados:**\n",
        "  - **Entrada:** Vetor de características \\( x_t \\)\n",
        "    - Cada \\( x_t \\) representa a entrada em um determinado passo de tempo t.\n",
        "  - **Estado Oculto:** \\( h_t \\)\n",
        "    - O estado oculto \\( h_t \\) transmite informações ao longo das iterações, carregando o contexto necessário para processar sequências de dados.\n",
        "  - **Célula de Memória:** \\( C_t \\)\n",
        "    - A célula de memória \\( C_t \\) armazena informações relevantes ao longo do tempo, permitindo que o modelo mantenha dependências de longo prazo.\n",
        "  - **Saída:** \\( h_t \\)\n",
        "    - A saída \\( h_t \\) pode ser usada para a próxima unidade de tempo ou como saída final da rede.\n"
      ]
    },
    {
      "cell_type": "markdown",
      "metadata": {
        "id": "ZtjR-eCX7KW8"
      },
      "source": [
        "### Fluxo de Dados em LSTM\n",
        "\n",
        "- No início de cada passo de tempo, a LSTM recebe a entrada \\( x_t \\) e o estado oculto anterior \\( h_{t-1} \\).\n",
        "- As portas de entrada, esquecimento e saída processam essas informações para atualizar a célula de memória e o estado oculto.\n",
        "- Este processo contínuo permite que a LSTM capture e mantenha dependências de longo prazo, essencial para o processamento eficaz de sequências de dados.\n"
      ]
    },
    {
      "cell_type": "markdown",
      "metadata": {
        "id": "YRIlU9Xh7KW8"
      },
      "source": [
        "## Vantagens das LSTM sobre RNNs Tradicionais\n",
        "\n",
        "- **Captura de Dependências de Longo Prazo:**\n",
        "  - As LSTMs são projetadas para lidar com dependências de longo prazo em sequências de dados.\n",
        "  - As portas de entrada, esquecimento e saída permitem que as LSTMs mantenham informações relevantes por longos períodos, mitigando a limitação das RNNs tradicionais em capturar relações de longo alcance.\n",
        "  - O uso das portas ajuda a gerenciar quais informações são armazenadas, esquecidas ou utilizadas, permitindo um controle mais eficaz sobre o fluxo de informações.\n",
        "\n",
        "- **Redução do Problema de Gradiente:**\n",
        "  - As LSTMs foram desenvolvidas para mitigar o problema de desvanecimento e explosão de gradientes, comum em RNNs tradicionais.\n",
        "  - O desvanecimento de gradientes ocorre quando os gradientes de erro diminuem exponencialmente durante a retropropagação, dificultando o treinamento de modelos que precisam capturar dependências de longo prazo.\n",
        "  - A estrutura interna das LSTMs, com suas portas e célula de memória, ajuda a preservar gradientes importantes durante a retropropagação, permitindo que o modelo aprenda padrões mais profundos e complexos em dados sequenciais.\n",
        "  - A mitigação do problema de gradientes melhora a estabilidade e eficiência do treinamento, resultando em um desempenho superior em tarefas que envolvem dados sequenciais de longa duração.\n"
      ]
    },
    {
      "cell_type": "markdown",
      "metadata": {
        "id": "WZIokDnN7KW9"
      },
      "source": [
        "## Aplicações das LSTM em Processamento de Sequências\n",
        "\n",
        "- **Processamento de Linguagem Natural (PLN):**\n",
        "  - **Análise de Sentimento:**\n",
        "    - **Descrição:**\n",
        "      - A análise de sentimento envolve a identificação e extração de informações subjetivas de textos, como opiniões, emoções e sentimentos expressos.\n",
        "      - As LSTMs são particularmente eficazes para esta tarefa devido à sua capacidade de capturar dependências de longo prazo nas sequências de palavras.\n",
        "    - **Exemplo de Implementação:**\n",
        "      - Utilização de um dataset de reviews, onde cada review é rotulado com uma categoria de sentimento (positivo, negativo, neutro).\n",
        "      - Treinamento de uma LSTM para classificar os sentimentos expressos nas reviews com base nas sequências de palavras.\n",
        "\n",
        "  - **Tradução Automática:**\n",
        "    - **Descrição:**\n",
        "      - A tradução automática é o processo de converter texto de um idioma para outro.\n",
        "      - As LSTMs são usadas em arquiteturas seq2seq (sequence-to-sequence) para esta tarefa, onde uma LSTM é usada como codificador e outra como decodificador.\n",
        "    - **Arquitetura seq2seq com LSTM:**\n",
        "      - **Codificador (Encoder):**\n",
        "        - A LSTM do codificador processa a sequência de palavras na língua de origem e mapeia para um vetor de contexto que representa a informação semântica da frase completa.\n",
        "        - O vetor de contexto é o estado oculto final do codificador.\n",
        "      - **Decodificador (Decoder):**\n",
        "        - A LSTM do decodificador recebe o vetor de contexto do codificador e gera a sequência traduzida palavra por palavra na língua alvo.\n",
        "        - A cada passo de tempo, a LSTM do decodificador prediz a próxima palavra na sequência traduzida.\n",
        "\n",
        "- **Séries Temporais:**\n",
        "  - **Previsão de Demanda:**\n",
        "    - **Descrição:**\n",
        "      - A previsão de demanda envolve a estimativa de valores futuros com base em dados históricos, como a previsão de consumo de energia ou demanda de produtos.\n",
        "      - As LSTMs são adequadas para capturar padrões temporais complexos e dependências de longo prazo em séries temporais.\n",
        "    - **Aplicação:**\n",
        "      - Treinamento de uma LSTM para prever o consumo de energia com base em dados históricos de consumo.\n",
        "      - Uso das previsões para melhorar a gestão de recursos e planejamento estratégico.\n",
        "\n",
        "  - **Análise de Séries Temporais Financeiras:**\n",
        "    - **Descrição:**\n",
        "      - A análise de séries temporais financeiras envolve a previsão de valores futuros de ativos financeiros, como preços de ações, índices econômicos, etc.\n",
        "      - As LSTMs podem capturar as complexas relações temporais e dependências em dados financeiros.\n",
        "    - **Aplicação:**\n",
        "      - Treinamento de uma LSTM para prever preços de ações com base em dados históricos de preços.\n",
        "      - Análise de tendências e padrões de mercado para tomar decisões de investimento informadas.\n",
        "\n",
        "\n",
        "- **LSTMs** são ferramentas poderosas para previsão de séries temporais devido à sua capacidade de capturar dependências de longo prazo e padrões complexos nos dados.\n",
        "- **Previsão de Demanda** e **Análise de Séries Temporais Financeiras** são duas das principais aplicações, beneficiando-se da habilidade das LSTMs em lidar com a variabilidade e a dinâmica temporal dos dados."
      ]
    },
    {
      "cell_type": "code",
      "execution_count": 2,
      "metadata": {
        "id": "6IFfL2Or7KW9"
      },
      "outputs": [],
      "source": [
        "import numpy as np\n",
        "import pandas as pd\n",
        "from sklearn.preprocessing import MinMaxScaler\n",
        "from sklearn.model_selection import train_test_split"
      ]
    },
    {
      "cell_type": "code",
      "execution_count": 3,
      "metadata": {
        "id": "2SnM3ezZ7KW9"
      },
      "outputs": [],
      "source": [
        "# Carregando os dados do arquivo CSV\n",
        "df = pd.read_csv('acao_google.csv')"
      ]
    },
    {
      "cell_type": "code",
      "execution_count": 4,
      "metadata": {
        "colab": {
          "base_uri": "https://localhost:8080/",
          "height": 206
        },
        "id": "JFsJ-V4O7KW9",
        "outputId": "17f293ff-1e49-4082-b7a7-b1c8e8d80f9d"
      },
      "outputs": [
        {
          "output_type": "execute_result",
          "data": {
            "text/plain": [
              "       Date    Open    High     Low   Close      Volume\n",
              "0  1/3/2012  325.25  332.83  324.97  663.59   7,380,500\n",
              "1  1/4/2012  331.27  333.87  329.08  666.45   5,749,400\n",
              "2  1/5/2012  329.83  330.75  326.89  657.21   6,590,300\n",
              "3  1/6/2012  328.34  328.77  323.68  648.24   5,405,900\n",
              "4  1/9/2012  322.04  322.29  309.46  620.76  11,688,800"
            ],
            "text/html": [
              "\n",
              "  <div id=\"df-a4c1f78b-9e02-4dc8-9e0e-fbe28546dfa7\" class=\"colab-df-container\">\n",
              "    <div>\n",
              "<style scoped>\n",
              "    .dataframe tbody tr th:only-of-type {\n",
              "        vertical-align: middle;\n",
              "    }\n",
              "\n",
              "    .dataframe tbody tr th {\n",
              "        vertical-align: top;\n",
              "    }\n",
              "\n",
              "    .dataframe thead th {\n",
              "        text-align: right;\n",
              "    }\n",
              "</style>\n",
              "<table border=\"1\" class=\"dataframe\">\n",
              "  <thead>\n",
              "    <tr style=\"text-align: right;\">\n",
              "      <th></th>\n",
              "      <th>Date</th>\n",
              "      <th>Open</th>\n",
              "      <th>High</th>\n",
              "      <th>Low</th>\n",
              "      <th>Close</th>\n",
              "      <th>Volume</th>\n",
              "    </tr>\n",
              "  </thead>\n",
              "  <tbody>\n",
              "    <tr>\n",
              "      <th>0</th>\n",
              "      <td>1/3/2012</td>\n",
              "      <td>325.25</td>\n",
              "      <td>332.83</td>\n",
              "      <td>324.97</td>\n",
              "      <td>663.59</td>\n",
              "      <td>7,380,500</td>\n",
              "    </tr>\n",
              "    <tr>\n",
              "      <th>1</th>\n",
              "      <td>1/4/2012</td>\n",
              "      <td>331.27</td>\n",
              "      <td>333.87</td>\n",
              "      <td>329.08</td>\n",
              "      <td>666.45</td>\n",
              "      <td>5,749,400</td>\n",
              "    </tr>\n",
              "    <tr>\n",
              "      <th>2</th>\n",
              "      <td>1/5/2012</td>\n",
              "      <td>329.83</td>\n",
              "      <td>330.75</td>\n",
              "      <td>326.89</td>\n",
              "      <td>657.21</td>\n",
              "      <td>6,590,300</td>\n",
              "    </tr>\n",
              "    <tr>\n",
              "      <th>3</th>\n",
              "      <td>1/6/2012</td>\n",
              "      <td>328.34</td>\n",
              "      <td>328.77</td>\n",
              "      <td>323.68</td>\n",
              "      <td>648.24</td>\n",
              "      <td>5,405,900</td>\n",
              "    </tr>\n",
              "    <tr>\n",
              "      <th>4</th>\n",
              "      <td>1/9/2012</td>\n",
              "      <td>322.04</td>\n",
              "      <td>322.29</td>\n",
              "      <td>309.46</td>\n",
              "      <td>620.76</td>\n",
              "      <td>11,688,800</td>\n",
              "    </tr>\n",
              "  </tbody>\n",
              "</table>\n",
              "</div>\n",
              "    <div class=\"colab-df-buttons\">\n",
              "\n",
              "  <div class=\"colab-df-container\">\n",
              "    <button class=\"colab-df-convert\" onclick=\"convertToInteractive('df-a4c1f78b-9e02-4dc8-9e0e-fbe28546dfa7')\"\n",
              "            title=\"Convert this dataframe to an interactive table.\"\n",
              "            style=\"display:none;\">\n",
              "\n",
              "  <svg xmlns=\"http://www.w3.org/2000/svg\" height=\"24px\" viewBox=\"0 -960 960 960\">\n",
              "    <path d=\"M120-120v-720h720v720H120Zm60-500h600v-160H180v160Zm220 220h160v-160H400v160Zm0 220h160v-160H400v160ZM180-400h160v-160H180v160Zm440 0h160v-160H620v160ZM180-180h160v-160H180v160Zm440 0h160v-160H620v160Z\"/>\n",
              "  </svg>\n",
              "    </button>\n",
              "\n",
              "  <style>\n",
              "    .colab-df-container {\n",
              "      display:flex;\n",
              "      gap: 12px;\n",
              "    }\n",
              "\n",
              "    .colab-df-convert {\n",
              "      background-color: #E8F0FE;\n",
              "      border: none;\n",
              "      border-radius: 50%;\n",
              "      cursor: pointer;\n",
              "      display: none;\n",
              "      fill: #1967D2;\n",
              "      height: 32px;\n",
              "      padding: 0 0 0 0;\n",
              "      width: 32px;\n",
              "    }\n",
              "\n",
              "    .colab-df-convert:hover {\n",
              "      background-color: #E2EBFA;\n",
              "      box-shadow: 0px 1px 2px rgba(60, 64, 67, 0.3), 0px 1px 3px 1px rgba(60, 64, 67, 0.15);\n",
              "      fill: #174EA6;\n",
              "    }\n",
              "\n",
              "    .colab-df-buttons div {\n",
              "      margin-bottom: 4px;\n",
              "    }\n",
              "\n",
              "    [theme=dark] .colab-df-convert {\n",
              "      background-color: #3B4455;\n",
              "      fill: #D2E3FC;\n",
              "    }\n",
              "\n",
              "    [theme=dark] .colab-df-convert:hover {\n",
              "      background-color: #434B5C;\n",
              "      box-shadow: 0px 1px 3px 1px rgba(0, 0, 0, 0.15);\n",
              "      filter: drop-shadow(0px 1px 2px rgba(0, 0, 0, 0.3));\n",
              "      fill: #FFFFFF;\n",
              "    }\n",
              "  </style>\n",
              "\n",
              "    <script>\n",
              "      const buttonEl =\n",
              "        document.querySelector('#df-a4c1f78b-9e02-4dc8-9e0e-fbe28546dfa7 button.colab-df-convert');\n",
              "      buttonEl.style.display =\n",
              "        google.colab.kernel.accessAllowed ? 'block' : 'none';\n",
              "\n",
              "      async function convertToInteractive(key) {\n",
              "        const element = document.querySelector('#df-a4c1f78b-9e02-4dc8-9e0e-fbe28546dfa7');\n",
              "        const dataTable =\n",
              "          await google.colab.kernel.invokeFunction('convertToInteractive',\n",
              "                                                    [key], {});\n",
              "        if (!dataTable) return;\n",
              "\n",
              "        const docLinkHtml = 'Like what you see? Visit the ' +\n",
              "          '<a target=\"_blank\" href=https://colab.research.google.com/notebooks/data_table.ipynb>data table notebook</a>'\n",
              "          + ' to learn more about interactive tables.';\n",
              "        element.innerHTML = '';\n",
              "        dataTable['output_type'] = 'display_data';\n",
              "        await google.colab.output.renderOutput(dataTable, element);\n",
              "        const docLink = document.createElement('div');\n",
              "        docLink.innerHTML = docLinkHtml;\n",
              "        element.appendChild(docLink);\n",
              "      }\n",
              "    </script>\n",
              "  </div>\n",
              "\n",
              "\n",
              "<div id=\"df-72f4a968-0aee-43f2-a51f-c7b3d3f62264\">\n",
              "  <button class=\"colab-df-quickchart\" onclick=\"quickchart('df-72f4a968-0aee-43f2-a51f-c7b3d3f62264')\"\n",
              "            title=\"Suggest charts\"\n",
              "            style=\"display:none;\">\n",
              "\n",
              "<svg xmlns=\"http://www.w3.org/2000/svg\" height=\"24px\"viewBox=\"0 0 24 24\"\n",
              "     width=\"24px\">\n",
              "    <g>\n",
              "        <path d=\"M19 3H5c-1.1 0-2 .9-2 2v14c0 1.1.9 2 2 2h14c1.1 0 2-.9 2-2V5c0-1.1-.9-2-2-2zM9 17H7v-7h2v7zm4 0h-2V7h2v10zm4 0h-2v-4h2v4z\"/>\n",
              "    </g>\n",
              "</svg>\n",
              "  </button>\n",
              "\n",
              "<style>\n",
              "  .colab-df-quickchart {\n",
              "      --bg-color: #E8F0FE;\n",
              "      --fill-color: #1967D2;\n",
              "      --hover-bg-color: #E2EBFA;\n",
              "      --hover-fill-color: #174EA6;\n",
              "      --disabled-fill-color: #AAA;\n",
              "      --disabled-bg-color: #DDD;\n",
              "  }\n",
              "\n",
              "  [theme=dark] .colab-df-quickchart {\n",
              "      --bg-color: #3B4455;\n",
              "      --fill-color: #D2E3FC;\n",
              "      --hover-bg-color: #434B5C;\n",
              "      --hover-fill-color: #FFFFFF;\n",
              "      --disabled-bg-color: #3B4455;\n",
              "      --disabled-fill-color: #666;\n",
              "  }\n",
              "\n",
              "  .colab-df-quickchart {\n",
              "    background-color: var(--bg-color);\n",
              "    border: none;\n",
              "    border-radius: 50%;\n",
              "    cursor: pointer;\n",
              "    display: none;\n",
              "    fill: var(--fill-color);\n",
              "    height: 32px;\n",
              "    padding: 0;\n",
              "    width: 32px;\n",
              "  }\n",
              "\n",
              "  .colab-df-quickchart:hover {\n",
              "    background-color: var(--hover-bg-color);\n",
              "    box-shadow: 0 1px 2px rgba(60, 64, 67, 0.3), 0 1px 3px 1px rgba(60, 64, 67, 0.15);\n",
              "    fill: var(--button-hover-fill-color);\n",
              "  }\n",
              "\n",
              "  .colab-df-quickchart-complete:disabled,\n",
              "  .colab-df-quickchart-complete:disabled:hover {\n",
              "    background-color: var(--disabled-bg-color);\n",
              "    fill: var(--disabled-fill-color);\n",
              "    box-shadow: none;\n",
              "  }\n",
              "\n",
              "  .colab-df-spinner {\n",
              "    border: 2px solid var(--fill-color);\n",
              "    border-color: transparent;\n",
              "    border-bottom-color: var(--fill-color);\n",
              "    animation:\n",
              "      spin 1s steps(1) infinite;\n",
              "  }\n",
              "\n",
              "  @keyframes spin {\n",
              "    0% {\n",
              "      border-color: transparent;\n",
              "      border-bottom-color: var(--fill-color);\n",
              "      border-left-color: var(--fill-color);\n",
              "    }\n",
              "    20% {\n",
              "      border-color: transparent;\n",
              "      border-left-color: var(--fill-color);\n",
              "      border-top-color: var(--fill-color);\n",
              "    }\n",
              "    30% {\n",
              "      border-color: transparent;\n",
              "      border-left-color: var(--fill-color);\n",
              "      border-top-color: var(--fill-color);\n",
              "      border-right-color: var(--fill-color);\n",
              "    }\n",
              "    40% {\n",
              "      border-color: transparent;\n",
              "      border-right-color: var(--fill-color);\n",
              "      border-top-color: var(--fill-color);\n",
              "    }\n",
              "    60% {\n",
              "      border-color: transparent;\n",
              "      border-right-color: var(--fill-color);\n",
              "    }\n",
              "    80% {\n",
              "      border-color: transparent;\n",
              "      border-right-color: var(--fill-color);\n",
              "      border-bottom-color: var(--fill-color);\n",
              "    }\n",
              "    90% {\n",
              "      border-color: transparent;\n",
              "      border-bottom-color: var(--fill-color);\n",
              "    }\n",
              "  }\n",
              "</style>\n",
              "\n",
              "  <script>\n",
              "    async function quickchart(key) {\n",
              "      const quickchartButtonEl =\n",
              "        document.querySelector('#' + key + ' button');\n",
              "      quickchartButtonEl.disabled = true;  // To prevent multiple clicks.\n",
              "      quickchartButtonEl.classList.add('colab-df-spinner');\n",
              "      try {\n",
              "        const charts = await google.colab.kernel.invokeFunction(\n",
              "            'suggestCharts', [key], {});\n",
              "      } catch (error) {\n",
              "        console.error('Error during call to suggestCharts:', error);\n",
              "      }\n",
              "      quickchartButtonEl.classList.remove('colab-df-spinner');\n",
              "      quickchartButtonEl.classList.add('colab-df-quickchart-complete');\n",
              "    }\n",
              "    (() => {\n",
              "      let quickchartButtonEl =\n",
              "        document.querySelector('#df-72f4a968-0aee-43f2-a51f-c7b3d3f62264 button');\n",
              "      quickchartButtonEl.style.display =\n",
              "        google.colab.kernel.accessAllowed ? 'block' : 'none';\n",
              "    })();\n",
              "  </script>\n",
              "</div>\n",
              "\n",
              "    </div>\n",
              "  </div>\n"
            ],
            "application/vnd.google.colaboratory.intrinsic+json": {
              "type": "dataframe",
              "variable_name": "df",
              "summary": "{\n  \"name\": \"df\",\n  \"rows\": 1258,\n  \"fields\": [\n    {\n      \"column\": \"Date\",\n      \"properties\": {\n        \"dtype\": \"object\",\n        \"num_unique_values\": 1258,\n        \"samples\": [\n          \"3/28/2014\",\n          \"5/29/2012\",\n          \"3/16/2012\"\n        ],\n        \"semantic_type\": \"\",\n        \"description\": \"\"\n      }\n    },\n    {\n      \"column\": \"Open\",\n      \"properties\": {\n        \"dtype\": \"number\",\n        \"std\": 151.90444191569622,\n        \"min\": 279.12,\n        \"max\": 816.68,\n        \"num_unique_values\": 1215,\n        \"samples\": [\n          509.6,\n          536.91,\n          302.89\n        ],\n        \"semantic_type\": \"\",\n        \"description\": \"\"\n      }\n    },\n    {\n      \"column\": \"High\",\n      \"properties\": {\n        \"dtype\": \"number\",\n        \"std\": 153.0088108666111,\n        \"min\": 281.21,\n        \"max\": 816.68,\n        \"num_unique_values\": 1219,\n        \"samples\": [\n          564.88,\n          376.39,\n          304.45\n        ],\n        \"semantic_type\": \"\",\n        \"description\": \"\"\n      }\n    },\n    {\n      \"column\": \"Low\",\n      \"properties\": {\n        \"dtype\": \"number\",\n        \"std\": 150.5528073376813,\n        \"min\": 277.22,\n        \"max\": 805.14,\n        \"num_unique_values\": 1223,\n        \"samples\": [\n          583.4,\n          341.56,\n          335.78\n        ],\n        \"semantic_type\": \"\",\n        \"description\": \"\"\n      }\n    },\n    {\n      \"column\": \"Close\",\n      \"properties\": {\n        \"dtype\": \"string\",\n        \"num_unique_values\": 1241,\n        \"samples\": [\n          \"600.7\",\n          \"605.89\",\n          \"704.36\"\n        ],\n        \"semantic_type\": \"\",\n        \"description\": \"\"\n      }\n    },\n    {\n      \"column\": \"Volume\",\n      \"properties\": {\n        \"dtype\": \"string\",\n        \"num_unique_values\": 1240,\n        \"samples\": [\n          \"3,737,100\",\n          \"7,884,700\",\n          \"2,920,800\"\n        ],\n        \"semantic_type\": \"\",\n        \"description\": \"\"\n      }\n    }\n  ]\n}"
            }
          },
          "metadata": {},
          "execution_count": 4
        }
      ],
      "source": [
        "df.head()"
      ]
    },
    {
      "cell_type": "code",
      "execution_count": 5,
      "metadata": {
        "id": "wV224jy07KW-"
      },
      "outputs": [],
      "source": [
        "# Converte a coluna Date para o Tipo de Dados DateTime\n",
        "df['Date'] = pd.to_datetime(df['Date'])"
      ]
    },
    {
      "cell_type": "code",
      "execution_count": 6,
      "metadata": {
        "id": "nfzZhtAq7KW-"
      },
      "outputs": [],
      "source": [
        "# Coloca os valores em ordem crescente (caso não estivesse)\n",
        "df = df.sort_values(by = 'Date')"
      ]
    },
    {
      "cell_type": "code",
      "execution_count": 7,
      "metadata": {
        "id": "Z5Vqdf2G7KW-"
      },
      "outputs": [],
      "source": [
        "# Coloca a Classe Alvo como sendo a última coluna\n",
        "# Remove a coluna de Data, deixa apenas as de valores\n",
        "df = df[['Open', 'High', 'Low', 'Volume', 'Close']]"
      ]
    },
    {
      "cell_type": "code",
      "execution_count": 8,
      "metadata": {
        "colab": {
          "base_uri": "https://localhost:8080/"
        },
        "id": "evlN0Fue7KW-",
        "outputId": "10a7f36c-8c8f-4e49-8811-17ca10321fdc"
      },
      "outputs": [
        {
          "output_type": "stream",
          "name": "stdout",
          "text": [
            "<class 'pandas.core.frame.DataFrame'>\n",
            "RangeIndex: 1258 entries, 0 to 1257\n",
            "Data columns (total 5 columns):\n",
            " #   Column  Non-Null Count  Dtype  \n",
            "---  ------  --------------  -----  \n",
            " 0   Open    1258 non-null   float64\n",
            " 1   High    1258 non-null   float64\n",
            " 2   Low     1258 non-null   float64\n",
            " 3   Volume  1258 non-null   object \n",
            " 4   Close   1258 non-null   object \n",
            "dtypes: float64(3), object(2)\n",
            "memory usage: 49.3+ KB\n"
          ]
        }
      ],
      "source": [
        "df.info()"
      ]
    },
    {
      "cell_type": "code",
      "execution_count": 9,
      "metadata": {
        "id": "a9TqaQMn7KW-"
      },
      "outputs": [],
      "source": [
        "# Removendo a vírgula como separador de milhar na coluna 'Volume' e convertendo para float\n",
        "df['Volume'] = df['Volume'].str.replace(',', '').astype(int)\n",
        "\n",
        "# Removendo a vírgula como separador de milhar na coluna 'Close' e convertendo para float\n",
        "df['Close'] = df['Close'].str.replace(',', '').astype(float)"
      ]
    },
    {
      "cell_type": "code",
      "execution_count": 10,
      "metadata": {
        "colab": {
          "base_uri": "https://localhost:8080/"
        },
        "id": "iCf9luLt7KW_",
        "outputId": "2993b125-4ea3-42e9-924e-2d8495a6d658"
      },
      "outputs": [
        {
          "output_type": "stream",
          "name": "stdout",
          "text": [
            "<class 'pandas.core.frame.DataFrame'>\n",
            "RangeIndex: 1258 entries, 0 to 1257\n",
            "Data columns (total 5 columns):\n",
            " #   Column  Non-Null Count  Dtype  \n",
            "---  ------  --------------  -----  \n",
            " 0   Open    1258 non-null   float64\n",
            " 1   High    1258 non-null   float64\n",
            " 2   Low     1258 non-null   float64\n",
            " 3   Volume  1258 non-null   int64  \n",
            " 4   Close   1258 non-null   float64\n",
            "dtypes: float64(4), int64(1)\n",
            "memory usage: 49.3 KB\n"
          ]
        }
      ],
      "source": [
        "df.info()"
      ]
    },
    {
      "cell_type": "code",
      "execution_count": 11,
      "metadata": {
        "id": "XID4m39e7KW_"
      },
      "outputs": [],
      "source": [
        "import numpy as np\n",
        "\n",
        "def create_lookback_data(df, lookback):\n",
        "    \"\"\"\n",
        "    Função para criar dados de entrada e saída para uma LSTM usando uma janela de lookback.\n",
        "\n",
        "    Parâmetros:\n",
        "    df (DataFrame): DataFrame contendo os dados. A última coluna é a coluna alvo.\n",
        "    lookback (int): Número de dias para a janela de lookback.\n",
        "\n",
        "    Retorna:\n",
        "    X (numpy array): Dados de entrada para a LSTM, de formato (n_amostras, lookback, n_features).\n",
        "    y (numpy array): Dados de saída/targets, de formato (n_amostras,).\n",
        "    \"\"\"\n",
        "    data = df.values\n",
        "    X, y = [], []\n",
        "\n",
        "    for i in range(lookback, len(data)):\n",
        "        X.append(data[i - lookback:i, :])  # Todas as colunas exceto a última (características)\n",
        "        y.append(data[i, -1])               # Apenas a última coluna (alvo)\n",
        "\n",
        "    return np.array(X), np.array(y)"
      ]
    },
    {
      "cell_type": "code",
      "execution_count": 12,
      "metadata": {
        "colab": {
          "base_uri": "https://localhost:8080/"
        },
        "id": "zllSEmbo7KW_",
        "outputId": "e006d904-9d7a-43a0-eec4-aab816f3f98e"
      },
      "outputs": [
        {
          "output_type": "execute_result",
          "data": {
            "text/plain": [
              "10"
            ]
          },
          "metadata": {},
          "execution_count": 12
        }
      ],
      "source": [
        "array_exemplo = np.array([[1,1,1,1,'a'],\n",
        " [2,2,2,2,'b'],\n",
        " [3,3,3,3,'c'],\n",
        " [4,4,4,4,'d'],\n",
        " [5,5,5,5,'e'],\n",
        " [6,6,6,6,'f'],\n",
        " [7,7,7,7,'g'],\n",
        " [8,8,8,8,'h'],\n",
        " [9,9,9,9,'i'],\n",
        " [10,10,10,10,'j'],])\n",
        "len(array_exemplo)"
      ]
    },
    {
      "cell_type": "code",
      "execution_count": 13,
      "metadata": {
        "id": "mx69efXc7KW_"
      },
      "outputs": [],
      "source": [
        "lookback = 3\n",
        "X_exemplo, y_exemplo = [], []\n",
        "\n",
        "for i in range(lookback, len(array_exemplo)):\n",
        "        X_exemplo.append(array_exemplo[i - lookback:i, :])  # Todas as colunas exceto a última (características)\n",
        "        y_exemplo.append(array_exemplo[i, -1])"
      ]
    },
    {
      "cell_type": "code",
      "execution_count": 14,
      "metadata": {
        "colab": {
          "base_uri": "https://localhost:8080/"
        },
        "id": "xU1o-0Nr7KW_",
        "outputId": "aa90762f-c501-4ca2-f638-2387d52c7b1d"
      },
      "outputs": [
        {
          "output_type": "execute_result",
          "data": {
            "text/plain": [
              "7"
            ]
          },
          "metadata": {},
          "execution_count": 14
        }
      ],
      "source": [
        "len(X_exemplo)"
      ]
    },
    {
      "cell_type": "code",
      "execution_count": 15,
      "metadata": {
        "colab": {
          "base_uri": "https://localhost:8080/"
        },
        "id": "Y5TDEeKZ7KW_",
        "outputId": "d128397b-cd33-4c3d-b308-0a9507c89aeb"
      },
      "outputs": [
        {
          "output_type": "execute_result",
          "data": {
            "text/plain": [
              "7"
            ]
          },
          "metadata": {},
          "execution_count": 15
        }
      ],
      "source": [
        "len(y_exemplo)"
      ]
    },
    {
      "cell_type": "code",
      "execution_count": 16,
      "metadata": {
        "colab": {
          "base_uri": "https://localhost:8080/"
        },
        "id": "tvO9_PdB7KXA",
        "outputId": "a8700452-74c9-42b2-8cc2-7732f2f3bf9e"
      },
      "outputs": [
        {
          "output_type": "execute_result",
          "data": {
            "text/plain": [
              "array([['1', '1', '1', '1', 'a'],\n",
              "       ['2', '2', '2', '2', 'b'],\n",
              "       ['3', '3', '3', '3', 'c']], dtype='<U21')"
            ]
          },
          "metadata": {},
          "execution_count": 16
        }
      ],
      "source": [
        "# Tem os registros de a, b, c para prever o alvo d\n",
        "X_exemplo[0]"
      ]
    },
    {
      "cell_type": "code",
      "execution_count": 17,
      "metadata": {
        "colab": {
          "base_uri": "https://localhost:8080/",
          "height": 35
        },
        "id": "V2VD-exG7KXA",
        "outputId": "bf3f6e8e-79d6-4ba4-8808-7e9e8e5c8854"
      },
      "outputs": [
        {
          "output_type": "execute_result",
          "data": {
            "text/plain": [
              "'d'"
            ],
            "application/vnd.google.colaboratory.intrinsic+json": {
              "type": "string"
            }
          },
          "metadata": {},
          "execution_count": 17
        }
      ],
      "source": [
        "y_exemplo[0]"
      ]
    },
    {
      "cell_type": "code",
      "execution_count": 18,
      "metadata": {
        "colab": {
          "base_uri": "https://localhost:8080/"
        },
        "id": "12wqAGeQ7KXA",
        "outputId": "f3041277-f440-44ab-8cd6-8df79e069931"
      },
      "outputs": [
        {
          "output_type": "execute_result",
          "data": {
            "text/plain": [
              "array([['2', '2', '2', '2', 'b'],\n",
              "       ['3', '3', '3', '3', 'c'],\n",
              "       ['4', '4', '4', '4', 'd']], dtype='<U21')"
            ]
          },
          "metadata": {},
          "execution_count": 18
        }
      ],
      "source": [
        "# Tem os registros de b, c, d para prever o dia e\n",
        "X_exemplo[1]"
      ]
    },
    {
      "cell_type": "code",
      "execution_count": 19,
      "metadata": {
        "colab": {
          "base_uri": "https://localhost:8080/",
          "height": 35
        },
        "id": "LHQIfJQd7KXA",
        "outputId": "bb8f9528-7bdd-4d2c-d27a-9782f249f4ad"
      },
      "outputs": [
        {
          "output_type": "execute_result",
          "data": {
            "text/plain": [
              "'e'"
            ],
            "application/vnd.google.colaboratory.intrinsic+json": {
              "type": "string"
            }
          },
          "metadata": {},
          "execution_count": 19
        }
      ],
      "source": [
        "y_exemplo[1]"
      ]
    },
    {
      "cell_type": "code",
      "execution_count": 20,
      "metadata": {
        "colab": {
          "base_uri": "https://localhost:8080/"
        },
        "id": "g1Uzug6Z7KXA",
        "outputId": "fcca1a18-19d8-4a52-d6ab-9506a7535253"
      },
      "outputs": [
        {
          "output_type": "execute_result",
          "data": {
            "text/plain": [
              "array([['1', '1', '1', '1', 'a'],\n",
              "       ['2', '2', '2', '2', 'b'],\n",
              "       ['3', '3', '3', '3', 'c'],\n",
              "       ['4', '4', '4', '4', 'd'],\n",
              "       ['5', '5', '5', '5', 'e'],\n",
              "       ['6', '6', '6', '6', 'f'],\n",
              "       ['7', '7', '7', '7', 'g'],\n",
              "       ['8', '8', '8', '8', 'h'],\n",
              "       ['9', '9', '9', '9', 'i'],\n",
              "       ['10', '10', '10', '10', 'j']], dtype='<U21')"
            ]
          },
          "metadata": {},
          "execution_count": 20
        }
      ],
      "source": [
        "array_exemplo"
      ]
    },
    {
      "cell_type": "code",
      "execution_count": 21,
      "metadata": {
        "colab": {
          "base_uri": "https://localhost:8080/"
        },
        "id": "dS0zTXVZ7KXA",
        "outputId": "da8b3146-c511-45f1-ed1d-e6fcd702886b"
      },
      "outputs": [
        {
          "output_type": "stream",
          "name": "stdout",
          "text": [
            "Formato de X: (1198, 60, 5)\n",
            "Formato de y: (1198,)\n"
          ]
        }
      ],
      "source": [
        "lookback = 60\n",
        "X, y = create_lookback_data(df, lookback)\n",
        "\n",
        "print(f\"Formato de X: {X.shape}\")\n",
        "print(f\"Formato de y: {y.shape}\")\n"
      ]
    },
    {
      "cell_type": "code",
      "execution_count": 22,
      "metadata": {
        "id": "PI20pR5R7KXA"
      },
      "outputs": [],
      "source": [
        "X_train = X[:int(len(X) * 0.8)]\n",
        "X_test = X[int(len(X) * 0.8):]\n",
        "\n",
        "y_train = y[:int(len(y) * 0.8)]\n",
        "y_test = y[int(len(y) * 0.8):]"
      ]
    },
    {
      "cell_type": "code",
      "execution_count": 23,
      "metadata": {
        "id": "FLBuW8Pk7KXA"
      },
      "outputs": [],
      "source": [
        "# Normalizando os dados de treinamento\n",
        "scaler_X = MinMaxScaler(feature_range=(0, 1))\n",
        "scaler_y = MinMaxScaler(feature_range=(0, 1))\n",
        "\n",
        "X_train = scaler_X.fit_transform(X_train.reshape(-1, X_train.shape[-1])).reshape(X_train.shape)\n",
        "y_train = scaler_y.fit_transform(y_train.reshape(-1, 1))"
      ]
    },
    {
      "cell_type": "code",
      "execution_count": 24,
      "metadata": {
        "id": "XD7xhjje7KXB"
      },
      "outputs": [],
      "source": [
        "# Normalizando os dados de teste\n",
        "X_test = scaler_X.transform(X_test.reshape(-1, X_test.shape[-1])).reshape(X_test.shape)\n",
        "y_test = scaler_y.transform(y_test.reshape(-1, 1))"
      ]
    },
    {
      "cell_type": "code",
      "execution_count": 25,
      "metadata": {
        "colab": {
          "base_uri": "https://localhost:8080/"
        },
        "id": "_j6yg2w_7KXB",
        "outputId": "d8d52e2c-824f-425f-af5c-dd897ff65639"
      },
      "outputs": [
        {
          "output_type": "stream",
          "name": "stdout",
          "text": [
            "X_train shape: (958, 60, 5)\n",
            "y_train shape: (958, 1)\n",
            "X_test shape: (240, 60, 5)\n",
            "y_test shape: (240, 1)\n"
          ]
        }
      ],
      "source": [
        "# Verificando as formas dos conjuntos de dados\n",
        "print(\"X_train shape:\", X_train.shape)\n",
        "print(\"y_train shape:\", y_train.shape)\n",
        "print(\"X_test shape:\", X_test.shape)\n",
        "print(\"y_test shape:\", y_test.shape)"
      ]
    },
    {
      "cell_type": "code",
      "execution_count": 26,
      "metadata": {
        "colab": {
          "base_uri": "https://localhost:8080/",
          "height": 361
        },
        "id": "m0jDhIIr7KXB",
        "outputId": "d58c4f6b-439f-4284-bdc7-87d80f0f83d3"
      },
      "outputs": [
        {
          "output_type": "stream",
          "name": "stderr",
          "text": [
            "/usr/local/lib/python3.10/dist-packages/keras/src/layers/rnn/rnn.py:204: UserWarning: Do not pass an `input_shape`/`input_dim` argument to a layer. When using Sequential models, prefer using an `Input(shape)` object as the first layer in the model instead.\n",
            "  super().__init__(**kwargs)\n"
          ]
        },
        {
          "output_type": "display_data",
          "data": {
            "text/plain": [
              "\u001b[1mModel: \"sequential_1\"\u001b[0m\n"
            ],
            "text/html": [
              "<pre style=\"white-space:pre;overflow-x:auto;line-height:normal;font-family:Menlo,'DejaVu Sans Mono',consolas,'Courier New',monospace\"><span style=\"font-weight: bold\">Model: \"sequential_1\"</span>\n",
              "</pre>\n"
            ]
          },
          "metadata": {}
        },
        {
          "output_type": "display_data",
          "data": {
            "text/plain": [
              "┏━━━━━━━━━━━━━━━━━━━━━━━━━━━━━━━━━━━━━━┳━━━━━━━━━━━━━━━━━━━━━━━━━━━━━┳━━━━━━━━━━━━━━━━━┓\n",
              "┃\u001b[1m \u001b[0m\u001b[1mLayer (type)                        \u001b[0m\u001b[1m \u001b[0m┃\u001b[1m \u001b[0m\u001b[1mOutput Shape               \u001b[0m\u001b[1m \u001b[0m┃\u001b[1m \u001b[0m\u001b[1m        Param #\u001b[0m\u001b[1m \u001b[0m┃\n",
              "┡━━━━━━━━━━━━━━━━━━━━━━━━━━━━━━━━━━━━━━╇━━━━━━━━━━━━━━━━━━━━━━━━━━━━━╇━━━━━━━━━━━━━━━━━┩\n",
              "│ lstm_2 (\u001b[38;5;33mLSTM\u001b[0m)                        │ (\u001b[38;5;45mNone\u001b[0m, \u001b[38;5;34m60\u001b[0m, \u001b[38;5;34m50\u001b[0m)              │          \u001b[38;5;34m11,200\u001b[0m │\n",
              "├──────────────────────────────────────┼─────────────────────────────┼─────────────────┤\n",
              "│ dropout (\u001b[38;5;33mDropout\u001b[0m)                    │ (\u001b[38;5;45mNone\u001b[0m, \u001b[38;5;34m60\u001b[0m, \u001b[38;5;34m50\u001b[0m)              │               \u001b[38;5;34m0\u001b[0m │\n",
              "├──────────────────────────────────────┼─────────────────────────────┼─────────────────┤\n",
              "│ lstm_3 (\u001b[38;5;33mLSTM\u001b[0m)                        │ (\u001b[38;5;45mNone\u001b[0m, \u001b[38;5;34m50\u001b[0m)                  │          \u001b[38;5;34m20,200\u001b[0m │\n",
              "├──────────────────────────────────────┼─────────────────────────────┼─────────────────┤\n",
              "│ dropout_1 (\u001b[38;5;33mDropout\u001b[0m)                  │ (\u001b[38;5;45mNone\u001b[0m, \u001b[38;5;34m50\u001b[0m)                  │               \u001b[38;5;34m0\u001b[0m │\n",
              "├──────────────────────────────────────┼─────────────────────────────┼─────────────────┤\n",
              "│ dense_1 (\u001b[38;5;33mDense\u001b[0m)                      │ (\u001b[38;5;45mNone\u001b[0m, \u001b[38;5;34m1\u001b[0m)                   │              \u001b[38;5;34m51\u001b[0m │\n",
              "└──────────────────────────────────────┴─────────────────────────────┴─────────────────┘\n"
            ],
            "text/html": [
              "<pre style=\"white-space:pre;overflow-x:auto;line-height:normal;font-family:Menlo,'DejaVu Sans Mono',consolas,'Courier New',monospace\">┏━━━━━━━━━━━━━━━━━━━━━━━━━━━━━━━━━━━━━━┳━━━━━━━━━━━━━━━━━━━━━━━━━━━━━┳━━━━━━━━━━━━━━━━━┓\n",
              "┃<span style=\"font-weight: bold\"> Layer (type)                         </span>┃<span style=\"font-weight: bold\"> Output Shape                </span>┃<span style=\"font-weight: bold\">         Param # </span>┃\n",
              "┡━━━━━━━━━━━━━━━━━━━━━━━━━━━━━━━━━━━━━━╇━━━━━━━━━━━━━━━━━━━━━━━━━━━━━╇━━━━━━━━━━━━━━━━━┩\n",
              "│ lstm_2 (<span style=\"color: #0087ff; text-decoration-color: #0087ff\">LSTM</span>)                        │ (<span style=\"color: #00d7ff; text-decoration-color: #00d7ff\">None</span>, <span style=\"color: #00af00; text-decoration-color: #00af00\">60</span>, <span style=\"color: #00af00; text-decoration-color: #00af00\">50</span>)              │          <span style=\"color: #00af00; text-decoration-color: #00af00\">11,200</span> │\n",
              "├──────────────────────────────────────┼─────────────────────────────┼─────────────────┤\n",
              "│ dropout (<span style=\"color: #0087ff; text-decoration-color: #0087ff\">Dropout</span>)                    │ (<span style=\"color: #00d7ff; text-decoration-color: #00d7ff\">None</span>, <span style=\"color: #00af00; text-decoration-color: #00af00\">60</span>, <span style=\"color: #00af00; text-decoration-color: #00af00\">50</span>)              │               <span style=\"color: #00af00; text-decoration-color: #00af00\">0</span> │\n",
              "├──────────────────────────────────────┼─────────────────────────────┼─────────────────┤\n",
              "│ lstm_3 (<span style=\"color: #0087ff; text-decoration-color: #0087ff\">LSTM</span>)                        │ (<span style=\"color: #00d7ff; text-decoration-color: #00d7ff\">None</span>, <span style=\"color: #00af00; text-decoration-color: #00af00\">50</span>)                  │          <span style=\"color: #00af00; text-decoration-color: #00af00\">20,200</span> │\n",
              "├──────────────────────────────────────┼─────────────────────────────┼─────────────────┤\n",
              "│ dropout_1 (<span style=\"color: #0087ff; text-decoration-color: #0087ff\">Dropout</span>)                  │ (<span style=\"color: #00d7ff; text-decoration-color: #00d7ff\">None</span>, <span style=\"color: #00af00; text-decoration-color: #00af00\">50</span>)                  │               <span style=\"color: #00af00; text-decoration-color: #00af00\">0</span> │\n",
              "├──────────────────────────────────────┼─────────────────────────────┼─────────────────┤\n",
              "│ dense_1 (<span style=\"color: #0087ff; text-decoration-color: #0087ff\">Dense</span>)                      │ (<span style=\"color: #00d7ff; text-decoration-color: #00d7ff\">None</span>, <span style=\"color: #00af00; text-decoration-color: #00af00\">1</span>)                   │              <span style=\"color: #00af00; text-decoration-color: #00af00\">51</span> │\n",
              "└──────────────────────────────────────┴─────────────────────────────┴─────────────────┘\n",
              "</pre>\n"
            ]
          },
          "metadata": {}
        },
        {
          "output_type": "display_data",
          "data": {
            "text/plain": [
              "\u001b[1m Total params: \u001b[0m\u001b[38;5;34m31,451\u001b[0m (122.86 KB)\n"
            ],
            "text/html": [
              "<pre style=\"white-space:pre;overflow-x:auto;line-height:normal;font-family:Menlo,'DejaVu Sans Mono',consolas,'Courier New',monospace\"><span style=\"font-weight: bold\"> Total params: </span><span style=\"color: #00af00; text-decoration-color: #00af00\">31,451</span> (122.86 KB)\n",
              "</pre>\n"
            ]
          },
          "metadata": {}
        },
        {
          "output_type": "display_data",
          "data": {
            "text/plain": [
              "\u001b[1m Trainable params: \u001b[0m\u001b[38;5;34m31,451\u001b[0m (122.86 KB)\n"
            ],
            "text/html": [
              "<pre style=\"white-space:pre;overflow-x:auto;line-height:normal;font-family:Menlo,'DejaVu Sans Mono',consolas,'Courier New',monospace\"><span style=\"font-weight: bold\"> Trainable params: </span><span style=\"color: #00af00; text-decoration-color: #00af00\">31,451</span> (122.86 KB)\n",
              "</pre>\n"
            ]
          },
          "metadata": {}
        },
        {
          "output_type": "display_data",
          "data": {
            "text/plain": [
              "\u001b[1m Non-trainable params: \u001b[0m\u001b[38;5;34m0\u001b[0m (0.00 B)\n"
            ],
            "text/html": [
              "<pre style=\"white-space:pre;overflow-x:auto;line-height:normal;font-family:Menlo,'DejaVu Sans Mono',consolas,'Courier New',monospace\"><span style=\"font-weight: bold\"> Non-trainable params: </span><span style=\"color: #00af00; text-decoration-color: #00af00\">0</span> (0.00 B)\n",
              "</pre>\n"
            ]
          },
          "metadata": {}
        }
      ],
      "source": [
        "import tensorflow as tf\n",
        "from tensorflow.keras.models import Sequential\n",
        "from tensorflow.keras.layers import LSTM, Dense, Dropout\n",
        "from tensorflow.keras.regularizers import l2\n",
        "\n",
        "# Definindo a arquitetura do modelo LSTM\n",
        "model = Sequential()\n",
        "\n",
        "# Adicionando a primeira camada LSTM\n",
        "# 50 unidades, ativação tanh, com return_sequences=True para retornar todas as saídas da sequência\n",
        "# Aplicando regularização de kernel l2 para evitar overfitting\n",
        "# input_shape=(timesteps, features) - use a forma dos seus dados de entrada\n",
        "model.add(LSTM(units=50, activation='tanh', return_sequences=True,\n",
        "               kernel_regularizer=l2(0.01), input_shape=(X_train.shape[1], X_train.shape[2])))\n",
        "\n",
        "# Adicionando uma camada Dropout com taxa de 0.2 para evitar overfitting\n",
        "model.add(Dropout(0.2))\n",
        "\n",
        "# Adicionando a segunda camada LSTM\n",
        "# 50 unidades, ativação tanh, sem return_sequences porque é a última camada LSTM antes da camada densa\n",
        "# Aplicando regularização de kernel l2\n",
        "model.add(LSTM(units=50, activation='tanh', kernel_regularizer=l2(0.01)))\n",
        "\n",
        "# Adicionando uma segunda camada Dropout com taxa de 0.2 para regularização adicional\n",
        "model.add(Dropout(0.2))\n",
        "\n",
        "# Adicionando uma camada densa (fully connected) com 1 unidade para gerar a previsão final do modelo\n",
        "model.add(Dense(units=1))\n",
        "\n",
        "# Compilando o modelo com otimizador adam e função de perda mean_squared_error\n",
        "model.compile(optimizer='adam', loss='mean_squared_error')\n",
        "\n",
        "# Exibindo a arquitetura do modelo\n",
        "model.summary()\n"
      ]
    },
    {
      "cell_type": "code",
      "execution_count": 27,
      "metadata": {
        "colab": {
          "base_uri": "https://localhost:8080/"
        },
        "id": "Vu3G8Caj7KXC",
        "outputId": "c40808a1-3c9e-4a5a-d63f-a4b3cd043fb0"
      },
      "outputs": [
        {
          "output_type": "stream",
          "name": "stdout",
          "text": [
            "Epoch 1/100\n",
            "27/27 - 5s - 192ms/step - loss: 0.7575 - val_loss: 0.5611\n",
            "Epoch 2/100\n",
            "27/27 - 1s - 51ms/step - loss: 0.4516 - val_loss: 0.3405\n",
            "Epoch 3/100\n",
            "27/27 - 3s - 102ms/step - loss: 0.2711 - val_loss: 0.2032\n",
            "Epoch 4/100\n",
            "27/27 - 3s - 116ms/step - loss: 0.1635 - val_loss: 0.1180\n",
            "Epoch 5/100\n",
            "27/27 - 2s - 65ms/step - loss: 0.1014 - val_loss: 0.0758\n",
            "Epoch 6/100\n",
            "27/27 - 3s - 93ms/step - loss: 0.0651 - val_loss: 0.0491\n",
            "Epoch 7/100\n",
            "27/27 - 1s - 49ms/step - loss: 0.0439 - val_loss: 0.0319\n",
            "Epoch 8/100\n",
            "27/27 - 3s - 95ms/step - loss: 0.0329 - val_loss: 0.0218\n",
            "Epoch 9/100\n",
            "27/27 - 3s - 120ms/step - loss: 0.0261 - val_loss: 0.0270\n",
            "Epoch 10/100\n",
            "27/27 - 2s - 92ms/step - loss: 0.0219 - val_loss: 0.0152\n",
            "Epoch 11/100\n",
            "27/27 - 1s - 50ms/step - loss: 0.0198 - val_loss: 0.0131\n",
            "Epoch 12/100\n",
            "27/27 - 3s - 95ms/step - loss: 0.0161 - val_loss: 0.0104\n",
            "Epoch 13/100\n",
            "27/27 - 1s - 51ms/step - loss: 0.0150 - val_loss: 0.0136\n",
            "Epoch 14/100\n",
            "27/27 - 1s - 52ms/step - loss: 0.0147 - val_loss: 0.0099\n",
            "Epoch 15/100\n",
            "27/27 - 3s - 94ms/step - loss: 0.0131 - val_loss: 0.0159\n",
            "Epoch 16/100\n",
            "27/27 - 3s - 125ms/step - loss: 0.0132 - val_loss: 0.0124\n",
            "Epoch 17/100\n",
            "27/27 - 2s - 61ms/step - loss: 0.0115 - val_loss: 0.0095\n",
            "Epoch 18/100\n",
            "27/27 - 2s - 84ms/step - loss: 0.0116 - val_loss: 0.0171\n",
            "Epoch 19/100\n",
            "27/27 - 3s - 93ms/step - loss: 0.0109 - val_loss: 0.0108\n",
            "Epoch 20/100\n",
            "27/27 - 1s - 51ms/step - loss: 0.0106 - val_loss: 0.0050\n",
            "Epoch 21/100\n",
            "27/27 - 1s - 51ms/step - loss: 0.0103 - val_loss: 0.0141\n",
            "Epoch 22/100\n",
            "27/27 - 4s - 130ms/step - loss: 0.0103 - val_loss: 0.0136\n",
            "Epoch 23/100\n",
            "27/27 - 2s - 59ms/step - loss: 0.0114 - val_loss: 0.0100\n",
            "Epoch 24/100\n",
            "27/27 - 3s - 95ms/step - loss: 0.0097 - val_loss: 0.0074\n",
            "Epoch 25/100\n",
            "27/27 - 3s - 124ms/step - loss: 0.0099 - val_loss: 0.0111\n",
            "Epoch 26/100\n",
            "27/27 - 1s - 50ms/step - loss: 0.0093 - val_loss: 0.0118\n",
            "Epoch 27/100\n",
            "27/27 - 3s - 128ms/step - loss: 0.0084 - val_loss: 0.0074\n",
            "Epoch 28/100\n",
            "27/27 - 2s - 83ms/step - loss: 0.0099 - val_loss: 0.0038\n",
            "Epoch 29/100\n",
            "27/27 - 2s - 72ms/step - loss: 0.0094 - val_loss: 0.0096\n",
            "Epoch 30/100\n",
            "27/27 - 1s - 50ms/step - loss: 0.0087 - val_loss: 0.0110\n",
            "Epoch 31/100\n",
            "27/27 - 1s - 50ms/step - loss: 0.0092 - val_loss: 0.0113\n",
            "Epoch 32/100\n",
            "27/27 - 3s - 94ms/step - loss: 0.0102 - val_loss: 0.0046\n",
            "Epoch 33/100\n",
            "27/27 - 1s - 51ms/step - loss: 0.0092 - val_loss: 0.0091\n",
            "Epoch 34/100\n",
            "27/27 - 2s - 62ms/step - loss: 0.0099 - val_loss: 0.0057\n",
            "Epoch 35/100\n",
            "27/27 - 3s - 105ms/step - loss: 0.0083 - val_loss: 0.0048\n",
            "Epoch 36/100\n",
            "27/27 - 2s - 73ms/step - loss: 0.0090 - val_loss: 0.0142\n",
            "Epoch 37/100\n",
            "27/27 - 1s - 51ms/step - loss: 0.0083 - val_loss: 0.0071\n",
            "Epoch 38/100\n",
            "27/27 - 1s - 51ms/step - loss: 0.0083 - val_loss: 0.0056\n",
            "Epoch 39/100\n",
            "27/27 - 3s - 94ms/step - loss: 0.0111 - val_loss: 0.0043\n",
            "Epoch 40/100\n",
            "27/27 - 1s - 51ms/step - loss: 0.0080 - val_loss: 0.0040\n",
            "Epoch 41/100\n",
            "27/27 - 2s - 65ms/step - loss: 0.0088 - val_loss: 0.0038\n",
            "Epoch 42/100\n",
            "27/27 - 2s - 86ms/step - loss: 0.0092 - val_loss: 0.0055\n",
            "Epoch 43/100\n",
            "27/27 - 2s - 63ms/step - loss: 0.0078 - val_loss: 0.0098\n",
            "Epoch 44/100\n",
            "27/27 - 2s - 90ms/step - loss: 0.0075 - val_loss: 0.0049\n",
            "Epoch 45/100\n",
            "27/27 - 3s - 95ms/step - loss: 0.0083 - val_loss: 0.0060\n",
            "Epoch 46/100\n",
            "27/27 - 3s - 93ms/step - loss: 0.0083 - val_loss: 0.0068\n",
            "Epoch 47/100\n",
            "27/27 - 2s - 56ms/step - loss: 0.0084 - val_loss: 0.0050\n",
            "Epoch 48/100\n",
            "27/27 - 3s - 123ms/step - loss: 0.0078 - val_loss: 0.0101\n",
            "Epoch 49/100\n",
            "27/27 - 1s - 51ms/step - loss: 0.0080 - val_loss: 0.0038\n",
            "Epoch 50/100\n",
            "27/27 - 3s - 93ms/step - loss: 0.0076 - val_loss: 0.0050\n",
            "Epoch 51/100\n",
            "27/27 - 1s - 53ms/step - loss: 0.0080 - val_loss: 0.0049\n",
            "Epoch 52/100\n",
            "27/27 - 3s - 94ms/step - loss: 0.0076 - val_loss: 0.0036\n",
            "Epoch 53/100\n",
            "27/27 - 3s - 105ms/step - loss: 0.0079 - val_loss: 0.0057\n",
            "Epoch 54/100\n",
            "27/27 - 3s - 110ms/step - loss: 0.0081 - val_loss: 0.0055\n",
            "Epoch 55/100\n",
            "27/27 - 2s - 65ms/step - loss: 0.0091 - val_loss: 0.0032\n",
            "Epoch 56/100\n",
            "27/27 - 1s - 50ms/step - loss: 0.0072 - val_loss: 0.0043\n",
            "Epoch 57/100\n",
            "27/27 - 3s - 94ms/step - loss: 0.0074 - val_loss: 0.0037\n",
            "Epoch 58/100\n",
            "27/27 - 3s - 95ms/step - loss: 0.0081 - val_loss: 0.0139\n",
            "Epoch 59/100\n",
            "27/27 - 3s - 124ms/step - loss: 0.0092 - val_loss: 0.0044\n",
            "Epoch 60/100\n",
            "27/27 - 2s - 90ms/step - loss: 0.0086 - val_loss: 0.0150\n",
            "Epoch 61/100\n",
            "27/27 - 2s - 68ms/step - loss: 0.0099 - val_loss: 0.0038\n",
            "Epoch 62/100\n",
            "27/27 - 1s - 50ms/step - loss: 0.0085 - val_loss: 0.0052\n",
            "Epoch 63/100\n",
            "27/27 - 1s - 51ms/step - loss: 0.0087 - val_loss: 0.0036\n",
            "Epoch 64/100\n",
            "27/27 - 3s - 95ms/step - loss: 0.0070 - val_loss: 0.0063\n",
            "Epoch 65/100\n",
            "27/27 - 1s - 52ms/step - loss: 0.0068 - val_loss: 0.0068\n",
            "Epoch 66/100\n",
            "27/27 - 3s - 127ms/step - loss: 0.0082 - val_loss: 0.0063\n",
            "Epoch 67/100\n",
            "27/27 - 2s - 78ms/step - loss: 0.0077 - val_loss: 0.0037\n",
            "Epoch 68/100\n",
            "27/27 - 2s - 68ms/step - loss: 0.0082 - val_loss: 0.0086\n",
            "Epoch 69/100\n",
            "27/27 - 1s - 51ms/step - loss: 0.0085 - val_loss: 0.0045\n",
            "Epoch 70/100\n",
            "27/27 - 1s - 52ms/step - loss: 0.0083 - val_loss: 0.0051\n",
            "Epoch 71/100\n",
            "27/27 - 1s - 52ms/step - loss: 0.0072 - val_loss: 0.0041\n",
            "Epoch 72/100\n",
            "27/27 - 2s - 92ms/step - loss: 0.0070 - val_loss: 0.0059\n",
            "Epoch 73/100\n",
            "27/27 - 2s - 58ms/step - loss: 0.0067 - val_loss: 0.0053\n",
            "Epoch 74/100\n",
            "27/27 - 2s - 86ms/step - loss: 0.0067 - val_loss: 0.0030\n",
            "Epoch 75/100\n",
            "27/27 - 2s - 64ms/step - loss: 0.0074 - val_loss: 0.0071\n",
            "Epoch 76/100\n",
            "27/27 - 1s - 51ms/step - loss: 0.0073 - val_loss: 0.0057\n",
            "Epoch 77/100\n",
            "27/27 - 1s - 51ms/step - loss: 0.0074 - val_loss: 0.0041\n",
            "Epoch 78/100\n",
            "27/27 - 3s - 93ms/step - loss: 0.0070 - val_loss: 0.0106\n",
            "Epoch 79/100\n",
            "27/27 - 1s - 50ms/step - loss: 0.0071 - val_loss: 0.0031\n",
            "Epoch 80/100\n",
            "27/27 - 1s - 49ms/step - loss: 0.0072 - val_loss: 0.0072\n",
            "Epoch 81/100\n",
            "27/27 - 4s - 130ms/step - loss: 0.0072 - val_loss: 0.0102\n",
            "Epoch 82/100\n",
            "27/27 - 2s - 61ms/step - loss: 0.0092 - val_loss: 0.0052\n",
            "Epoch 83/100\n",
            "27/27 - 1s - 50ms/step - loss: 0.0087 - val_loss: 0.0031\n",
            "Epoch 84/100\n",
            "27/27 - 3s - 94ms/step - loss: 0.0093 - val_loss: 0.0061\n",
            "Epoch 85/100\n",
            "27/27 - 3s - 94ms/step - loss: 0.0074 - val_loss: 0.0038\n",
            "Epoch 86/100\n",
            "27/27 - 3s - 94ms/step - loss: 0.0068 - val_loss: 0.0029\n",
            "Epoch 87/100\n",
            "27/27 - 2s - 84ms/step - loss: 0.0066 - val_loss: 0.0117\n",
            "Epoch 88/100\n",
            "27/27 - 2s - 79ms/step - loss: 0.0074 - val_loss: 0.0028\n",
            "Epoch 89/100\n",
            "27/27 - 1s - 49ms/step - loss: 0.0071 - val_loss: 0.0032\n",
            "Epoch 90/100\n",
            "27/27 - 3s - 95ms/step - loss: 0.0085 - val_loss: 0.0050\n",
            "Epoch 91/100\n",
            "27/27 - 1s - 51ms/step - loss: 0.0072 - val_loss: 0.0080\n",
            "Epoch 92/100\n",
            "27/27 - 1s - 50ms/step - loss: 0.0065 - val_loss: 0.0030\n",
            "Epoch 93/100\n",
            "27/27 - 3s - 93ms/step - loss: 0.0071 - val_loss: 0.0084\n",
            "Epoch 94/100\n",
            "27/27 - 3s - 125ms/step - loss: 0.0071 - val_loss: 0.0048\n",
            "Epoch 95/100\n",
            "27/27 - 2s - 64ms/step - loss: 0.0072 - val_loss: 0.0036\n",
            "Epoch 96/100\n",
            "27/27 - 1s - 51ms/step - loss: 0.0069 - val_loss: 0.0052\n",
            "Epoch 97/100\n",
            "27/27 - 1s - 51ms/step - loss: 0.0069 - val_loss: 0.0073\n",
            "Epoch 98/100\n",
            "27/27 - 1s - 51ms/step - loss: 0.0089 - val_loss: 0.0034\n",
            "Epoch 99/100\n",
            "27/27 - 1s - 51ms/step - loss: 0.0090 - val_loss: 0.0034\n",
            "Epoch 100/100\n",
            "27/27 - 3s - 95ms/step - loss: 0.0072 - val_loss: 0.0040\n"
          ]
        }
      ],
      "source": [
        "history = model.fit(X_train, y_train, epochs=100, batch_size=32, validation_split=0.1, verbose=2)"
      ]
    },
    {
      "cell_type": "code",
      "execution_count": 28,
      "metadata": {
        "colab": {
          "base_uri": "https://localhost:8080/",
          "height": 567
        },
        "id": "U1qwU67A7KXC",
        "outputId": "fb14355a-48a4-41bf-aa8e-10c05accc5b9"
      },
      "outputs": [
        {
          "output_type": "display_data",
          "data": {
            "text/plain": [
              "<Figure size 1200x600 with 1 Axes>"
            ],
            "image/png": "[encoded data removed]"
          },
          "metadata": {}
        }
      ],
      "source": [
        "import matplotlib.pyplot as plt\n",
        "plt.figure(figsize=(12, 6))\n",
        "\n",
        "# Plotando a perda de treinamento\n",
        "plt.plot(history.history['loss'], label='Perda de Treinamento')\n",
        "\n",
        "# Plotando a perda de validação\n",
        "plt.plot(history.history['val_loss'], label='Perda de Validação')\n",
        "\n",
        "# Adicionando título e legendas\n",
        "plt.title('Histórico de Treinamento e Validação')\n",
        "plt.xlabel('Épocas')\n",
        "plt.ylabel('Perda')\n",
        "plt.legend()\n",
        "\n",
        "# Exibindo o gráfico\n",
        "plt.show()"
      ]
    },
    {
      "cell_type": "code",
      "execution_count": 29,
      "metadata": {
        "colab": {
          "base_uri": "https://localhost:8080/"
        },
        "id": "LiEiHHR37KXC",
        "outputId": "69e98767-67ed-452b-f3b6-e6c655747c24"
      },
      "outputs": [
        {
          "output_type": "stream",
          "name": "stdout",
          "text": [
            "\u001b[1m30/30\u001b[0m \u001b[32m━━━━━━━━━━━━━━━━━━━━\u001b[0m\u001b[37m\u001b[0m \u001b[1m2s\u001b[0m 40ms/step\n",
            "\u001b[1m8/8\u001b[0m \u001b[32m━━━━━━━━━━━━━━━━━━━━\u001b[0m\u001b[37m\u001b[0m \u001b[1m0s\u001b[0m 15ms/step\n"
          ]
        }
      ],
      "source": [
        "# Fazendo previsões\n",
        "train_predict = model.predict(X_train)\n",
        "test_predict = model.predict(X_test)\n",
        "\n",
        "# Invertendo a normalização para obter os valores reais\n",
        "train_predict = scaler_y.inverse_transform(train_predict)\n",
        "test_predict = scaler_y.inverse_transform(test_predict)\n",
        "y_train = scaler_y.inverse_transform(y_train.reshape(-1, 1))\n",
        "y_test = scaler_y.inverse_transform(y_test.reshape(-1, 1))"
      ]
    },
    {
      "cell_type": "code",
      "execution_count": 30,
      "metadata": {
        "colab": {
          "base_uri": "https://localhost:8080/",
          "height": 546
        },
        "id": "TDQDuTa57KXC",
        "outputId": "5b20bd2f-0530-4def-92bc-047712f7f3ff"
      },
      "outputs": [
        {
          "output_type": "display_data",
          "data": {
            "text/plain": [
              "<Figure size 1200x600 with 1 Axes>"
            ],
            "image/png": "[encoded data removed]"
          },
          "metadata": {}
        }
      ],
      "source": [
        "# Plotando os resultados\n",
        "plt.figure(figsize=(12, 6))\n",
        "train_range = range(lookback, lookback + len(train_predict))\n",
        "test_range = range(lookback + len(train_predict), lookback + len(train_predict) + len(test_predict))\n",
        "plt.plot(train_range, y_train, label='Real de treino', color='green')\n",
        "plt.plot(test_range, y_test, label='Real de teste', color='green')\n",
        "plt.plot(train_range, train_predict, label='Previsões de treino')\n",
        "plt.plot(test_range, test_predict, label='Previsões de teste')\n",
        "plt.xlabel('Dias')\n",
        "plt.ylabel('Preço de Fechamento Normalizado')\n",
        "plt.legend()\n",
        "plt.show()"
      ]
    },
    {
      "cell_type": "code",
      "execution_count": 31,
      "metadata": {
        "id": "GEKN-fOQ7KXC"
      },
      "outputs": [],
      "source": [
        "from sklearn.metrics import mean_absolute_error, mean_squared_error, r2_score\n",
        "\n",
        "def regression_metrics(y_test, test_predict):\n",
        "    # Calculando MAE\n",
        "    mae = mean_absolute_error(y_test, test_predict)\n",
        "\n",
        "    # Calculando MSE\n",
        "    mse = mean_squared_error(y_test, test_predict)\n",
        "\n",
        "    # Calculando RMSE\n",
        "    rmse = np.sqrt(mse)\n",
        "\n",
        "    # Calculando R²\n",
        "    r2 = r2_score(y_test, test_predict)\n",
        "\n",
        "    # Exibindo os resultados\n",
        "    print(f'Mean Absolute Error (MAE): {mae}')\n",
        "    print(f'Mean Squared Error (MSE): {mse}')\n",
        "    print(f'Root Mean Squared Error (RMSE): {rmse}')\n",
        "    print(f'Coefficient of Determination (R²): {r2}')"
      ]
    },
    {
      "cell_type": "code",
      "execution_count": 32,
      "metadata": {
        "colab": {
          "base_uri": "https://localhost:8080/"
        },
        "id": "PkV0bImh7KXM",
        "outputId": "6b45135b-19aa-4062-8ccf-1ecdcdb3b66c"
      },
      "outputs": [
        {
          "output_type": "stream",
          "name": "stdout",
          "text": [
            "Mean Absolute Error (MAE): 27.21787876383463\n",
            "Mean Squared Error (MSE): 948.7624700206995\n",
            "Root Mean Squared Error (RMSE): 30.80198808552298\n",
            "Coefficient of Determination (R²): 0.2054278175968599\n"
          ]
        }
      ],
      "source": [
        "regression_metrics(y_test, test_predict)"
      ]
    },
    {
      "cell_type": "code",
      "execution_count": 33,
      "metadata": {
        "colab": {
          "base_uri": "https://localhost:8080/"
        },
        "id": "Uhd9sSq07KXM",
        "outputId": "45f72578-a0c5-4f3a-af95-d29008232b88"
      },
      "outputs": [
        {
          "output_type": "stream",
          "name": "stdout",
          "text": [
            "Mean Absolute Error (MAE): 26.023597775262182\n",
            "Mean Squared Error (MSE): 1809.1815573698238\n",
            "Root Mean Squared Error (RMSE): 42.53447492763751\n",
            "Coefficient of Determination (R²): 0.9474241017759054\n"
          ]
        }
      ],
      "source": [
        "regression_metrics(y_train, train_predict)"
      ]
    },
    {
      "cell_type": "code",
      "execution_count": 34,
      "metadata": {
        "id": "3BkZehko7KXM"
      },
      "outputs": [],
      "source": [
        "df = pd.read_csv('clima_tempo.csv')"
      ]
    },
    {
      "cell_type": "markdown",
      "metadata": {
        "id": "8_7aT_Nn7KXM"
      },
      "source": [
        "## Exercícios de Análise de Séries Temporais da temperatura da Índia\n",
        "\n",
        "1. **Leitura dos Dados**\n",
        "   - Leia a base de dados clima_tempo.csv.\n",
        "\n",
        "2. **Seleção dos Dados**\n",
        "   - Use todos os dados exceto a coluna de data (Mas antes coloque os dados em ordem crescente de data).\n",
        "\n",
        "3. **Definição de X e Y**\n",
        "   - Defina `X` e `y` considerando o valor dos últimos 10 dias para previsão.\n",
        "\n",
        "4. **Separação em Treinamento e Teste**\n",
        "   - Separe os dados em conjuntos de treinamento e teste, utilizando 15% das datas mais recentes para o conjunto de teste.\n",
        "\n",
        "5. **Normalização dos Dados de Treinamento**\n",
        "   - Normalize `X` e `y` de treinamento usando `fit_transform`.\n",
        "\n",
        "6. **Normalização dos Dados de Teste**\n",
        "   - Normalize `X` e `y` de teste usando `transform`.\n",
        "\n",
        "7. **Definição do Modelo**\n",
        "   - Defina uma estrutura de LSTM para o tratamento dos dados.\n",
        "\n",
        "8. **Treinamento do Modelo**\n",
        "   - Treine o modelo utilizando 5% dos dados de treinamento para validação.\n",
        "\n",
        "9. **Visualização do Histórico de Treinamento**\n",
        "   - Exiba o gráfico de perda (`loss`) de treinamento e validação.\n",
        "\n",
        "10. **Previsão com Dados de Teste**\n",
        "    - Faça previsões utilizando os dados de teste.\n",
        "\n",
        "11. **Desnormalização das Previsões**\n",
        "    - Desnormalize as previsões de teste e o `y` de teste para obter valores em escala real.\n",
        "\n",
        "12. **Exibir as Métricas de Regressão**\n",
        "    - Exiba as métricas de regressão para avaliar o desempenho do modelo nas previsões."
      ]
    },
    {
      "cell_type": "code",
      "execution_count": 2,
      "metadata": {
        "colab": {
          "base_uri": "https://localhost:8080/",
          "height": 206
        },
        "id": "FjB-_nNz7KXM",
        "outputId": "9acaeb4e-1486-474d-9e07-8f64295c0d7f"
      },
      "outputs": [
        {
          "output_type": "execute_result",
          "data": {
            "text/plain": [
              "         data  temperatura    umidade  velocidade_vento      pressao\n",
              "0  2013-01-01    10.000000  84.500000          0.000000  1015.666667\n",
              "1  2013-01-02     7.400000  92.000000          2.980000  1017.800000\n",
              "2  2013-01-03     7.166667  87.000000          4.633333  1018.666667\n",
              "3  2013-01-04     8.666667  71.333333          1.233333  1017.166667\n",
              "4  2013-01-05     6.000000  86.833333          3.700000  1016.500000"
            ],
            "text/html": [
              "\n",
              "  <div id=\"df-ba198080-2418-4bb2-9553-08358dc73876\" class=\"colab-df-container\">\n",
              "    <div>\n",
              "<style scoped>\n",
              "    .dataframe tbody tr th:only-of-type {\n",
              "        vertical-align: middle;\n",
              "    }\n",
              "\n",
              "    .dataframe tbody tr th {\n",
              "        vertical-align: top;\n",
              "    }\n",
              "\n",
              "    .dataframe thead th {\n",
              "        text-align: right;\n",
              "    }\n",
              "</style>\n",
              "<table border=\"1\" class=\"dataframe\">\n",
              "  <thead>\n",
              "    <tr style=\"text-align: right;\">\n",
              "      <th></th>\n",
              "      <th>data</th>\n",
              "      <th>temperatura</th>\n",
              "      <th>umidade</th>\n",
              "      <th>velocidade_vento</th>\n",
              "      <th>pressao</th>\n",
              "    </tr>\n",
              "  </thead>\n",
              "  <tbody>\n",
              "    <tr>\n",
              "      <th>0</th>\n",
              "      <td>2013-01-01</td>\n",
              "      <td>10.000000</td>\n",
              "      <td>84.500000</td>\n",
              "      <td>0.000000</td>\n",
              "      <td>1015.666667</td>\n",
              "    </tr>\n",
              "    <tr>\n",
              "      <th>1</th>\n",
              "      <td>2013-01-02</td>\n",
              "      <td>7.400000</td>\n",
              "      <td>92.000000</td>\n",
              "      <td>2.980000</td>\n",
              "      <td>1017.800000</td>\n",
              "    </tr>\n",
              "    <tr>\n",
              "      <th>2</th>\n",
              "      <td>2013-01-03</td>\n",
              "      <td>7.166667</td>\n",
              "      <td>87.000000</td>\n",
              "      <td>4.633333</td>\n",
              "      <td>1018.666667</td>\n",
              "    </tr>\n",
              "    <tr>\n",
              "      <th>3</th>\n",
              "      <td>2013-01-04</td>\n",
              "      <td>8.666667</td>\n",
              "      <td>71.333333</td>\n",
              "      <td>1.233333</td>\n",
              "      <td>1017.166667</td>\n",
              "    </tr>\n",
              "    <tr>\n",
              "      <th>4</th>\n",
              "      <td>2013-01-05</td>\n",
              "      <td>6.000000</td>\n",
              "      <td>86.833333</td>\n",
              "      <td>3.700000</td>\n",
              "      <td>1016.500000</td>\n",
              "    </tr>\n",
              "  </tbody>\n",
              "</table>\n",
              "</div>\n",
              "    <div class=\"colab-df-buttons\">\n",
              "\n",
              "  <div class=\"colab-df-container\">\n",
              "    <button class=\"colab-df-convert\" onclick=\"convertToInteractive('df-ba198080-2418-4bb2-9553-08358dc73876')\"\n",
              "            title=\"Convert this dataframe to an interactive table.\"\n",
              "            style=\"display:none;\">\n",
              "\n",
              "  <svg xmlns=\"http://www.w3.org/2000/svg\" height=\"24px\" viewBox=\"0 -960 960 960\">\n",
              "    <path d=\"M120-120v-720h720v720H120Zm60-500h600v-160H180v160Zm220 220h160v-160H400v160Zm0 220h160v-160H400v160ZM180-400h160v-160H180v160Zm440 0h160v-160H620v160ZM180-180h160v-160H180v160Zm440 0h160v-160H620v160Z\"/>\n",
              "  </svg>\n",
              "    </button>\n",
              "\n",
              "  <style>\n",
              "    .colab-df-container {\n",
              "      display:flex;\n",
              "      gap: 12px;\n",
              "    }\n",
              "\n",
              "    .colab-df-convert {\n",
              "      background-color: #E8F0FE;\n",
              "      border: none;\n",
              "      border-radius: 50%;\n",
              "      cursor: pointer;\n",
              "      display: none;\n",
              "      fill: #1967D2;\n",
              "      height: 32px;\n",
              "      padding: 0 0 0 0;\n",
              "      width: 32px;\n",
              "    }\n",
              "\n",
              "    .colab-df-convert:hover {\n",
              "      background-color: #E2EBFA;\n",
              "      box-shadow: 0px 1px 2px rgba(60, 64, 67, 0.3), 0px 1px 3px 1px rgba(60, 64, 67, 0.15);\n",
              "      fill: #174EA6;\n",
              "    }\n",
              "\n",
              "    .colab-df-buttons div {\n",
              "      margin-bottom: 4px;\n",
              "    }\n",
              "\n",
              "    [theme=dark] .colab-df-convert {\n",
              "      background-color: #3B4455;\n",
              "      fill: #D2E3FC;\n",
              "    }\n",
              "\n",
              "    [theme=dark] .colab-df-convert:hover {\n",
              "      background-color: #434B5C;\n",
              "      box-shadow: 0px 1px 3px 1px rgba(0, 0, 0, 0.15);\n",
              "      filter: drop-shadow(0px 1px 2px rgba(0, 0, 0, 0.3));\n",
              "      fill: #FFFFFF;\n",
              "    }\n",
              "  </style>\n",
              "\n",
              "    <script>\n",
              "      const buttonEl =\n",
              "        document.querySelector('#df-ba198080-2418-4bb2-9553-08358dc73876 button.colab-df-convert');\n",
              "      buttonEl.style.display =\n",
              "        google.colab.kernel.accessAllowed ? 'block' : 'none';\n",
              "\n",
              "      async function convertToInteractive(key) {\n",
              "        const element = document.querySelector('#df-ba198080-2418-4bb2-9553-08358dc73876');\n",
              "        const dataTable =\n",
              "          await google.colab.kernel.invokeFunction('convertToInteractive',\n",
              "                                                    [key], {});\n",
              "        if (!dataTable) return;\n",
              "\n",
              "        const docLinkHtml = 'Like what you see? Visit the ' +\n",
              "          '<a target=\"_blank\" href=https://colab.research.google.com/notebooks/data_table.ipynb>data table notebook</a>'\n",
              "          + ' to learn more about interactive tables.';\n",
              "        element.innerHTML = '';\n",
              "        dataTable['output_type'] = 'display_data';\n",
              "        await google.colab.output.renderOutput(dataTable, element);\n",
              "        const docLink = document.createElement('div');\n",
              "        docLink.innerHTML = docLinkHtml;\n",
              "        element.appendChild(docLink);\n",
              "      }\n",
              "    </script>\n",
              "  </div>\n",
              "\n",
              "\n",
              "<div id=\"df-fe1b5f13-cf78-493f-bc0e-8698e1bd5c4e\">\n",
              "  <button class=\"colab-df-quickchart\" onclick=\"quickchart('df-fe1b5f13-cf78-493f-bc0e-8698e1bd5c4e')\"\n",
              "            title=\"Suggest charts\"\n",
              "            style=\"display:none;\">\n",
              "\n",
              "<svg xmlns=\"http://www.w3.org/2000/svg\" height=\"24px\"viewBox=\"0 0 24 24\"\n",
              "     width=\"24px\">\n",
              "    <g>\n",
              "        <path d=\"M19 3H5c-1.1 0-2 .9-2 2v14c0 1.1.9 2 2 2h14c1.1 0 2-.9 2-2V5c0-1.1-.9-2-2-2zM9 17H7v-7h2v7zm4 0h-2V7h2v10zm4 0h-2v-4h2v4z\"/>\n",
              "    </g>\n",
              "</svg>\n",
              "  </button>\n",
              "\n",
              "<style>\n",
              "  .colab-df-quickchart {\n",
              "      --bg-color: #E8F0FE;\n",
              "      --fill-color: #1967D2;\n",
              "      --hover-bg-color: #E2EBFA;\n",
              "      --hover-fill-color: #174EA6;\n",
              "      --disabled-fill-color: #AAA;\n",
              "      --disabled-bg-color: #DDD;\n",
              "  }\n",
              "\n",
              "  [theme=dark] .colab-df-quickchart {\n",
              "      --bg-color: #3B4455;\n",
              "      --fill-color: #D2E3FC;\n",
              "      --hover-bg-color: #434B5C;\n",
              "      --hover-fill-color: #FFFFFF;\n",
              "      --disabled-bg-color: #3B4455;\n",
              "      --disabled-fill-color: #666;\n",
              "  }\n",
              "\n",
              "  .colab-df-quickchart {\n",
              "    background-color: var(--bg-color);\n",
              "    border: none;\n",
              "    border-radius: 50%;\n",
              "    cursor: pointer;\n",
              "    display: none;\n",
              "    fill: var(--fill-color);\n",
              "    height: 32px;\n",
              "    padding: 0;\n",
              "    width: 32px;\n",
              "  }\n",
              "\n",
              "  .colab-df-quickchart:hover {\n",
              "    background-color: var(--hover-bg-color);\n",
              "    box-shadow: 0 1px 2px rgba(60, 64, 67, 0.3), 0 1px 3px 1px rgba(60, 64, 67, 0.15);\n",
              "    fill: var(--button-hover-fill-color);\n",
              "  }\n",
              "\n",
              "  .colab-df-quickchart-complete:disabled,\n",
              "  .colab-df-quickchart-complete:disabled:hover {\n",
              "    background-color: var(--disabled-bg-color);\n",
              "    fill: var(--disabled-fill-color);\n",
              "    box-shadow: none;\n",
              "  }\n",
              "\n",
              "  .colab-df-spinner {\n",
              "    border: 2px solid var(--fill-color);\n",
              "    border-color: transparent;\n",
              "    border-bottom-color: var(--fill-color);\n",
              "    animation:\n",
              "      spin 1s steps(1) infinite;\n",
              "  }\n",
              "\n",
              "  @keyframes spin {\n",
              "    0% {\n",
              "      border-color: transparent;\n",
              "      border-bottom-color: var(--fill-color);\n",
              "      border-left-color: var(--fill-color);\n",
              "    }\n",
              "    20% {\n",
              "      border-color: transparent;\n",
              "      border-left-color: var(--fill-color);\n",
              "      border-top-color: var(--fill-color);\n",
              "    }\n",
              "    30% {\n",
              "      border-color: transparent;\n",
              "      border-left-color: var(--fill-color);\n",
              "      border-top-color: var(--fill-color);\n",
              "      border-right-color: var(--fill-color);\n",
              "    }\n",
              "    40% {\n",
              "      border-color: transparent;\n",
              "      border-right-color: var(--fill-color);\n",
              "      border-top-color: var(--fill-color);\n",
              "    }\n",
              "    60% {\n",
              "      border-color: transparent;\n",
              "      border-right-color: var(--fill-color);\n",
              "    }\n",
              "    80% {\n",
              "      border-color: transparent;\n",
              "      border-right-color: var(--fill-color);\n",
              "      border-bottom-color: var(--fill-color);\n",
              "    }\n",
              "    90% {\n",
              "      border-color: transparent;\n",
              "      border-bottom-color: var(--fill-color);\n",
              "    }\n",
              "  }\n",
              "</style>\n",
              "\n",
              "  <script>\n",
              "    async function quickchart(key) {\n",
              "      const quickchartButtonEl =\n",
              "        document.querySelector('#' + key + ' button');\n",
              "      quickchartButtonEl.disabled = true;  // To prevent multiple clicks.\n",
              "      quickchartButtonEl.classList.add('colab-df-spinner');\n",
              "      try {\n",
              "        const charts = await google.colab.kernel.invokeFunction(\n",
              "            'suggestCharts', [key], {});\n",
              "      } catch (error) {\n",
              "        console.error('Error during call to suggestCharts:', error);\n",
              "      }\n",
              "      quickchartButtonEl.classList.remove('colab-df-spinner');\n",
              "      quickchartButtonEl.classList.add('colab-df-quickchart-complete');\n",
              "    }\n",
              "    (() => {\n",
              "      let quickchartButtonEl =\n",
              "        document.querySelector('#df-fe1b5f13-cf78-493f-bc0e-8698e1bd5c4e button');\n",
              "      quickchartButtonEl.style.display =\n",
              "        google.colab.kernel.accessAllowed ? 'block' : 'none';\n",
              "    })();\n",
              "  </script>\n",
              "</div>\n",
              "\n",
              "    </div>\n",
              "  </div>\n"
            ],
            "application/vnd.google.colaboratory.intrinsic+json": {
              "type": "dataframe",
              "variable_name": "df_clima",
              "summary": "{\n  \"name\": \"df_clima\",\n  \"rows\": 1575,\n  \"fields\": [\n    {\n      \"column\": \"data\",\n      \"properties\": {\n        \"dtype\": \"object\",\n        \"num_unique_values\": 1575,\n        \"samples\": [\n          \"2016-05-31\",\n          \"2015-03-25\",\n          \"2016-03-19\"\n        ],\n        \"semantic_type\": \"\",\n        \"description\": \"\"\n      }\n    },\n    {\n      \"column\": \"temperatura\",\n      \"properties\": {\n        \"dtype\": \"number\",\n        \"std\": 7.337316080532334,\n        \"min\": 6.0,\n        \"max\": 38.71428571428572,\n        \"num_unique_values\": 670,\n        \"samples\": [\n          21.875,\n          30.5,\n          30.9375\n        ],\n        \"semantic_type\": \"\",\n        \"description\": \"\"\n      }\n    },\n    {\n      \"column\": \"umidade\",\n      \"properties\": {\n        \"dtype\": \"number\",\n        \"std\": 16.956082666249216,\n        \"min\": 13.428571428571429,\n        \"max\": 98.0,\n        \"num_unique_values\": 977,\n        \"samples\": [\n          81.5,\n          37.875,\n          70.25\n        ],\n        \"semantic_type\": \"\",\n        \"description\": \"\"\n      }\n    },\n    {\n      \"column\": \"velocidade_vento\",\n      \"properties\": {\n        \"dtype\": \"number\",\n        \"std\": 4.508802786967016,\n        \"min\": 0.0,\n        \"max\": 42.22,\n        \"num_unique_values\": 803,\n        \"samples\": [\n          2.325,\n          6.885714285714287,\n          6.085714285714286\n        ],\n        \"semantic_type\": \"\",\n        \"description\": \"\"\n      }\n    },\n    {\n      \"column\": \"pressao\",\n      \"properties\": {\n        \"dtype\": \"number\",\n        \"std\": 175.29831016932397,\n        \"min\": -3.0416666666666665,\n        \"max\": 7679.333333333333,\n        \"num_unique_values\": 679,\n        \"samples\": [\n          1019.8235294117648,\n          1002.375,\n          1009.5\n        ],\n        \"semantic_type\": \"\",\n        \"description\": \"\"\n      }\n    }\n  ]\n}"
            }
          },
          "metadata": {},
          "execution_count": 2
        }
      ],
      "source": [
        "import pandas as pd\n",
        "# 1\n",
        "df_clima = pd.read_csv('/content/clima_tempo.csv')\n",
        "\n",
        "df_clima.head()"
      ]
    },
    {
      "cell_type": "code",
      "source": [
        "df_clima.info()"
      ],
      "metadata": {
        "colab": {
          "base_uri": "https://localhost:8080/"
        },
        "id": "4w-FDbv5MBbl",
        "outputId": "9ac1b67d-94f9-4e1d-9299-71d95dba8ed4"
      },
      "execution_count": 3,
      "outputs": [
        {
          "output_type": "stream",
          "name": "stdout",
          "text": [
            "<class 'pandas.core.frame.DataFrame'>\n",
            "RangeIndex: 1575 entries, 0 to 1574\n",
            "Data columns (total 5 columns):\n",
            " #   Column            Non-Null Count  Dtype  \n",
            "---  ------            --------------  -----  \n",
            " 0   data              1575 non-null   object \n",
            " 1   temperatura       1575 non-null   float64\n",
            " 2   umidade           1575 non-null   float64\n",
            " 3   velocidade_vento  1575 non-null   float64\n",
            " 4   pressao           1575 non-null   float64\n",
            "dtypes: float64(4), object(1)\n",
            "memory usage: 61.6+ KB\n"
          ]
        }
      ]
    },
    {
      "cell_type": "code",
      "source": [
        "# 2\n",
        "# 'data' para o formato datetime\n",
        "df_clima['data'] = pd.to_datetime(df_clima['data'], format='%Y-%m-%d')\n",
        "\n",
        "# 'data' em ordem crescente\n",
        "df_clima = df_clima.sort_values(by='data')\n",
        "\n",
        "# drop a coluna\n",
        "df_clima = df_clima.drop(columns=['data'])\n",
        "\n",
        "df_clima.head()"
      ],
      "metadata": {
        "colab": {
          "base_uri": "https://localhost:8080/",
          "height": 206
        },
        "id": "8H9DgIxRJ1-G",
        "outputId": "173ea164-802f-44e4-b34c-5d1c309edf43"
      },
      "execution_count": 4,
      "outputs": [
        {
          "output_type": "execute_result",
          "data": {
            "text/plain": [
              "   temperatura    umidade  velocidade_vento      pressao\n",
              "0    10.000000  84.500000          0.000000  1015.666667\n",
              "1     7.400000  92.000000          2.980000  1017.800000\n",
              "2     7.166667  87.000000          4.633333  1018.666667\n",
              "3     8.666667  71.333333          1.233333  1017.166667\n",
              "4     6.000000  86.833333          3.700000  1016.500000"
            ],
            "text/html": [
              "\n",
              "  <div id=\"df-f1474596-7362-4f6a-8f22-2ecaca0a0262\" class=\"colab-df-container\">\n",
              "    <div>\n",
              "<style scoped>\n",
              "    .dataframe tbody tr th:only-of-type {\n",
              "        vertical-align: middle;\n",
              "    }\n",
              "\n",
              "    .dataframe tbody tr th {\n",
              "        vertical-align: top;\n",
              "    }\n",
              "\n",
              "    .dataframe thead th {\n",
              "        text-align: right;\n",
              "    }\n",
              "</style>\n",
              "<table border=\"1\" class=\"dataframe\">\n",
              "  <thead>\n",
              "    <tr style=\"text-align: right;\">\n",
              "      <th></th>\n",
              "      <th>temperatura</th>\n",
              "      <th>umidade</th>\n",
              "      <th>velocidade_vento</th>\n",
              "      <th>pressao</th>\n",
              "    </tr>\n",
              "  </thead>\n",
              "  <tbody>\n",
              "    <tr>\n",
              "      <th>0</th>\n",
              "      <td>10.000000</td>\n",
              "      <td>84.500000</td>\n",
              "      <td>0.000000</td>\n",
              "      <td>1015.666667</td>\n",
              "    </tr>\n",
              "    <tr>\n",
              "      <th>1</th>\n",
              "      <td>7.400000</td>\n",
              "      <td>92.000000</td>\n",
              "      <td>2.980000</td>\n",
              "      <td>1017.800000</td>\n",
              "    </tr>\n",
              "    <tr>\n",
              "      <th>2</th>\n",
              "      <td>7.166667</td>\n",
              "      <td>87.000000</td>\n",
              "      <td>4.633333</td>\n",
              "      <td>1018.666667</td>\n",
              "    </tr>\n",
              "    <tr>\n",
              "      <th>3</th>\n",
              "      <td>8.666667</td>\n",
              "      <td>71.333333</td>\n",
              "      <td>1.233333</td>\n",
              "      <td>1017.166667</td>\n",
              "    </tr>\n",
              "    <tr>\n",
              "      <th>4</th>\n",
              "      <td>6.000000</td>\n",
              "      <td>86.833333</td>\n",
              "      <td>3.700000</td>\n",
              "      <td>1016.500000</td>\n",
              "    </tr>\n",
              "  </tbody>\n",
              "</table>\n",
              "</div>\n",
              "    <div class=\"colab-df-buttons\">\n",
              "\n",
              "  <div class=\"colab-df-container\">\n",
              "    <button class=\"colab-df-convert\" onclick=\"convertToInteractive('df-f1474596-7362-4f6a-8f22-2ecaca0a0262')\"\n",
              "            title=\"Convert this dataframe to an interactive table.\"\n",
              "            style=\"display:none;\">\n",
              "\n",
              "  <svg xmlns=\"http://www.w3.org/2000/svg\" height=\"24px\" viewBox=\"0 -960 960 960\">\n",
              "    <path d=\"M120-120v-720h720v720H120Zm60-500h600v-160H180v160Zm220 220h160v-160H400v160Zm0 220h160v-160H400v160ZM180-400h160v-160H180v160Zm440 0h160v-160H620v160ZM180-180h160v-160H180v160Zm440 0h160v-160H620v160Z\"/>\n",
              "  </svg>\n",
              "    </button>\n",
              "\n",
              "  <style>\n",
              "    .colab-df-container {\n",
              "      display:flex;\n",
              "      gap: 12px;\n",
              "    }\n",
              "\n",
              "    .colab-df-convert {\n",
              "      background-color: #E8F0FE;\n",
              "      border: none;\n",
              "      border-radius: 50%;\n",
              "      cursor: pointer;\n",
              "      display: none;\n",
              "      fill: #1967D2;\n",
              "      height: 32px;\n",
              "      padding: 0 0 0 0;\n",
              "      width: 32px;\n",
              "    }\n",
              "\n",
              "    .colab-df-convert:hover {\n",
              "      background-color: #E2EBFA;\n",
              "      box-shadow: 0px 1px 2px rgba(60, 64, 67, 0.3), 0px 1px 3px 1px rgba(60, 64, 67, 0.15);\n",
              "      fill: #174EA6;\n",
              "    }\n",
              "\n",
              "    .colab-df-buttons div {\n",
              "      margin-bottom: 4px;\n",
              "    }\n",
              "\n",
              "    [theme=dark] .colab-df-convert {\n",
              "      background-color: #3B4455;\n",
              "      fill: #D2E3FC;\n",
              "    }\n",
              "\n",
              "    [theme=dark] .colab-df-convert:hover {\n",
              "      background-color: #434B5C;\n",
              "      box-shadow: 0px 1px 3px 1px rgba(0, 0, 0, 0.15);\n",
              "      filter: drop-shadow(0px 1px 2px rgba(0, 0, 0, 0.3));\n",
              "      fill: #FFFFFF;\n",
              "    }\n",
              "  </style>\n",
              "\n",
              "    <script>\n",
              "      const buttonEl =\n",
              "        document.querySelector('#df-f1474596-7362-4f6a-8f22-2ecaca0a0262 button.colab-df-convert');\n",
              "      buttonEl.style.display =\n",
              "        google.colab.kernel.accessAllowed ? 'block' : 'none';\n",
              "\n",
              "      async function convertToInteractive(key) {\n",
              "        const element = document.querySelector('#df-f1474596-7362-4f6a-8f22-2ecaca0a0262');\n",
              "        const dataTable =\n",
              "          await google.colab.kernel.invokeFunction('convertToInteractive',\n",
              "                                                    [key], {});\n",
              "        if (!dataTable) return;\n",
              "\n",
              "        const docLinkHtml = 'Like what you see? Visit the ' +\n",
              "          '<a target=\"_blank\" href=https://colab.research.google.com/notebooks/data_table.ipynb>data table notebook</a>'\n",
              "          + ' to learn more about interactive tables.';\n",
              "        element.innerHTML = '';\n",
              "        dataTable['output_type'] = 'display_data';\n",
              "        await google.colab.output.renderOutput(dataTable, element);\n",
              "        const docLink = document.createElement('div');\n",
              "        docLink.innerHTML = docLinkHtml;\n",
              "        element.appendChild(docLink);\n",
              "      }\n",
              "    </script>\n",
              "  </div>\n",
              "\n",
              "\n",
              "<div id=\"df-6bf6378e-4c7f-46bd-9eee-adcfc0c85f0d\">\n",
              "  <button class=\"colab-df-quickchart\" onclick=\"quickchart('df-6bf6378e-4c7f-46bd-9eee-adcfc0c85f0d')\"\n",
              "            title=\"Suggest charts\"\n",
              "            style=\"display:none;\">\n",
              "\n",
              "<svg xmlns=\"http://www.w3.org/2000/svg\" height=\"24px\"viewBox=\"0 0 24 24\"\n",
              "     width=\"24px\">\n",
              "    <g>\n",
              "        <path d=\"M19 3H5c-1.1 0-2 .9-2 2v14c0 1.1.9 2 2 2h14c1.1 0 2-.9 2-2V5c0-1.1-.9-2-2-2zM9 17H7v-7h2v7zm4 0h-2V7h2v10zm4 0h-2v-4h2v4z\"/>\n",
              "    </g>\n",
              "</svg>\n",
              "  </button>\n",
              "\n",
              "<style>\n",
              "  .colab-df-quickchart {\n",
              "      --bg-color: #E8F0FE;\n",
              "      --fill-color: #1967D2;\n",
              "      --hover-bg-color: #E2EBFA;\n",
              "      --hover-fill-color: #174EA6;\n",
              "      --disabled-fill-color: #AAA;\n",
              "      --disabled-bg-color: #DDD;\n",
              "  }\n",
              "\n",
              "  [theme=dark] .colab-df-quickchart {\n",
              "      --bg-color: #3B4455;\n",
              "      --fill-color: #D2E3FC;\n",
              "      --hover-bg-color: #434B5C;\n",
              "      --hover-fill-color: #FFFFFF;\n",
              "      --disabled-bg-color: #3B4455;\n",
              "      --disabled-fill-color: #666;\n",
              "  }\n",
              "\n",
              "  .colab-df-quickchart {\n",
              "    background-color: var(--bg-color);\n",
              "    border: none;\n",
              "    border-radius: 50%;\n",
              "    cursor: pointer;\n",
              "    display: none;\n",
              "    fill: var(--fill-color);\n",
              "    height: 32px;\n",
              "    padding: 0;\n",
              "    width: 32px;\n",
              "  }\n",
              "\n",
              "  .colab-df-quickchart:hover {\n",
              "    background-color: var(--hover-bg-color);\n",
              "    box-shadow: 0 1px 2px rgba(60, 64, 67, 0.3), 0 1px 3px 1px rgba(60, 64, 67, 0.15);\n",
              "    fill: var(--button-hover-fill-color);\n",
              "  }\n",
              "\n",
              "  .colab-df-quickchart-complete:disabled,\n",
              "  .colab-df-quickchart-complete:disabled:hover {\n",
              "    background-color: var(--disabled-bg-color);\n",
              "    fill: var(--disabled-fill-color);\n",
              "    box-shadow: none;\n",
              "  }\n",
              "\n",
              "  .colab-df-spinner {\n",
              "    border: 2px solid var(--fill-color);\n",
              "    border-color: transparent;\n",
              "    border-bottom-color: var(--fill-color);\n",
              "    animation:\n",
              "      spin 1s steps(1) infinite;\n",
              "  }\n",
              "\n",
              "  @keyframes spin {\n",
              "    0% {\n",
              "      border-color: transparent;\n",
              "      border-bottom-color: var(--fill-color);\n",
              "      border-left-color: var(--fill-color);\n",
              "    }\n",
              "    20% {\n",
              "      border-color: transparent;\n",
              "      border-left-color: var(--fill-color);\n",
              "      border-top-color: var(--fill-color);\n",
              "    }\n",
              "    30% {\n",
              "      border-color: transparent;\n",
              "      border-left-color: var(--fill-color);\n",
              "      border-top-color: var(--fill-color);\n",
              "      border-right-color: var(--fill-color);\n",
              "    }\n",
              "    40% {\n",
              "      border-color: transparent;\n",
              "      border-right-color: var(--fill-color);\n",
              "      border-top-color: var(--fill-color);\n",
              "    }\n",
              "    60% {\n",
              "      border-color: transparent;\n",
              "      border-right-color: var(--fill-color);\n",
              "    }\n",
              "    80% {\n",
              "      border-color: transparent;\n",
              "      border-right-color: var(--fill-color);\n",
              "      border-bottom-color: var(--fill-color);\n",
              "    }\n",
              "    90% {\n",
              "      border-color: transparent;\n",
              "      border-bottom-color: var(--fill-color);\n",
              "    }\n",
              "  }\n",
              "</style>\n",
              "\n",
              "  <script>\n",
              "    async function quickchart(key) {\n",
              "      const quickchartButtonEl =\n",
              "        document.querySelector('#' + key + ' button');\n",
              "      quickchartButtonEl.disabled = true;  // To prevent multiple clicks.\n",
              "      quickchartButtonEl.classList.add('colab-df-spinner');\n",
              "      try {\n",
              "        const charts = await google.colab.kernel.invokeFunction(\n",
              "            'suggestCharts', [key], {});\n",
              "      } catch (error) {\n",
              "        console.error('Error during call to suggestCharts:', error);\n",
              "      }\n",
              "      quickchartButtonEl.classList.remove('colab-df-spinner');\n",
              "      quickchartButtonEl.classList.add('colab-df-quickchart-complete');\n",
              "    }\n",
              "    (() => {\n",
              "      let quickchartButtonEl =\n",
              "        document.querySelector('#df-6bf6378e-4c7f-46bd-9eee-adcfc0c85f0d button');\n",
              "      quickchartButtonEl.style.display =\n",
              "        google.colab.kernel.accessAllowed ? 'block' : 'none';\n",
              "    })();\n",
              "  </script>\n",
              "</div>\n",
              "\n",
              "    </div>\n",
              "  </div>\n"
            ],
            "application/vnd.google.colaboratory.intrinsic+json": {
              "type": "dataframe",
              "variable_name": "df_clima",
              "summary": "{\n  \"name\": \"df_clima\",\n  \"rows\": 1575,\n  \"fields\": [\n    {\n      \"column\": \"temperatura\",\n      \"properties\": {\n        \"dtype\": \"number\",\n        \"std\": 7.337316080532334,\n        \"min\": 6.0,\n        \"max\": 38.71428571428572,\n        \"num_unique_values\": 670,\n        \"samples\": [\n          21.875,\n          30.5,\n          30.9375\n        ],\n        \"semantic_type\": \"\",\n        \"description\": \"\"\n      }\n    },\n    {\n      \"column\": \"umidade\",\n      \"properties\": {\n        \"dtype\": \"number\",\n        \"std\": 16.956082666249216,\n        \"min\": 13.428571428571429,\n        \"max\": 98.0,\n        \"num_unique_values\": 977,\n        \"samples\": [\n          81.5,\n          37.875,\n          70.25\n        ],\n        \"semantic_type\": \"\",\n        \"description\": \"\"\n      }\n    },\n    {\n      \"column\": \"velocidade_vento\",\n      \"properties\": {\n        \"dtype\": \"number\",\n        \"std\": 4.508802786967016,\n        \"min\": 0.0,\n        \"max\": 42.22,\n        \"num_unique_values\": 803,\n        \"samples\": [\n          2.325,\n          6.885714285714287,\n          6.085714285714286\n        ],\n        \"semantic_type\": \"\",\n        \"description\": \"\"\n      }\n    },\n    {\n      \"column\": \"pressao\",\n      \"properties\": {\n        \"dtype\": \"number\",\n        \"std\": 175.29831016932397,\n        \"min\": -3.0416666666666665,\n        \"max\": 7679.333333333333,\n        \"num_unique_values\": 679,\n        \"samples\": [\n          1019.8235294117648,\n          1002.375,\n          1009.5\n        ],\n        \"semantic_type\": \"\",\n        \"description\": \"\"\n      }\n    }\n  ]\n}"
            }
          },
          "metadata": {},
          "execution_count": 4
        }
      ]
    },
    {
      "cell_type": "code",
      "source": [
        "# 3\n",
        "import numpy as np\n",
        "\n",
        "# dias\n",
        "n_dias = 10\n",
        "\n",
        "X, y = [], []\n",
        "\n",
        "for i in range(n_dias, len(df_clima)):\n",
        "    X.append(df_clima.iloc[i-n_dias:i].values)\n",
        "    y.append(df_clima.iloc[i]['temperatura'])\n",
        "\n",
        "X, y = np.array(X), np.array(y)\n",
        "\n",
        "print(f'Formato de X: {X.shape}')\n",
        "print(f'Formato de y: {y.shape}')"
      ],
      "metadata": {
        "colab": {
          "base_uri": "https://localhost:8080/"
        },
        "id": "_QetYxpbMNqp",
        "outputId": "59cc90e2-71a2-45da-c5d2-e6f2943e7dc8"
      },
      "execution_count": 5,
      "outputs": [
        {
          "output_type": "stream",
          "name": "stdout",
          "text": [
            "Formato de X: (1565, 10, 4)\n",
            "Formato de y: (1565,)\n"
          ]
        }
      ]
    },
    {
      "cell_type": "code",
      "source": [
        "# 4\n",
        "proporcao_teste = 0.15\n",
        "\n",
        "indice_corte = int(len(X) * (1 - proporcao_teste))\n",
        "\n",
        "# treinamento e teste\n",
        "X_train, X_test = X[:indice_corte], X[indice_corte:]\n",
        "y_train, y_test = y[:indice_corte], y[indice_corte:]\n",
        "\n",
        "# tamanhos dos conjuntos\n",
        "print(f'Tamanho do conjunto de treinamento: X_train: {X_train.shape}, y_train: {y_train.shape}')\n",
        "print(f'Tamanho do conjunto de teste: X_test: {X_test.shape}, y_test: {y_test.shape}')"
      ],
      "metadata": {
        "colab": {
          "base_uri": "https://localhost:8080/"
        },
        "id": "_0WO7i4aM6Bj",
        "outputId": "dc26fda3-6481-47de-9559-11d59c2b7272"
      },
      "execution_count": 6,
      "outputs": [
        {
          "output_type": "stream",
          "name": "stdout",
          "text": [
            "Tamanho do conjunto de treinamento: X_train: (1330, 10, 4), y_train: (1330,)\n",
            "Tamanho do conjunto de teste: X_test: (235, 10, 4), y_test: (235,)\n"
          ]
        }
      ]
    },
    {
      "cell_type": "code",
      "source": [
        "# 5\n",
        "from sklearn.preprocessing import MinMaxScaler\n",
        "\n",
        "scaler_X = MinMaxScaler()\n",
        "scaler_y = MinMaxScaler()\n",
        "\n",
        "X_train_reshaped = X_train.reshape(X_train.shape[0], -1)\n",
        "\n",
        "# X_train\n",
        "X_train_normalizado = scaler_X.fit_transform(X_train_reshaped)\n",
        "\n",
        "# y_train\n",
        "y_train_normalizado = scaler_y.fit_transform(y_train.reshape(-1, 1))\n",
        "\n",
        "X_train_normalizado = X_train_normalizado.reshape(X_train.shape[0], X_train.shape[1], X_train.shape[2])\n",
        "\n",
        "# primeiras linhas dos dados normalizados\n",
        "print(f'X_train_normalizado: {X_train_normalizado[:1]}')\n",
        "print(f'y_train_normalizado: {y_train_normalizado[:5]}')"
      ],
      "metadata": {
        "colab": {
          "base_uri": "https://localhost:8080/"
        },
        "id": "PgsaW9haM-nT",
        "outputId": "d5c3ca78-b0bf-4ae2-f9a3-f425b5f210b6"
      },
      "execution_count": 7,
      "outputs": [
        {
          "output_type": "stream",
          "name": "stdout",
          "text": [
            "X_train_normalizado: [[[0.12227074 0.84037162 0.         0.13260331]\n",
            "  [0.04279476 0.92905405 0.07058266 0.132881  ]\n",
            "  [0.0356623  0.86993243 0.10974262 0.13299381]\n",
            "  [0.08151383 0.68468468 0.02921206 0.13279856]\n",
            "  [0.         0.86796171 0.08763619 0.13271178]\n",
            "  [0.         0.82027027 0.03505448 0.13290703]\n",
            "  [0.         0.77060811 0.14921838 0.13316737]\n",
            "  [0.         0.59459459 0.16918184 0.13300001]\n",
            "  [0.16826923 0.44721284 0.29606821 0.13277686]\n",
            "  [0.06730769 0.57432432 0.17527238 0.13260331]]]\n",
            "y_train_normalizado: [[0.22596154]\n",
            " [0.16826923]\n",
            " [0.22996795]\n",
            " [0.12900641]\n",
            " [0.19230769]]\n"
          ]
        }
      ]
    },
    {
      "cell_type": "code",
      "source": [
        "# 6\n",
        "X_test_reshaped = X_test.reshape(X_test.shape[0], -1)\n",
        "\n",
        "X_test_normalizado = scaler_X.transform(X_test_reshaped)\n",
        "\n",
        "y_test_normalizado = scaler_y.transform(y_test.reshape(-1, 1))\n",
        "\n",
        "X_test_normalizado = X_test_normalizado.reshape(X_test.shape[0], X_test.shape[1], X_test.shape[2])\n",
        "\n",
        "# primeiras linhas dos dados normalizados de teste\n",
        "print(f'X_test_normalizado: {X_test_normalizado[:1]}')\n",
        "print(f'y_test_normalizado: {y_test_normalizado[:5]}')"
      ],
      "metadata": {
        "colab": {
          "base_uri": "https://localhost:8080/"
        },
        "id": "c16AeYTXNWHt",
        "outputId": "fbf00aee-6d17-4488-8602-4138f76f3d42"
      },
      "execution_count": 8,
      "outputs": [
        {
          "output_type": "stream",
          "name": "stdout",
          "text": [
            "X_test_normalizado: [[[0.77886463 0.66986486 0.14410232 0.13098575]\n",
            "  [0.73908297 0.77871622 0.19941333 0.13088943]\n",
            "  [0.78008734 0.69777027 0.14867179 0.13113975]\n",
            "  [0.77098496 0.71402653 0.10404056 0.13124377]\n",
            "  [0.78820961 0.6722973  0.16935102 0.13136361]\n",
            "  [0.83243243 0.62445946 0.17224064 0.13137105]\n",
            "  [0.71171171 0.81461149 0.13796779 0.13103354]\n",
            "  [0.70947368 0.74932432 0.21089167 0.13084938]\n",
            "  [0.6144943  0.90015015 0.15939435 0.13095933]\n",
            "  [0.63807692 0.87277027 0.09824728 0.13088162]]]\n",
            "y_test_normalizado: [[0.73160535]\n",
            " [0.73684211]\n",
            " [0.76368343]\n",
            " [0.74297337]\n",
            " [0.71935096]]\n"
          ]
        }
      ]
    },
    {
      "cell_type": "code",
      "source": [
        "# 7\n",
        "from tensorflow.keras.models import Sequential\n",
        "from tensorflow.keras.layers import LSTM, Dense, Dropout\n",
        "\n",
        "model = Sequential()\n",
        "\n",
        "model.add(LSTM(units=50, return_sequences=True, input_shape=(X_train.shape[1], X_train.shape[2])))\n",
        "model.add(Dropout(0.2))\n",
        "\n",
        "model.add(LSTM(units=50, return_sequences=True))\n",
        "model.add(Dropout(0.2))\n",
        "\n",
        "model.add(LSTM(units=50))\n",
        "model.add(Dropout(0.2))\n",
        "\n",
        "model.add(Dense(units=1))\n",
        "\n",
        "model.compile(optimizer='adam', loss='mean_squared_error')\n",
        "model.summary()"
      ],
      "metadata": {
        "colab": {
          "base_uri": "https://localhost:8080/",
          "height": 429
        },
        "id": "ZKaBgfPnNjEH",
        "outputId": "86bc5b3d-e860-45db-9728-2fb8e33d8e34"
      },
      "execution_count": 9,
      "outputs": [
        {
          "output_type": "stream",
          "name": "stderr",
          "text": [
            "/usr/local/lib/python3.10/dist-packages/keras/src/layers/rnn/rnn.py:204: UserWarning: Do not pass an `input_shape`/`input_dim` argument to a layer. When using Sequential models, prefer using an `Input(shape)` object as the first layer in the model instead.\n",
            "  super().__init__(**kwargs)\n"
          ]
        },
        {
          "output_type": "display_data",
          "data": {
            "text/plain": [
              "\u001b[1mModel: \"sequential\"\u001b[0m\n"
            ],
            "text/html": [
              "<pre style=\"white-space:pre;overflow-x:auto;line-height:normal;font-family:Menlo,'DejaVu Sans Mono',consolas,'Courier New',monospace\"><span style=\"font-weight: bold\">Model: \"sequential\"</span>\n",
              "</pre>\n"
            ]
          },
          "metadata": {}
        },
        {
          "output_type": "display_data",
          "data": {
            "text/plain": [
              "┏━━━━━━━━━━━━━━━━━━━━━━━━━━━━━━━━━━━━━━┳━━━━━━━━━━━━━━━━━━━━━━━━━━━━━┳━━━━━━━━━━━━━━━━━┓\n",
              "┃\u001b[1m \u001b[0m\u001b[1mLayer (type)                        \u001b[0m\u001b[1m \u001b[0m┃\u001b[1m \u001b[0m\u001b[1mOutput Shape               \u001b[0m\u001b[1m \u001b[0m┃\u001b[1m \u001b[0m\u001b[1m        Param #\u001b[0m\u001b[1m \u001b[0m┃\n",
              "┡━━━━━━━━━━━━━━━━━━━━━━━━━━━━━━━━━━━━━━╇━━━━━━━━━━━━━━━━━━━━━━━━━━━━━╇━━━━━━━━━━━━━━━━━┩\n",
              "│ lstm (\u001b[38;5;33mLSTM\u001b[0m)                          │ (\u001b[38;5;45mNone\u001b[0m, \u001b[38;5;34m10\u001b[0m, \u001b[38;5;34m50\u001b[0m)              │          \u001b[38;5;34m11,000\u001b[0m │\n",
              "├──────────────────────────────────────┼─────────────────────────────┼─────────────────┤\n",
              "│ dropout (\u001b[38;5;33mDropout\u001b[0m)                    │ (\u001b[38;5;45mNone\u001b[0m, \u001b[38;5;34m10\u001b[0m, \u001b[38;5;34m50\u001b[0m)              │               \u001b[38;5;34m0\u001b[0m │\n",
              "├──────────────────────────────────────┼─────────────────────────────┼─────────────────┤\n",
              "│ lstm_1 (\u001b[38;5;33mLSTM\u001b[0m)                        │ (\u001b[38;5;45mNone\u001b[0m, \u001b[38;5;34m10\u001b[0m, \u001b[38;5;34m50\u001b[0m)              │          \u001b[38;5;34m20,200\u001b[0m │\n",
              "├──────────────────────────────────────┼─────────────────────────────┼─────────────────┤\n",
              "│ dropout_1 (\u001b[38;5;33mDropout\u001b[0m)                  │ (\u001b[38;5;45mNone\u001b[0m, \u001b[38;5;34m10\u001b[0m, \u001b[38;5;34m50\u001b[0m)              │               \u001b[38;5;34m0\u001b[0m │\n",
              "├──────────────────────────────────────┼─────────────────────────────┼─────────────────┤\n",
              "│ lstm_2 (\u001b[38;5;33mLSTM\u001b[0m)                        │ (\u001b[38;5;45mNone\u001b[0m, \u001b[38;5;34m50\u001b[0m)                  │          \u001b[38;5;34m20,200\u001b[0m │\n",
              "├──────────────────────────────────────┼─────────────────────────────┼─────────────────┤\n",
              "│ dropout_2 (\u001b[38;5;33mDropout\u001b[0m)                  │ (\u001b[38;5;45mNone\u001b[0m, \u001b[38;5;34m50\u001b[0m)                  │               \u001b[38;5;34m0\u001b[0m │\n",
              "├──────────────────────────────────────┼─────────────────────────────┼─────────────────┤\n",
              "│ dense (\u001b[38;5;33mDense\u001b[0m)                        │ (\u001b[38;5;45mNone\u001b[0m, \u001b[38;5;34m1\u001b[0m)                   │              \u001b[38;5;34m51\u001b[0m │\n",
              "└──────────────────────────────────────┴─────────────────────────────┴─────────────────┘\n"
            ],
            "text/html": [
              "<pre style=\"white-space:pre;overflow-x:auto;line-height:normal;font-family:Menlo,'DejaVu Sans Mono',consolas,'Courier New',monospace\">┏━━━━━━━━━━━━━━━━━━━━━━━━━━━━━━━━━━━━━━┳━━━━━━━━━━━━━━━━━━━━━━━━━━━━━┳━━━━━━━━━━━━━━━━━┓\n",
              "┃<span style=\"font-weight: bold\"> Layer (type)                         </span>┃<span style=\"font-weight: bold\"> Output Shape                </span>┃<span style=\"font-weight: bold\">         Param # </span>┃\n",
              "┡━━━━━━━━━━━━━━━━━━━━━━━━━━━━━━━━━━━━━━╇━━━━━━━━━━━━━━━━━━━━━━━━━━━━━╇━━━━━━━━━━━━━━━━━┩\n",
              "│ lstm (<span style=\"color: #0087ff; text-decoration-color: #0087ff\">LSTM</span>)                          │ (<span style=\"color: #00d7ff; text-decoration-color: #00d7ff\">None</span>, <span style=\"color: #00af00; text-decoration-color: #00af00\">10</span>, <span style=\"color: #00af00; text-decoration-color: #00af00\">50</span>)              │          <span style=\"color: #00af00; text-decoration-color: #00af00\">11,000</span> │\n",
              "├──────────────────────────────────────┼─────────────────────────────┼─────────────────┤\n",
              "│ dropout (<span style=\"color: #0087ff; text-decoration-color: #0087ff\">Dropout</span>)                    │ (<span style=\"color: #00d7ff; text-decoration-color: #00d7ff\">None</span>, <span style=\"color: #00af00; text-decoration-color: #00af00\">10</span>, <span style=\"color: #00af00; text-decoration-color: #00af00\">50</span>)              │               <span style=\"color: #00af00; text-decoration-color: #00af00\">0</span> │\n",
              "├──────────────────────────────────────┼─────────────────────────────┼─────────────────┤\n",
              "│ lstm_1 (<span style=\"color: #0087ff; text-decoration-color: #0087ff\">LSTM</span>)                        │ (<span style=\"color: #00d7ff; text-decoration-color: #00d7ff\">None</span>, <span style=\"color: #00af00; text-decoration-color: #00af00\">10</span>, <span style=\"color: #00af00; text-decoration-color: #00af00\">50</span>)              │          <span style=\"color: #00af00; text-decoration-color: #00af00\">20,200</span> │\n",
              "├──────────────────────────────────────┼─────────────────────────────┼─────────────────┤\n",
              "│ dropout_1 (<span style=\"color: #0087ff; text-decoration-color: #0087ff\">Dropout</span>)                  │ (<span style=\"color: #00d7ff; text-decoration-color: #00d7ff\">None</span>, <span style=\"color: #00af00; text-decoration-color: #00af00\">10</span>, <span style=\"color: #00af00; text-decoration-color: #00af00\">50</span>)              │               <span style=\"color: #00af00; text-decoration-color: #00af00\">0</span> │\n",
              "├──────────────────────────────────────┼─────────────────────────────┼─────────────────┤\n",
              "│ lstm_2 (<span style=\"color: #0087ff; text-decoration-color: #0087ff\">LSTM</span>)                        │ (<span style=\"color: #00d7ff; text-decoration-color: #00d7ff\">None</span>, <span style=\"color: #00af00; text-decoration-color: #00af00\">50</span>)                  │          <span style=\"color: #00af00; text-decoration-color: #00af00\">20,200</span> │\n",
              "├──────────────────────────────────────┼─────────────────────────────┼─────────────────┤\n",
              "│ dropout_2 (<span style=\"color: #0087ff; text-decoration-color: #0087ff\">Dropout</span>)                  │ (<span style=\"color: #00d7ff; text-decoration-color: #00d7ff\">None</span>, <span style=\"color: #00af00; text-decoration-color: #00af00\">50</span>)                  │               <span style=\"color: #00af00; text-decoration-color: #00af00\">0</span> │\n",
              "├──────────────────────────────────────┼─────────────────────────────┼─────────────────┤\n",
              "│ dense (<span style=\"color: #0087ff; text-decoration-color: #0087ff\">Dense</span>)                        │ (<span style=\"color: #00d7ff; text-decoration-color: #00d7ff\">None</span>, <span style=\"color: #00af00; text-decoration-color: #00af00\">1</span>)                   │              <span style=\"color: #00af00; text-decoration-color: #00af00\">51</span> │\n",
              "└──────────────────────────────────────┴─────────────────────────────┴─────────────────┘\n",
              "</pre>\n"
            ]
          },
          "metadata": {}
        },
        {
          "output_type": "display_data",
          "data": {
            "text/plain": [
              "\u001b[1m Total params: \u001b[0m\u001b[38;5;34m51,451\u001b[0m (200.98 KB)\n"
            ],
            "text/html": [
              "<pre style=\"white-space:pre;overflow-x:auto;line-height:normal;font-family:Menlo,'DejaVu Sans Mono',consolas,'Courier New',monospace\"><span style=\"font-weight: bold\"> Total params: </span><span style=\"color: #00af00; text-decoration-color: #00af00\">51,451</span> (200.98 KB)\n",
              "</pre>\n"
            ]
          },
          "metadata": {}
        },
        {
          "output_type": "display_data",
          "data": {
            "text/plain": [
              "\u001b[1m Trainable params: \u001b[0m\u001b[38;5;34m51,451\u001b[0m (200.98 KB)\n"
            ],
            "text/html": [
              "<pre style=\"white-space:pre;overflow-x:auto;line-height:normal;font-family:Menlo,'DejaVu Sans Mono',consolas,'Courier New',monospace\"><span style=\"font-weight: bold\"> Trainable params: </span><span style=\"color: #00af00; text-decoration-color: #00af00\">51,451</span> (200.98 KB)\n",
              "</pre>\n"
            ]
          },
          "metadata": {}
        },
        {
          "output_type": "display_data",
          "data": {
            "text/plain": [
              "\u001b[1m Non-trainable params: \u001b[0m\u001b[38;5;34m0\u001b[0m (0.00 B)\n"
            ],
            "text/html": [
              "<pre style=\"white-space:pre;overflow-x:auto;line-height:normal;font-family:Menlo,'DejaVu Sans Mono',consolas,'Courier New',monospace\"><span style=\"font-weight: bold\"> Non-trainable params: </span><span style=\"color: #00af00; text-decoration-color: #00af00\">0</span> (0.00 B)\n",
              "</pre>\n"
            ]
          },
          "metadata": {}
        }
      ]
    },
    {
      "cell_type": "code",
      "source": [
        "# 8\n",
        "epochs = 50\n",
        "batch_size = 32\n",
        "\n",
        "history = model.fit(X_train_normalizado, y_train_normalizado,\n",
        "                    epochs=epochs,\n",
        "                    batch_size=batch_size,\n",
        "                    validation_split=0.05)"
      ],
      "metadata": {
        "colab": {
          "base_uri": "https://localhost:8080/"
        },
        "id": "5KboLh9yN2mF",
        "outputId": "c9612ae3-cd9e-4bac-95ba-17830159b37a"
      },
      "execution_count": 10,
      "outputs": [
        {
          "output_type": "stream",
          "name": "stdout",
          "text": [
            "Epoch 1/50\n",
            "\u001b[1m40/40\u001b[0m \u001b[32m━━━━━━━━━━━━━━━━━━━━\u001b[0m\u001b[37m\u001b[0m \u001b[1m10s\u001b[0m 32ms/step - loss: 0.1425 - val_loss: 0.0214\n",
            "Epoch 2/50\n",
            "\u001b[1m40/40\u001b[0m \u001b[32m━━━━━━━━━━━━━━━━━━━━\u001b[0m\u001b[37m\u001b[0m \u001b[1m2s\u001b[0m 20ms/step - loss: 0.0133 - val_loss: 0.0098\n",
            "Epoch 3/50\n",
            "\u001b[1m40/40\u001b[0m \u001b[32m━━━━━━━━━━━━━━━━━━━━\u001b[0m\u001b[37m\u001b[0m \u001b[1m1s\u001b[0m 22ms/step - loss: 0.0122 - val_loss: 0.0091\n",
            "Epoch 4/50\n",
            "\u001b[1m40/40\u001b[0m \u001b[32m━━━━━━━━━━━━━━━━━━━━\u001b[0m\u001b[37m\u001b[0m \u001b[1m1s\u001b[0m 26ms/step - loss: 0.0111 - val_loss: 0.0088\n",
            "Epoch 5/50\n",
            "\u001b[1m40/40\u001b[0m \u001b[32m━━━━━━━━━━━━━━━━━━━━\u001b[0m\u001b[37m\u001b[0m \u001b[1m2s\u001b[0m 37ms/step - loss: 0.0100 - val_loss: 0.0097\n",
            "Epoch 6/50\n",
            "\u001b[1m40/40\u001b[0m \u001b[32m━━━━━━━━━━━━━━━━━━━━\u001b[0m\u001b[37m\u001b[0m \u001b[1m2s\u001b[0m 37ms/step - loss: 0.0107 - val_loss: 0.0094\n",
            "Epoch 7/50\n",
            "\u001b[1m40/40\u001b[0m \u001b[32m━━━━━━━━━━━━━━━━━━━━\u001b[0m\u001b[37m\u001b[0m \u001b[1m2s\u001b[0m 19ms/step - loss: 0.0101 - val_loss: 0.0083\n",
            "Epoch 8/50\n",
            "\u001b[1m40/40\u001b[0m \u001b[32m━━━━━━━━━━━━━━━━━━━━\u001b[0m\u001b[37m\u001b[0m \u001b[1m1s\u001b[0m 19ms/step - loss: 0.0083 - val_loss: 0.0084\n",
            "Epoch 9/50\n",
            "\u001b[1m40/40\u001b[0m \u001b[32m━━━━━━━━━━━━━━━━━━━━\u001b[0m\u001b[37m\u001b[0m \u001b[1m1s\u001b[0m 20ms/step - loss: 0.0099 - val_loss: 0.0073\n",
            "Epoch 10/50\n",
            "\u001b[1m40/40\u001b[0m \u001b[32m━━━━━━━━━━━━━━━━━━━━\u001b[0m\u001b[37m\u001b[0m \u001b[1m1s\u001b[0m 23ms/step - loss: 0.0107 - val_loss: 0.0086\n",
            "Epoch 11/50\n",
            "\u001b[1m40/40\u001b[0m \u001b[32m━━━━━━━━━━━━━━━━━━━━\u001b[0m\u001b[37m\u001b[0m \u001b[1m1s\u001b[0m 21ms/step - loss: 0.0092 - val_loss: 0.0081\n",
            "Epoch 12/50\n",
            "\u001b[1m40/40\u001b[0m \u001b[32m━━━━━━━━━━━━━━━━━━━━\u001b[0m\u001b[37m\u001b[0m \u001b[1m1s\u001b[0m 22ms/step - loss: 0.0088 - val_loss: 0.0108\n",
            "Epoch 13/50\n",
            "\u001b[1m40/40\u001b[0m \u001b[32m━━━━━━━━━━━━━━━━━━━━\u001b[0m\u001b[37m\u001b[0m \u001b[1m1s\u001b[0m 23ms/step - loss: 0.0088 - val_loss: 0.0078\n",
            "Epoch 14/50\n",
            "\u001b[1m40/40\u001b[0m \u001b[32m━━━━━━━━━━━━━━━━━━━━\u001b[0m\u001b[37m\u001b[0m \u001b[1m1s\u001b[0m 21ms/step - loss: 0.0090 - val_loss: 0.0110\n",
            "Epoch 15/50\n",
            "\u001b[1m40/40\u001b[0m \u001b[32m━━━━━━━━━━━━━━━━━━━━\u001b[0m\u001b[37m\u001b[0m \u001b[1m2s\u001b[0m 36ms/step - loss: 0.0092 - val_loss: 0.0073\n",
            "Epoch 16/50\n",
            "\u001b[1m40/40\u001b[0m \u001b[32m━━━━━━━━━━━━━━━━━━━━\u001b[0m\u001b[37m\u001b[0m \u001b[1m2s\u001b[0m 18ms/step - loss: 0.0083 - val_loss: 0.0069\n",
            "Epoch 17/50\n",
            "\u001b[1m40/40\u001b[0m \u001b[32m━━━━━━━━━━━━━━━━━━━━\u001b[0m\u001b[37m\u001b[0m \u001b[1m1s\u001b[0m 20ms/step - loss: 0.0093 - val_loss: 0.0069\n",
            "Epoch 18/50\n",
            "\u001b[1m40/40\u001b[0m \u001b[32m━━━━━━━━━━━━━━━━━━━━\u001b[0m\u001b[37m\u001b[0m \u001b[1m1s\u001b[0m 20ms/step - loss: 0.0083 - val_loss: 0.0073\n",
            "Epoch 19/50\n",
            "\u001b[1m40/40\u001b[0m \u001b[32m━━━━━━━━━━━━━━━━━━━━\u001b[0m\u001b[37m\u001b[0m \u001b[1m1s\u001b[0m 19ms/step - loss: 0.0076 - val_loss: 0.0073\n",
            "Epoch 20/50\n",
            "\u001b[1m40/40\u001b[0m \u001b[32m━━━━━━━━━━━━━━━━━━━━\u001b[0m\u001b[37m\u001b[0m \u001b[1m1s\u001b[0m 20ms/step - loss: 0.0086 - val_loss: 0.0073\n",
            "Epoch 21/50\n",
            "\u001b[1m40/40\u001b[0m \u001b[32m━━━━━━━━━━━━━━━━━━━━\u001b[0m\u001b[37m\u001b[0m \u001b[1m1s\u001b[0m 22ms/step - loss: 0.0095 - val_loss: 0.0070\n",
            "Epoch 22/50\n",
            "\u001b[1m40/40\u001b[0m \u001b[32m━━━━━━━━━━━━━━━━━━━━\u001b[0m\u001b[37m\u001b[0m \u001b[1m1s\u001b[0m 21ms/step - loss: 0.0076 - val_loss: 0.0071\n",
            "Epoch 23/50\n",
            "\u001b[1m40/40\u001b[0m \u001b[32m━━━━━━━━━━━━━━━━━━━━\u001b[0m\u001b[37m\u001b[0m \u001b[1m1s\u001b[0m 18ms/step - loss: 0.0080 - val_loss: 0.0065\n",
            "Epoch 24/50\n",
            "\u001b[1m40/40\u001b[0m \u001b[32m━━━━━━━━━━━━━━━━━━━━\u001b[0m\u001b[37m\u001b[0m \u001b[1m1s\u001b[0m 20ms/step - loss: 0.0077 - val_loss: 0.0064\n",
            "Epoch 25/50\n",
            "\u001b[1m40/40\u001b[0m \u001b[32m━━━━━━━━━━━━━━━━━━━━\u001b[0m\u001b[37m\u001b[0m \u001b[1m1s\u001b[0m 21ms/step - loss: 0.0076 - val_loss: 0.0065\n",
            "Epoch 26/50\n",
            "\u001b[1m40/40\u001b[0m \u001b[32m━━━━━━━━━━━━━━━━━━━━\u001b[0m\u001b[37m\u001b[0m \u001b[1m1s\u001b[0m 29ms/step - loss: 0.0077 - val_loss: 0.0061\n",
            "Epoch 27/50\n",
            "\u001b[1m40/40\u001b[0m \u001b[32m━━━━━━━━━━━━━━━━━━━━\u001b[0m\u001b[37m\u001b[0m \u001b[1m1s\u001b[0m 35ms/step - loss: 0.0075 - val_loss: 0.0060\n",
            "Epoch 28/50\n",
            "\u001b[1m40/40\u001b[0m \u001b[32m━━━━━━━━━━━━━━━━━━━━\u001b[0m\u001b[37m\u001b[0m \u001b[1m2s\u001b[0m 49ms/step - loss: 0.0071 - val_loss: 0.0065\n",
            "Epoch 29/50\n",
            "\u001b[1m40/40\u001b[0m \u001b[32m━━━━━━━━━━━━━━━━━━━━\u001b[0m\u001b[37m\u001b[0m \u001b[1m1s\u001b[0m 21ms/step - loss: 0.0068 - val_loss: 0.0063\n",
            "Epoch 30/50\n",
            "\u001b[1m40/40\u001b[0m \u001b[32m━━━━━━━━━━━━━━━━━━━━\u001b[0m\u001b[37m\u001b[0m \u001b[1m1s\u001b[0m 21ms/step - loss: 0.0083 - val_loss: 0.0057\n",
            "Epoch 31/50\n",
            "\u001b[1m40/40\u001b[0m \u001b[32m━━━━━━━━━━━━━━━━━━━━\u001b[0m\u001b[37m\u001b[0m \u001b[1m1s\u001b[0m 22ms/step - loss: 0.0070 - val_loss: 0.0060\n",
            "Epoch 32/50\n",
            "\u001b[1m40/40\u001b[0m \u001b[32m━━━━━━━━━━━━━━━━━━━━\u001b[0m\u001b[37m\u001b[0m \u001b[1m1s\u001b[0m 21ms/step - loss: 0.0066 - val_loss: 0.0075\n",
            "Epoch 33/50\n",
            "\u001b[1m40/40\u001b[0m \u001b[32m━━━━━━━━━━━━━━━━━━━━\u001b[0m\u001b[37m\u001b[0m \u001b[1m1s\u001b[0m 21ms/step - loss: 0.0066 - val_loss: 0.0059\n",
            "Epoch 34/50\n",
            "\u001b[1m40/40\u001b[0m \u001b[32m━━━━━━━━━━━━━━━━━━━━\u001b[0m\u001b[37m\u001b[0m \u001b[1m1s\u001b[0m 20ms/step - loss: 0.0070 - val_loss: 0.0058\n",
            "Epoch 35/50\n",
            "\u001b[1m40/40\u001b[0m \u001b[32m━━━━━━━━━━━━━━━━━━━━\u001b[0m\u001b[37m\u001b[0m \u001b[1m2s\u001b[0m 28ms/step - loss: 0.0068 - val_loss: 0.0057\n",
            "Epoch 36/50\n",
            "\u001b[1m40/40\u001b[0m \u001b[32m━━━━━━━━━━━━━━━━━━━━\u001b[0m\u001b[37m\u001b[0m \u001b[1m1s\u001b[0m 24ms/step - loss: 0.0061 - val_loss: 0.0055\n",
            "Epoch 37/50\n",
            "\u001b[1m40/40\u001b[0m \u001b[32m━━━━━━━━━━━━━━━━━━━━\u001b[0m\u001b[37m\u001b[0m \u001b[1m1s\u001b[0m 22ms/step - loss: 0.0068 - val_loss: 0.0061\n",
            "Epoch 38/50\n",
            "\u001b[1m40/40\u001b[0m \u001b[32m━━━━━━━━━━━━━━━━━━━━\u001b[0m\u001b[37m\u001b[0m \u001b[1m2s\u001b[0m 55ms/step - loss: 0.0063 - val_loss: 0.0058\n",
            "Epoch 39/50\n",
            "\u001b[1m40/40\u001b[0m \u001b[32m━━━━━━━━━━━━━━━━━━━━\u001b[0m\u001b[37m\u001b[0m \u001b[1m3s\u001b[0m 63ms/step - loss: 0.0062 - val_loss: 0.0055\n",
            "Epoch 40/50\n",
            "\u001b[1m40/40\u001b[0m \u001b[32m━━━━━━━━━━━━━━━━━━━━\u001b[0m\u001b[37m\u001b[0m \u001b[1m3s\u001b[0m 21ms/step - loss: 0.0062 - val_loss: 0.0053\n",
            "Epoch 41/50\n",
            "\u001b[1m40/40\u001b[0m \u001b[32m━━━━━━━━━━━━━━━━━━━━\u001b[0m\u001b[37m\u001b[0m \u001b[1m2s\u001b[0m 37ms/step - loss: 0.0066 - val_loss: 0.0049\n",
            "Epoch 42/50\n",
            "\u001b[1m40/40\u001b[0m \u001b[32m━━━━━━━━━━━━━━━━━━━━\u001b[0m\u001b[37m\u001b[0m \u001b[1m3s\u001b[0m 44ms/step - loss: 0.0060 - val_loss: 0.0051\n",
            "Epoch 43/50\n",
            "\u001b[1m40/40\u001b[0m \u001b[32m━━━━━━━━━━━━━━━━━━━━\u001b[0m\u001b[37m\u001b[0m \u001b[1m2s\u001b[0m 57ms/step - loss: 0.0054 - val_loss: 0.0047\n",
            "Epoch 44/50\n",
            "\u001b[1m40/40\u001b[0m \u001b[32m━━━━━━━━━━━━━━━━━━━━\u001b[0m\u001b[37m\u001b[0m \u001b[1m3s\u001b[0m 60ms/step - loss: 0.0058 - val_loss: 0.0047\n",
            "Epoch 45/50\n",
            "\u001b[1m40/40\u001b[0m \u001b[32m━━━━━━━━━━━━━━━━━━━━\u001b[0m\u001b[37m\u001b[0m \u001b[1m3s\u001b[0m 60ms/step - loss: 0.0052 - val_loss: 0.0046\n",
            "Epoch 46/50\n",
            "\u001b[1m40/40\u001b[0m \u001b[32m━━━━━━━━━━━━━━━━━━━━\u001b[0m\u001b[37m\u001b[0m \u001b[1m2s\u001b[0m 43ms/step - loss: 0.0058 - val_loss: 0.0048\n",
            "Epoch 47/50\n",
            "\u001b[1m40/40\u001b[0m \u001b[32m━━━━━━━━━━━━━━━━━━━━\u001b[0m\u001b[37m\u001b[0m \u001b[1m2s\u001b[0m 19ms/step - loss: 0.0059 - val_loss: 0.0052\n",
            "Epoch 48/50\n",
            "\u001b[1m40/40\u001b[0m \u001b[32m━━━━━━━━━━━━━━━━━━━━\u001b[0m\u001b[37m\u001b[0m \u001b[1m1s\u001b[0m 18ms/step - loss: 0.0056 - val_loss: 0.0044\n",
            "Epoch 49/50\n",
            "\u001b[1m40/40\u001b[0m \u001b[32m━━━━━━━━━━━━━━━━━━━━\u001b[0m\u001b[37m\u001b[0m \u001b[1m1s\u001b[0m 19ms/step - loss: 0.0051 - val_loss: 0.0044\n",
            "Epoch 50/50\n",
            "\u001b[1m40/40\u001b[0m \u001b[32m━━━━━━━━━━━━━━━━━━━━\u001b[0m\u001b[37m\u001b[0m \u001b[1m6s\u001b[0m 134ms/step - loss: 0.0057 - val_loss: 0.0043\n"
          ]
        }
      ]
    },
    {
      "cell_type": "code",
      "source": [
        "# 9\n",
        "import matplotlib.pyplot as plt\n",
        "\n",
        "loss = history.history['loss']\n",
        "val_loss = history.history['val_loss']\n",
        "\n",
        "plt.figure(figsize=(8, 6))\n",
        "plt.plot(loss, label='Perda de Treinamento')\n",
        "plt.plot(val_loss, label='Perda de Validação')\n",
        "plt.title('Perda durante o Treinamento e Validação')\n",
        "plt.xlabel('Épocas')\n",
        "plt.ylabel('Perda (Loss)')\n",
        "plt.legend()\n",
        "plt.grid(True)\n",
        "plt.show()"
      ],
      "metadata": {
        "colab": {
          "base_uri": "https://localhost:8080/",
          "height": 566
        },
        "id": "mgYmSKsmN9qy",
        "outputId": "a72aba30-f9a3-48f2-8913-759624243353"
      },
      "execution_count": 11,
      "outputs": [
        {
          "output_type": "display_data",
          "data": {
            "text/plain": [
              "<Figure size 800x600 with 1 Axes>"
            ],
            "image/png": "[encoded data removed]"
          },
          "metadata": {}
        }
      ]
    },
    {
      "cell_type": "code",
      "source": [
        "# 10\n",
        "previsoes_normalizadas = model.predict(X_test_normalizado)\n",
        "\n",
        "# primeiras previsões\n",
        "print(previsoes_normalizadas[:5])"
      ],
      "metadata": {
        "colab": {
          "base_uri": "https://localhost:8080/"
        },
        "id": "cvWrG6dVOPrb",
        "outputId": "bd5d54a3-05f8-43e0-8b3c-17eba718a016"
      },
      "execution_count": 12,
      "outputs": [
        {
          "output_type": "stream",
          "name": "stdout",
          "text": [
            "\u001b[1m8/8\u001b[0m \u001b[32m━━━━━━━━━━━━━━━━━━━━\u001b[0m\u001b[37m\u001b[0m \u001b[1m1s\u001b[0m 79ms/step\n",
            "[[0.64859104]\n",
            " [0.67847824]\n",
            " [0.7100655 ]\n",
            " [0.73358434]\n",
            " [0.73243886]]\n"
          ]
        }
      ]
    },
    {
      "cell_type": "code",
      "source": [
        "# 11\n",
        "previsoes = scaler_y.inverse_transform(previsoes_normalizadas)\n",
        "\n",
        "# desnormalizando o y_test\n",
        "y_test_real = scaler_y.inverse_transform(y_test_normalizado)\n",
        "\n",
        "# primeiras previsões e os valores reais\n",
        "print(\"Primeiras previsões em escala real:\", previsoes[:5])\n",
        "print(\"Primeiros valores reais em escala real:\", y_test_real[:5])"
      ],
      "metadata": {
        "colab": {
          "base_uri": "https://localhost:8080/"
        },
        "id": "KIL8RSbZOVXG",
        "outputId": "f6483c00-0d5d-40f9-9fed-33456887ee38"
      },
      "execution_count": 13,
      "outputs": [
        {
          "output_type": "stream",
          "name": "stdout",
          "text": [
            "Primeiras previsões em escala real: [[28.27242 ]\n",
            " [29.160498]\n",
            " [30.099087]\n",
            " [30.797935]\n",
            " [30.763899]]\n",
            "Primeiros valores reais em escala real: [[30.73913043]\n",
            " [30.89473684]\n",
            " [31.69230769]\n",
            " [31.07692308]\n",
            " [30.375     ]]\n"
          ]
        }
      ]
    },
    {
      "cell_type": "code",
      "source": [
        "# 12\n",
        "from sklearn.metrics import mean_absolute_error, mean_squared_error\n",
        "\n",
        "# métricas de regressão\n",
        "mae = mean_absolute_error(y_test_real, previsoes)\n",
        "mse = mean_squared_error(y_test_real, previsoes)\n",
        "rmse = mean_squared_error(y_test_real, previsoes, squared=False)\n",
        "\n",
        "print(f'Média do Erro Absoluto (MAE): {mae}')\n",
        "print(f'Erro Quadrático Médio (MSE): {mse}')\n",
        "print(f'Raiz do Erro Quadrático Médio (RMSE): {rmse}')"
      ],
      "metadata": {
        "colab": {
          "base_uri": "https://localhost:8080/"
        },
        "id": "0KOA1sccOb6R",
        "outputId": "52597252-8793-48f0-ef91-af4870ba6bda"
      },
      "execution_count": 14,
      "outputs": [
        {
          "output_type": "stream",
          "name": "stdout",
          "text": [
            "Média do Erro Absoluto (MAE): 1.4048267080984884\n",
            "Erro Quadrático Médio (MSE): 3.0573271425346387\n",
            "Raiz do Erro Quadrático Médio (RMSE): 1.7485214160926479\n"
          ]
        },
        {
          "output_type": "stream",
          "name": "stderr",
          "text": [
            "/usr/local/lib/python3.10/dist-packages/sklearn/metrics/_regression.py:492: FutureWarning: 'squared' is deprecated in version 1.4 and will be removed in 1.6. To calculate the root mean squared error, use the function'root_mean_squared_error'.\n",
            "  warnings.warn(\n"
          ]
        }
      ]
    }
  ],
  "metadata": {
    "kernelspec": {
      "display_name": "base",
      "language": "python",
      "name": "python3"
    },
    "language_info": {
      "codemirror_mode": {
        "name": "ipython",
        "version": 3
      },
      "file_extension": ".py",
      "mimetype": "text/x-python",
      "name": "python",
      "nbconvert_exporter": "python",
      "pygments_lexer": "ipython3",
      "version": "3.11.7"
    },
    "colab": {
      "provenance": []
    }
  },
  "nbformat": 4,
  "nbformat_minor": 0
}